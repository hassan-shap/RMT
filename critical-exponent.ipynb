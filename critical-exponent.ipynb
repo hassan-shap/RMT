{
 "cells": [
  {
   "cell_type": "code",
   "execution_count": 3,
   "metadata": {},
   "outputs": [],
   "source": [
    "import numpy as np\n",
    "from math import pi, sqrt, tanh\n",
    "import matplotlib.pyplot as plt\n",
    "from scipy.linalg import block_diag\n",
    "from ipywidgets import interact\n",
    "from os import path\n",
    "\n",
    "import plotly.graph_objects as go\n",
    "import pandas as pd\n",
    "\n",
    "from quimb import *\n",
    "import time\n"
   ]
  },
  {
   "cell_type": "code",
   "execution_count": 4,
   "metadata": {},
   "outputs": [],
   "source": [
    "def Hilbertspace_Zr(N,r):\n",
    "\n",
    "    states=np.zeros((r**N,N),dtype=int)\n",
    "\n",
    "    if N>0:\n",
    "        for i_1 in range(r**N):\n",
    "            num_str=np.base_repr(i_1,base=r)[::-1]\n",
    "            for i_2 in range(len(num_str)):\n",
    "                states[i_1,i_2]=int(num_str[i_2])\n",
    "    else:\n",
    "        states=[[0]]\n",
    "        \n",
    "    return states\n",
    "\n",
    "def p_transpose_2(V,Na,Nb):\n",
    "# partial transpose with respect to subsystem 2\n",
    "# the basis of NaxNb density matrix is defined by Nb*(i-1)+j,\n",
    "# i,j=1,2,3 spans the Hilbert space of subsystem 1 and 2 respectively\n",
    "    U=np.zeros((Na*Nb,Na*Nb), dtype=np.complex128)\n",
    "    for i_1 in range(Na):\n",
    "        for i_2 in range(Na):\n",
    "#             print(V[Nb*i_1:Nb*(i_1+1),Nb*i_2:Nb*(i_2+1)].shape)\n",
    "            U[Nb*i_1:Nb*(i_1+1),Nb*i_2:Nb*(i_2+1)]=np.transpose(V[Nb*i_1:Nb*(i_1+1),Nb*i_2:Nb*(i_2+1)])\n",
    "\n",
    "    return U\n",
    "\n",
    "def vNent_calc(rho,epsilon=1e-9):\n",
    "    chi0 =np.linalg.eigvalsh(rho)\n",
    "    chi1=chi0[np.nonzero(np.abs(chi0)>epsilon)]\n",
    "    chi2=chi1[np.nonzero(np.abs(chi1-1)>epsilon)]\n",
    "    return -np.sum(chi2*np.log(chi2))\n"
   ]
  },
  {
   "cell_type": "code",
   "execution_count": 307,
   "metadata": {},
   "outputs": [],
   "source": [
    "from scipy.integrate import quad, nquad\n",
    "\n",
    "def Gz(z,a,b):\n",
    "    '''Direct solution to G(z), faster but has numerical instability for large V\n",
    "    a=  Lb/L2\n",
    "    b=  Lb*L1/L2\n",
    "    '''\n",
    "    a2= (b-1)/z +1j*0\n",
    "    a1= (a-z)/z +1j*0\n",
    "    a0= 1/z +1j*0\n",
    "    Q= (3*a1-a2**2)/9 +1j*0\n",
    "    R= (9*a2*a1-27*a0-2*a2**3)/54 +1j*0\n",
    "    D= Q**3 + R**2 +1j*0\n",
    "    S= (R+D**0.5 +1j*0)**(1/3)\n",
    "    T= (R-D**0.5 +1j*0)**(1/3)\n",
    "    z4= -a2/3 + (1-1j*sqrt(3))*Q/S/2-(1+1j*sqrt(3))/2*S\n",
    "    return np.abs(np.imag(z4))\n",
    "\n",
    "def integrand(z, a, b):\n",
    "    return Gz(z,a,b)*np.abs(z)\n",
    "\n",
    "def neg_calc(a,b):\n",
    "    '''Calculates logneg by \\int P(z)|z| dz\n",
    "    where P(z) is spectral density'''\n",
    "    options={'limit':500}\n",
    "    integral= nquad(integrand, [[-np.inf, np.inf]], args=(a, b),opts=[options,options])[0]\n",
    "    return integral\n"
   ]
  },
  {
   "cell_type": "code",
   "execution_count": 338,
   "metadata": {},
   "outputs": [
    {
     "name": "stdout",
     "output_type": "stream",
     "text": [
      "4\n",
      "Finished, elapsed time = 3438.93 sec\n"
     ]
    }
   ],
   "source": [
    "Nrep=300\n",
    "r=2 # local Hilbert space dim\n",
    "\n",
    "La=4\n",
    "Lb=8\n",
    "Na=r**La\n",
    "Nb=r**Lb\n",
    "Nab = int(Na*Nb)\n",
    "\n",
    "Lc_sw=[La]\n",
    "\n",
    "vT=np.zeros((Nrep*Nb*Na,len(Lc_sw)))\n",
    "\n",
    "t_timer= time.time()\n",
    "for i_l in range(len(Lc_sw)):\n",
    "    Lc=Lc_sw[i_l]\n",
    "    print(Lc)\n",
    "    Nc=r**Lc\n",
    "    \n",
    "    for i_r in range(Nrep):\n",
    "        X=np.random.randn(Nab,Nc)+1j*np.random.randn(Nab,Nc)\n",
    "\n",
    "        mat=np.dot(X,np.matrix(X).H)\n",
    "        rho= mat / np.trace(mat)\n",
    "        rT2 = p_transpose_2(rho,Na,Nb)\n",
    "        l1T=np.linalg.eigvalsh(rT2)\n",
    "        vT[i_r*Nb*Na:(i_r+1)*Nb*Na,i_l] = Nab*l1T\n",
    "        \n",
    "    out_dir = 'data/' \n",
    "    f1= 'NS_Labc_%d_%d_%d.npz' % (La,Lb,Lc)\n",
    "    fname = out_dir+ f1\n",
    "    np.savez(fname, e0=vT[:,i_l], Nrep=Nrep)\n",
    "\n",
    "elapsed = time.time() - t_timer\n",
    "print(\"Finished, elapsed time = %.2f \" % (elapsed)+ \"sec\")"
   ]
  },
  {
   "cell_type": "code",
   "execution_count": 339,
   "metadata": {},
   "outputs": [
    {
     "name": "stdout",
     "output_type": "stream",
     "text": [
      "ES was loaded!\n"
     ]
    },
    {
     "ename": "TypeError",
     "evalue": "expected non-empty vector for x",
     "output_type": "error",
     "traceback": [
      "\u001b[0;31m---------------------------------------------------------------------------\u001b[0m",
      "\u001b[0;31mTypeError\u001b[0m                                 Traceback (most recent call last)",
      "\u001b[0;32m<ipython-input-339-f393999a24ee>\u001b[0m in \u001b[0;36m<module>\u001b[0;34m\u001b[0m\n\u001b[1;32m     53\u001b[0m     \u001b[0mi_p_max\u001b[0m \u001b[0;34m=\u001b[0m \u001b[0mnp\u001b[0m\u001b[0;34m.\u001b[0m\u001b[0margwhere\u001b[0m\u001b[0;34m(\u001b[0m\u001b[0mn_p\u001b[0m\u001b[0;34m>\u001b[0m\u001b[0;36m2e-1\u001b[0m\u001b[0;34m)\u001b[0m\u001b[0;34m\u001b[0m\u001b[0;34m\u001b[0m\u001b[0m\n\u001b[1;32m     54\u001b[0m     \u001b[0mbins_p\u001b[0m \u001b[0;34m=\u001b[0m \u001b[0mnp\u001b[0m\u001b[0;34m.\u001b[0m\u001b[0mreshape\u001b[0m\u001b[0;34m(\u001b[0m\u001b[0mb1\u001b[0m\u001b[0;34m[\u001b[0m\u001b[0mi_p\u001b[0m\u001b[0;34m[\u001b[0m\u001b[0;34m:\u001b[0m\u001b[0;34m-\u001b[0m\u001b[0;36m2\u001b[0m\u001b[0;34m]\u001b[0m\u001b[0;34m]\u001b[0m\u001b[0;34m,\u001b[0m\u001b[0;34m[\u001b[0m\u001b[0mlen\u001b[0m\u001b[0;34m(\u001b[0m\u001b[0mi_p\u001b[0m\u001b[0;34m[\u001b[0m\u001b[0;34m:\u001b[0m\u001b[0;34m-\u001b[0m\u001b[0;36m2\u001b[0m\u001b[0;34m]\u001b[0m\u001b[0;34m)\u001b[0m\u001b[0;34m,\u001b[0m\u001b[0;34m]\u001b[0m\u001b[0;34m)\u001b[0m\u001b[0;34m\u001b[0m\u001b[0;34m\u001b[0m\u001b[0m\n\u001b[0;32m---> 55\u001b[0;31m     \u001b[0mz\u001b[0m \u001b[0;34m=\u001b[0m \u001b[0mnp\u001b[0m\u001b[0;34m.\u001b[0m\u001b[0mpolyfit\u001b[0m\u001b[0;34m(\u001b[0m\u001b[0mnp\u001b[0m\u001b[0;34m.\u001b[0m\u001b[0mlog\u001b[0m\u001b[0;34m(\u001b[0m\u001b[0mbins_p\u001b[0m\u001b[0;34m[\u001b[0m\u001b[0mi_p_max\u001b[0m\u001b[0;34m]\u001b[0m\u001b[0;34m[\u001b[0m\u001b[0;34m:\u001b[0m\u001b[0;34m,\u001b[0m\u001b[0;36m0\u001b[0m\u001b[0;34m]\u001b[0m\u001b[0;34m)\u001b[0m\u001b[0;34m,\u001b[0m\u001b[0mnp\u001b[0m\u001b[0;34m.\u001b[0m\u001b[0mlog\u001b[0m\u001b[0;34m(\u001b[0m\u001b[0mn_p\u001b[0m\u001b[0;34m[\u001b[0m\u001b[0mi_p_max\u001b[0m\u001b[0;34m]\u001b[0m\u001b[0;34m[\u001b[0m\u001b[0;34m:\u001b[0m\u001b[0;34m,\u001b[0m\u001b[0;36m0\u001b[0m\u001b[0;34m]\u001b[0m\u001b[0;34m)\u001b[0m\u001b[0;34m,\u001b[0m\u001b[0;36m1\u001b[0m\u001b[0;34m)\u001b[0m\u001b[0;34m\u001b[0m\u001b[0;34m\u001b[0m\u001b[0m\n\u001b[0m\u001b[1;32m     56\u001b[0m     \u001b[0mplt\u001b[0m\u001b[0;34m.\u001b[0m\u001b[0mplot\u001b[0m\u001b[0;34m(\u001b[0m\u001b[0mxx\u001b[0m\u001b[0;34m,\u001b[0m\u001b[0mnp\u001b[0m\u001b[0;34m.\u001b[0m\u001b[0mexp\u001b[0m\u001b[0;34m(\u001b[0m\u001b[0mz\u001b[0m\u001b[0;34m[\u001b[0m\u001b[0;36m1\u001b[0m\u001b[0;34m]\u001b[0m\u001b[0;34m+\u001b[0m\u001b[0mnp\u001b[0m\u001b[0;34m.\u001b[0m\u001b[0mlog\u001b[0m\u001b[0;34m(\u001b[0m\u001b[0mxx\u001b[0m\u001b[0;34m)\u001b[0m\u001b[0;34m*\u001b[0m\u001b[0mz\u001b[0m\u001b[0;34m[\u001b[0m\u001b[0;36m0\u001b[0m\u001b[0;34m]\u001b[0m\u001b[0;34m)\u001b[0m\u001b[0;34m,\u001b[0m\u001b[0;34m\"k--\"\u001b[0m\u001b[0;34m,\u001b[0m \u001b[0mlabel\u001b[0m\u001b[0;34m=\u001b[0m\u001b[0;34mr\"$z^{%.2f}$\"\u001b[0m \u001b[0;34m%\u001b[0m \u001b[0;34m(\u001b[0m\u001b[0mz\u001b[0m\u001b[0;34m[\u001b[0m\u001b[0;36m0\u001b[0m\u001b[0;34m]\u001b[0m\u001b[0;34m)\u001b[0m\u001b[0;34m)\u001b[0m\u001b[0;34m\u001b[0m\u001b[0;34m\u001b[0m\u001b[0m\n\u001b[1;32m     57\u001b[0m \u001b[0;34m\u001b[0m\u001b[0m\n",
      "\u001b[0;32m<__array_function__ internals>\u001b[0m in \u001b[0;36mpolyfit\u001b[0;34m(*args, **kwargs)\u001b[0m\n",
      "\u001b[0;32m~/miniconda3/envs/py38/lib/python3.8/site-packages/numpy/lib/polynomial.py\u001b[0m in \u001b[0;36mpolyfit\u001b[0;34m(x, y, deg, rcond, full, w, cov)\u001b[0m\n\u001b[1;32m    597\u001b[0m         \u001b[0;32mraise\u001b[0m \u001b[0mTypeError\u001b[0m\u001b[0;34m(\u001b[0m\u001b[0;34m\"expected 1D vector for x\"\u001b[0m\u001b[0;34m)\u001b[0m\u001b[0;34m\u001b[0m\u001b[0;34m\u001b[0m\u001b[0m\n\u001b[1;32m    598\u001b[0m     \u001b[0;32mif\u001b[0m \u001b[0mx\u001b[0m\u001b[0;34m.\u001b[0m\u001b[0msize\u001b[0m \u001b[0;34m==\u001b[0m \u001b[0;36m0\u001b[0m\u001b[0;34m:\u001b[0m\u001b[0;34m\u001b[0m\u001b[0;34m\u001b[0m\u001b[0m\n\u001b[0;32m--> 599\u001b[0;31m         \u001b[0;32mraise\u001b[0m \u001b[0mTypeError\u001b[0m\u001b[0;34m(\u001b[0m\u001b[0;34m\"expected non-empty vector for x\"\u001b[0m\u001b[0;34m)\u001b[0m\u001b[0;34m\u001b[0m\u001b[0;34m\u001b[0m\u001b[0m\n\u001b[0m\u001b[1;32m    600\u001b[0m     \u001b[0;32mif\u001b[0m \u001b[0my\u001b[0m\u001b[0;34m.\u001b[0m\u001b[0mndim\u001b[0m \u001b[0;34m<\u001b[0m \u001b[0;36m1\u001b[0m \u001b[0;32mor\u001b[0m \u001b[0my\u001b[0m\u001b[0;34m.\u001b[0m\u001b[0mndim\u001b[0m \u001b[0;34m>\u001b[0m \u001b[0;36m2\u001b[0m\u001b[0;34m:\u001b[0m\u001b[0;34m\u001b[0m\u001b[0;34m\u001b[0m\u001b[0m\n\u001b[1;32m    601\u001b[0m         \u001b[0;32mraise\u001b[0m \u001b[0mTypeError\u001b[0m\u001b[0;34m(\u001b[0m\u001b[0;34m\"expected 1D or 2D array for y\"\u001b[0m\u001b[0;34m)\u001b[0m\u001b[0;34m\u001b[0m\u001b[0;34m\u001b[0m\u001b[0m\n",
      "\u001b[0;31mTypeError\u001b[0m: expected non-empty vector for x"
     ]
    },
    {
     "data": {
      "image/png": "[encoded data removed]",
      "text/plain": [
       "<Figure size 432x288 with 1 Axes>"
      ]
     },
     "metadata": {
      "needs_background": "light"
     },
     "output_type": "display_data"
    }
   ],
   "source": [
    "n_sum=Nrep*Na*Nb\n",
    "\n",
    "\n",
    "plt.figure()\n",
    "\n",
    "for i_l in range(len(Lc_sw)):\n",
    "    Lc=Lc_sw[i_l]\n",
    "\n",
    "    out_dir = 'data/' \n",
    "    f1= 'NS_Labc_%d_%d_%d.npz' % (La,Lb,Lc)\n",
    "    fname = out_dir+f1\n",
    "\n",
    "    npzfile = np.load(fname)\n",
    "    vT0=npzfile['e0']\n",
    "    print('ES was loaded!')\n",
    "\n",
    "\n",
    "    num_bins1=2000\n",
    "#     n0, bin_edges0 = np.histogram(vT0, bins=num_bins1)\n",
    "#     bins_center0= (bin_edges0[0:num_bins1]+ bin_edges0[1:])/2\n",
    "#     n0= n0/n_sum/(bin_edges0[1]-bin_edges0[0])\n",
    "#     plt.plot(bins_center0,n0,'o',markersize=2)\n",
    "#     i_p = np.argwhere(bins_center0>1e-12)\n",
    "#     plt.plot(bins_center0[i_p],n0[i_p],'o',markersize=2)\n",
    "#     i_n = np.argwhere(bins_center0<=0)\n",
    "#     plt.plot(-bins_center0[i_n],n0[i_n],'o',markersize=2)\n",
    " \n",
    "    nb1 = int(num_bins1/2)\n",
    "    b1 = np.sort(np.concatenate((-np.logspace(-10,1.35,nb1+1),np.logspace(-10,2,nb1))))\n",
    "    n0, bin_edges0 = np.histogram(vT0, bins=b1)\n",
    "    n0= n0/n_sum/np.diff(bin_edges0)\n",
    "    i_p = np.argwhere(b1>0)\n",
    "    plt.plot(b1[i_p[:-2]],n0[i_p[:-2]],'o',markersize=2)\n",
    "    i_n = np.argwhere(b1<=0)\n",
    "    plt.plot(-b1[i_n],n0[i_n],'o',markersize=2)\n",
    "\n",
    "    a = Nc/Nb +1j*0\n",
    "    b = Nc/Nb*Na +1j*0\n",
    "    fx =  Nb/Nc\n",
    "    fy =  Nc/pi/Nb\n",
    "    xplot= np.linspace(bins_center0.min(),bins_center0.max(),2000)/fx*1.1 #+1j*1e-12\n",
    "    yplot=np.abs(Gz(xplot,a,b))\n",
    "#     yplot_eq=Gz_eq(np.ndarray.tolist(xplot),a+1j*0,b+1j*0)\n",
    "    plt.plot(xplot*fx,fy*yplot,linewidth=1)\n",
    "\n",
    "     \n",
    "#     xx = np.logspace(-2.5,1)\n",
    "# # plt.plot(xx,0.1/xx**0.33,\"--\",label=r\"$1/z^{1/3}$\")\n",
    "# # plt.plot(xx,0.04/xx**0.5,\"--\",label=r\"$1/z^{1/2}$\")\n",
    "\n",
    "    i_p = np.argwhere(b1>3e-2)\n",
    "    n_p = np.reshape(n0[i_p[:-2]],[len(i_p[:-2]),])\n",
    "    i_p_max = np.argwhere(n_p>2e-1)\n",
    "    bins_p = np.reshape(b1[i_p[:-2]],[len(i_p[:-2]),])\n",
    "    z = np.polyfit(np.log(bins_p[i_p_max][:,0]),np.log(n_p[i_p_max][:,0]),1)\n",
    "    plt.plot(xx,np.exp(z[1]+np.log(xx)*z[0]),\"k--\", label=r\"$z^{%.2f}$\" % (z[0]))\n",
    "\n",
    "    i_n = np.argwhere(b1<-3e-2)\n",
    "    n_n = np.reshape(n0[i_n],[len(i_n),])\n",
    "    i_n_max = np.argwhere(n_n>7e-2)\n",
    "    bins_n = np.reshape(b1[i_n],[len(i_n),])\n",
    "    z = np.polyfit(np.log(-bins_n[i_n_max][:,0]),np.log(n_n[i_n_max][:,0]),1)\n",
    "    plt.plot(xx,np.exp(z[1]+np.log(xx)*z[0]),\"g--\", label=r\"$z^{%.2f}$\" % (z[0]))\n",
    "    \n",
    "plt.xscale(\"log\")\n",
    "plt.yscale(\"log\")\n",
    "plt.ylim(1e-2,2e1)\n",
    "plt.xlim(1e-3,2e1)\n",
    "plt.legend()\n",
    "plt.show()\n",
    "\n",
    "# db0=bins_center0[-1]-bins_center0[0]\n",
    "# db1=bins_center1[-1]-bins_center1[0]\n",
    "\n",
    "# print('vertical ratio: ',np.max(n1)/np.max(n0))\n",
    "# print('horizontal ratio: ',db1/db0)\n",
    "# print(n_sum-Nrep*Na*Nb)"
   ]
  },
  {
   "cell_type": "code",
   "execution_count": 337,
   "metadata": {},
   "outputs": [
    {
     "name": "stdout",
     "output_type": "stream",
     "text": [
      "ES was loaded!\n"
     ]
    },
    {
     "data": {
      "image/png": "[encoded data removed]",
      "text/plain": [
       "<Figure size 432x288 with 1 Axes>"
      ]
     },
     "metadata": {
      "needs_background": "light"
     },
     "output_type": "display_data"
    }
   ],
   "source": [
    "# cumulative probability\n",
    "\n",
    "n_sum=Nrep*Na*Nb\n",
    "\n",
    "\n",
    "plt.figure()\n",
    "\n",
    "for i_l in range(len(Lc_sw)):\n",
    "    Lc=Lc_sw[i_l]\n",
    "\n",
    "    out_dir = 'data/' \n",
    "    f1= 'NS_Labc_%d_%d_%d.npz' % (La,Lb,Lc)\n",
    "    fname = out_dir+f1\n",
    "\n",
    "    npzfile = np.load(fname)\n",
    "    vT0=npzfile['e0']\n",
    "    print('ES was loaded!')\n",
    "    \n",
    "    vs = np.sort(vT0)\n",
    "    plt.plot(vs,np.linspace(1/len(vT0),1,len(vT0))-0.4375,\"o\",markersize=2)\n",
    "     \n",
    "#     xx = np.logspace(-2.5,1)\n",
    "# # plt.plot(xx,0.1/xx**0.33,\"--\",label=r\"$1/z^{1/3}$\")\n",
    "# # plt.plot(xx,0.04/xx**0.5,\"--\",label=r\"$1/z^{1/2}$\")\n",
    "\n",
    "#     i_p = np.argwhere(b1>3e-2)\n",
    "#     n_p = np.reshape(n0[i_p[:-2]],[len(i_p[:-2]),])\n",
    "#     i_p_max = np.argwhere(n_p>2e-1)\n",
    "#     bins_p = np.reshape(b1[i_p[:-2]],[len(i_p[:-2]),])\n",
    "#     z = np.polyfit(np.log(bins_p[i_p_max][:,0]),np.log(n_p[i_p_max][:,0]),1)\n",
    "#     plt.plot(xx,np.exp(z[1]+np.log(xx)*z[0]),\"k--\", label=r\"$z^{%.2f}$\" % (z[0]))\n",
    "\n",
    "#     i_n = np.argwhere(b1<-3e-2)\n",
    "#     n_n = np.reshape(n0[i_n],[len(i_n),])\n",
    "#     i_n_max = np.argwhere(n_n>7e-2)\n",
    "#     bins_n = np.reshape(b1[i_n],[len(i_n),])\n",
    "#     z = np.polyfit(np.log(-bins_n[i_n_max][:,0]),np.log(n_n[i_n_max][:,0]),1)\n",
    "#     plt.plot(xx,np.exp(z[1]+np.log(xx)*z[0]),\"g--\", label=r\"$z^{%.2f}$\" % (z[0]))\n",
    "    \n",
    "xx = np.logspace(-4,1)\n",
    "plt.plot(xx,0.1*xx**0.5,\"--\", label=r\"$n(\\xi)=c_0\\sqrt{\\xi}$\")\n",
    "\n",
    "plt.xscale(\"log\")\n",
    "plt.yscale(\"log\")\n",
    "plt.ylim(1e-4,1)\n",
    "plt.xlim(1e-4,2e1)\n",
    "plt.grid()\n",
    "plt.legend()\n",
    "plt.xlabel(r\"$L_A \\xi$\")\n",
    "plt.ylabel(r\"$n(\\xi)-n(0)$\")\n",
    "plt.show()\n",
    "\n",
    "# db0=bins_center0[-1]-bins_center0[0]\n",
    "# db1=bins_center1[-1]-bins_center1[0]\n",
    "\n",
    "# print('vertical ratio: ',np.max(n1)/np.max(n0))\n",
    "# print('horizontal ratio: ',db1/db0)\n",
    "# print(n_sum-Nrep*Na*Nb)"
   ]
  },
  {
   "cell_type": "code",
   "execution_count": 335,
   "metadata": {},
   "outputs": [
    {
     "name": "stdout",
     "output_type": "stream",
     "text": [
      "2240000\n"
     ]
    }
   ],
   "source": [
    "i1=np.argmin(np.abs(vs))\n",
    "print(i1/len(vT0))"
   ]
  },
  {
   "cell_type": "code",
   "execution_count": 336,
   "metadata": {},
   "outputs": [
    {
     "data": {
      "text/plain": [
       "0.4375"
      ]
     },
     "execution_count": 336,
     "metadata": {},
     "output_type": "execute_result"
    }
   ],
   "source": [
    "2240000/len(vT0)"
   ]
  },
  {
   "cell_type": "code",
   "execution_count": null,
   "metadata": {},
   "outputs": [],
   "source": []
  }
 ],
 "metadata": {
  "kernelspec": {
   "display_name": "Python 3",
   "language": "python",
   "name": "python3"
  },
  "language_info": {
   "codemirror_mode": {
    "name": "ipython",
    "version": 3
   },
   "file_extension": ".py",
   "mimetype": "text/x-python",
   "name": "python",
   "nbconvert_exporter": "python",
   "pygments_lexer": "ipython3",
   "version": "3.8.6"
  }
 },
 "nbformat": 4,
 "nbformat_minor": 4
}
