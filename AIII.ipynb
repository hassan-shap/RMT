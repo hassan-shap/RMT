{
 "cells": [
  {
   "cell_type": "code",
   "execution_count": 186,
   "metadata": {},
   "outputs": [],
   "source": [
    "import numpy as np\n",
    "from math import pi, sqrt, tanh\n",
    "import matplotlib.pyplot as plt\n",
    "# from quimb import *\n",
    "import time\n"
   ]
  },
  {
   "cell_type": "code",
   "execution_count": 190,
   "metadata": {},
   "outputs": [
    {
     "name": "stdout",
     "output_type": "stream",
     "text": [
      "Finished, elapsed time = 2.07 sec\n"
     ]
    }
   ],
   "source": [
    "Nrep=400\n",
    "\n",
    "Nc=100\n",
    "Nab=60\n",
    "\n",
    "neg=np.zeros(Nrep)\n",
    "v1=np.zeros(Nrep*(Nab+Nc))\n",
    "v2=np.zeros(Nrep*Nab)\n",
    "\n",
    "t_timer=time.time()\n",
    "# np.random.seed(1)\n",
    "\n",
    "for i_r in range(Nrep):\n",
    "    print(i_r, end='\\r')\n",
    "    #### no symmetry\n",
    "    X=np.random.randn(Nab,Nc)+1j*np.random.randn(Nab,Nc)\n",
    "    Xdag=np.matrix(X).H\n",
    "    mat=np.dot(X,Xdag)\n",
    "    normalization= np.trace(mat)\n",
    "    H0 = np.block([[ np.zeros((Nab,Nab)),  X],\\\n",
    "                   [Xdag ,np.zeros((Nc,Nc))]])\n",
    "    l1T=np.linalg.eigvalsh(H0)\n",
    "    v1[i_r*(Nab+Nc):(i_r+1)*(Nab+Nc)] = l1T/np.real(normalization**0.5)\n",
    "\n",
    "    v2[i_r*Nab:(i_r+1)*Nab] = np.linalg.eigvalsh(mat)/np.real(normalization)\n",
    "\n",
    "elapsed = time.time() - t_timer\n",
    "print(\"Finished, elapsed time = %.2f \" % (elapsed)+ \"sec\")"
   ]
  },
  {
   "cell_type": "code",
   "execution_count": 191,
   "metadata": {},
   "outputs": [
    {
     "data": {
      "image/png": "[encoded data removed]",
      "text/plain": [
       "<Figure size 432x288 with 1 Axes>"
      ]
     },
     "metadata": {
      "needs_background": "light"
     },
     "output_type": "display_data"
    }
   ],
   "source": [
    "num_bins = 50\n",
    "bin0= np.linspace(0.001,.5,num_bins+1)\n",
    "bin1=np.concatenate((-bin0[::-1],bin0),axis=0)\n",
    "\n",
    "plt.figure()\n",
    "# n, bin_edges = np.histogram(v1, bins=bin1)\n",
    "# bins_center1= (bin_edges[0:num_bins]+ bin_edges[1:])/2\n",
    "# n1= n/np.sum(n)/(bin_edges[1]-bin_edges[0])\n",
    "# # plt.plot(bins_center1,n1,'o-',markersize=2)\n",
    "# plt.plot(bins_center1**2,n1/bins_center1*(2*Nc/(Nc+Nab)),'o-',markersize=2)\n",
    "\n",
    "# n, bin_edges = np.histogram(v2, bins=bin0**2)\n",
    "# bins_center2= (bin_edges[0:num_bins]+ bin_edges[1:])/2\n",
    "# n2= n/np.sum(n)/(bin_edges[1]-bin_edges[0])\n",
    "# plt.plot(bins_center2,n2,'o-',markersize=2)\n",
    "\n",
    "n1, bin_edges = np.histogram(v1, bins=bin1)\n",
    "bins_center1= (bin_edges[0:-1]+ bin_edges[1:])/2\n",
    "n1= n1/np.sum(n1)\n",
    "plt.plot(bins_center1,n1,'o-',markersize=2)\n",
    "# plt.plot(bins_center1**2,n1*((Nc+Nab)/Nab),'-',markersize=2)\n",
    "\n",
    "# n2, bin_edges = np.histogram(v2, bins=bin0**2)\n",
    "# bins_center2= (bin_edges[0:num_bins]+ bin_edges[1:])/2\n",
    "# n2= n2/np.sum(n2)\n",
    "# plt.plot(bins_center2,n2,'o',markersize=2)\n",
    "\n",
    "# plt.legend()\n",
    "plt.ylim(0,.05)\n",
    "# plt.xlim(0,0.02)\n",
    "plt.show()\n"
   ]
  },
  {
   "cell_type": "code",
   "execution_count": 181,
   "metadata": {},
   "outputs": [
    {
     "data": {
      "text/plain": [
       "array([-0.2    , -0.19602, -0.19204, -0.18806, -0.18408, -0.1801 ,\n",
       "       -0.17612, -0.17214, -0.16816, -0.16418, -0.1602 , -0.15622,\n",
       "       -0.15224, -0.14826, -0.14428, -0.1403 , -0.13632, -0.13234,\n",
       "       -0.12836, -0.12438, -0.1204 , -0.11642, -0.11244, -0.10846,\n",
       "       -0.10448, -0.1005 , -0.09652, -0.09254, -0.08856, -0.08458,\n",
       "       -0.0806 , -0.07662, -0.07264, -0.06866, -0.06468, -0.0607 ,\n",
       "       -0.05672, -0.05274, -0.04876, -0.04478, -0.0408 , -0.03682,\n",
       "       -0.03284, -0.02886, -0.02488, -0.0209 , -0.01692, -0.01294,\n",
       "       -0.00896, -0.00498, -0.001  ,  0.001  ,  0.00498,  0.00896,\n",
       "        0.01294,  0.01692,  0.0209 ,  0.02488,  0.02886,  0.03284,\n",
       "        0.03682,  0.0408 ,  0.04478,  0.04876,  0.05274,  0.05672,\n",
       "        0.0607 ,  0.06468,  0.06866,  0.07264,  0.07662,  0.0806 ,\n",
       "        0.08458,  0.08856,  0.09254,  0.09652,  0.1005 ,  0.10448,\n",
       "        0.10846,  0.11244,  0.11642,  0.1204 ,  0.12438,  0.12836,\n",
       "        0.13234,  0.13632,  0.1403 ,  0.14428,  0.14826,  0.15224,\n",
       "        0.15622,  0.1602 ,  0.16418,  0.16816,  0.17214,  0.17612,\n",
       "        0.1801 ,  0.18408,  0.18806,  0.19204,  0.19602,  0.2    ])"
      ]
     },
     "execution_count": 181,
     "metadata": {},
     "output_type": "execute_result"
    }
   ],
   "source": [
    "# np.concatenate((-bin0[-1:0],bin0),axis=0)\n",
    "bin1"
   ]
  },
  {
   "cell_type": "code",
   "execution_count": null,
   "metadata": {},
   "outputs": [],
   "source": []
  }
 ],
 "metadata": {
  "kernelspec": {
   "display_name": "Python 3",
   "language": "python",
   "name": "python3"
  },
  "language_info": {
   "codemirror_mode": {
    "name": "ipython",
    "version": 3
   },
   "file_extension": ".py",
   "mimetype": "text/x-python",
   "name": "python",
   "nbconvert_exporter": "python",
   "pygments_lexer": "ipython3",
   "version": "3.8.3"
  }
 },
 "nbformat": 4,
 "nbformat_minor": 4
}
