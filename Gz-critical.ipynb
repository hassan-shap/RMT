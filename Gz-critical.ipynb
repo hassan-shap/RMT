{
 "cells": [
  {
   "cell_type": "code",
   "execution_count": 1,
   "metadata": {},
   "outputs": [],
   "source": [
    "import numpy as np\n",
    "from math import pi, sqrt, tanh\n",
    "import matplotlib.pyplot as plt\n",
    "from scipy.linalg import block_diag\n",
    "from ipywidgets import interact\n",
    "from os import path\n",
    "\n",
    "import plotly.graph_objects as go\n",
    "import pandas as pd\n",
    "\n",
    "from quimb import *\n",
    "import time\n"
   ]
  },
  {
   "cell_type": "code",
   "execution_count": 120,
   "metadata": {},
   "outputs": [],
   "source": [
    "from scipy.integrate import quad, nquad\n",
    "\n",
    "# def Gz(z,a,b):\n",
    "#     '''Direct solution to G(z), faster but has numerical instability for large V\n",
    "#     a=  Lb/L2\n",
    "#     b=  Lb*L1/L2\n",
    "#     '''\n",
    "#     a2= (b-1)/z +1j*0\n",
    "#     a1= (a-z)/z +1j*0\n",
    "#     a0= 1/z +1j*0\n",
    "#     Q= (3*a1-a2**2)/9 +1j*0\n",
    "#     R= (9*a2*a1-27*a0-2*a2**3)/54 +1j*0\n",
    "#     D= Q**3 + R**2 +1j*0\n",
    "#     S= (R+D**0.5 +1j*0)**(1/3)\n",
    "#     T= (R-D**0.5 +1j*0)**(1/3)\n",
    "#     z4= -a2/3 + (1-1j*sqrt(3))*Q/S/2-(1+1j*sqrt(3))/2*S\n",
    "#     return np.abs(np.imag(z4))\n",
    "\n",
    "def Gz(z,a,b):\n",
    "    '''Direct solution to G(z), faster but has numerical instability for large V\n",
    "    a=  Lb/L2\n",
    "    b=  Lb*L1/L2\n",
    "    '''\n",
    "    a2= (b-1)/z +1j*0\n",
    "    a1= (a-z)/z +1j*0\n",
    "    a0= 1/z +1j*0\n",
    "    Q= (3*a1-a2**2)/9 +1j*0\n",
    "    R= (9*a2*a1-27*a0-2*a2**3)/54 +1j*0\n",
    "    D= Q**3 + R**2 +1j*0\n",
    "    S= (R+D**0.5 +1j*0)**(1/3)\n",
    "    z4= -a2/3 + (1-1j*sqrt(3))*Q/S/2-(1+1j*sqrt(3))/2*S\n",
    "    return np.abs(np.imag(z4))\n",
    "\n",
    "def Gz_eq(z_arr,a,b):\n",
    "    ''' solves a cubic equation for G(z) numerically'''\n",
    "    '''less efficient, but more reliable'''\n",
    "#     if isinstance(z_arr, list):\n",
    "#         z4=np.zeros(len(z_arr))\n",
    "#         for i_z in range(len(z_arr)):\n",
    "#             z= z_arr[i_z]\n",
    "#             z4[i_z]=np.imag(np.roots([z,b-1,a-z,1]))[1]\n",
    "#     else:\n",
    "#         z4=np.imag(np.roots([z_arr,b-1,a-z_arr,1]))[1]\n",
    "    if len(z_arr)>1:\n",
    "        z4=np.zeros(len(z_arr))\n",
    "        for i_z in range(len(z_arr)):\n",
    "            z= z_arr[i_z]\n",
    "            z4[i_z]=np.imag(np.roots([z,b-1,a-z,1]))[1]\n",
    "    else:\n",
    "        z4=np.imag(np.roots([z_arr,b-1,a-z_arr,1]))[1]\n",
    "\n",
    "    return np.abs(z4)\n",
    "\n",
    "\n",
    "def integrand_eq(z, a, b):\n",
    "    return Gz_eq(z,a,b)\n",
    "\n",
    "def integrand(z, a, b):\n",
    "    return Gz(z,a,b)\n",
    "\n",
    "def cdf_calc(a,b,x):\n",
    "    '''Calculates logneg by \\int P(z)|z| dz\n",
    "    where P(z) is spectral density'''\n",
    "    options={'limit':500}\n",
    "    integral= nquad(integrand, [[-np.inf, np.inf]], args=(a, b),opts=[options,options])[0]\n",
    "    return integral\n"
   ]
  },
  {
   "cell_type": "code",
   "execution_count": 151,
   "metadata": {},
   "outputs": [
    {
     "name": "stdout",
     "output_type": "stream",
     "text": [
      "ES was loaded!\n"
     ]
    },
    {
     "data": {
      "image/png": "[encoded data removed]",
      "text/plain": [
       "<Figure size 432x288 with 1 Axes>"
      ]
     },
     "metadata": {
      "needs_background": "light"
     },
     "output_type": "display_data"
    }
   ],
   "source": [
    "r=2 # local Hilbert space dim\n",
    "La= 2\n",
    "Lb= 2*La\n",
    "Na=r**La\n",
    "Nb=r**Lb\n",
    "Nab = int(Na*Nb)\n",
    "\n",
    "Lc_sw=[La]\n",
    "\n",
    "n_sum=Nrep*Na*Nb\n",
    "\n",
    "\n",
    "plt.figure()\n",
    "\n",
    "for i_l in range(len(Lc_sw)):\n",
    "    Lc=Lc_sw[i_l]\n",
    "    Nc = r**Lc\n",
    "    \n",
    "    out_dir = 'data/' \n",
    "    f1= 'NS_Labc_%d_%d_%d.npz' % (La,Lb,Lc)\n",
    "    fname = out_dir+f1\n",
    "\n",
    "    npzfile = np.load(fname)\n",
    "    vT0=npzfile['e0']\n",
    "    print('ES was loaded!')\n",
    "\n",
    "\n",
    "    num_bins1=2000\n",
    "     \n",
    "# # plt.plot(xx,0.1/xx**0.33,\"--\",label=r\"$1/z^{1/3}$\")\n",
    "# # plt.plot(xx,0.04/xx**0.5,\"--\",label=r\"$1/z^{1/2}$\")\n",
    "\n",
    "    nb1 = int(num_bins1/2)\n",
    "    b1 = np.sort(np.concatenate((-np.logspace(-5,1.35,nb1+1),np.logspace(-5,2,nb1))))\n",
    "    n0, bin_edges0 = np.histogram(vT0, bins=b1)\n",
    "    n0= n0/np.sum(n0)/np.diff(bin_edges0)\n",
    "    i_p = np.argwhere(b1>0)\n",
    "    plt.plot(b1[i_p[:-2]],n0[i_p[:-2]],'o',markersize=2)\n",
    "    i_n = np.argwhere(b1<=0)\n",
    "    plt.plot(-b1[i_n],n0[i_n],'o',markersize=2)\n",
    "\n",
    "    xx = np.logspace(-2.5,1)\n",
    "    plt.plot(xx,0.04/xx**0.33,\"--\",label=r\"$1/z^{1/2}$\")\n",
    "#     i_p = np.argwhere(b1>3e-2)\n",
    "#     n_p = np.reshape(n0[i_p[:-2]],[len(i_p[:-2]),])\n",
    "#     i_p_max = np.argwhere(n_p>2e-1)\n",
    "#     bins_p = np.reshape(b1[i_p[:-2]],[len(i_p[:-2]),])\n",
    "#     z = np.polyfit(np.log(bins_p[i_p_max][:,0]),np.log(n_p[i_p_max][:,0]),1)\n",
    "#     plt.plot(xx,np.exp(z[1]+np.log(xx)*z[0]),\"k--\", label=r\"$z^{%.2f}$\" % (z[0]))\n",
    "\n",
    "#     i_n = np.argwhere(b1<-3e-2)\n",
    "#     n_n = np.reshape(n0[i_n],[len(i_n),])\n",
    "#     i_n_max = np.argwhere(n_n>7e-2)\n",
    "#     bins_n = np.reshape(b1[i_n],[len(i_n),])\n",
    "#     z = np.polyfit(np.log(-bins_n[i_n_max][:,0]),np.log(n_n[i_n_max][:,0]),1)\n",
    "#     plt.plot(xx,np.exp(z[1]+np.log(xx)*z[0]),\"g--\", label=r\"$z^{%.2f}$\" % (z[0]))\n",
    "    \n",
    "    n0, bin_edges0 = np.histogram(vT0, bins=num_bins1)\n",
    "    bins_center0= (bin_edges0[0:num_bins1]+ bin_edges0[1:])/2\n",
    "    n0= n0/np.sum(n0)/(bin_edges0[1]-bin_edges0[0])\n",
    "    plt.plot(bins_center0,n0,'o',markersize=2)\n",
    "#     i_p = np.argwhere(bins_center0>1e-12)\n",
    "#     plt.plot(bins_center0[i_p],n0[i_p],'o',markersize=2)\n",
    "#     i_n = np.argwhere(bins_center0<=0)\n",
    "#     plt.plot(-bins_center0[i_n],n0[i_n],'o',markersize=2)\n",
    "    \n",
    "\n",
    "    a = Nc/Nb +1j*0\n",
    "    b = Nc/Nb*Na +1j*0\n",
    "    fx =  Nb/Nc\n",
    "    fy =  Nc/pi/Nb\n",
    "#     xplot= np.linspace(bins_center0.min(),bins_center0.max(),2000)/fx*1.1 #+1j*1e-12\n",
    "    xplot= np.logspace(-5,2,2000)/fx*1.1 #+1j*1e-12\n",
    "    yplot=np.abs(Gz(xplot,a,b))\n",
    "    yplot_eq=Gz_eq(xplot,a+1j*0,b+1j*0)\n",
    "    plt.plot(xplot*fx,fy*yplot_eq,\"k\",linewidth=1)\n",
    "    plt.plot(xplot*fx,fy*yplot,\"r\",linewidth=1)\n",
    "\n",
    "plt.xscale(\"log\")\n",
    "plt.yscale(\"log\")\n",
    "plt.ylim(1e-3,2e1)\n",
    "# plt.xlim(1e-5,2e1)\n",
    "plt.legend()\n",
    "plt.show()\n",
    "\n",
    "# db0=bins_center0[-1]-bins_center0[0]\n",
    "# db1=bins_center1[-1]-bins_center1[0]\n",
    "\n",
    "# print('vertical ratio: ',np.max(n1)/np.max(n0))\n",
    "# print('horizontal ratio: ',db1/db0)\n",
    "# print(n_sum-Nrep*Na*Nb)"
   ]
  },
  {
   "cell_type": "code",
   "execution_count": 153,
   "metadata": {},
   "outputs": [
    {
     "name": "stdout",
     "output_type": "stream",
     "text": [
      "ES was loaded!\n"
     ]
    },
    {
     "data": {
      "image/png": "[encoded data removed]",
      "text/plain": [
       "<Figure size 432x288 with 1 Axes>"
      ]
     },
     "metadata": {
      "needs_background": "light"
     },
     "output_type": "display_data"
    }
   ],
   "source": [
    "# cumulative probability\n",
    "\n",
    "n_sum=Nrep*Na*Nb\n",
    "\n",
    "\n",
    "plt.figure()\n",
    "\n",
    "for i_l in range(len(Lc_sw)):\n",
    "    Lc=Lc_sw[i_l]\n",
    "\n",
    "    out_dir = 'data/' \n",
    "    f1= 'NS_Labc_%d_%d_%d.npz' % (La,Lb,Lc)\n",
    "    fname = out_dir+f1\n",
    "\n",
    "    npzfile = np.load(fname)\n",
    "    vT0=npzfile['e0']\n",
    "    print('ES was loaded!')\n",
    "    \n",
    "    vs = np.sort(vT0)\n",
    "    i1=np.argmin(np.abs(vs))\n",
    "    ns_0 = i1/len(vT0)\n",
    "    plt.plot(vs,np.linspace(1/len(vT0),1,len(vT0))-ns_0,\"o\",markersize=2)\n",
    "     \n",
    "#     xx = np.logspace(-2.5,1)\n",
    "# # plt.plot(xx,0.1/xx**0.33,\"--\",label=r\"$1/z^{1/3}$\")\n",
    "# # plt.plot(xx,0.04/xx**0.5,\"--\",label=r\"$1/z^{1/2}$\")\n",
    "\n",
    "#     i_p = np.argwhere(b1>3e-2)\n",
    "#     n_p = np.reshape(n0[i_p[:-2]],[len(i_p[:-2]),])\n",
    "#     i_p_max = np.argwhere(n_p>2e-1)\n",
    "#     bins_p = np.reshape(b1[i_p[:-2]],[len(i_p[:-2]),])\n",
    "#     z = np.polyfit(np.log(bins_p[i_p_max][:,0]),np.log(n_p[i_p_max][:,0]),1)\n",
    "#     plt.plot(xx,np.exp(z[1]+np.log(xx)*z[0]),\"k--\", label=r\"$z^{%.2f}$\" % (z[0]))\n",
    "\n",
    "#     i_n = np.argwhere(b1<-3e-2)\n",
    "#     n_n = np.reshape(n0[i_n],[len(i_n),])\n",
    "#     i_n_max = np.argwhere(n_n>7e-2)\n",
    "#     bins_n = np.reshape(b1[i_n],[len(i_n),])\n",
    "#     z = np.polyfit(np.log(-bins_n[i_n_max][:,0]),np.log(n_n[i_n_max][:,0]),1)\n",
    "#     plt.plot(xx,np.exp(z[1]+np.log(xx)*z[0]),\"g--\", label=r\"$z^{%.2f}$\" % (z[0]))\n",
    "    \n",
    "xx = np.logspace(-4,1)\n",
    "plt.plot(xx,0.1*xx**0.5,\"--\", label=r\"$n(\\xi)=c_0\\sqrt{\\xi}$\")\n",
    "\n",
    "plt.plot(xplot*fx,nc-ns_0,\"-\",linewidth=2,label= \"cubic equation\")\n",
    "\n",
    "plt.xscale(\"log\")\n",
    "plt.yscale(\"log\")\n",
    "plt.ylim(1e-5,1)\n",
    "plt.xlim(1e-5,2e1)\n",
    "plt.grid()\n",
    "plt.legend()\n",
    "plt.xlabel(r\"$L_A \\xi$\")\n",
    "plt.ylabel(r\"$n(\\xi)-n(0)$\")\n",
    "plt.show()\n",
    "\n",
    "# db0=bins_center0[-1]-bins_center0[0]\n",
    "# db1=bins_center1[-1]-bins_center1[0]\n",
    "\n",
    "# print('vertical ratio: ',np.max(n1)/np.max(n0))\n",
    "# print('horizontal ratio: ',db1/db0)\n",
    "# print(n_sum-Nrep*Na*Nb)"
   ]
  },
  {
   "cell_type": "code",
   "execution_count": 152,
   "metadata": {
    "scrolled": true
   },
   "outputs": [
    {
     "name": "stdout",
     "output_type": "stream",
     "text": [
      "2.5e-06\n",
      "3.5627566757574983e-06\n",
      "5.077294052261837e-06\n",
      "7.235665311791879e-06\n",
      "1.031156595725337e-05\n",
      "1.469504018068728e-05\n",
      "2.094194100170731e-05\n",
      "2.9844416042860923e-05\n",
      "4.253135699631473e-05\n",
      "6.061155042705821e-05\n",
      "8.637768236480545e-05\n",
      "0.00012309706579266853\n",
      "0.00017542595716759575\n",
      "0.00025\n",
      "0.0003562756675757498\n",
      "0.0005077294052261843\n",
      "0.0007235665311791879\n",
      "0.001031156595725338\n",
      "0.0014695040180687279\n",
      "0.0020941941001707313\n",
      "0.0029844416042860925\n",
      "0.004253135699631473\n",
      "0.006061155042705827\n",
      "0.008637768236480554\n",
      "0.012309706579266853\n",
      "0.017542595716759573\n",
      "0.025\n",
      "0.03562756675757498\n",
      "0.05077294052261847\n",
      "0.07235665311791879\n",
      "0.10311565957253391\n",
      "0.1469504018068728\n",
      "0.2094194100170731\n",
      "0.29844416042860955\n"
     ]
    },
    {
     "name": "stderr",
     "output_type": "stream",
     "text": [
      "/nfshome/hshapourian/miniconda3/envs/py38/lib/python3.8/site-packages/scipy/integrate/quadpack.py:880: IntegrationWarning: Extremely bad integrand behavior occurs at some points of the\n",
      "  integration interval.\n",
      "  quad_r = quad(f, low, high, args=args, full_output=self.full_output,\n"
     ]
    },
    {
     "name": "stdout",
     "output_type": "stream",
     "text": [
      "0.4253135699631473\n",
      "0.6061155042705827\n",
      "0.8637768236480545\n",
      "1.2309706579266855\n",
      "1.7542595716759593\n",
      "2.5\n"
     ]
    }
   ],
   "source": [
    "def cdf_calc(a,b,x):\n",
    "    '''Calculates logneg by \\int P(z)|z| dz\n",
    "    where P(z) is spectral density'''\n",
    "    options={'limit':500}\n",
    "    integral= nquad(integrand, [[-np.inf, x]], args=(a, b),opts=[options,options])[0]\n",
    "    return integral\n",
    "\n",
    "a = Nc/Nb +1j*0\n",
    "b = Nc/Nb*Na +1j*0\n",
    "fx =  Nb/Nc\n",
    "fy =  Nc/pi/Nb\n",
    "# xplot= np.linspace(bins_center0.min(),bins_center0.max(),100)/fx*1.1 #+1j*1e-12\n",
    "xplot = np.logspace(-5,1,40)/fx\n",
    "# yplot=np.abs(Gz(xplot,a,b))\n",
    "#     yplot_eq=Gz_eq(np.ndarray.tolist(xplot),a+1j*0,b+1j*0)\n",
    "# plt.plot(xplot*fx,fy*yplot,linewidth=1)\n",
    "\n",
    "# cdf_calc(a,b,0.1)/pi\n",
    "nc = np.zeros(len(xplot))\n",
    "for i_x in range(len(xplot)):\n",
    "    print(xplot[i_x])\n",
    "    nc[i_x]=cdf_calc(a,b,xplot[i_x])/pi\n",
    "    "
   ]
  },
  {
   "cell_type": "code",
   "execution_count": 105,
   "metadata": {},
   "outputs": [
    {
     "data": {
      "text/plain": [
       "[<matplotlib.lines.Line2D at 0x2b54799a7af0>]"
      ]
     },
     "execution_count": 105,
     "metadata": {},
     "output_type": "execute_result"
    },
    {
     "data": {
      "image/png": "[encoded data removed]",
      "text/plain": [
       "<Figure size 432x288 with 1 Axes>"
      ]
     },
     "metadata": {
      "needs_background": "light"
     },
     "output_type": "display_data"
    }
   ],
   "source": [
    "plt.plot(xplot*fx,nc,linewidth=1)\n"
   ]
  },
  {
   "cell_type": "code",
   "execution_count": 134,
   "metadata": {},
   "outputs": [
    {
     "name": "stdout",
     "output_type": "stream",
     "text": [
      "0.46875\n"
     ]
    }
   ],
   "source": [
    "i1=np.argmin(np.abs(vs))\n",
    "print(i1/len(vT0))"
   ]
  },
  {
   "cell_type": "code",
   "execution_count": 154,
   "metadata": {},
   "outputs": [
    {
     "data": {
      "text/plain": [
       "64"
      ]
     },
     "execution_count": 154,
     "metadata": {},
     "output_type": "execute_result"
    }
   ],
   "source": [
    "Nab"
   ]
  },
  {
   "cell_type": "code",
   "execution_count": 149,
   "metadata": {},
   "outputs": [
    {
     "data": {
      "text/plain": [
       "4.096"
      ]
     },
     "execution_count": 149,
     "metadata": {},
     "output_type": "execute_result"
    }
   ],
   "source": [
    "1e-3*4096"
   ]
  },
  {
   "cell_type": "code",
   "execution_count": 150,
   "metadata": {},
   "outputs": [
    {
     "data": {
      "text/plain": [
       "5.12"
      ]
     },
     "execution_count": 150,
     "metadata": {},
     "output_type": "execute_result"
    }
   ],
   "source": [
    "1e-2*512"
   ]
  },
  {
   "cell_type": "code",
   "execution_count": 155,
   "metadata": {},
   "outputs": [
    {
     "data": {
      "text/plain": [
       "2.56"
      ]
     },
     "execution_count": 155,
     "metadata": {},
     "output_type": "execute_result"
    }
   ],
   "source": [
    "4e-2*64"
   ]
  },
  {
   "cell_type": "code",
   "execution_count": null,
   "metadata": {},
   "outputs": [],
   "source": []
  }
 ],
 "metadata": {
  "kernelspec": {
   "display_name": "Python 3",
   "language": "python",
   "name": "python3"
  },
  "language_info": {
   "codemirror_mode": {
    "name": "ipython",
    "version": 3
   },
   "file_extension": ".py",
   "mimetype": "text/x-python",
   "name": "python",
   "nbconvert_exporter": "python",
   "pygments_lexer": "ipython3",
   "version": "3.8.6"
  }
 },
 "nbformat": 4,
 "nbformat_minor": 4
}
