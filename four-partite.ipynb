{
 "cells": [
  {
   "cell_type": "code",
   "execution_count": 2,
   "metadata": {},
   "outputs": [],
   "source": [
    "import numpy as np\n",
    "from math import pi, sqrt, tanh\n",
    "# import matplotlib.pyplot as plt\n",
    "# from scipy.linalg import block_diag\n",
    "# from ipywidgets import interact\n",
    "# from os import path\n",
    "\n",
    "# import plotly.graph_objects as go\n",
    "# import pandas as pd\n",
    "\n",
    "from quimb import *\n",
    "import time\n"
   ]
  },
  {
   "cell_type": "code",
   "execution_count": 2,
   "metadata": {},
   "outputs": [],
   "source": [
    "def p_transpose_2(V,Na,Nb):\n",
    "# partial transpose with respect to subsystem 2\n",
    "# the basis of NaxNb density matrix is defined by Nb*(i-1)+j,\n",
    "# i,j=1,2,3 spans the Hilbert space of subsystem 1 and 2 respectively\n",
    "    U=np.zeros((Na*Nb,Na*Nb), dtype=np.complex128)\n",
    "    for i_1 in range(Na):\n",
    "        for i_2 in range(Na):\n",
    "#             print(V[Nb*i_1:Nb*(i_1+1),Nb*i_2:Nb*(i_2+1)].shape)\n",
    "            U[Nb*i_1:Nb*(i_1+1),Nb*i_2:Nb*(i_2+1)]=np.transpose(V[Nb*i_1:Nb*(i_1+1),Nb*i_2:Nb*(i_2+1)])\n",
    "\n",
    "    return U\n",
    "\n",
    "def vNent_calc(rho,epsilon=1e-9):\n",
    "    chi0 =np.linalg.eigvalsh(rho)\n",
    "    chi1=chi0[np.nonzero(np.abs(chi0)>epsilon)]\n",
    "    chi2=chi1[np.nonzero(np.abs(chi1-1)>epsilon)]\n",
    "    return -np.sum(chi2*np.log(chi2))\n"
   ]
  },
  {
   "cell_type": "code",
   "execution_count": 3,
   "metadata": {},
   "outputs": [],
   "source": [
    "from scipy.integrate import quad, nquad\n",
    "\n",
    "def Gz(z,a,b):\n",
    "    '''Direct solution to G(z), faster but has numerical instability for large V\n",
    "    a=  Lb/L2\n",
    "    b=  Lb*L1/L2\n",
    "    '''\n",
    "    a2= (b-1)/z +1j*0\n",
    "    a1= (a-z)/z +1j*0\n",
    "    a0= 1/z +1j*0\n",
    "    Q= (3*a1-a2**2)/9 +1j*0\n",
    "    R= (9*a2*a1-27*a0-2*a2**3)/54 +1j*0\n",
    "    D= Q**3 + R**2 +1j*0\n",
    "    S= (R+D**0.5 +1j*0)**(1/3)\n",
    "    T= (R-D**0.5 +1j*0)**(1/3)\n",
    "    z4= -a2/3 + (1-1j*sqrt(3))*Q/S/2-(1+1j*sqrt(3))/2*S\n",
    "    return np.abs(np.imag(z4))\n",
    "\n",
    "def integrand(z, a, b):\n",
    "    return Gz(z,a,b)*np.abs(z)\n",
    "\n",
    "def neg_calc(a,b):\n",
    "    '''Calculates logneg by \\int P(z)|z| dz\n",
    "    where P(z) is spectral density'''\n",
    "    options={'limit':500}\n",
    "    integral= nquad(integrand, [[-np.inf, np.inf]], args=(a, b),opts=[options,options])[0]\n",
    "    return integral\n"
   ]
  },
  {
   "cell_type": "markdown",
   "metadata": {},
   "source": [
    "# log negativity"
   ]
  },
  {
   "cell_type": "code",
   "execution_count": 42,
   "metadata": {
    "scrolled": true
   },
   "outputs": [
    {
     "name": "stdout",
     "output_type": "stream",
     "text": [
      "0\r",
      "A-B: 0.9, 2.1\n",
      "B-C: 0.9, 2.1\n",
      "A-C: 0.9, 2.1\n",
      "AB-C: 2.9\n",
      "LN D-one: 0.0, 0.0, 0.0\n",
      "MI D-one: 0.1, 0.1, 0.1\n",
      "LN D-two: 0.9, 0.9, 0.9\n",
      "ent A: 3.0\n",
      "ent B: 3.0\n",
      "ent C: 3.0\n",
      "ent D: 1.0\n"
     ]
    }
   ],
   "source": [
    "Nrep=1\n",
    "r=2 # local Hilbert space dim\n",
    "\n",
    "La = 3 \n",
    "Lb = 3\n",
    "Lc = 3\n",
    "Ld = 1\n",
    "Lt = La+Lb+Lc+Ld\n",
    "\n",
    "i_a = range(La)\n",
    "i_b = range(La,La+Lb)\n",
    "i_c = range(La+Lb,La+Lb+Lc)\n",
    "i_d = range(La+Lb+Lc,Lt)\n",
    "\n",
    "ln_ab=np.zeros(Nrep)\n",
    "ln_ac=np.zeros(Nrep)\n",
    "ln_bc=np.zeros(Nrep)\n",
    "ln_ad=np.zeros(Nrep)\n",
    "ln_bd=np.zeros(Nrep)\n",
    "ln_cd=np.zeros(Nrep)\n",
    "ln_ab_d=np.zeros(Nrep)\n",
    "ln_ac_d=np.zeros(Nrep)\n",
    "ln_bc_d=np.zeros(Nrep)\n",
    "ln_ab_c=np.zeros(Nrep)\n",
    "\n",
    "mi_ab=np.zeros(Nrep)\n",
    "mi_ac=np.zeros(Nrep)\n",
    "mi_bc=np.zeros(Nrep)\n",
    "mi_ad=np.zeros(Nrep)\n",
    "mi_bd=np.zeros(Nrep)\n",
    "mi_cd=np.zeros(Nrep)\n",
    "mi_ab_d=np.zeros(Nrep)\n",
    "mi_ac_d=np.zeros(Nrep)\n",
    "mi_bc_d=np.zeros(Nrep)\n",
    "mi_ab_c=np.zeros(Nrep)\n",
    "ent_a=np.zeros(Nrep)\n",
    "ent_b=np.zeros(Nrep)\n",
    "ent_c=np.zeros(Nrep)\n",
    "ent_d=np.zeros(Nrep)\n",
    "\n",
    "for i_r in range(Nrep):\n",
    "    print(i_r,end=\"\\r\")\n",
    "    psi = rand_ket(r**Lt)\n",
    "#     psi = np.random.randn(r**Lt)+1j*np.random.randn(r**Lt)\n",
    "#     psi = normalize(psi)\n",
    "    \n",
    "    ln_ab[i_r]= logneg_subsys(psi,dims=[r]*(Lt),sysa=i_a,sysb=i_b)\n",
    "    ln_ac[i_r]= logneg_subsys(psi,dims=[r]*(Lt),sysa=i_a,sysb=i_c)\n",
    "    ln_bc[i_r]= logneg_subsys(psi,dims=[r]*(Lt),sysa=i_b,sysb=i_c)\n",
    "    ln_ad[i_r]= logneg_subsys(psi,dims=[r]*(Lt),sysa=i_d,sysb=i_a)\n",
    "    ln_bd[i_r]= logneg_subsys(psi,dims=[r]*(Lt),sysa=i_d,sysb=i_b)\n",
    "    ln_cd[i_r]= logneg_subsys(psi,dims=[r]*(Lt),sysa=i_d,sysb=i_c)\n",
    "    ln_ab_c[i_r]= logneg_subsys(psi,dims=[r]*(Lt),sysa=i_c,sysb=np.concatenate((i_a,i_b)))\n",
    "    ln_ab_d[i_r]= logneg_subsys(psi,dims=[r]*(Lt),sysa=i_d,sysb=np.concatenate((i_a,i_b)))\n",
    "    ln_bc_d[i_r]= logneg_subsys(psi,dims=[r]*(Lt),sysa=i_d,sysb=np.concatenate((i_b,i_c)))\n",
    "    ln_ac_d[i_r]= logneg_subsys(psi,dims=[r]*(Lt),sysa=i_d,sysb=np.concatenate((i_a,i_c)))\n",
    "\n",
    "    \n",
    "    mi_ab[i_r]= mutinf_subsys(psi,dims=[r]*(Lt),sysa=i_a,sysb=i_b)\n",
    "    mi_ac[i_r]= mutinf_subsys(psi,dims=[r]*(Lt),sysa=i_a,sysb=i_c)\n",
    "    mi_bc[i_r]= mutinf_subsys(psi,dims=[r]*(Lt),sysa=i_b,sysb=i_c)\n",
    "    mi_ad[i_r]= mutinf_subsys(psi,dims=[r]*(Lt),sysa=i_d,sysb=i_a)\n",
    "    mi_bd[i_r]= mutinf_subsys(psi,dims=[r]*(Lt),sysa=i_d,sysb=i_b)\n",
    "    mi_cd[i_r]= mutinf_subsys(psi,dims=[r]*(Lt),sysa=i_d,sysb=i_c)\n",
    "    mi_ab_c[i_r]= mutinf_subsys(psi,dims=[r]*(Lt),sysa=i_c,sysb=np.concatenate((i_a,i_b)))\n",
    "    mi_ab_d[i_r]= mutinf_subsys(psi,dims=[r]*(Lt),sysa=i_d,sysb=np.concatenate((i_a,i_b)))\n",
    "    mi_bc_d[i_r]= mutinf_subsys(psi,dims=[r]*(Lt),sysa=i_d,sysb=np.concatenate((i_b,i_c)))\n",
    "    mi_ac_d[i_r]= mutinf_subsys(psi,dims=[r]*(Lt),sysa=i_d,sysb=np.concatenate((i_a,i_c)))\n",
    "\n",
    "    ent_a[i_r] = entropy_subsys(psi,dims=[r]*(Lt),sysa=i_a)\n",
    "    ent_b[i_r] = entropy_subsys(psi,dims=[r]*(Lt),sysa=i_b)\n",
    "    ent_c[i_r] = entropy_subsys(psi,dims=[r]*(Lt),sysa=i_c)\n",
    "    ent_d[i_r] = entropy_subsys(psi,dims=[r]*(Lt),sysa=i_d)\n",
    "\n",
    "print(\"A-B: %.1f, %.1f\" % (np.mean(ln_ab),np.mean(mi_ab)))\n",
    "print(\"B-C: %.1f, %.1f\" % (np.mean(ln_bc),np.mean(mi_bc)))\n",
    "print(\"A-C: %.1f, %.1f\" % (np.mean(ln_ac),np.mean(mi_ac)))\n",
    "print(\"AB-C: %.1f\" % (np.mean(ln_ab_c)))\n",
    "print(\"LN D-one: %.1f, %.1f, %.1f\" % (np.mean(ln_ad),np.mean(ln_bd),np.mean(ln_cd)))\n",
    "print(\"MI D-one: %.1f, %.1f, %.1f\" % (np.mean(mi_ad),np.mean(mi_bd),np.mean(mi_cd)))\n",
    "print(\"LN D-two: %.1f, %.1f, %.1f\" % (np.mean(ln_ab_d),np.mean(ln_bc_d),np.mean(ln_ac_d)))\n",
    "print(\"ent A: %.1f\" % (np.mean(ent_a)))\n",
    "print(\"ent B: %.1f\" % (np.mean(ent_b)))\n",
    "print(\"ent C: %.1f\" % (np.mean(ent_c)))\n",
    "print(\"ent D: %.1f\" % (np.mean(ent_d)))\n",
    "# print(\"AB:\",np.mean(ln_ab),np.mean(mi_ab),np.mean(mi_ab)/2-np.mean(ln_ab))\n",
    "# print(\"AC:\",np.mean(ln_ac),np.mean(mi_ac))\n",
    "# print(\"AB-C:\",np.mean(ln_ab_c))\n",
    "# # print(\"BC:\",np.mean(ln_bc),np.mean(mi_bc))\n",
    "# print(\"D-one:\",np.mean(ln_ad),np.mean(ln_bd),np.mean(ln_cd))\n",
    "# print(\"MI D-one:\",np.mean(mi_ad),np.mean(mi_bd),np.mean(mi_cd))\n",
    "# print(\"D-two:\",np.mean(ln_ab_d),np.mean(ln_bc_d),np.mean(ln_ac_d))\n",
    "# print(\"D:\", np.mean(ent_d))"
   ]
  },
  {
   "cell_type": "code",
   "execution_count": 106,
   "metadata": {},
   "outputs": [
    {
     "name": "stdout",
     "output_type": "stream",
     "text": [
      "AB: 0.0 0.0 0.0\n",
      "AC: 0.8615013060803606 0.0\n",
      "AB-C: 2.917438225293007\n",
      "D-one: 0.0 0.0 0.0\n",
      "D-two: 0.9407710462554771 0.9207185181054601 0.9460671073144041\n",
      "D: 0.998898786569263\n"
     ]
    }
   ],
   "source": [
    "print(\"AB:\",np.mean(ln_ab),np.mean(mi_ab),np.mean(mi_ab)/2-np.mean(ln_ab))\n",
    "print(\"AC:\",np.mean(ln_ac),np.mean(mi_ac))\n",
    "print(\"AB-C:\",np.mean(ln_ab_c))\n",
    "# print(\"BC:\",np.mean(ln_bc),np.mean(mi_bc))\n",
    "print(\"D-one:\",np.mean(ln_ad),np.mean(ln_bd),np.mean(ln_cd))\n",
    "print(\"D-two:\",np.mean(ln_ab_d),np.mean(ln_bc_d),np.mean(ln_ac_d))\n",
    "print(\"D:\", np.mean(ent_d))"
   ]
  },
  {
   "cell_type": "code",
   "execution_count": 22,
   "metadata": {},
   "outputs": [
    {
     "name": "stdout",
     "output_type": "stream",
     "text": [
      "0.0\n",
      "0.0\n"
     ]
    }
   ],
   "source": [
    "L = 4\n",
    "r = 2\n",
    "psi = np.zeros(r**L)\n",
    "psi[0]=1\n",
    "psi[3]=1\n",
    "psi[12]=1\n",
    "psi[-1]=1\n",
    "psi = normalize(psi)\n",
    "ln_a= logneg_subsys(psi,dims=[r]*L,sysa=[1],sysb=[2,3])\n",
    "mi_a= mutinf_subsys(psi,dims=[r]*L,sysa=[1],sysb=[2,3])\n",
    "print(ln_a)\n",
    "print(mi_a)"
   ]
  },
  {
   "cell_type": "code",
   "execution_count": 19,
   "metadata": {},
   "outputs": [
    {
     "name": "stdout",
     "output_type": "stream",
     "text": [
      "0.0\n",
      "0.4150374992788437\n"
     ]
    }
   ],
   "source": [
    "r=2\n",
    "L = 4\n",
    "psi = np.zeros(r**L)\n",
    "psi[-1]= sqrt(2)\n",
    "psi[1]=1\n",
    "psi[2]=1\n",
    "psi[4]=1\n",
    "psi[8]=1\n",
    "psi = normalize(psi)\n",
    "ln_a= logneg_subsys(psi,dims=[r]*L,sysa=[0],sysb=[2])\n",
    "mi_a= mutinf_subsys(psi,dims=[r]*L,sysa=[0],sysb=[1])\n",
    "print(ln_a)\n",
    "print(mi_a)"
   ]
  },
  {
   "cell_type": "markdown",
   "metadata": {},
   "source": [
    "# reduced density matrix"
   ]
  },
  {
   "cell_type": "code",
   "execution_count": 29,
   "metadata": {},
   "outputs": [
    {
     "name": "stdout",
     "output_type": "stream",
     "text": [
      "[[0.09 0.03 0.03 ... 0.02 0.   0.02]\n",
      " [0.03 0.09 0.03 ... 0.01 0.04 0.03]\n",
      " [0.03 0.03 0.15 ... 0.04 0.04 0.02]\n",
      " ...\n",
      " [0.02 0.01 0.04 ... 0.15 0.04 0.06]\n",
      " [0.   0.04 0.04 ... 0.04 0.17 0.07]\n",
      " [0.02 0.03 0.02 ... 0.06 0.07 0.13]]\n"
     ]
    }
   ],
   "source": [
    "Nrep=1\n",
    "r=2 # local Hilbert space dim\n",
    "\n",
    "La = 2 \n",
    "Lb = 2\n",
    "Lc = 2\n",
    "Ld = 1\n",
    "Lt = La+Lb+Lc+Ld\n",
    "\n",
    "i_a = range(La)\n",
    "i_b = range(La,La+Lb)\n",
    "i_c = range(La+Lb,La+Lb+Lc)\n",
    "i_d = range(La+Lb+Lc,Lt)\n",
    "\n",
    "psi = rand_ket(r**Lt)\n",
    "rho = partial_trace(psi,dims=[2]*Lt,keep=np.arange(0,La+Ld))\n",
    "np.set_printoptions(precision=2, suppress=True, threshold=5)\n",
    "print(np.array(np.abs(rho)))"
   ]
  },
  {
   "cell_type": "code",
   "execution_count": 28,
   "metadata": {},
   "outputs": [
    {
     "data": {
      "text/plain": [
       "(8, 8)"
      ]
     },
     "execution_count": 28,
     "metadata": {},
     "output_type": "execute_result"
    }
   ],
   "source": [
    "np.shape(rho)"
   ]
  },
  {
   "cell_type": "markdown",
   "metadata": {},
   "source": [
    "### "
   ]
  }
 ],
 "metadata": {
  "@webio": {
   "lastCommId": null,
   "lastKernelId": null
  },
  "kernelspec": {
   "display_name": "Python 3",
   "language": "python",
   "name": "python3"
  },
  "language_info": {
   "codemirror_mode": {
    "name": "ipython",
    "version": 3
   },
   "file_extension": ".py",
   "mimetype": "text/x-python",
   "name": "python",
   "nbconvert_exporter": "python",
   "pygments_lexer": "ipython3",
   "version": "3.8.6"
  }
 },
 "nbformat": 4,
 "nbformat_minor": 2
}
