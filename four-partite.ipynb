{
 "cells": [
  {
   "cell_type": "code",
   "execution_count": 1,
   "metadata": {},
   "outputs": [],
   "source": [
    "import numpy as np\n",
    "from math import pi, sqrt, tanh\n",
    "import matplotlib.pyplot as plt\n",
    "from scipy.linalg import block_diag\n",
    "from ipywidgets import interact\n",
    "from os import path\n",
    "\n",
    "import plotly.graph_objects as go\n",
    "import pandas as pd\n",
    "\n",
    "from quimb import *\n",
    "import time\n"
   ]
  },
  {
   "cell_type": "code",
   "execution_count": 2,
   "metadata": {},
   "outputs": [],
   "source": [
    "def p_transpose_2(V,Na,Nb):\n",
    "# partial transpose with respect to subsystem 2\n",
    "# the basis of NaxNb density matrix is defined by Nb*(i-1)+j,\n",
    "# i,j=1,2,3 spans the Hilbert space of subsystem 1 and 2 respectively\n",
    "    U=np.zeros((Na*Nb,Na*Nb), dtype=np.complex128)\n",
    "    for i_1 in range(Na):\n",
    "        for i_2 in range(Na):\n",
    "#             print(V[Nb*i_1:Nb*(i_1+1),Nb*i_2:Nb*(i_2+1)].shape)\n",
    "            U[Nb*i_1:Nb*(i_1+1),Nb*i_2:Nb*(i_2+1)]=np.transpose(V[Nb*i_1:Nb*(i_1+1),Nb*i_2:Nb*(i_2+1)])\n",
    "\n",
    "    return U\n",
    "\n",
    "def vNent_calc(rho,epsilon=1e-9):\n",
    "    chi0 =np.linalg.eigvalsh(rho)\n",
    "    chi1=chi0[np.nonzero(np.abs(chi0)>epsilon)]\n",
    "    chi2=chi1[np.nonzero(np.abs(chi1-1)>epsilon)]\n",
    "    return -np.sum(chi2*np.log(chi2))\n"
   ]
  },
  {
   "cell_type": "code",
   "execution_count": 3,
   "metadata": {},
   "outputs": [],
   "source": [
    "from scipy.integrate import quad, nquad\n",
    "\n",
    "def Gz(z,a,b):\n",
    "    '''Direct solution to G(z), faster but has numerical instability for large V\n",
    "    a=  Lb/L2\n",
    "    b=  Lb*L1/L2\n",
    "    '''\n",
    "    a2= (b-1)/z +1j*0\n",
    "    a1= (a-z)/z +1j*0\n",
    "    a0= 1/z +1j*0\n",
    "    Q= (3*a1-a2**2)/9 +1j*0\n",
    "    R= (9*a2*a1-27*a0-2*a2**3)/54 +1j*0\n",
    "    D= Q**3 + R**2 +1j*0\n",
    "    S= (R+D**0.5 +1j*0)**(1/3)\n",
    "    T= (R-D**0.5 +1j*0)**(1/3)\n",
    "    z4= -a2/3 + (1-1j*sqrt(3))*Q/S/2-(1+1j*sqrt(3))/2*S\n",
    "    return np.abs(np.imag(z4))\n",
    "\n",
    "def integrand(z, a, b):\n",
    "    return Gz(z,a,b)*np.abs(z)\n",
    "\n",
    "def neg_calc(a,b):\n",
    "    '''Calculates logneg by \\int P(z)|z| dz\n",
    "    where P(z) is spectral density'''\n",
    "    options={'limit':500}\n",
    "    integral= nquad(integrand, [[-np.inf, np.inf]], args=(a, b),opts=[options,options])[0]\n",
    "    return integral\n"
   ]
  },
  {
   "cell_type": "markdown",
   "metadata": {},
   "source": [
    "# log negativity"
   ]
  },
  {
   "cell_type": "code",
   "execution_count": 4,
   "metadata": {
    "scrolled": true
   },
   "outputs": [
    {
     "name": "stdout",
     "output_type": "stream",
     "text": [
      "0\r"
     ]
    },
    {
     "ename": "ImportError",
     "evalue": "The library [opt_einsum,autoray] is not installed. ",
     "output_type": "error",
     "traceback": [
      "\u001b[0;31m---------------------------------------------------------------------------\u001b[0m",
      "\u001b[0;31mImportError\u001b[0m                               Traceback (most recent call last)",
      "\u001b[0;32m<ipython-input-4-0839b4e7682f>\u001b[0m in \u001b[0;36m<module>\u001b[0;34m\u001b[0m\n\u001b[1;32m     48\u001b[0m     \u001b[0mln_bd\u001b[0m\u001b[0;34m[\u001b[0m\u001b[0mi_r\u001b[0m\u001b[0;34m]\u001b[0m\u001b[0;34m=\u001b[0m \u001b[0mlogneg_subsys\u001b[0m\u001b[0;34m(\u001b[0m\u001b[0mpsi\u001b[0m\u001b[0;34m,\u001b[0m\u001b[0mdims\u001b[0m\u001b[0;34m=\u001b[0m\u001b[0;34m[\u001b[0m\u001b[0mr\u001b[0m\u001b[0;34m]\u001b[0m\u001b[0;34m*\u001b[0m\u001b[0;34m(\u001b[0m\u001b[0mLt\u001b[0m\u001b[0;34m)\u001b[0m\u001b[0;34m,\u001b[0m\u001b[0msysa\u001b[0m\u001b[0;34m=\u001b[0m\u001b[0mi_d\u001b[0m\u001b[0;34m,\u001b[0m\u001b[0msysb\u001b[0m\u001b[0;34m=\u001b[0m\u001b[0mi_b\u001b[0m\u001b[0;34m)\u001b[0m\u001b[0;34m\u001b[0m\u001b[0;34m\u001b[0m\u001b[0m\n\u001b[1;32m     49\u001b[0m     \u001b[0mln_cd\u001b[0m\u001b[0;34m[\u001b[0m\u001b[0mi_r\u001b[0m\u001b[0;34m]\u001b[0m\u001b[0;34m=\u001b[0m \u001b[0mlogneg_subsys\u001b[0m\u001b[0;34m(\u001b[0m\u001b[0mpsi\u001b[0m\u001b[0;34m,\u001b[0m\u001b[0mdims\u001b[0m\u001b[0;34m=\u001b[0m\u001b[0;34m[\u001b[0m\u001b[0mr\u001b[0m\u001b[0;34m]\u001b[0m\u001b[0;34m*\u001b[0m\u001b[0;34m(\u001b[0m\u001b[0mLt\u001b[0m\u001b[0;34m)\u001b[0m\u001b[0;34m,\u001b[0m\u001b[0msysa\u001b[0m\u001b[0;34m=\u001b[0m\u001b[0mi_d\u001b[0m\u001b[0;34m,\u001b[0m\u001b[0msysb\u001b[0m\u001b[0;34m=\u001b[0m\u001b[0mi_c\u001b[0m\u001b[0;34m)\u001b[0m\u001b[0;34m\u001b[0m\u001b[0;34m\u001b[0m\u001b[0m\n\u001b[0;32m---> 50\u001b[0;31m     \u001b[0mln_ab_c\u001b[0m\u001b[0;34m[\u001b[0m\u001b[0mi_r\u001b[0m\u001b[0;34m]\u001b[0m\u001b[0;34m=\u001b[0m \u001b[0mlogneg_subsys\u001b[0m\u001b[0;34m(\u001b[0m\u001b[0mpsi\u001b[0m\u001b[0;34m,\u001b[0m\u001b[0mdims\u001b[0m\u001b[0;34m=\u001b[0m\u001b[0;34m[\u001b[0m\u001b[0mr\u001b[0m\u001b[0;34m]\u001b[0m\u001b[0;34m*\u001b[0m\u001b[0;34m(\u001b[0m\u001b[0mLt\u001b[0m\u001b[0;34m)\u001b[0m\u001b[0;34m,\u001b[0m\u001b[0msysa\u001b[0m\u001b[0;34m=\u001b[0m\u001b[0mi_c\u001b[0m\u001b[0;34m,\u001b[0m\u001b[0msysb\u001b[0m\u001b[0;34m=\u001b[0m\u001b[0mnp\u001b[0m\u001b[0;34m.\u001b[0m\u001b[0mconcatenate\u001b[0m\u001b[0;34m(\u001b[0m\u001b[0;34m(\u001b[0m\u001b[0mi_a\u001b[0m\u001b[0;34m,\u001b[0m\u001b[0mi_b\u001b[0m\u001b[0;34m)\u001b[0m\u001b[0;34m)\u001b[0m\u001b[0;34m)\u001b[0m\u001b[0;34m\u001b[0m\u001b[0;34m\u001b[0m\u001b[0m\n\u001b[0m\u001b[1;32m     51\u001b[0m     \u001b[0mln_ab_d\u001b[0m\u001b[0;34m[\u001b[0m\u001b[0mi_r\u001b[0m\u001b[0;34m]\u001b[0m\u001b[0;34m=\u001b[0m \u001b[0mlogneg_subsys\u001b[0m\u001b[0;34m(\u001b[0m\u001b[0mpsi\u001b[0m\u001b[0;34m,\u001b[0m\u001b[0mdims\u001b[0m\u001b[0;34m=\u001b[0m\u001b[0;34m[\u001b[0m\u001b[0mr\u001b[0m\u001b[0;34m]\u001b[0m\u001b[0;34m*\u001b[0m\u001b[0;34m(\u001b[0m\u001b[0mLt\u001b[0m\u001b[0;34m)\u001b[0m\u001b[0;34m,\u001b[0m\u001b[0msysa\u001b[0m\u001b[0;34m=\u001b[0m\u001b[0mi_d\u001b[0m\u001b[0;34m,\u001b[0m\u001b[0msysb\u001b[0m\u001b[0;34m=\u001b[0m\u001b[0mnp\u001b[0m\u001b[0;34m.\u001b[0m\u001b[0mconcatenate\u001b[0m\u001b[0;34m(\u001b[0m\u001b[0;34m(\u001b[0m\u001b[0mi_a\u001b[0m\u001b[0;34m,\u001b[0m\u001b[0mi_b\u001b[0m\u001b[0;34m)\u001b[0m\u001b[0;34m)\u001b[0m\u001b[0;34m)\u001b[0m\u001b[0;34m\u001b[0m\u001b[0;34m\u001b[0m\u001b[0m\n\u001b[1;32m     52\u001b[0m     \u001b[0mln_bc_d\u001b[0m\u001b[0;34m[\u001b[0m\u001b[0mi_r\u001b[0m\u001b[0;34m]\u001b[0m\u001b[0;34m=\u001b[0m \u001b[0mlogneg_subsys\u001b[0m\u001b[0;34m(\u001b[0m\u001b[0mpsi\u001b[0m\u001b[0;34m,\u001b[0m\u001b[0mdims\u001b[0m\u001b[0;34m=\u001b[0m\u001b[0;34m[\u001b[0m\u001b[0mr\u001b[0m\u001b[0;34m]\u001b[0m\u001b[0;34m*\u001b[0m\u001b[0;34m(\u001b[0m\u001b[0mLt\u001b[0m\u001b[0;34m)\u001b[0m\u001b[0;34m,\u001b[0m\u001b[0msysa\u001b[0m\u001b[0;34m=\u001b[0m\u001b[0mi_d\u001b[0m\u001b[0;34m,\u001b[0m\u001b[0msysb\u001b[0m\u001b[0;34m=\u001b[0m\u001b[0mnp\u001b[0m\u001b[0;34m.\u001b[0m\u001b[0mconcatenate\u001b[0m\u001b[0;34m(\u001b[0m\u001b[0;34m(\u001b[0m\u001b[0mi_b\u001b[0m\u001b[0;34m,\u001b[0m\u001b[0mi_c\u001b[0m\u001b[0;34m)\u001b[0m\u001b[0;34m)\u001b[0m\u001b[0;34m)\u001b[0m\u001b[0;34m\u001b[0m\u001b[0;34m\u001b[0m\u001b[0m\n",
      "\u001b[0;32m~/miniconda3/envs/py38/lib/python3.8/site-packages/quimb/calc.py\u001b[0m in \u001b[0;36mlogneg_subsys\u001b[0;34m(psi_abc, dims, sysa, sysb, approx_thresh, **approx_opts)\u001b[0m\n\u001b[1;32m    813\u001b[0m     \u001b[0;31m# check whether to use approx lanczos method\u001b[0m\u001b[0;34m\u001b[0m\u001b[0;34m\u001b[0m\u001b[0;34m\u001b[0m\u001b[0m\n\u001b[1;32m    814\u001b[0m     \u001b[0;32mif\u001b[0m \u001b[0;34m(\u001b[0m\u001b[0mapprox_thresh\u001b[0m \u001b[0;32mis\u001b[0m \u001b[0;32mnot\u001b[0m \u001b[0;32mNone\u001b[0m\u001b[0;34m)\u001b[0m \u001b[0;32mand\u001b[0m \u001b[0;34m(\u001b[0m\u001b[0msz_ab\u001b[0m \u001b[0;34m>=\u001b[0m \u001b[0mapprox_thresh\u001b[0m\u001b[0;34m)\u001b[0m\u001b[0;34m:\u001b[0m\u001b[0;34m\u001b[0m\u001b[0;34m\u001b[0m\u001b[0m\n\u001b[0;32m--> 815\u001b[0;31m         \u001b[0;32mreturn\u001b[0m \u001b[0mlogneg_subsys_approx\u001b[0m\u001b[0;34m(\u001b[0m\u001b[0mpsi_abc\u001b[0m\u001b[0;34m,\u001b[0m \u001b[0mdims\u001b[0m\u001b[0;34m,\u001b[0m \u001b[0msysa\u001b[0m\u001b[0;34m,\u001b[0m \u001b[0msysb\u001b[0m\u001b[0;34m,\u001b[0m \u001b[0;34m**\u001b[0m\u001b[0mapprox_opts\u001b[0m\u001b[0;34m)\u001b[0m\u001b[0;34m\u001b[0m\u001b[0;34m\u001b[0m\u001b[0m\n\u001b[0m\u001b[1;32m    816\u001b[0m \u001b[0;34m\u001b[0m\u001b[0m\n\u001b[1;32m    817\u001b[0m     \u001b[0mrho_ab\u001b[0m \u001b[0;34m=\u001b[0m \u001b[0mptr\u001b[0m\u001b[0;34m(\u001b[0m\u001b[0mpsi_abc\u001b[0m\u001b[0;34m,\u001b[0m \u001b[0mdims\u001b[0m\u001b[0;34m,\u001b[0m \u001b[0msysa\u001b[0m \u001b[0;34m+\u001b[0m \u001b[0msysb\u001b[0m\u001b[0;34m)\u001b[0m\u001b[0;34m\u001b[0m\u001b[0;34m\u001b[0m\u001b[0m\n",
      "\u001b[0;32m~/miniconda3/envs/py38/lib/python3.8/site-packages/quimb/linalg/approx_spectral.py\u001b[0m in \u001b[0;36mlogneg_subsys_approx\u001b[0;34m(psi_abc, dims, sysa, sysb, **kwargs)\u001b[0m\n\u001b[1;32m    814\u001b[0m         \u001b[0mSupplied\u001b[0m \u001b[0mto\u001b[0m \u001b[0;34m:\u001b[0m\u001b[0mfunc\u001b[0m\u001b[0;34m:\u001b[0m\u001b[0;31m`\u001b[0m\u001b[0mapprox_spectral_function\u001b[0m\u001b[0;31m`\u001b[0m\u001b[0;34m.\u001b[0m\u001b[0;34m\u001b[0m\u001b[0;34m\u001b[0m\u001b[0m\n\u001b[1;32m    815\u001b[0m     \"\"\"\n\u001b[0;32m--> 816\u001b[0;31m     \u001b[0mnrm\u001b[0m \u001b[0;34m=\u001b[0m \u001b[0mnorm_ppt_subsys_approx\u001b[0m\u001b[0;34m(\u001b[0m\u001b[0mpsi_abc\u001b[0m\u001b[0;34m,\u001b[0m \u001b[0mdims\u001b[0m\u001b[0;34m,\u001b[0m \u001b[0msysa\u001b[0m\u001b[0;34m,\u001b[0m \u001b[0msysb\u001b[0m\u001b[0;34m,\u001b[0m \u001b[0;34m**\u001b[0m\u001b[0mkwargs\u001b[0m\u001b[0;34m)\u001b[0m\u001b[0;34m\u001b[0m\u001b[0;34m\u001b[0m\u001b[0m\n\u001b[0m\u001b[1;32m    817\u001b[0m     \u001b[0;32mreturn\u001b[0m \u001b[0mmax\u001b[0m\u001b[0;34m(\u001b[0m\u001b[0;36m0.0\u001b[0m\u001b[0;34m,\u001b[0m \u001b[0mlog2\u001b[0m\u001b[0;34m(\u001b[0m\u001b[0mnrm\u001b[0m\u001b[0;34m)\u001b[0m\u001b[0;34m)\u001b[0m\u001b[0;34m\u001b[0m\u001b[0;34m\u001b[0m\u001b[0m\n\u001b[1;32m    818\u001b[0m \u001b[0;34m\u001b[0m\u001b[0m\n",
      "\u001b[0;32m~/miniconda3/envs/py38/lib/python3.8/site-packages/quimb/linalg/approx_spectral.py\u001b[0m in \u001b[0;36mnorm_ppt_subsys_approx\u001b[0;34m(psi_abc, dims, sysa, sysb, backend, **kwargs)\u001b[0m\n\u001b[1;32m    790\u001b[0m     \"\"\"Estimate the norm of the partial transpose of a pure state's subsystem.\n\u001b[1;32m    791\u001b[0m     \"\"\"\n\u001b[0;32m--> 792\u001b[0;31m     lo = lazy_ptr_ppt_linop(psi_abc, dims=dims, sysa=sysa,\n\u001b[0m\u001b[1;32m    793\u001b[0m                             sysb=sysb, backend=backend)\n\u001b[1;32m    794\u001b[0m     \u001b[0;32mreturn\u001b[0m \u001b[0mtr_abs_approx\u001b[0m\u001b[0;34m(\u001b[0m\u001b[0mlo\u001b[0m\u001b[0;34m,\u001b[0m \u001b[0;34m**\u001b[0m\u001b[0mkwargs\u001b[0m\u001b[0;34m)\u001b[0m\u001b[0;34m\u001b[0m\u001b[0;34m\u001b[0m\u001b[0m\n",
      "\u001b[0;32m~/miniconda3/envs/py38/lib/python3.8/site-packages/quimb/linalg/approx_spectral.py\u001b[0m in \u001b[0;36mlazy_ptr_ppt_linop\u001b[0;34m(psi_abc, dims, sysa, sysb, **linop_opts)\u001b[0m\n\u001b[1;32m    116\u001b[0m     \u001b[0msys_ab\u001b[0m \u001b[0;34m=\u001b[0m \u001b[0msorted\u001b[0m\u001b[0;34m(\u001b[0m\u001b[0msysa\u001b[0m \u001b[0;34m+\u001b[0m \u001b[0msysb\u001b[0m\u001b[0;34m)\u001b[0m\u001b[0;34m\u001b[0m\u001b[0;34m\u001b[0m\u001b[0m\n\u001b[1;32m    117\u001b[0m \u001b[0;34m\u001b[0m\u001b[0m\n\u001b[0;32m--> 118\u001b[0;31m     Kabc = Tensor(np.asarray(psi_abc).reshape(dims),\n\u001b[0m\u001b[1;32m    119\u001b[0m                   inds=[('kA{}' if i in sysa else 'kB{}' if i in sysb else\n\u001b[1;32m    120\u001b[0m                          'xC{}').format(i) for i in range(len(dims))])\n",
      "\u001b[0;32m~/miniconda3/envs/py38/lib/python3.8/site-packages/quimb/utils.py\u001b[0m in \u001b[0;36mfunction_that_will_raise\u001b[0;34m(*_, **__)\u001b[0m\n\u001b[1;32m     54\u001b[0m         \u001b[0;32mif\u001b[0m \u001b[0mextra_msg\u001b[0m \u001b[0;32mis\u001b[0m \u001b[0;32mnot\u001b[0m \u001b[0;32mNone\u001b[0m\u001b[0;34m:\u001b[0m\u001b[0;34m\u001b[0m\u001b[0;34m\u001b[0m\u001b[0m\n\u001b[1;32m     55\u001b[0m             \u001b[0merror_msg\u001b[0m \u001b[0;34m+=\u001b[0m \u001b[0mextra_msg\u001b[0m\u001b[0;34m\u001b[0m\u001b[0;34m\u001b[0m\u001b[0m\n\u001b[0;32m---> 56\u001b[0;31m         \u001b[0;32mraise\u001b[0m \u001b[0mImportError\u001b[0m\u001b[0;34m(\u001b[0m\u001b[0merror_msg\u001b[0m\u001b[0;34m)\u001b[0m\u001b[0;34m\u001b[0m\u001b[0;34m\u001b[0m\u001b[0m\n\u001b[0m\u001b[1;32m     57\u001b[0m \u001b[0;34m\u001b[0m\u001b[0m\n\u001b[1;32m     58\u001b[0m     \u001b[0;32mreturn\u001b[0m \u001b[0mfunction_that_will_raise\u001b[0m\u001b[0;34m\u001b[0m\u001b[0;34m\u001b[0m\u001b[0m\n",
      "\u001b[0;31mImportError\u001b[0m: The library [opt_einsum,autoray] is not installed. "
     ]
    }
   ],
   "source": [
    "Nrep=1\n",
    "r=2 # local Hilbert space dim\n",
    "\n",
    "La = 6 \n",
    "Lb = 6\n",
    "Lc = 6\n",
    "Ld = 3\n",
    "Lt = La+Lb+Lc+Ld\n",
    "\n",
    "i_a = range(La)\n",
    "i_b = range(La,La+Lb)\n",
    "i_c = range(La+Lb,La+Lb+Lc)\n",
    "i_d = range(La+Lb+Lc,Lt)\n",
    "\n",
    "ln_ab=np.zeros(Nrep)\n",
    "ln_ac=np.zeros(Nrep)\n",
    "ln_bc=np.zeros(Nrep)\n",
    "ln_ad=np.zeros(Nrep)\n",
    "ln_bd=np.zeros(Nrep)\n",
    "ln_cd=np.zeros(Nrep)\n",
    "ln_ab_d=np.zeros(Nrep)\n",
    "ln_ac_d=np.zeros(Nrep)\n",
    "ln_bc_d=np.zeros(Nrep)\n",
    "ln_ab_c=np.zeros(Nrep)\n",
    "\n",
    "mi_ab=np.zeros(Nrep)\n",
    "mi_ac=np.zeros(Nrep)\n",
    "mi_bc=np.zeros(Nrep)\n",
    "mi_ad=np.zeros(Nrep)\n",
    "mi_bd=np.zeros(Nrep)\n",
    "mi_cd=np.zeros(Nrep)\n",
    "mi_ab_d=np.zeros(Nrep)\n",
    "mi_ac_d=np.zeros(Nrep)\n",
    "mi_bc_d=np.zeros(Nrep)\n",
    "mi_ab_c=np.zeros(Nrep)\n",
    "ent_d=np.zeros(Nrep)\n",
    "\n",
    "for i_r in range(Nrep):\n",
    "    print(i_r,end=\"\\r\")\n",
    "    psi = rand_ket(r**Lt)\n",
    "#     psi = np.random.randn(r**Lt)+1j*np.random.randn(r**Lt)\n",
    "#     psi = normalize(psi)\n",
    "    \n",
    "    ln_ab[i_r]= logneg_subsys(psi,dims=[r]*(Lt),sysa=i_a,sysb=i_b)\n",
    "    ln_ac[i_r]= logneg_subsys(psi,dims=[r]*(Lt),sysa=i_a,sysb=i_c)\n",
    "    ln_bc[i_r]= logneg_subsys(psi,dims=[r]*(Lt),sysa=i_b,sysb=i_c)\n",
    "    ln_ad[i_r]= logneg_subsys(psi,dims=[r]*(Lt),sysa=i_d,sysb=i_a)\n",
    "    ln_bd[i_r]= logneg_subsys(psi,dims=[r]*(Lt),sysa=i_d,sysb=i_b)\n",
    "    ln_cd[i_r]= logneg_subsys(psi,dims=[r]*(Lt),sysa=i_d,sysb=i_c)\n",
    "    ln_ab_c[i_r]= logneg_subsys(psi,dims=[r]*(Lt),sysa=i_c,sysb=np.concatenate((i_a,i_b)))\n",
    "    ln_ab_d[i_r]= logneg_subsys(psi,dims=[r]*(Lt),sysa=i_d,sysb=np.concatenate((i_a,i_b)))\n",
    "    ln_bc_d[i_r]= logneg_subsys(psi,dims=[r]*(Lt),sysa=i_d,sysb=np.concatenate((i_b,i_c)))\n",
    "    ln_ac_d[i_r]= logneg_subsys(psi,dims=[r]*(Lt),sysa=i_d,sysb=np.concatenate((i_a,i_c)))\n",
    "\n",
    "    mi_ad[i_r]= mutinf_subsys(psi,dims=[r]*(Lt),sysa=i_d,sysb=i_a)\n",
    "    mi_bd[i_r]= mutinf_subsys(psi,dims=[r]*(Lt),sysa=i_d,sysb=i_b)\n",
    "    mi_cd[i_r]= mutinf_subsys(psi,dims=[r]*(Lt),sysa=i_d,sysb=i_c)\n",
    "    mi_ab_d[i_r]= mutinf_subsys(psi,dims=[r]*(Lt),sysa=i_d,sysb=np.concatenate((i_a,i_b)))\n",
    "    mi_bc_d[i_r]= mutinf_subsys(psi,dims=[r]*(Lt),sysa=i_d,sysb=np.concatenate((i_b,i_c)))\n",
    "    mi_ac_d[i_r]= mutinf_subsys(psi,dims=[r]*(Lt),sysa=i_d,sysb=np.concatenate((i_a,i_c)))\n",
    "   \n",
    "    ent_d[i_r] = entropy_subsys(psi,dims=[r]*(Lt),sysa=i_d)\n",
    "\n",
    "print(\"AB:\",np.mean(ln_ab),np.mean(mi_ab),np.mean(mi_ab)/2-np.mean(ln_ab))\n",
    "print(\"AC:\",np.mean(ln_ac),np.mean(mi_ac))\n",
    "print(\"AB-C:\",np.mean(ln_ab_c))\n",
    "# print(\"BC:\",np.mean(ln_bc),np.mean(mi_bc))\n",
    "print(\"D-one:\",np.mean(ln_ad),np.mean(ln_bd),np.mean(ln_cd))\n",
    "print(\"MI D-one:\",np.mean(mi_ad),np.mean(mi_bd),np.mean(mi_cd))\n",
    "print(\"D-two:\",np.mean(ln_ab_d),np.mean(ln_bc_d),np.mean(ln_ac_d))\n",
    "print(\"D:\", np.mean(ent_d))"
   ]
  },
  {
   "cell_type": "code",
   "execution_count": 106,
   "metadata": {},
   "outputs": [
    {
     "name": "stdout",
     "output_type": "stream",
     "text": [
      "AB: 0.0 0.0 0.0\n",
      "AC: 0.8615013060803606 0.0\n",
      "AB-C: 2.917438225293007\n",
      "D-one: 0.0 0.0 0.0\n",
      "D-two: 0.9407710462554771 0.9207185181054601 0.9460671073144041\n",
      "D: 0.998898786569263\n"
     ]
    }
   ],
   "source": [
    "print(\"AB:\",np.mean(ln_ab),np.mean(mi_ab),np.mean(mi_ab)/2-np.mean(ln_ab))\n",
    "print(\"AC:\",np.mean(ln_ac),np.mean(mi_ac))\n",
    "print(\"AB-C:\",np.mean(ln_ab_c))\n",
    "# print(\"BC:\",np.mean(ln_bc),np.mean(mi_bc))\n",
    "print(\"D-one:\",np.mean(ln_ad),np.mean(ln_bd),np.mean(ln_cd))\n",
    "print(\"D-two:\",np.mean(ln_ab_d),np.mean(ln_bc_d),np.mean(ln_ac_d))\n",
    "print(\"D:\", np.mean(ent_d))"
   ]
  },
  {
   "cell_type": "code",
   "execution_count": 85,
   "metadata": {},
   "outputs": [
    {
     "name": "stdout",
     "output_type": "stream",
     "text": [
      "1.0\n"
     ]
    }
   ],
   "source": [
    "L = 4\n",
    "psi = np.zeros(r**L)\n",
    "psi[0]=1\n",
    "psi[7]=1\n",
    "psi[11]=1\n",
    "psi[12]=-1\n",
    "psi = normalize(psi)\n",
    "ln_a= logneg_subsys(psi,dims=[r]*L,sysa=[2],sysb=[1,3])\n",
    "# mi_ab= mutinf_subsys(psi,dims=[r]*L,sysa=[0],sysb=[1,2])\n",
    "print(ln_a)\n",
    "# print(mi_ab)"
   ]
  },
  {
   "cell_type": "code",
   "execution_count": 105,
   "metadata": {},
   "outputs": [
    {
     "name": "stdout",
     "output_type": "stream",
     "text": [
      "0.0\n"
     ]
    }
   ],
   "source": [
    "L = 4\n",
    "psi = np.zeros(r**L)\n",
    "psi[0]=1\n",
    "psi[-1]=sqrt(2)\n",
    "# psi[2]=1\n",
    "# psi[4]=1\n",
    "# psi[8]=1\n",
    "psi = normalize(psi)\n",
    "ln_a= logneg_subsys(psi,dims=[r]*L,sysa=[0],sysb=[1,2])\n",
    "# mi_ab= mutinf_subsys(psi,dims=[r]*L,sysa=[0],sysb=[1,2])\n",
    "print(ln_a)\n",
    "# print(mi_ab)"
   ]
  },
  {
   "cell_type": "code",
   "execution_count": null,
   "metadata": {},
   "outputs": [],
   "source": []
  }
 ],
 "metadata": {
  "@webio": {
   "lastCommId": null,
   "lastKernelId": null
  },
  "kernelspec": {
   "display_name": "Python 3",
   "language": "python",
   "name": "python3"
  },
  "language_info": {
   "codemirror_mode": {
    "name": "ipython",
    "version": 3
   },
   "file_extension": ".py",
   "mimetype": "text/x-python",
   "name": "python",
   "nbconvert_exporter": "python",
   "pygments_lexer": "ipython3",
   "version": "3.8.6"
  }
 },
 "nbformat": 4,
 "nbformat_minor": 2
}
