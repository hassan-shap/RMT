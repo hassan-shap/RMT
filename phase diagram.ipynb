{
 "cells": [
  {
   "cell_type": "code",
   "execution_count": 2,
   "metadata": {},
   "outputs": [],
   "source": [
    "import numpy as np\n",
    "from math import pi, sqrt, tanh\n",
    "import matplotlib.pyplot as plt\n"
   ]
  },
  {
   "cell_type": "code",
   "execution_count": 18,
   "metadata": {},
   "outputs": [
    {
     "data": {
      "image/png": "[encoded data removed]",
      "text/plain": [
       "<Figure size 288x216 with 1 Axes>"
      ]
     },
     "metadata": {
      "needs_background": "light"
     },
     "output_type": "display_data"
    }
   ],
   "source": [
    "Ra=np.linspace(0.5,1,200)\n",
    "\n",
    "plt.figure(figsize=(4,3))\n",
    "plt.plot(1-1/(2*Ra),Ra)\n",
    "plt.plot(-(1-1/(2*Ra))+1,Ra)\n",
    "plt.xlim(0,1)\n",
    "plt.ylim(0,1)\n",
    "plt.yticks([0,0.5])\n",
    "plt.grid()\n",
    "plt.show()"
   ]
  },
  {
   "cell_type": "code",
   "execution_count": null,
   "metadata": {},
   "outputs": [],
   "source": [
    "Ra=np.linspace(0.5,1,200)\n",
    "\n",
    "plt.figure(figsize=(4,3))\n",
    "plt.plot(1-1/(2*Ra),Ra)\n",
    "plt.plot(-(1-1/(2*Ra))+1,Ra)\n",
    "plt.xlim(0,1)\n",
    "plt.ylim(0,1)\n",
    "plt.yticks([0,0.5])\n",
    "plt.grid()\n",
    "plt.show()"
   ]
  }
 ],
 "metadata": {
  "kernelspec": {
   "display_name": "Python 3",
   "language": "python",
   "name": "python3"
  },
  "language_info": {
   "codemirror_mode": {
    "name": "ipython",
    "version": 3
   },
   "file_extension": ".py",
   "mimetype": "text/x-python",
   "name": "python",
   "nbconvert_exporter": "python",
   "pygments_lexer": "ipython3",
   "version": "3.8.3"
  }
 },
 "nbformat": 4,
 "nbformat_minor": 4
}
