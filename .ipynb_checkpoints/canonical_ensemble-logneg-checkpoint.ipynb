{
 "cells": [
  {
   "cell_type": "code",
   "execution_count": 1,
   "metadata": {},
   "outputs": [],
   "source": [
    "import numpy as np\n",
    "import scipy as sp\n",
    "from math import pi, sqrt, tanh\n",
    "import matplotlib.pyplot as plt\n",
    "import time\n",
    "from ipywidgets import interact\n",
    "from os import path\n",
    "from scipy.integrate import quad, nquad\n",
    "from scipy.special import gamma"
   ]
  },
  {
   "cell_type": "code",
   "execution_count": 2,
   "metadata": {},
   "outputs": [],
   "source": [
    "# rescaled\n",
    "\n",
    "mu=2\n",
    "beta = 3\n",
    "r= lambda s: s/(2*pi**2)* np.sinh(2*pi*s)\n",
    "y= lambda s: np.exp(-beta*s**2/2) * 2**(1-2*mu) * np.abs(gamma(mu-0.5+ 1j*s))**2\n",
    "\n",
    "dz= lambda x: r(x)*y(x)\n",
    "zmax= 5\n",
    "Z1= nquad(dz, [[0, zmax]])[0]\n",
    "\n",
    "def integrand_re(z,a,b,R):\n",
    "    return np.real(r(z)*y(z)*(a+b*y(z)*R)/(1-(y(z)*R)**2) )\n",
    "\n",
    "def integrand_im(z,a,b,R):\n",
    "    return np.imag(r(z)*y(z)*(a+b*y(z)*R)/(1-(y(z)*R)**2) )\n",
    "#         return np.imag(r(z)*w(z)*(1+w(z)*R)/(La2**2-(w(z)*R)**2) )\n",
    "\n",
    "def Zn_calc(a,b,R):\n",
    "    '''Calculates Zn'''\n",
    "    options={'limit':20}\n",
    "    integral_re= nquad(integrand_re, [[0, zmax]], args=(a,b,R),opts=[options,options])[0]\n",
    "    integral_im= nquad(integrand_im, [[0, zmax]], args=(a,b,R),opts=[options,options])[0]\n",
    "    return integral_re+1j*integral_im\n"
   ]
  },
  {
   "cell_type": "code",
   "execution_count": 84,
   "metadata": {},
   "outputs": [
    {
     "name": "stdout",
     "output_type": "stream",
     "text": [
      "a = 0.00, b = 1.00 elapsed time = 11.63 sec\n"
     ]
    },
    {
     "data": {
      "image/png": "[encoded data removed]",
      "text/plain": [
       "<Figure size 432x288 with 1 Axes>"
      ]
     },
     "metadata": {
      "needs_background": "light"
     },
     "output_type": "display_data"
    }
   ],
   "source": [
    "Nb=10\n",
    "Na=30\n",
    "Na1=10 # note: Na1<Na/2\n",
    "Na2=Na-Na1\n",
    "a= 2**(Nb-Na2)\n",
    "b= 2**(Nb-Na2+Na1)\n",
    "\n",
    "#     Rlist_re= np.linspace(-10,8,30) \n",
    "Rlist_re= np.linspace(0,3,20)\n",
    "Rlist_re= np.concatenate((-Rlist_re,Rlist_re))\n",
    "Rlist_im= np.linspace(0.001,1,38)*30\n",
    "Rr,Ri=np.meshgrid(Rlist_re,Rlist_im)\n",
    "\n",
    "lmbda_list= np.zeros((len(Rlist_re),len(Rlist_im)), dtype=np.complex128)\n",
    "t_timer=time.time()\n",
    "for i_r in range(len(Rlist_re)):\n",
    "    Rr=Rlist_re[i_r]\n",
    "    for i_i in range(len(Rlist_im)):\n",
    "        Ri=Rlist_im[i_i]\n",
    "        lmbda_list[i_r,i_i]= 1/(1j*Ri+Rr)+Zn_calc(a,b,1j*Ri+Rr)\n",
    "#         lmbda_list[i_r,i_i]= 1/(1j*Ri+Rr)+integrand_re(z0,a,b,1j*Ri+Rr)+1j*integrand_re(z0,a,b,1j*Ri+Rr)\n",
    "\n",
    "elapsed = time.time() - t_timer\n",
    "print(\"a = %.2f, b = %.2f \" % (a,b) + \"elapsed time = %.2f \" % (elapsed) + \"sec\")\n",
    "inds= np.argwhere(np.abs(np.imag(lmbda_list))<2e-2)\n",
    "\n",
    "plt.plot(np.real(lmbda_list[inds[:,0],inds[:,1]]),Rlist_re[inds[:,0]],'o',markersize=2)\n",
    "plt.plot(np.real(lmbda_list[inds[:,0],inds[:,1]]),Rlist_im[inds[:,1]],'o',markersize=2)\n",
    "\n",
    "plt.grid()\n",
    "plt.show()"
   ]
  },
  {
   "cell_type": "code",
   "execution_count": 75,
   "metadata": {},
   "outputs": [
    {
     "data": {
      "image/png": "[encoded data removed]",
      "text/plain": [
       "<Figure size 345.6x259.2 with 1 Axes>"
      ]
     },
     "metadata": {
      "needs_background": "light"
     },
     "output_type": "display_data"
    },
    {
     "data": {
      "image/png": "[encoded data removed]",
      "text/plain": [
       "<Figure size 345.6x259.2 with 1 Axes>"
      ]
     },
     "metadata": {
      "needs_background": "light"
     },
     "output_type": "display_data"
    }
   ],
   "source": [
    "inds= np.argwhere(np.abs(np.imag(lmbda_list))<1e-3)\n",
    "\n",
    "plt.figure(figsize=(4.8,3.6))\n",
    "plt.plot(np.real(lmbda_list[inds[:,0],inds[:,1]]),Rlist_re[inds[:,0]],'o',markersize=2)\n",
    "plt.ylabel('Re R')\n",
    "plt.grid()\n",
    "plt.show()\n",
    "\n",
    "plt.figure(figsize=(4.8,3.6))\n",
    "plt.plot(np.real(lmbda_list[inds[:,0],inds[:,1]]),Rlist_im[inds[:,1]],'o',markersize=2)\n",
    "plt.grid()\n",
    "plt.ylabel('Im R')\n",
    "x0=5e-2\n",
    "# plt.xlim(-x0,x0)\n",
    "plt.show()\n",
    "# print(Rres_list)"
   ]
  },
  {
   "cell_type": "code",
   "execution_count": 202,
   "metadata": {},
   "outputs": [
    {
     "name": "stderr",
     "output_type": "stream",
     "text": [
      "/gscratch/home/hshapourian/miniconda3/lib/python3.8/site-packages/scipy/integrate/quadpack.py:880: IntegrationWarning: The maximum number of subdivisions (20) has been achieved.\n",
      "  If increasing the limit yields no improvement it is advised to analyze \n",
      "  the integrand in order to determine the difficulties.  If the position of a \n",
      "  local difficulty can be determined (singularity, discontinuity) one will \n",
      "  probably gain from splitting up the interval and calling the integrator \n",
      "  on the subranges.  Perhaps a special-purpose integrator should be used.\n",
      "  quad_r = quad(f, low, high, args=args, full_output=self.full_output,\n",
      "/gscratch/home/hshapourian/miniconda3/lib/python3.8/site-packages/scipy/integrate/quadpack.py:880: IntegrationWarning: The integral is probably divergent, or slowly convergent.\n",
      "  quad_r = quad(f, low, high, args=args, full_output=self.full_output,\n"
     ]
    }
   ],
   "source": [
    "# rescaled root solver\n",
    "# sweeping lambda\n",
    "\n",
    "from scipy.optimize import fsolve, fmin_cobyla, fmin,root\n",
    "\n",
    "Nb=8\n",
    "Na=30\n",
    "Na1=6 # note: Na1<Na/2\n",
    "Na2=Na-Na1\n",
    "a= 2**(Nb-Na2)\n",
    "b= 2**(Nb-Na2+Na1)\n",
    "z0=1.9\n",
    "l1=np.linspace(-1.1,1.1,40)*.02\n",
    "l2=np.linspace(-1.1,1.1,100)*.0001\n",
    "lmbda_list=np.sort(np.concatenate((l1,l2)))\n",
    "\n",
    "lmbda_res=np.zeros((len(lmbda_list),2))\n",
    "Rres_re= np.zeros(len(lmbda_list))\n",
    "Rres_im= np.zeros(len(lmbda_list))\n",
    "for i_l in range(len(lmbda_list)):\n",
    "#     print(i_l,end='\\r')\n",
    "\n",
    "    def function(x):\n",
    "        z=1/(x[0]+1j*x[1]) + Zn_calc(a,b,x[0]+1j*x[1])-lmbda_list[i_l]\n",
    "#         z=1/(x[0]+1j*x[1]) +integrand_re(z0,a,b,x[0]+1j*x[1])+1j*integrand_im(z0,a,b,x[0]+1j*x[1])-lmbda_list[i_l]\n",
    "        return np.array([np.real(z),np.imag(z)])\n",
    "    sol = root(function, np.array([0, 200]), method='hybr', jac = False)\n",
    "\n",
    "    Rres_re[i_l], Rres_im[i_l] =  sol.x\n",
    "    lmbda_res[i_l,:]= function(sol.x)\n"
   ]
  },
  {
   "cell_type": "code",
   "execution_count": 216,
   "metadata": {},
   "outputs": [
    {
     "name": "stdout",
     "output_type": "stream",
     "text": [
      "Normalization =  [1.31819068]\n",
      "trace =  [0.9078986]\n",
      "log neg =  [5.38713268]\n"
     ]
    },
    {
     "data": {
      "image/png": "[encoded data removed]",
      "text/plain": [
       "<Figure size 345.6x259.2 with 1 Axes>"
      ]
     },
     "metadata": {
      "needs_background": "light"
     },
     "output_type": "display_data"
    },
    {
     "data": {
      "image/png": "[encoded data removed]",
      "text/plain": [
       "<Figure size 345.6x259.2 with 1 Axes>"
      ]
     },
     "metadata": {
      "needs_background": "light"
     },
     "output_type": "display_data"
    }
   ],
   "source": [
    "inds= np.argwhere(np.abs(lmbda_res[:,1])<1e-4)\n",
    "\n",
    "num_eigs= np.trapz(np.abs(Rres_im[inds]),x=lmbda_list[inds],axis=0)/pi\n",
    "tr_rT= 2**(Na2-Nb)/Z1*np.trapz(np.abs(Rres_im[inds])*lmbda_list[inds],x=lmbda_list[inds],axis=0)/pi\n",
    "neg_val= 2**(Na2-Nb)/Z1*np.trapz(np.abs(Rres_im[inds])*np.abs(lmbda_list[inds]),x=lmbda_list[inds],axis=0)/pi\n",
    "print('Normalization = ' , num_eigs)\n",
    "print('trace = ' , tr_rT)\n",
    "print('log neg = ' , np.log2(neg_val))\n",
    "# print((a/b)/Z1*np.abs(Rres_im[inds]))\n",
    "# print(lmbda_list[inds]*Z1*b/a)\n",
    "\n",
    "plt.figure(figsize=(4.8,3.6))\n",
    "plt.plot(lmbda_list[inds],Rres_re[inds],'-',markersize=2)\n",
    "plt.ylabel('Re R')\n",
    "plt.xlabel('$\\lambda$')\n",
    "plt.grid()\n",
    "plt.show()\n",
    "\n",
    "plt.figure(figsize=(4.8,3.6))\n",
    "plt.semilogy(lmbda_list[inds],vec,'o-',markersize=2)\n",
    "# plt.semilogy(lmbda_list[inds],np.abs(Rres_im[inds]),'o-',markersize=2)\n",
    "# plt.plot(lmbda_list[inds]*Z1*b/a,(a/b)/Z1*np.abs(Rres_im[inds]),'-',markersize=2)\n",
    "x0=1e-3\n",
    "plt.ylabel('Im R')\n",
    "plt.xlabel('$\\lambda$')\n",
    "# plt.xlim(-x0,x0)\n",
    "# plt.ylim(-0.1,1)\n",
    "plt.grid()\n",
    "plt.show()\n",
    "\n",
    "# plt.figure(figsize=(4.8,3.6))\n",
    "# plt.plot(lmbda_list[inds],lmbda_res[inds,1],'o',markersize=2)\n",
    "# plt.ylabel('Im $\\lambda$')\n",
    "# plt.grid()\n",
    "# plt.show()\n"
   ]
  },
  {
   "cell_type": "code",
   "execution_count": 218,
   "metadata": {},
   "outputs": [
    {
     "name": "stdout",
     "output_type": "stream",
     "text": [
      "Normalization =  [1.31847152]\n",
      "trace =  [1.1793199]\n",
      "log neg =  [5.40366889]\n"
     ]
    }
   ],
   "source": [
    "# vec=np.abs(Rres_im[inds])\n",
    "# vec[3]=(vec[2]+vec[4])/2\n",
    "# vec[127]=(vec[126]+vec[128])/2\n",
    "\n",
    "num_eigs= np.trapz(np.abs(vec),x=lmbda_list[inds],axis=0)/pi\n",
    "tr_rT= 2**(Na2-Nb)/Z1*np.trapz(vec*lmbda_list[inds],x=lmbda_list[inds],axis=0)/pi\n",
    "neg_val= 2**(Na2-Nb)/Z1*np.trapz(vec*np.abs(lmbda_list[inds]),x=lmbda_list[inds],axis=0)/pi\n",
    "print('Normalization = ' , num_eigs)\n",
    "print('trace = ' , tr_rT)\n",
    "print('log neg = ' , np.log2(neg_val))\n"
   ]
  },
  {
   "cell_type": "code",
   "execution_count": 419,
   "metadata": {},
   "outputs": [
    {
     "name": "stderr",
     "output_type": "stream",
     "text": [
      "<ipython-input-419-a2c4371dab2b>:3: RuntimeWarning: divide by zero encountered in log2\n",
      "  plt.plot(xplot,np.log2(r(xplot)))\n"
     ]
    },
    {
     "data": {
      "image/png": "[encoded data removed]",
      "text/plain": [
       "<Figure size 432x288 with 1 Axes>"
      ]
     },
     "metadata": {
      "needs_background": "light"
     },
     "output_type": "display_data"
    }
   ],
   "source": [
    "# microcanonical ensemble rescaled\n",
    "\n",
    "Nb=4\n",
    "Na=30\n",
    "Na1=10\n",
    "Na2=Na-Na1\n",
    "a= 2**(Nb-Na2)\n",
    "b= 2**(Nb-Na2+Na1)\n",
    "\n",
    "\n",
    "#     Rlist_re= np.linspace(-10,8,30) \n",
    "# Rlist_re= np.linspace(0,80000,300)\n",
    "# Rlist_re= np.concatenate((-Rlist_re,Rlist_re))\n",
    "# Rlist_im= np.linspace(0.001,1,1000)*20000\n",
    "# Rr,Ri=np.meshgrid(Rlist_re,Rlist_im)\n",
    "\n",
    "\n",
    "Rlist_re= np.linspace(0,1,3000)*0.1\n",
    "Rlist_re= np.concatenate((-Rlist_re,Rlist_re))\n",
    "Rlist_im= np.linspace(0.001,1,1000)*0.1\n",
    "Rr,Ri=np.meshgrid(Rlist_re,Rlist_im)\n",
    "z0=1.9\n",
    "\n",
    "lmbda_list= 1/(1j*Ri+Rr) +integrand_re(z0,a,b,1j*Ri+Rr)+1j*integrand_im(z0,a,b,1j*Ri+Rr)\n",
    "\n",
    "inds= np.argwhere(np.abs(np.imag(lmbda_list))<1e-2)\n",
    "\n",
    "plt.figure(figsize=(4.8,3.6))\n",
    "plt.plot(np.real(lmbda_list[inds[:,0],inds[:,1]]),Rlist_re[inds[:,1]],'o',markersize=2)\n",
    "plt.ylabel('Re R')\n",
    "plt.grid()\n",
    "plt.show()\n",
    "\n",
    "plt.figure(figsize=(4.8,3.6))\n",
    "plt.plot(np.real(lmbda_list[inds[:,0],inds[:,1]]),Rlist_im[inds[:,0]],'o',markersize=2)\n",
    "x0=1e-3\n",
    "plt.ylabel('Im R')\n",
    "# plt.xlim(-x0,x0)\n",
    "# plt.xlim(-0.01,0.01)\n",
    "plt.grid()\n",
    "plt.show()\n"
   ]
  },
  {
   "cell_type": "code",
   "execution_count": 28,
   "metadata": {},
   "outputs": [
    {
     "name": "stdout",
     "output_type": "stream",
     "text": [
      "0\r",
      "1\r",
      "2\r",
      "3\r",
      "4\r",
      "5\r",
      "6\r",
      "7\r",
      "8\r",
      "9\r",
      "10\r",
      "11\r",
      "12\r",
      "13\r",
      "14\r",
      "15\r",
      "16\r",
      "17\r",
      "18\r",
      "19\r",
      "20\r",
      "21\r",
      "22\r",
      "23\r",
      "24\r",
      "25\r",
      "26\r",
      "27\r",
      "28\r",
      "29\r",
      "30\r",
      "31\r",
      "32\r",
      "33\r",
      "34\r",
      "35\r",
      "36\r",
      "37\r",
      "38\r",
      "39\r"
     ]
    }
   ],
   "source": [
    "# spectral density at zero\n",
    "# rescaled\n",
    "\n",
    "from scipy.optimize import fsolve, fmin_cobyla, fmin,root\n",
    "\n",
    "def constr1(x):\n",
    "    return x-0.1\n",
    "\n",
    "def neg_spec_finder(a,b,R,R_guess):\n",
    "    '''\n",
    "    b: LB LA2/LA1\n",
    "    a: LB/LA1\n",
    "    '''\n",
    "    lmin = lambda x: 1/(1j*x+R) + Zn_calc(a,b,1j*x+R)\n",
    "    lmin_im= lambda x: np.abs(np.imag(lmin(x)))\n",
    "    R_result= fmin_cobyla(lmin_im, R_guess, constr1)#, rhoend=1e-3)\n",
    "#     R_result= fmin(lmin_im, R_guess,disp=False)\n",
    "#     if lmin_im(R_result)<1e-1:\n",
    "    lmbda_list=np.real(lmin(R_result))\n",
    "    Rres_list=R_result\n",
    "    return lmbda_list,Rres_list\n",
    "\n",
    "Nb=4\n",
    "Na=30\n",
    "Na1_list=np.linspace(2,12,40) # note: Na1<Na/2\n",
    "# Na1_list=np.array([6.0])\n",
    "z0=1.9\n",
    "l0=0.01\n",
    "\n",
    "lmbda_0= np.zeros((len(Na1_list),2))\n",
    "Rres_re= np.zeros(len(Na1_list))\n",
    "Rres_im= np.zeros(len(Na1_list))\n",
    "for i_N in range(len(Na1_list)):\n",
    "    print(i_N,end='\\r')\n",
    "    Na1=Na1_list[i_N]\n",
    "    Na2=Na-Na1\n",
    "    a= 2**(Nb-Na2)\n",
    "    b= 2**(Nb-Na2+Na1)\n",
    "#     lmbda_0[i_N],Rres_0[i_N] = neg_spec_finder(a,b,R=0,R_guess=100)\n",
    "\n",
    "    def function(x):\n",
    "#         z=1/(x[0]+1j*x[1]) + Zn_calc(a,b,x[0]+1j*x[1])\n",
    "        z=1/(x[0]+1j*x[1]) +integrand_re(z0,a,b,x[0]+1j*x[1])+1j*integrand_im(z0,a,b,x[0]+1j*x[1])-l0\n",
    "        return np.array([np.real(z),np.imag(z)])\n",
    "    sol = root(function, np.array([0, 1]), method='hybr', jac = False)\n",
    "\n",
    "    Rres_re[i_N], Rres_im[i_N] =  sol.x\n",
    "    lmbda_0[i_N,:]= function(sol.x)+l0\n"
   ]
  },
  {
   "cell_type": "code",
   "execution_count": 29,
   "metadata": {},
   "outputs": [
    {
     "data": {
      "image/png": "[encoded data removed]",
      "text/plain": [
       "<Figure size 345.6x259.2 with 1 Axes>"
      ]
     },
     "metadata": {
      "needs_background": "light"
     },
     "output_type": "display_data"
    },
    {
     "data": {
      "image/png": "[encoded data removed]",
      "text/plain": [
       "<Figure size 345.6x259.2 with 1 Axes>"
      ]
     },
     "metadata": {
      "needs_background": "light"
     },
     "output_type": "display_data"
    }
   ],
   "source": [
    "plt.figure(figsize=(4.8,3.6))\n",
    "plt.plot(Na1_list,lmbda_0,'o',markersize=4)\n",
    "plt.ylabel(r'$\\xi$')\n",
    "plt.xlabel('$N_{A_1}$')\n",
    "plt.grid()\n",
    "plt.show()\n",
    "\n",
    "plt.figure(figsize=(4.8,3.6))\n",
    "plt.plot(Na1_list,(np.abs(Rres_im)),'o-',markersize=4)\n",
    "plt.plot(Na1_list,Rres_re,'o',markersize=4)\n",
    "plt.grid()\n",
    "plt.ylabel('$P_0$')\n",
    "plt.xlabel('$N_{A_1}$')\n",
    "# x0=5e-2\n",
    "# plt.xlim(-x0,x0)\n",
    "# plt.ylim(-.1,.2)\n",
    "plt.show()\n",
    "# print(Rres_list)"
   ]
  },
  {
   "cell_type": "code",
   "execution_count": 708,
   "metadata": {},
   "outputs": [
    {
     "name": "stdout",
     "output_type": "stream",
     "text": [
      "22\r"
     ]
    },
    {
     "name": "stderr",
     "output_type": "stream",
     "text": [
      "/gscratch/home/hshapourian/miniconda3/lib/python3.8/site-packages/scipy/integrate/quadpack.py:880: IntegrationWarning: The maximum number of subdivisions (20) has been achieved.\n",
      "  If increasing the limit yields no improvement it is advised to analyze \n",
      "  the integrand in order to determine the difficulties.  If the position of a \n",
      "  local difficulty can be determined (singularity, discontinuity) one will \n",
      "  probably gain from splitting up the interval and calling the integrator \n",
      "  on the subranges.  Perhaps a special-purpose integrator should be used.\n",
      "  quad_r = quad(f, low, high, args=args, full_output=self.full_output,\n"
     ]
    },
    {
     "name": "stdout",
     "output_type": "stream",
     "text": [
      "39\r"
     ]
    }
   ],
   "source": [
    "# spectral density at zero\n",
    "# rescaled\n",
    "\n",
    "from scipy.optimize import fsolve, fmin_cobyla, fmin\n",
    "def constr1(x):\n",
    "    return x-0.01\n",
    "\n",
    "def neg_spec_finder(a,b,R,R_guess):\n",
    "    '''\n",
    "    b: LB LA2/LA1\n",
    "    a: LB/LA1\n",
    "    '''\n",
    "    lmin = lambda x: 1/(1j*x+R) + Zn_calc(a,b,1j*x+R)\n",
    "    lmin_im= lambda x: np.abs(np.imag(lmin(x)))\n",
    "#     lmin_re= lambda x: np.abs(np.real(lmin(x)))\n",
    "    R_result= fmin_cobyla(lmin_im, R_guess, constr1)#, rhoend=1e-3)\n",
    "#     R_result= fmin(lmin_im, R_guess,disp=False)\n",
    "#     if lmin_im(R_result)<1e-1:\n",
    "    lmbda_list=np.imag(lmin(R_result))\n",
    "    Rres_list=R_result\n",
    "    return lmbda_list,Rres_list\n",
    "\n",
    "from scipy.optimize import fsolve,root\n",
    "\n",
    "\n",
    "Na=30\n",
    "Na1=8\n",
    "Na2=Na-Na1\n",
    "    \n",
    "Nb_list=np.linspace(20,30,40) \n",
    "Rres_im= np.zeros(len(Nb_list))\n",
    "Rres_re= np.zeros(len(Nb_list))\n",
    "# Rres_b0= np.zeros(len(Nb_list))\n",
    "lmbda_b0= np.zeros((len(Nb_list),2))\n",
    "for i_N in range(len(Nb_list)):\n",
    "    print(i_N,end='\\r')\n",
    "    Nb=Nb_list[i_N]\n",
    "    a= 2**(Nb-Na2)\n",
    "    b= 2**(Nb-Na2+Na1)\n",
    "#     def equations(p):\n",
    "#         x, y = p\n",
    "#         z=1/(x+1j*y) + Zn_calc(a,b,x+1j*y)\n",
    "#         return (np.real(z),np.imag(z))\n",
    "\n",
    "#     Rres_re[i_N], Rres_im[i_N] =  fsolve(equations, (0, 1000))\n",
    "    def function(x):\n",
    "        z=1/(x[0]+1j*x[1]) + Zn_calc(a,b,x[0]+1j*x[1])\n",
    "        return np.array([np.real(z),np.imag(z)])\n",
    "    sol = root(function, np.array([0, 100]), method='hybr', jac = False)\n",
    "\n",
    "    Rres_re[i_N], Rres_im[i_N] =  sol.x\n",
    "    lmbda_b0[i_N,:]= function(sol.x)\n",
    "#     lmbda_b0[i_N],Rres_b0[i_N] = neg_spec_finder(a,b,R=0.1,R_guess=100)"
   ]
  },
  {
   "cell_type": "code",
   "execution_count": 710,
   "metadata": {},
   "outputs": [
    {
     "data": {
      "image/png": "[encoded data removed]",
      "text/plain": [
       "<Figure size 345.6x259.2 with 1 Axes>"
      ]
     },
     "metadata": {
      "needs_background": "light"
     },
     "output_type": "display_data"
    },
    {
     "data": {
      "image/png": "[encoded data removed]",
      "text/plain": [
       "<Figure size 345.6x259.2 with 1 Axes>"
      ]
     },
     "metadata": {
      "needs_background": "light"
     },
     "output_type": "display_data"
    }
   ],
   "source": [
    "plt.figure(figsize=(4.8,3.6))\n",
    "plt.plot(Nb_list,lmbda_b0,'o',markersize=4)\n",
    "plt.ylabel(r'$\\xi$')\n",
    "plt.xlabel('$N_B$')\n",
    "# plt.ylim(-2,10)\n",
    "plt.grid()\n",
    "plt.show()\n",
    "\n",
    "plt.figure(figsize=(4.8,3.6))\n",
    "# plt.plot(Nb_list,Rres_b0,'o',markersize=4)\n",
    "# plt.plot(Nb_list,np.abs(Rres_im),'o-',markersize=4)\n",
    "plt.plot(Nb_list[1:],-np.diff(np.abs(Rres_im)),'o-',markersize=4)\n",
    "# plt.plot(Nb_list,Rres_re,'o',markersize=4)\n",
    "plt.grid()\n",
    "plt.ylabel('$P_0$')\n",
    "plt.xlabel('$N_B$')\n",
    "# x0=5e-2\n",
    "# plt.xlim(-x0,x0)\n",
    "plt.ylim(-1,1)\n",
    "plt.show()\n",
    "# print(Rres_list)"
   ]
  },
  {
   "cell_type": "code",
   "execution_count": 683,
   "metadata": {},
   "outputs": [
    {
     "name": "stdout",
     "output_type": "stream",
     "text": [
      "18\r"
     ]
    },
    {
     "name": "stderr",
     "output_type": "stream",
     "text": [
      "/gscratch/home/hshapourian/miniconda3/lib/python3.8/site-packages/scipy/integrate/quadpack.py:880: IntegrationWarning: The algorithm does not converge.  Roundoff error is detected\n",
      "  in the extrapolation table.  It is assumed that the requested tolerance\n",
      "  cannot be achieved, and that the returned result (if full_output = 1) is \n",
      "  the best which can be obtained.\n",
      "  quad_r = quad(f, low, high, args=args, full_output=self.full_output,\n"
     ]
    },
    {
     "name": "stdout",
     "output_type": "stream",
     "text": [
      "19\r"
     ]
    }
   ],
   "source": [
    "# phase diagram\n",
    "# by computing spectral density at zero\n",
    "# rescaled\n",
    "\n",
    "mu=2\n",
    "beta = 3\n",
    "r= lambda s: s/(2*pi**2)* np.sinh(2*pi*s)\n",
    "y= lambda s: np.exp(-beta*s**2/2) * 2**(1-2*mu) * np.abs(gamma(mu-0.5+ 1j*s))**2\n",
    "options={'limit':500}\n",
    "dz= lambda x: r(x)*y(x)\n",
    "zmax=5\n",
    "Z1_norm= nquad(dz, [[0, zmax]])[0]\n",
    "\n",
    "def integrand_re(z,a,b,R):\n",
    "    return np.real(r(z)*y(z)*(a+b*y(z)*R)/(1-(y(z)*R)**2) )\n",
    "\n",
    "def integrand_im(z,a,b,R):\n",
    "    return np.imag(r(z)*y(z)*(a+b*y(z)*R)/(1-(y(z)*R)**2) )\n",
    "\n",
    "def Zn_calc(a,b,R):\n",
    "    '''Calculates Zn'''\n",
    "    options={'limit':20}\n",
    "    integral_re= nquad(integrand_re, [[0, zmax]], args=(a,b,R),opts=[options,options])[0]\n",
    "    integral_im= nquad(integrand_im, [[0, zmax]], args=(a,b,R),opts=[options,options])[0]\n",
    "    return integral_re+1j*integral_im\n",
    "\n",
    "from scipy.optimize import fsolve, fmin_cobyla, fmin\n",
    "def constr1(x):\n",
    "    return x-0.01\n",
    "\n",
    "def neg_spec_finder(a,b,R,R_guess):\n",
    "    '''\n",
    "    b: LB LA2/LA1\n",
    "    a: LB/LA1\n",
    "    '''\n",
    "    lmin = lambda x: 1/(1j*x+R) + Zn_calc(a,b,1j*x+R)\n",
    "    lmin_im= lambda x: np.abs(np.imag(lmin(x)))\n",
    "    R_result= fmin_cobyla(lmin_im, R_guess, constr1)#, rhoend=1e-3)\n",
    "#     R_result= fmin(lmin_im, R_guess,disp=False)\n",
    "#     if lmin_im(R_result)<1e-1:\n",
    "    lmbda_list=np.real(lmin(R_result))\n",
    "    Rres_list=R_result\n",
    "    return lmbda_list,Rres_list\n",
    "\n",
    "Nb_list=np.linspace(2,28,20)\n",
    "Na=30\n",
    "Na1_list=np.linspace(2,15,12) # note: Na1<Na/2\n",
    "lmbda_0= np.zeros((len(Nb_list),len(Na1_list)))\n",
    "Rres_0= np.zeros((len(Nb_list),len(Na1_list)))\n",
    "for i_Nb in range(len(Nb_list)):\n",
    "    print(i_Nb,end='\\r')\n",
    "    Nb=Nb_list[i_Nb]\n",
    "    for i_Na in range(len(Na1_list)):\n",
    "        Na1=Na1_list[i_Na]\n",
    "        Na2=Na-Na1\n",
    "        a= 2**(Nb-Na2)\n",
    "        b= 2**(Nb-Na2+Na1)\n",
    "#         lmbda_0[i_Nb,i_Na],Rres_0[i_Nb,i_Na] = neg_spec_finder(a,b,R=0,R_guess=100)\n",
    "\n",
    "        def function(x):\n",
    "            z=1/(x[0]+1j*x[1]) + Zn_calc(a,b,x[0]+1j*x[1])\n",
    "            return np.array([np.real(z),np.imag(z)])\n",
    "        sol = root(function, np.array([0, 100]), method='hybr', jac = False)\n",
    "\n",
    "        _ , Rres_0[i_Nb,i_Na] =  sol.x\n",
    "        lmbda_0[i_Nb,i_Na]= function(sol.x)[0]\n"
   ]
  },
  {
   "cell_type": "code",
   "execution_count": 704,
   "metadata": {},
   "outputs": [
    {
     "ename": "TypeError",
     "evalue": "Dimensions of C (20, 12) are incompatible with X (12) and/or Y (40); see help(pcolor)",
     "output_type": "error",
     "traceback": [
      "\u001b[0;31m---------------------------------------------------------------------------\u001b[0m",
      "\u001b[0;31mTypeError\u001b[0m                                 Traceback (most recent call last)",
      "\u001b[0;32m<ipython-input-704-9d796fbe19bf>\u001b[0m in \u001b[0;36m<module>\u001b[0;34m\u001b[0m\n\u001b[1;32m      1\u001b[0m \u001b[0mf1\u001b[0m\u001b[0;34m=\u001b[0m\u001b[0mplt\u001b[0m\u001b[0;34m.\u001b[0m\u001b[0mfigure\u001b[0m\u001b[0;34m(\u001b[0m\u001b[0;34m)\u001b[0m\u001b[0;34m\u001b[0m\u001b[0;34m\u001b[0m\u001b[0m\n\u001b[0;32m----> 2\u001b[0;31m \u001b[0mpos\u001b[0m\u001b[0;34m=\u001b[0m\u001b[0mplt\u001b[0m\u001b[0;34m.\u001b[0m\u001b[0mpcolor\u001b[0m\u001b[0;34m(\u001b[0m\u001b[0mNa1_list\u001b[0m\u001b[0;34m,\u001b[0m\u001b[0mNb_list\u001b[0m\u001b[0;34m,\u001b[0m\u001b[0mnp\u001b[0m\u001b[0;34m.\u001b[0m\u001b[0mabs\u001b[0m\u001b[0;34m(\u001b[0m\u001b[0mRres_0\u001b[0m\u001b[0;34m)\u001b[0m\u001b[0;34m,\u001b[0m \u001b[0mcmap\u001b[0m\u001b[0;34m=\u001b[0m\u001b[0;34m'Reds'\u001b[0m\u001b[0;34m,\u001b[0m \u001b[0mvmin\u001b[0m\u001b[0;34m=\u001b[0m\u001b[0;36m0\u001b[0m\u001b[0;34m,\u001b[0m \u001b[0mvmax\u001b[0m\u001b[0;34m=\u001b[0m\u001b[0;36m400\u001b[0m\u001b[0;34m)\u001b[0m\u001b[0;34m\u001b[0m\u001b[0;34m\u001b[0m\u001b[0m\n\u001b[0m\u001b[1;32m      3\u001b[0m                              \u001b[0;31m#interpolation='none')\u001b[0m\u001b[0;34m\u001b[0m\u001b[0;34m\u001b[0m\u001b[0;34m\u001b[0m\u001b[0m\n\u001b[1;32m      4\u001b[0m \u001b[0mf1\u001b[0m\u001b[0;34m.\u001b[0m\u001b[0mcolorbar\u001b[0m\u001b[0;34m(\u001b[0m\u001b[0mpos\u001b[0m\u001b[0;34m)\u001b[0m\u001b[0;34m\u001b[0m\u001b[0;34m\u001b[0m\u001b[0m\n\u001b[1;32m      5\u001b[0m \u001b[0mplt\u001b[0m\u001b[0;34m.\u001b[0m\u001b[0mshow\u001b[0m\u001b[0;34m(\u001b[0m\u001b[0;34m)\u001b[0m\u001b[0;34m\u001b[0m\u001b[0;34m\u001b[0m\u001b[0m\n",
      "\u001b[0;32m~/miniconda3/lib/python3.8/site-packages/matplotlib/pyplot.py\u001b[0m in \u001b[0;36mpcolor\u001b[0;34m(shading, alpha, norm, cmap, vmin, vmax, data, *args, **kwargs)\u001b[0m\n\u001b[1;32m   2769\u001b[0m         \u001b[0;34m*\u001b[0m\u001b[0margs\u001b[0m\u001b[0;34m,\u001b[0m \u001b[0mshading\u001b[0m\u001b[0;34m=\u001b[0m\u001b[0;32mNone\u001b[0m\u001b[0;34m,\u001b[0m \u001b[0malpha\u001b[0m\u001b[0;34m=\u001b[0m\u001b[0;32mNone\u001b[0m\u001b[0;34m,\u001b[0m \u001b[0mnorm\u001b[0m\u001b[0;34m=\u001b[0m\u001b[0;32mNone\u001b[0m\u001b[0;34m,\u001b[0m \u001b[0mcmap\u001b[0m\u001b[0;34m=\u001b[0m\u001b[0;32mNone\u001b[0m\u001b[0;34m,\u001b[0m\u001b[0;34m\u001b[0m\u001b[0;34m\u001b[0m\u001b[0m\n\u001b[1;32m   2770\u001b[0m         vmin=None, vmax=None, data=None, **kwargs):\n\u001b[0;32m-> 2771\u001b[0;31m     __ret = gca().pcolor(\n\u001b[0m\u001b[1;32m   2772\u001b[0m         \u001b[0;34m*\u001b[0m\u001b[0margs\u001b[0m\u001b[0;34m,\u001b[0m \u001b[0mshading\u001b[0m\u001b[0;34m=\u001b[0m\u001b[0mshading\u001b[0m\u001b[0;34m,\u001b[0m \u001b[0malpha\u001b[0m\u001b[0;34m=\u001b[0m\u001b[0malpha\u001b[0m\u001b[0;34m,\u001b[0m \u001b[0mnorm\u001b[0m\u001b[0;34m=\u001b[0m\u001b[0mnorm\u001b[0m\u001b[0;34m,\u001b[0m \u001b[0mcmap\u001b[0m\u001b[0;34m=\u001b[0m\u001b[0mcmap\u001b[0m\u001b[0;34m,\u001b[0m\u001b[0;34m\u001b[0m\u001b[0;34m\u001b[0m\u001b[0m\n\u001b[1;32m   2773\u001b[0m         \u001b[0mvmin\u001b[0m\u001b[0;34m=\u001b[0m\u001b[0mvmin\u001b[0m\u001b[0;34m,\u001b[0m \u001b[0mvmax\u001b[0m\u001b[0;34m=\u001b[0m\u001b[0mvmax\u001b[0m\u001b[0;34m,\u001b[0m\u001b[0;34m\u001b[0m\u001b[0;34m\u001b[0m\u001b[0m\n",
      "\u001b[0;32m~/miniconda3/lib/python3.8/site-packages/matplotlib/__init__.py\u001b[0m in \u001b[0;36minner\u001b[0;34m(ax, data, *args, **kwargs)\u001b[0m\n\u001b[1;32m   1436\u001b[0m     \u001b[0;32mdef\u001b[0m \u001b[0minner\u001b[0m\u001b[0;34m(\u001b[0m\u001b[0max\u001b[0m\u001b[0;34m,\u001b[0m \u001b[0;34m*\u001b[0m\u001b[0margs\u001b[0m\u001b[0;34m,\u001b[0m \u001b[0mdata\u001b[0m\u001b[0;34m=\u001b[0m\u001b[0;32mNone\u001b[0m\u001b[0;34m,\u001b[0m \u001b[0;34m**\u001b[0m\u001b[0mkwargs\u001b[0m\u001b[0;34m)\u001b[0m\u001b[0;34m:\u001b[0m\u001b[0;34m\u001b[0m\u001b[0;34m\u001b[0m\u001b[0m\n\u001b[1;32m   1437\u001b[0m         \u001b[0;32mif\u001b[0m \u001b[0mdata\u001b[0m \u001b[0;32mis\u001b[0m \u001b[0;32mNone\u001b[0m\u001b[0;34m:\u001b[0m\u001b[0;34m\u001b[0m\u001b[0;34m\u001b[0m\u001b[0m\n\u001b[0;32m-> 1438\u001b[0;31m             \u001b[0;32mreturn\u001b[0m \u001b[0mfunc\u001b[0m\u001b[0;34m(\u001b[0m\u001b[0max\u001b[0m\u001b[0;34m,\u001b[0m \u001b[0;34m*\u001b[0m\u001b[0mmap\u001b[0m\u001b[0;34m(\u001b[0m\u001b[0msanitize_sequence\u001b[0m\u001b[0;34m,\u001b[0m \u001b[0margs\u001b[0m\u001b[0;34m)\u001b[0m\u001b[0;34m,\u001b[0m \u001b[0;34m**\u001b[0m\u001b[0mkwargs\u001b[0m\u001b[0;34m)\u001b[0m\u001b[0;34m\u001b[0m\u001b[0;34m\u001b[0m\u001b[0m\n\u001b[0m\u001b[1;32m   1439\u001b[0m \u001b[0;34m\u001b[0m\u001b[0m\n\u001b[1;32m   1440\u001b[0m         \u001b[0mbound\u001b[0m \u001b[0;34m=\u001b[0m \u001b[0mnew_sig\u001b[0m\u001b[0;34m.\u001b[0m\u001b[0mbind\u001b[0m\u001b[0;34m(\u001b[0m\u001b[0max\u001b[0m\u001b[0;34m,\u001b[0m \u001b[0;34m*\u001b[0m\u001b[0margs\u001b[0m\u001b[0;34m,\u001b[0m \u001b[0;34m**\u001b[0m\u001b[0mkwargs\u001b[0m\u001b[0;34m)\u001b[0m\u001b[0;34m\u001b[0m\u001b[0;34m\u001b[0m\u001b[0m\n",
      "\u001b[0;32m~/miniconda3/lib/python3.8/site-packages/matplotlib/axes/_axes.py\u001b[0m in \u001b[0;36mpcolor\u001b[0;34m(self, shading, alpha, norm, cmap, vmin, vmax, *args, **kwargs)\u001b[0m\n\u001b[1;32m   5808\u001b[0m             \u001b[0mshading\u001b[0m \u001b[0;34m=\u001b[0m \u001b[0mrcParams\u001b[0m\u001b[0;34m[\u001b[0m\u001b[0;34m'pcolor.shading'\u001b[0m\u001b[0;34m]\u001b[0m\u001b[0;34m\u001b[0m\u001b[0;34m\u001b[0m\u001b[0m\n\u001b[1;32m   5809\u001b[0m         \u001b[0mshading\u001b[0m \u001b[0;34m=\u001b[0m \u001b[0mshading\u001b[0m\u001b[0;34m.\u001b[0m\u001b[0mlower\u001b[0m\u001b[0;34m(\u001b[0m\u001b[0;34m)\u001b[0m\u001b[0;34m\u001b[0m\u001b[0;34m\u001b[0m\u001b[0m\n\u001b[0;32m-> 5810\u001b[0;31m         \u001b[0mX\u001b[0m\u001b[0;34m,\u001b[0m \u001b[0mY\u001b[0m\u001b[0;34m,\u001b[0m \u001b[0mC\u001b[0m\u001b[0;34m,\u001b[0m \u001b[0mshading\u001b[0m \u001b[0;34m=\u001b[0m \u001b[0mself\u001b[0m\u001b[0;34m.\u001b[0m\u001b[0m_pcolorargs\u001b[0m\u001b[0;34m(\u001b[0m\u001b[0;34m'pcolor'\u001b[0m\u001b[0;34m,\u001b[0m \u001b[0;34m*\u001b[0m\u001b[0margs\u001b[0m\u001b[0;34m,\u001b[0m \u001b[0mshading\u001b[0m\u001b[0;34m=\u001b[0m\u001b[0mshading\u001b[0m\u001b[0;34m)\u001b[0m\u001b[0;34m\u001b[0m\u001b[0;34m\u001b[0m\u001b[0m\n\u001b[0m\u001b[1;32m   5811\u001b[0m         \u001b[0mNy\u001b[0m\u001b[0;34m,\u001b[0m \u001b[0mNx\u001b[0m \u001b[0;34m=\u001b[0m \u001b[0mX\u001b[0m\u001b[0;34m.\u001b[0m\u001b[0mshape\u001b[0m\u001b[0;34m\u001b[0m\u001b[0;34m\u001b[0m\u001b[0m\n\u001b[1;32m   5812\u001b[0m \u001b[0;34m\u001b[0m\u001b[0m\n",
      "\u001b[0;32m~/miniconda3/lib/python3.8/site-packages/matplotlib/axes/_axes.py\u001b[0m in \u001b[0;36m_pcolorargs\u001b[0;34m(funcname, shading, *args)\u001b[0m\n\u001b[1;32m   5606\u001b[0m         \u001b[0;32mif\u001b[0m \u001b[0mshading\u001b[0m \u001b[0;34m==\u001b[0m \u001b[0;34m'flat'\u001b[0m\u001b[0;34m:\u001b[0m\u001b[0;34m\u001b[0m\u001b[0;34m\u001b[0m\u001b[0m\n\u001b[1;32m   5607\u001b[0m             \u001b[0;32mif\u001b[0m \u001b[0;32mnot\u001b[0m \u001b[0;34m(\u001b[0m\u001b[0mncols\u001b[0m \u001b[0;32min\u001b[0m \u001b[0;34m(\u001b[0m\u001b[0mNx\u001b[0m\u001b[0;34m,\u001b[0m \u001b[0mNx\u001b[0m \u001b[0;34m-\u001b[0m \u001b[0;36m1\u001b[0m\u001b[0;34m)\u001b[0m \u001b[0;32mand\u001b[0m \u001b[0mnrows\u001b[0m \u001b[0;32min\u001b[0m \u001b[0;34m(\u001b[0m\u001b[0mNy\u001b[0m\u001b[0;34m,\u001b[0m \u001b[0mNy\u001b[0m \u001b[0;34m-\u001b[0m \u001b[0;36m1\u001b[0m\u001b[0;34m)\u001b[0m\u001b[0;34m)\u001b[0m\u001b[0;34m:\u001b[0m\u001b[0;34m\u001b[0m\u001b[0;34m\u001b[0m\u001b[0m\n\u001b[0;32m-> 5608\u001b[0;31m                 raise TypeError('Dimensions of C %s are incompatible with'\n\u001b[0m\u001b[1;32m   5609\u001b[0m                                 ' X (%d) and/or Y (%d); see help(%s)' % (\n\u001b[1;32m   5610\u001b[0m                                     C.shape, Nx, Ny, funcname))\n",
      "\u001b[0;31mTypeError\u001b[0m: Dimensions of C (20, 12) are incompatible with X (12) and/or Y (40); see help(pcolor)"
     ]
    },
    {
     "data": {
      "image/png": "[encoded data removed]",
      "text/plain": [
       "<Figure size 432x288 with 1 Axes>"
      ]
     },
     "metadata": {
      "needs_background": "light"
     },
     "output_type": "display_data"
    }
   ],
   "source": [
    "f1=plt.figure()\n",
    "pos=plt.pcolor(Na1_list,Nb_list,np.abs(Rres_0), cmap='Reds', vmin=0, vmax=400)\n",
    "                             #interpolation='none')\n",
    "f1.colorbar(pos)\n",
    "plt.show()\n",
    "\n",
    "# f1=plt.figure()\n",
    "# pos=plt.pcolor(Na1_list,Nb_list,(lmbda_0), vmin=-0.1, vmax=0.1)\n",
    "#                              #interpolation='none')\n",
    "# f1.colorbar(pos)\n",
    "# plt.show()"
   ]
  },
  {
   "cell_type": "code",
   "execution_count": null,
   "metadata": {},
   "outputs": [],
   "source": []
  }
 ],
 "metadata": {
  "kernelspec": {
   "display_name": "Python 3",
   "language": "python",
   "name": "python3"
  },
  "language_info": {
   "codemirror_mode": {
    "name": "ipython",
    "version": 3
   },
   "file_extension": ".py",
   "mimetype": "text/x-python",
   "name": "python",
   "nbconvert_exporter": "python",
   "pygments_lexer": "ipython3",
   "version": "3.8.3"
  }
 },
 "nbformat": 4,
 "nbformat_minor": 4
}
