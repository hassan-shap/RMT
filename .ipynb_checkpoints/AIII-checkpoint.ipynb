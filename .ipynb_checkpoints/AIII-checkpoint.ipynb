{
 "cells": [
  {
   "cell_type": "code",
   "execution_count": 1,
   "metadata": {},
   "outputs": [],
   "source": [
    "import numpy as np\n",
    "from math import pi, sqrt, tanh\n",
    "import matplotlib.pyplot as plt\n",
    "# from quimb import *\n",
    "import time\n"
   ]
  },
  {
   "cell_type": "code",
   "execution_count": 101,
   "metadata": {},
   "outputs": [
    {
     "name": "stdout",
     "output_type": "stream",
     "text": [
      "Finished, elapsed time = 20.39 sec\n"
     ]
    }
   ],
   "source": [
    "Nrep=400\n",
    "\n",
    "Nc=400\n",
    "Nab=200\n",
    "\n",
    "neg=np.zeros(Nrep)\n",
    "v1=np.zeros(Nrep*(Nab+Nc))\n",
    "v2=np.zeros(Nrep*Nab)\n",
    "\n",
    "t_timer=time.time()\n",
    "# np.random.seed(1)\n",
    "\n",
    "for i_r in range(Nrep):\n",
    "    print(i_r, end='\\r')\n",
    "    #### no symmetry\n",
    "    X=np.random.randn(Nab,Nc)+1j*np.random.randn(Nab,Nc)\n",
    "    Xdag=np.matrix(X).H\n",
    "    mat=np.dot(X,Xdag)\n",
    "    normalization= np.trace(mat)\n",
    "    H0 = np.block([[ np.zeros((Nab,Nab)),  X],\\\n",
    "                   [Xdag ,np.zeros((Nc,Nc))]])\n",
    "    l1T=np.linalg.eigvalsh(H0)\n",
    "    v1[i_r*(Nab+Nc):(i_r+1)*(Nab+Nc)] = l1T/np.real(normalization**0.5)\n",
    "\n",
    "    v2[i_r*Nab:(i_r+1)*Nab] = np.linalg.eigvalsh(mat)/np.real(normalization)\n",
    "\n",
    "elapsed = time.time() - t_timer\n",
    "print(\"Finished, elapsed time = %.2f \" % (elapsed)+ \"sec\")"
   ]
  },
  {
   "cell_type": "code",
   "execution_count": 112,
   "metadata": {},
   "outputs": [
    {
     "data": {
      "image/png": "[encoded data removed]",
      "text/plain": [
       "<Figure size 432x288 with 1 Axes>"
      ]
     },
     "metadata": {
      "needs_background": "light"
     },
     "output_type": "display_data"
    }
   ],
   "source": [
    "num_bins = 50\n",
    "bin0= np.linspace(0,1,num_bins+1)\n",
    "bin1=np.concatenate((-bin0[-1:0],bin0))\n",
    "\n",
    "plt.figure()\n",
    "n, bin_edges = np.histogram(v1, bins=bin1)\n",
    "bins_center1= (bin_edges[0:num_bins]+ bin_edges[1:])/2\n",
    "n1= n/np.sum(n)/(bin_edges[1]-bin_edges[0])\n",
    "# plt.plot(bins_center1,n1,'o-',markersize=2)\n",
    "plt.plot(bins_center1**2,n1/bins_center1*(2*Nc/(Nc+Nab)),'o-',markersize=2)\n",
    "\n",
    "bin0= np.linspace(0,1,num_bins+1)\n",
    "n, bin_edges = np.histogram(v2, bins=bin0**2)\n",
    "bins_center2= (bin_edges[0:num_bins]+ bin_edges[1:])/2\n",
    "n2= n/np.sum(n)/(bin_edges[1]-bin_edges[0])\n",
    "plt.plot(bins_center2,n2,'o-',markersize=2)\n",
    "\n",
    "# plt.legend()\n",
    "plt.ylim(0,100)\n",
    "plt.xlim()\n",
    "plt.show()\n"
   ]
  },
  {
   "cell_type": "code",
   "execution_count": null,
   "metadata": {},
   "outputs": [],
   "source": []
  }
 ],
 "metadata": {
  "kernelspec": {
   "display_name": "Python 3",
   "language": "python",
   "name": "python3"
  },
  "language_info": {
   "codemirror_mode": {
    "name": "ipython",
    "version": 3
   },
   "file_extension": ".py",
   "mimetype": "text/x-python",
   "name": "python",
   "nbconvert_exporter": "python",
   "pygments_lexer": "ipython3",
   "version": "3.8.3"
  }
 },
 "nbformat": 4,
 "nbformat_minor": 4
}
