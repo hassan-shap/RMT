{
 "cells": [
  {
   "cell_type": "code",
   "execution_count": 93,
   "metadata": {},
   "outputs": [],
   "source": [
    "import numpy as np\n",
    "import scipy as sp\n",
    "import scipy.io\n",
    "import mmap\n",
    "from math import pi, sqrt, tanh\n",
    "import matplotlib.pyplot as plt\n",
    "import time\n",
    "from ipywidgets import interact\n",
    "from os import path\n",
    "from quimb import *"
   ]
  },
  {
   "cell_type": "code",
   "execution_count": 94,
   "metadata": {},
   "outputs": [],
   "source": [
    "from scipy.integrate import quad, nquad\n",
    "\n",
    "def Gz(z,a,b):\n",
    "    '''Direct solution to G(z), faster but has numerical instability for large V\n",
    "    a=  Lb/L2\n",
    "    b=  Lb*L1/L2\n",
    "    '''\n",
    "    a2= (b-1)/z +1j*0\n",
    "    a1= (a-z)/z +1j*0\n",
    "    a0= 1/z +1j*0\n",
    "    Q= (3*a1-a2**2)/9 +1j*0\n",
    "    R= (9*a2*a1-27*a0-2*a2**3)/54 +1j*0\n",
    "    D= Q**3 + R**2 +1j*0\n",
    "    S= (R+D**0.5 +1j*0)**(1/3)\n",
    "    T= (R-D**0.5 +1j*0)**(1/3)\n",
    "    z4= -a2/3 + (1-1j*sqrt(3))*Q/S/2-(1+1j*sqrt(3))/2*S\n",
    "    return np.abs(np.imag(z4))\n",
    "\n",
    "def integrand(z, a, b):\n",
    "    return Gz(z,a,b)*np.abs(z)\n",
    "\n",
    "def neg_calc(a,b):\n",
    "    '''Calculates logneg by \\int P(z)|z| dz\n",
    "    where P(z) is spectral density'''\n",
    "    options={'limit':500}\n",
    "    integral= nquad(integrand, [[-np.inf, np.inf]], args=(a, b),opts=[options,options])[0]\n",
    "    return integral\n"
   ]
  },
  {
   "cell_type": "code",
   "execution_count": 138,
   "metadata": {},
   "outputs": [],
   "source": [
    "r=2\n",
    "scratch = 'spin_data/'\n",
    "wf_dir = 'spin_wf/'\n",
    "\n",
    "def wf_reader(L,Na,dN,integrable):\n",
    "#     if L==10:\n",
    "#         st_num =50\n",
    "#     elif L==18:\n",
    "#         st_num = 7300\n",
    "\n",
    "    Nb = L-Na\n",
    "    dims_a = [r] * Na\n",
    "    dims = [r] * L\n",
    "    N = prod(dims)\n",
    "    neg_q=np.zeros((int(Na/2)+1,2*dN))\n",
    "\n",
    "    if integrable==True:\n",
    "        fname=scratch+ \"Z2_L%d_integrable_P0.txt\" % (L) # newest Z3 afm\n",
    "    else:\n",
    "        fname=scratch+ \"Z2_L%d_chaotic_P0.txt\" % (L) # newest Z3 afm\n",
    "\n",
    "    fname_read=open(fname)\n",
    "    fname_ptr=mmap.mmap(fname_read.fileno(), 0, access=mmap.ACCESS_READ)\n",
    "\n",
    "    lst=r**np.arange(L-1,-1,-1)\n",
    "\n",
    "    BOFbasis=b\"Basis:\"\n",
    "    B1=fname_ptr.find(BOFbasis)+1\n",
    "    EOFbasis=b\"}\"\n",
    "    Eb=fname_ptr.find(EOFbasis)-20\n",
    "    \n",
    "    s=(fname_ptr[B1+8:Eb+19]) \n",
    "    s=s.replace(b'> |', b'')\n",
    "    s=s.replace(b'|', b'')\n",
    "    s=s.replace(b'+ translations', b'')        \n",
    "    s=s.replace(b'>', b'')\n",
    "    s=s.replace(b']', b'')\n",
    "    s=s.replace(b'*', b'')\n",
    "    vec_list=s.split(b'\\n')\n",
    "\n",
    "    vec_txt=b\"Eigenvector# 0:\"\n",
    "    va1=fname_ptr.find(vec_txt)\n",
    "    va2=va1+fname_ptr[va1:].find(b'[')\n",
    "    va3=va2+fname_ptr[va2:].find(b']')\n",
    "\n",
    "    gs_wf = list(map(float,fname_ptr[va2+1:va3].split(b\",\")))\n",
    "    vec_size=len(gs_wf)\n",
    "    print('No. of states:', vec_size)\n",
    "    states=np.arange(vec_size/2-dN,vec_size/2+dN)\n",
    "\n",
    "    t_timer=time.time()\n",
    "\n",
    "    for i_s in range(len(states)):\n",
    "        st_num=states[i_s]\n",
    "        print('state #%d was read' % (st_num))\n",
    "        vec_txt=b\"Eigenvector# %d:\" % (st_num)\n",
    "        va1=fname_ptr.find(vec_txt)\n",
    "        va2=va1+fname_ptr[va1:].find(b'[')\n",
    "        va3=va2+fname_ptr[va2:].find(b']')\n",
    "\n",
    "        t_timer=time.time()\n",
    "\n",
    "        gs_wf = list(map(float,fname_ptr[va2+1:va3].split(b\",\")))\n",
    "\n",
    "        evec_ind=np.zeros((r**L,),dtype=bool)\n",
    "        psi=np.zeros((r**L,),dtype=float)\n",
    "        \n",
    "        for ic in range(0,vec_size):\n",
    "\n",
    "            i_left=vec_list[ic][:].find(b'[')\n",
    "            coef=float(vec_list[ic][0:i_left])        \n",
    "            vec_r=np.array(list(map(int, vec_list[ic][i_left+1:i_left+(2*L)+1].split())))\n",
    "            i1=np.sum(vec_r*lst)\n",
    "            while evec_ind[i1]==False:\n",
    "                evec_ind[i1]=True\n",
    "                vec_r=np.roll(vec_r,-1)\n",
    "                i1=np.sum(vec_r*lst)\n",
    "                psi[i1]=gs_wf[ic]*coef\n",
    "\n",
    "        for i_n in range(int(Na/2)):\n",
    "            print(i_n, end='\\r')\n",
    "            Na1= i_n+1\n",
    "            Na2= Na-i_n-1\n",
    "            neg_q[i_n+1,i_s]=logneg_subsys(psi, dims=dims, sysa=np.arange(Na1), sysb=np.arange(Na1,Na))\n",
    "\n",
    "        elapsed = time.time() - t_timer\n",
    "        print(\"Finished, elapsed time =\", elapsed, \"sec\")\n",
    "    return neg_q\n",
    "#     print(evec_gs[0:3])\n",
    "##print evec_ind\n",
    "#\n",
    "#scipy.io.savemat(wf_dir+'Z%d_L_%d_t_%.2f_trans.mat' % (r,L,t), {'gs_wf': evec_gs})\n",
    "#scipy.io.savemat(wf_dir+'Z%d_AFM_L_%d_t_%.2f_trans.mat' % (r,L,t), {'gs_wf': evec_gs})\n",
    "# np.savetxt(wf_dir+'Z%d_L_%d_t_%.2f_trans.txt' % (r,L,t),evec_gs)"
   ]
  },
  {
   "cell_type": "code",
   "execution_count": null,
   "metadata": {},
   "outputs": [
    {
     "name": "stdout",
     "output_type": "stream",
     "text": [
      "No. of states: 14602\n",
      "state #7298 was read\n",
      "1\r"
     ]
    }
   ],
   "source": [
    "L=18\n",
    "dN=3\n",
    "Na=12\n",
    "Nb = L-Na\n",
    "\n",
    "neg_q= wf_reader(L,Na,dN,integrable=False)\n",
    "neg_q0= wf_reader(L,Na,dN,integrable=True)\n",
    "\n",
    "R12_list=np.linspace(0.0,0.499,101)\n",
    "logneg=np.zeros(len(R12_list))\n",
    "for i_1 in range(len(R12_list)-1):\n",
    "    R12=R12_list[i_1+1]\n",
    "    Lb= r**Nb\n",
    "    L1= r**(R12*Na)\n",
    "    L2= r**((1-R12)*Na)\n",
    "\n",
    "    a = Lb/L2 +1j*0\n",
    "    b = Lb/L2*L1 +1j*0\n",
    "    logneg[i_1+1]=np.log2(neg_calc(a,b)*(L2*L1)/pi/(L1*Lb))"
   ]
  },
  {
   "cell_type": "code",
   "execution_count": 136,
   "metadata": {},
   "outputs": [
    {
     "name": "stderr",
     "output_type": "stream",
     "text": [
      "No handles with labels found to put in legend.\n"
     ]
    },
    {
     "data": {
      "image/png": "[encoded data removed]",
      "text/plain": [
       "<Figure size 345.6x259.2 with 1 Axes>"
      ]
     },
     "metadata": {
      "needs_background": "light"
     },
     "output_type": "display_data"
    }
   ],
   "source": [
    "plt.figure(figsize=(4.8,3.6))\n",
    "fsize=9\n",
    "plt.rcParams.update({'font.size': fsize})\n",
    "\n",
    "# plt.plot(R12_list*Na,logneg,'k--')\n",
    "# plt.plot((0.5+R12_list[::-1])*Na,logneg,'k--',label='RMT')\n",
    "\n",
    "# logneg_q_avg=np.log2(2*np.mean(neg_q,axis=1)+1)\n",
    "logneg_q_avg= np.mean(neg_q,axis=1)\n",
    "# logneg_q0_avg= np.mean(neg_q0,axis=1)\n",
    "\n",
    "msize=5\n",
    "# plt.plot(np.arange(0,int(Na)/2), logneg_q_avg[0:5], 'bo', markersize=msize,label='chaotic')\n",
    "# plt.plot(int(Na)/2+np.arange(0,int(Na)/2+1), logneg_q_avg[::-1], 'bo', markersize=msize)\n",
    "plt.plot(np.arange(0,int(Na)/2+1), neg_q, 'o')\n",
    "plt.plot(np.arange(0,int(Na)/2+1), neg_q0, 'x')\n",
    "\n",
    "# plt.plot(np.arange(0,int(Na)/2), logneg_q0_avg[0:5], 'ro', marker='v', markersize=msize,label='integrable')\n",
    "# plt.plot(int(Na)/2+np.arange(0,int(Na)/2+1), logneg_q0_avg[::-1], 'ro',marker='v' , markersize=msize)\n",
    "\n",
    "# yplot= np.array([0, 0.8482, 1.2754, 1.5003, 1.5529, 1.5628, 1.5530, 1.5002, 1.2753, 0.8481, 0.0000])/np.log(2)\n",
    "# yplot=[0, 0.9632, 1.8613, 2.5124, 2.6872, 2.7209, 2.6874, 2.5123, 1.8609, 0.9631, 0.0000]\n",
    "# plt.plot(np.arange(0,11), yplot, 'rx',label='J')\n",
    "\n",
    "# plt.title('$N_A$=%d' % (Na))\n",
    "plt.xlabel(r'$N_{A_1}$',fontsize = fsize+5)\n",
    "plt.ylabel(r'${\\cal E}_{A_1:A_2}$',fontsize = fsize+6)\n",
    "\n",
    "# plt.ylim(0,5.)\n",
    "# plt.xlim(0,int(Lab)/2+1)\n",
    "plt.legend(fontsize=fsize,handlelength=1.5,loc='lower center')\n",
    "plt.tight_layout()\n",
    "# plt.savefig('figs/spin_chain_Na_%d_Nb_%d.pdf' % (Na,Nb))\n",
    "plt.show()"
   ]
  },
  {
   "cell_type": "code",
   "execution_count": 128,
   "metadata": {},
   "outputs": [
    {
     "data": {
      "text/plain": [
       "array([0.        , 0.9642286 , 1.86619548, 2.52782015, 2.70085236,\n",
       "       2.74999738, 2.76154238])"
      ]
     },
     "execution_count": 128,
     "metadata": {},
     "output_type": "execute_result"
    }
   ],
   "source": [
    "neg_q"
   ]
  },
  {
   "cell_type": "code",
   "execution_count": null,
   "metadata": {},
   "outputs": [],
   "source": []
  }
 ],
 "metadata": {
  "kernelspec": {
   "display_name": "Python 3",
   "language": "python",
   "name": "python3"
  },
  "language_info": {
   "codemirror_mode": {
    "name": "ipython",
    "version": 3
   },
   "file_extension": ".py",
   "mimetype": "text/x-python",
   "name": "python",
   "nbconvert_exporter": "python",
   "pygments_lexer": "ipython3",
   "version": "3.8.3"
  }
 },
 "nbformat": 4,
 "nbformat_minor": 4
}
