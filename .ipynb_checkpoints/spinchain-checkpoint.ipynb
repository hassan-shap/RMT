{
 "cells": [
  {
   "cell_type": "code",
   "execution_count": 3,
   "metadata": {},
   "outputs": [],
   "source": [
    "import numpy as np\n",
    "import scipy\n",
    "from math import pi, sqrt, tanh\n",
    "import matplotlib.pyplot as plt\n",
    "import time\n",
    "from os import path\n"
   ]
  },
  {
   "cell_type": "code",
   "execution_count": 4,
   "metadata": {},
   "outputs": [],
   "source": [
    "from scipy.integrate import quad, nquad\n",
    "\n",
    "def Gz(z,a,b):\n",
    "    '''Direct solution to G(z), faster but has numerical instability for large V\n",
    "    a=  Lb/L2\n",
    "    b=  Lb*L1/L2\n",
    "    '''\n",
    "    a2= (b-1)/z +1j*0\n",
    "    a1= (a-z)/z +1j*0\n",
    "    a0= 1/z +1j*0\n",
    "    Q= (3*a1-a2**2)/9 +1j*0\n",
    "    R= (9*a2*a1-27*a0-2*a2**3)/54 +1j*0\n",
    "    D= Q**3 + R**2 +1j*0\n",
    "    S= (R+D**0.5 +1j*0)**(1/3)\n",
    "    T= (R-D**0.5 +1j*0)**(1/3)\n",
    "    z4= -a2/3 + (1-1j*sqrt(3))*Q/S/2-(1+1j*sqrt(3))/2*S\n",
    "    return np.abs(np.imag(z4))\n",
    "\n",
    "def integrand(z, a, b):\n",
    "    return Gz(z,a,b)*np.abs(z)\n",
    "\n",
    "def neg_calc(a,b):\n",
    "    '''Calculates logneg by \\int P(z)|z| dz\n",
    "    where P(z) is spectral density'''\n",
    "    options={'limit':500}\n",
    "    integral= nquad(integrand, [[-np.inf, np.inf]], args=(a, b),opts=[options,options])[0]\n",
    "    return integral\n"
   ]
  },
  {
   "cell_type": "code",
   "execution_count": 5,
   "metadata": {},
   "outputs": [],
   "source": [
    "import itertools\n",
    "from operator import add\n",
    "from quimb import *\n",
    "import quimb\n",
    "\n",
    "r=2 # local Hilbert space dim\n",
    "\n",
    "def ham_chain(L, g=1.0, h=0.0, cyclic=True,\n",
    "                sparse=True):\n",
    "\n",
    "# g=0\n",
    "# h=0\n",
    "# cyclic=True\n",
    "# m= 4\n",
    "    dims = [r] * L  # shape (n, m)\n",
    "\n",
    "    # generate tuple of all site coordinates\n",
    "    # sites = tuple(itertools.product(range(n)))\n",
    "    sites= tuple(range(L))\n",
    "    # print(sites)\n",
    "\n",
    "    # generate neighbouring pairs of coordinates\n",
    "    def gen_pairs():\n",
    "        for i in sites:\n",
    "    #         print(i)\n",
    "            right = (i + 1) % L \n",
    "            # ignore wraparound coordinates if not cyclic\n",
    "            if cyclic or right != 0:\n",
    "                yield (i, right)\n",
    "\n",
    "    # generate all pairs of coordinates and directions\n",
    "    pairs_ss = tuple(gen_pairs())\n",
    "    # pairs_ss = tuple(itertools.product(gen_pairs(), 'xyz'))\n",
    "    print(pairs_ss)\n",
    "#     print(sites)\n",
    "\n",
    "    # make XX, YY and ZZ interaction from pair_s\n",
    "    #     e.g. arg ([(3, 4), (3, 5)], 'z')\n",
    "    def interactions(pair):\n",
    "        Sz = spin_operator('z', sparse=True)\n",
    "        return ikron([2*Sz, 2*Sz], dims, inds=pair)\n",
    "\n",
    "    # function to make Z field at ``site``\n",
    "    def fields(site):\n",
    "        Sx = spin_operator('x', sparse=True)\n",
    "        Sz = spin_operator('z', sparse=True)\n",
    "        return ikron(g * 2*Sx+ h * 2*Sz, dims, inds=[site])\n",
    "\n",
    "    # combine all terms\n",
    "    all_terms = itertools.chain(map(interactions, pairs_ss),\n",
    "                                map(fields, sites))\n",
    "    H = sum(all_terms)\n",
    "\n",
    "    # can improve speed of e.g. eigensolving if known to be real\n",
    "    if isreal(H):\n",
    "        H = H.real\n",
    "\n",
    "    if not sparse:\n",
    "        H = qarray(H.A)\n",
    "    else:\n",
    "        H= quimb.core.sparse_matrix(H)\n",
    "\n",
    "    return H\n"
   ]
  },
  {
   "cell_type": "code",
   "execution_count": 6,
   "metadata": {},
   "outputs": [
    {
     "name": "stdout",
     "output_type": "stream",
     "text": [
      "((0, 1), (1, 2), (2, 3), (3, 4), (4, 5), (5, 6), (6, 7), (7, 8), (8, 9), (9, 10), (10, 11), (11, 12), (12, 13), (13, 0))\n",
      "CPU times: user 84.9 ms, sys: 448 ms, total: 532 ms\n",
      "Wall time: 530 ms\n",
      "CPU times: user 24min 9s, sys: 16.6 s, total: 24min 25s\n",
      "Wall time: 2min 2s\n",
      "((0, 1), (1, 2), (2, 3), (3, 4), (4, 5), (5, 6), (6, 7), (7, 8), (8, 9), (9, 10), (10, 11), (11, 12), (12, 13), (13, 0))\n",
      "CPU times: user 1.16 s, sys: 539 ms, total: 1.7 s\n",
      "Wall time: 529 ms\n",
      "CPU times: user 23min 22s, sys: 15.6 s, total: 23min 37s\n",
      "Wall time: 1min 58s\n"
     ]
    }
   ],
   "source": [
    "L =14\n",
    "# integrable\n",
    "%time H0 = ham_chain(L=L, g=1.05, h=0, cyclic=True,sparse=False)\n",
    "%time ge0, es0= np.linalg.eigh(H0)\n",
    "\n",
    "# chaotic\n",
    "%time H1 = ham_chain(L=L, g=1.05, h=0.5, cyclic=True,sparse=False)\n",
    "%time ge, es= np.linalg.eigh(H1)"
   ]
  },
  {
   "cell_type": "code",
   "execution_count": 13,
   "metadata": {},
   "outputs": [
    {
     "name": "stdout",
     "output_type": "stream",
     "text": [
      "[ 0.00610493  0.00610493 -0.02337439 -0.02337439 -0.04009637 -0.04009637\n",
      " -0.04945896 -0.04945896]\n",
      "(1024, 8)\n"
     ]
    }
   ],
   "source": [
    "print(ge)\n",
    "print(es.shape)\n",
    "# print(H1.shape)"
   ]
  },
  {
   "cell_type": "code",
   "execution_count": null,
   "metadata": {},
   "outputs": [],
   "source": []
  },
  {
   "cell_type": "code",
   "execution_count": 7,
   "metadata": {},
   "outputs": [
    {
     "name": "stdout",
     "output_type": "stream",
     "text": [
      "0\n",
      "1\n",
      "2\n",
      "3\n",
      "4\n",
      "5\n",
      "6\n",
      "7\n",
      "8\n",
      "9\n",
      "10\n",
      "11\n",
      "12\n",
      "13\n",
      "14\n",
      "15\n",
      "16\n",
      "17\n",
      "18\n",
      "19\n",
      "Finished, quimb elapsed time = 24.11 sec\n"
     ]
    }
   ],
   "source": [
    "dN=10\n",
    "Na=10\n",
    "Nb = L-Na\n",
    "states=np.arange(2**(L-1)-dN,2**(L-1)+dN)\n",
    "\n",
    "neg_q=np.zeros((int(Na/2)+1,len(states)))\n",
    "neg_q0=np.zeros((int(Na/2)+1,len(states)))\n",
    "\n",
    "dims_a = [r] * Na\n",
    "dims = [r] * L\n",
    "N = prod(dims)\n",
    "\n",
    "t_timer=time.time()\n",
    "for i_s in range(len(states)):\n",
    "    print(i_s)#, end='\\r')\n",
    "    st_num= states[i_s]\n",
    "    psi = es[:,st_num]\n",
    "    psi0 = es0[:,st_num]\n",
    "\n",
    "    for i_n in range(int(Na/2)):\n",
    "        print(i_n, end='\\r')\n",
    "        Na1= i_n+1\n",
    "        Na2= Na-i_n-1\n",
    "#         neg_q[i_n+1,i_s]=negativity_subsys_approx(psi, dims=dims, sysa=np.arange(Na1), sysb=np.arange(Na1,Na))\n",
    "        neg_q[i_n+1,i_s]=logneg_subsys(psi, dims=dims, sysa=np.arange(Na1), sysb=np.arange(Na1,Na))\n",
    "        neg_q0[i_n+1,i_s]=logneg_subsys(psi0, dims=dims, sysa=np.arange(Na1), sysb=np.arange(Na1,Na))\n",
    "    \n",
    "elapsed = time.time() - t_timer\n",
    "print(\"Finished, quimb elapsed time = %.2f \" % (elapsed)+ \"sec\")\n",
    "\n",
    "# f1= 'LN_r_%d_NA_%d_NB_%d.npz' % (r,Lab,Lc)\n",
    "# out_dir = 'LN_figs/' \n",
    "# fname = out_dir+f1\n",
    "# np.savez(fname, logneg=neg_q)\n",
    "# print(neg_q)\n",
    "\n",
    "R12_list=np.linspace(0.0,0.499,101)\n",
    "logneg=np.zeros(len(R12_list))\n",
    "for i_1 in range(len(R12_list)-1):\n",
    "    R12=R12_list[i_1+1]\n",
    "    Lb= r**Nb\n",
    "    L1= r**(R12*Na)\n",
    "    L2= r**((1-R12)*Na)\n",
    "\n",
    "    a = Lb/L2 +1j*0\n",
    "    b = Lb/L2*L1 +1j*0\n",
    "    logneg[i_1+1]=np.log2(neg_calc(a,b)*(L2*L1)/pi/(L1*Lb))\n"
   ]
  },
  {
   "cell_type": "code",
   "execution_count": 14,
   "metadata": {},
   "outputs": [
    {
     "data": {
      "image/png": "[encoded data removed]",
      "text/plain": [
       "<Figure size 345.6x259.2 with 1 Axes>"
      ]
     },
     "metadata": {
      "needs_background": "light"
     },
     "output_type": "display_data"
    }
   ],
   "source": [
    "# f1= 'LN_r_%d_NA_%d_NB_%d.npz' % (r,Lab,Lc)\n",
    "# fname = out_dir+f1\n",
    "# if path.exists(fname):\n",
    "#     npzfile = np.load(fname)\n",
    "#     neg_q=npzfile['logneg']\n",
    "#     print('Averaged over %d reps' % (np.size(neg_q,1)))\n",
    "\n",
    "\n",
    "plt.figure(figsize=(4.8,3.6))\n",
    "fsize=9\n",
    "plt.rcParams.update({'font.size': fsize})\n",
    "\n",
    "plt.plot(R12_list*Na,logneg,'k--')\n",
    "plt.plot((0.5+R12_list[::-1])*Na,logneg,'k--',label='RMT')\n",
    "\n",
    "# logneg_q_avg=np.log2(2*np.mean(neg_q,axis=1)+1)\n",
    "logneg_q_avg= np.mean(neg_q,axis=1)\n",
    "logneg_q0_avg= np.mean(neg_q0,axis=1)\n",
    "\n",
    "msize=6\n",
    "plt.plot(np.arange(0,int(Na)/2+1), logneg_q_avg, markersize=msize, 'bo',label='chaotic')\n",
    "plt.plot(int(Na)/2+np.arange(0,int(Na)/2+1), logneg_q_avg[::-1], markersize=msize, 'bo')\n",
    "\n",
    "plt.plot(np.arange(0,int(Na)/2+1), logneg_q0_avg, markersize=msize, 'ro',label='integrable')\n",
    "plt.plot(int(Na)/2+np.arange(0,int(Na)/2+1), logneg_q0_avg[::-1], markersize=msize, 'ro')\n",
    "\n",
    "# yplot= np.array([0, 0.8482, 1.2754, 1.5003, 1.5529, 1.5628, 1.5530, 1.5002, 1.2753, 0.8481, 0.0000])/np.log(2)\n",
    "yplot=[0, 0.9632, 1.8613, 2.5124, 2.6872, 2.7209, 2.6874, 2.5123, 1.8609, 0.9631, 0.0000]\n",
    "# plt.plot(np.arange(0,11), yplot, 'rx',label='J')\n",
    "\n",
    "# plt.title('$N_A$=%d' % (Na))\n",
    "plt.xlabel(r'$N_{A_1}$',fontsize = fsize+2)\n",
    "plt.ylabel(r'${\\cal E}_{A_1:A_2}$',fontsize = fsize+4)\n",
    "\n",
    "# plt.ylim(0,5.)\n",
    "# plt.xlim(0,int(Lab)/2+1)\n",
    "plt.legend(fontsize=fsize,handlelength=0.8,loc='lower center')\n",
    "plt.tight_layout()\n",
    "plt.savefig('figs/spin_chain_Na_%d_Nb_%d.pdf' % (Na,Nb))\n",
    "plt.show()"
   ]
  },
  {
   "cell_type": "code",
   "execution_count": null,
   "metadata": {},
   "outputs": [],
   "source": [
    "print(neg_q)"
   ]
  },
  {
   "cell_type": "code",
   "execution_count": null,
   "metadata": {},
   "outputs": [],
   "source": []
  }
 ],
 "metadata": {
  "kernelspec": {
   "display_name": "Python 3",
   "language": "python",
   "name": "python3"
  },
  "language_info": {
   "codemirror_mode": {
    "name": "ipython",
    "version": 3
   },
   "file_extension": ".py",
   "mimetype": "text/x-python",
   "name": "python",
   "nbconvert_exporter": "python",
   "pygments_lexer": "ipython3",
   "version": "3.8.3"
  }
 },
 "nbformat": 4,
 "nbformat_minor": 4
}
