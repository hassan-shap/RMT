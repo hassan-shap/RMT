{
 "cells": [
  {
   "cell_type": "markdown",
   "metadata": {},
   "source": [
    "# $$\n",
    "\\text{Symmetry protected entanglement}\n",
    "$$\n",
    "\n",
    "$$\n",
    "\\text{Hassan Shapourian} \n",
    "\\\\\n",
    "05/29/2020\n",
    "\\\\ \n",
    "\\\\ \n",
    "\\\\ \n",
    "\\\\ \n",
    "$$\n",
    "\n",
    "\n",
    "\n",
    "\n"
   ]
  },
  {
   "cell_type": "markdown",
   "metadata": {},
   "source": [
    "\n",
    "\n",
    "## I. Separability condition\n",
    "\n",
    "\\begin{equation}\n",
    "\\rho= \\sum_i p_i\\ \\rho_i^{(1)} \\otimes \\rho_i^{(2)}\n",
    "\\end{equation}"
   ]
  },
  {
   "cell_type": "markdown",
   "metadata": {},
   "source": [
    "\n",
    "\n",
    "\n",
    "## II. Symmetry constraints\n",
    "\n",
    "$$\n",
    "\\rho= \\sum_i p_i\\ \\rho_i^{(1)} \\otimes \\rho_i^{(2)}\n",
    "$$"
   ]
  },
  {
   "cell_type": "code",
   "execution_count": null,
   "metadata": {},
   "outputs": [],
   "source": []
  }
 ],
 "metadata": {
  "kernelspec": {
   "display_name": "Python 3",
   "language": "python",
   "name": "python3"
  },
  "language_info": {
   "codemirror_mode": {
    "name": "ipython",
    "version": 3
   },
   "file_extension": ".py",
   "mimetype": "text/x-python",
   "name": "python",
   "nbconvert_exporter": "python",
   "pygments_lexer": "ipython3",
   "version": "3.7.3"
  }
 },
 "nbformat": 4,
 "nbformat_minor": 2
}
