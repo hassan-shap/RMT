{
 "cells": [
  {
   "cell_type": "code",
   "execution_count": 1,
   "metadata": {},
   "outputs": [],
   "source": [
    "import numpy as np\n",
    "import scipy as sp\n",
    "from math import pi, sqrt, tanh\n",
    "import matplotlib.pyplot as plt\n",
    "import time\n",
    "from ipywidgets import interact\n",
    "from os import path\n",
    "from scipy.integrate import quad, nquad\n",
    "from scipy.special import gamma\n",
    "from scipy.optimize import fsolve\n",
    "from os import path\n"
   ]
  },
  {
   "cell_type": "code",
   "execution_count": 145,
   "metadata": {},
   "outputs": [],
   "source": [
    "# rescaled\n",
    "\n",
    "mu=10\n",
    "beta = 3\n",
    "r= lambda s: s/(2*pi**2)* np.sinh(2*pi*s)\n",
    "y= lambda s: np.exp(-beta*s**2/2) * 2**(1-2*mu) * np.abs(gamma(mu-0.5+ 1j*s))**2\n",
    "\n",
    "dz= lambda x: r(x)*y(x)\n",
    "zmax= 5\n",
    "Z1= nquad(dz, [[0, zmax]])[0]\n",
    "\n",
    "def integrand_re(z,R):\n",
    "    return np.real(r(z)*y(z)/(1-y(z)*R))\n",
    "\n",
    "def integrand_im(z,R):\n",
    "    return np.imag(r(z)*y(z)/(1-y(z)*R))\n",
    "\n",
    "\n",
    "def Zn_calc(R):\n",
    "    '''Calculates Zn'''\n",
    "    options={'limit':20}\n",
    "    integral_re= nquad(integrand_re, [[0, zmax]], args=(R,),opts=[options,options])[0]\n",
    "    integral_im= nquad(integrand_im, [[0, zmax]], args=(R,),opts=[options,options])[0]\n",
    "    return integral_re+1j*integral_im\n",
    "\n"
   ]
  },
  {
   "cell_type": "code",
   "execution_count": 3,
   "metadata": {},
   "outputs": [
    {
     "name": "stderr",
     "output_type": "stream",
     "text": [
      "/gscratch/home/hshapourian/miniconda3/lib/python3.8/site-packages/scipy/integrate/quadpack.py:880: IntegrationWarning: The maximum number of subdivisions (20) has been achieved.\n",
      "  If increasing the limit yields no improvement it is advised to analyze \n",
      "  the integrand in order to determine the difficulties.  If the position of a \n",
      "  local difficulty can be determined (singularity, discontinuity) one will \n",
      "  probably gain from splitting up the interval and calling the integrator \n",
      "  on the subranges.  Perhaps a special-purpose integrator should be used.\n",
      "  quad_r = quad(f, low, high, args=args, full_output=self.full_output,\n"
     ]
    },
    {
     "name": "stdout",
     "output_type": "stream",
     "text": [
      "k/eS0 = 4.00 elapsed time = 6.86 sec\n"
     ]
    },
    {
     "data": {
      "image/png": "[encoded data removed]",
      "text/plain": [
       "<Figure size 432x288 with 1 Axes>"
      ]
     },
     "metadata": {
      "needs_background": "light"
     },
     "output_type": "display_data"
    }
   ],
   "source": [
    "\n",
    "qlist=[4]\n",
    "\n",
    "plt.figure()\n",
    "\n",
    "for q in qlist:\n",
    "#     Rlist_re= np.linspace(-10,8,30) \n",
    "    Rlist_re= np.linspace(-100,40,30)\n",
    "    Rlist_im= np.linspace(0.01,120,40)\n",
    "    \n",
    "    t_timer=time.time()\n",
    "\n",
    "    lmbda_list= np.zeros((len(Rlist_re),len(Rlist_im)), dtype=np.complex128)\n",
    "    for i_r in range(len(Rlist_re)):\n",
    "        Rr=Rlist_re[i_r]\n",
    "        for i_i in range(len(Rlist_im)):\n",
    "            Ri=Rlist_im[i_i]\n",
    "            lmbda_list[i_r,i_i]= 1/(1j*Ri+Rr)+Zn_calc(1j*Ri+Rr)*q\n",
    "\n",
    "    elapsed = time.time() - t_timer\n",
    "    print(\"q = %.2f \" % (q) + \"elapsed time = %.2f \" % (elapsed) + \"sec\")\n",
    "    inds= np.argwhere(np.abs(np.imag(lmbda_list))<2e-2)\n",
    "        \n",
    "    plt.plot(np.real(lmbda_list[inds[:,0],inds[:,1]]),Rlist_re[inds[:,0]],'o',markersize=2)\n",
    "    plt.plot(np.real(lmbda_list[inds[:,0],inds[:,1]]),Rlist_im[inds[:,1]],'o',markersize=2)\n",
    "    # plt.ylim(-2e3,8e3)\n",
    "#     plt.xlim(0.9,1.1)\n",
    "#     plt.ylim(0,4e3)\n",
    "\n",
    "plt.grid()\n",
    "plt.show()"
   ]
  },
  {
   "cell_type": "code",
   "execution_count": 18,
   "metadata": {},
   "outputs": [
    {
     "ename": "IndexError",
     "evalue": "index 1 is out of bounds for axis 1 with size 1",
     "output_type": "error",
     "traceback": [
      "\u001b[0;31m---------------------------------------------------------------------------\u001b[0m",
      "\u001b[0;31mIndexError\u001b[0m                                Traceback (most recent call last)",
      "\u001b[0;32m<ipython-input-18-da01053d3c67>\u001b[0m in \u001b[0;36m<module>\u001b[0;34m\u001b[0m\n\u001b[1;32m      3\u001b[0m \u001b[0;31m# plt.plot(kdS/Z1*np.real(lmbda_list[inds[:,0],inds[:,1]]),Rlist_re[inds[:,0]],'o',markersize=2)\u001b[0m\u001b[0;34m\u001b[0m\u001b[0;34m\u001b[0m\u001b[0;34m\u001b[0m\u001b[0m\n\u001b[1;32m      4\u001b[0m \u001b[0;31m# plt.plot(kdS/Z1*np.real(lmbda_list[inds[:,0],inds[:,1]]),Rlist_im[inds[:,1]],'o',markersize=2)\u001b[0m\u001b[0;34m\u001b[0m\u001b[0;34m\u001b[0m\u001b[0;34m\u001b[0m\u001b[0m\n\u001b[0;32m----> 5\u001b[0;31m \u001b[0mplt\u001b[0m\u001b[0;34m.\u001b[0m\u001b[0mplot\u001b[0m\u001b[0;34m(\u001b[0m\u001b[0mnp\u001b[0m\u001b[0;34m.\u001b[0m\u001b[0mreal\u001b[0m\u001b[0;34m(\u001b[0m\u001b[0mlmbda_list\u001b[0m\u001b[0;34m[\u001b[0m\u001b[0minds\u001b[0m\u001b[0;34m[\u001b[0m\u001b[0;34m:\u001b[0m\u001b[0;34m,\u001b[0m\u001b[0;36m0\u001b[0m\u001b[0;34m]\u001b[0m\u001b[0;34m,\u001b[0m\u001b[0minds\u001b[0m\u001b[0;34m[\u001b[0m\u001b[0;34m:\u001b[0m\u001b[0;34m,\u001b[0m\u001b[0;36m1\u001b[0m\u001b[0;34m]\u001b[0m\u001b[0;34m]\u001b[0m\u001b[0;34m)\u001b[0m\u001b[0;34m,\u001b[0m\u001b[0mRlist_re\u001b[0m\u001b[0;34m[\u001b[0m\u001b[0minds\u001b[0m\u001b[0;34m[\u001b[0m\u001b[0;34m:\u001b[0m\u001b[0;34m,\u001b[0m\u001b[0;36m0\u001b[0m\u001b[0;34m]\u001b[0m\u001b[0;34m]\u001b[0m\u001b[0;34m,\u001b[0m\u001b[0;34m'o'\u001b[0m\u001b[0;34m,\u001b[0m\u001b[0mmarkersize\u001b[0m\u001b[0;34m=\u001b[0m\u001b[0;36m2\u001b[0m\u001b[0;34m)\u001b[0m\u001b[0;34m\u001b[0m\u001b[0;34m\u001b[0m\u001b[0m\n\u001b[0m\u001b[1;32m      6\u001b[0m \u001b[0mplt\u001b[0m\u001b[0;34m.\u001b[0m\u001b[0mplot\u001b[0m\u001b[0;34m(\u001b[0m\u001b[0mnp\u001b[0m\u001b[0;34m.\u001b[0m\u001b[0mreal\u001b[0m\u001b[0;34m(\u001b[0m\u001b[0mlmbda_list\u001b[0m\u001b[0;34m[\u001b[0m\u001b[0minds\u001b[0m\u001b[0;34m[\u001b[0m\u001b[0;34m:\u001b[0m\u001b[0;34m,\u001b[0m\u001b[0;36m0\u001b[0m\u001b[0;34m]\u001b[0m\u001b[0;34m,\u001b[0m\u001b[0minds\u001b[0m\u001b[0;34m[\u001b[0m\u001b[0;34m:\u001b[0m\u001b[0;34m,\u001b[0m\u001b[0;36m1\u001b[0m\u001b[0;34m]\u001b[0m\u001b[0;34m]\u001b[0m\u001b[0;34m)\u001b[0m\u001b[0;34m,\u001b[0m\u001b[0mRlist_im\u001b[0m\u001b[0;34m[\u001b[0m\u001b[0minds\u001b[0m\u001b[0;34m[\u001b[0m\u001b[0;34m:\u001b[0m\u001b[0;34m,\u001b[0m\u001b[0;36m1\u001b[0m\u001b[0;34m]\u001b[0m\u001b[0;34m]\u001b[0m\u001b[0;34m,\u001b[0m\u001b[0;34m'o'\u001b[0m\u001b[0;34m,\u001b[0m\u001b[0mmarkersize\u001b[0m\u001b[0;34m=\u001b[0m\u001b[0;36m2\u001b[0m\u001b[0;34m)\u001b[0m\u001b[0;34m\u001b[0m\u001b[0;34m\u001b[0m\u001b[0m\n\u001b[1;32m      7\u001b[0m \u001b[0mplt\u001b[0m\u001b[0;34m.\u001b[0m\u001b[0mgrid\u001b[0m\u001b[0;34m(\u001b[0m\u001b[0;34m)\u001b[0m\u001b[0;34m\u001b[0m\u001b[0;34m\u001b[0m\u001b[0m\n",
      "\u001b[0;31mIndexError\u001b[0m: index 1 is out of bounds for axis 1 with size 1"
     ]
    },
    {
     "data": {
      "text/plain": [
       "<Figure size 432x288 with 0 Axes>"
      ]
     },
     "metadata": {},
     "output_type": "display_data"
    }
   ],
   "source": [
    "plt.figure()\n",
    "inds= np.argwhere(np.abs(np.imag(lmbda_list))<1e-3)\n",
    "# plt.plot(kdS/Z1*np.real(lmbda_list[inds[:,0],inds[:,1]]),Rlist_re[inds[:,0]],'o',markersize=2)\n",
    "# plt.plot(kdS/Z1*np.real(lmbda_list[inds[:,0],inds[:,1]]),Rlist_im[inds[:,1]],'o',markersize=2)\n",
    "plt.plot(np.real(lmbda_list[inds[:,0],inds[:,1]]),Rlist_re[inds[:,0]],'o',markersize=2)\n",
    "plt.plot(np.real(lmbda_list[inds[:,0],inds[:,1]]),Rlist_im[inds[:,1]],'o',markersize=2)\n",
    "plt.grid()\n",
    "plt.xlim(0.05,0.2)\n",
    "plt.show()\n",
    "# print(Rres_list)"
   ]
  },
  {
   "cell_type": "code",
   "execution_count": 104,
   "metadata": {},
   "outputs": [
    {
     "name": "stderr",
     "output_type": "stream",
     "text": [
      "/gscratch/home/hshapourian/miniconda3/lib/python3.8/site-packages/scipy/integrate/quadpack.py:880: IntegrationWarning: The maximum number of subdivisions (20) has been achieved.\n",
      "  If increasing the limit yields no improvement it is advised to analyze \n",
      "  the integrand in order to determine the difficulties.  If the position of a \n",
      "  local difficulty can be determined (singularity, discontinuity) one will \n",
      "  probably gain from splitting up the interval and calling the integrator \n",
      "  on the subranges.  Perhaps a special-purpose integrator should be used.\n",
      "  quad_r = quad(f, low, high, args=args, full_output=self.full_output,\n"
     ]
    }
   ],
   "source": [
    "# rescaled solver\n",
    "\n",
    "from scipy.optimize import root\n",
    "\n",
    "q=1/16\n",
    "\n",
    "lmbda_list=np.linspace(0.01,.1,100)*(1+q)\n",
    "# l2=np.linspace(-1.1,1.1,100)*.0001\n",
    "# lmbda_list=np.sort(np.concatenate((l1,l2)))\n",
    "\n",
    "lmbda_res=np.zeros((len(lmbda_list),2))\n",
    "Rres_re= np.zeros(len(lmbda_list))\n",
    "Rres_im= np.zeros(len(lmbda_list))\n",
    "for i_l in range(len(lmbda_list)):\n",
    "#     print(i_l,end='\\r')\n",
    "\n",
    "    def function(x):\n",
    "        z=1/(x[0]+1j*x[1]) + Zn_calc(x[0]+1j*x[1])*q-lmbda_list[i_l]\n",
    "        return np.array([np.real(z),np.imag(z)])\n",
    "    sol = root(function, np.array([0, 5]), method='hybr', jac = False)\n",
    "\n",
    "    Rres_re[i_l], Rres_im[i_l] =  sol.x\n",
    "    lmbda_res[i_l,:]= function(sol.x)"
   ]
  },
  {
   "cell_type": "code",
   "execution_count": 136,
   "metadata": {},
   "outputs": [
    {
     "ename": "IndexError",
     "evalue": "index 1 is out of bounds for axis 1 with size 1",
     "output_type": "error",
     "traceback": [
      "\u001b[0;31m---------------------------------------------------------------------------\u001b[0m",
      "\u001b[0;31mIndexError\u001b[0m                                Traceback (most recent call last)",
      "\u001b[0;32m<ipython-input-136-d956e99a9cc7>\u001b[0m in \u001b[0;36m<module>\u001b[0;34m\u001b[0m\n\u001b[0;32m----> 1\u001b[0;31m \u001b[0minds\u001b[0m\u001b[0;34m=\u001b[0m \u001b[0mnp\u001b[0m\u001b[0;34m.\u001b[0m\u001b[0margwhere\u001b[0m\u001b[0;34m(\u001b[0m\u001b[0mnp\u001b[0m\u001b[0;34m.\u001b[0m\u001b[0mabs\u001b[0m\u001b[0;34m(\u001b[0m\u001b[0mlmbda_res\u001b[0m\u001b[0;34m[\u001b[0m\u001b[0;34m:\u001b[0m\u001b[0;34m,\u001b[0m\u001b[0;36m1\u001b[0m\u001b[0;34m]\u001b[0m\u001b[0;34m)\u001b[0m\u001b[0;34m<\u001b[0m\u001b[0;36m1e-4\u001b[0m\u001b[0;34m)\u001b[0m\u001b[0;34m\u001b[0m\u001b[0;34m\u001b[0m\u001b[0m\n\u001b[0m\u001b[1;32m      2\u001b[0m \u001b[0;34m\u001b[0m\u001b[0m\n\u001b[1;32m      3\u001b[0m \u001b[0mnum_eigs\u001b[0m\u001b[0;34m=\u001b[0m \u001b[0mnp\u001b[0m\u001b[0;34m.\u001b[0m\u001b[0mtrapz\u001b[0m\u001b[0;34m(\u001b[0m\u001b[0mnp\u001b[0m\u001b[0;34m.\u001b[0m\u001b[0mabs\u001b[0m\u001b[0;34m(\u001b[0m\u001b[0mRres_im\u001b[0m\u001b[0;34m[\u001b[0m\u001b[0minds\u001b[0m\u001b[0;34m]\u001b[0m\u001b[0;34m)\u001b[0m\u001b[0;34m,\u001b[0m\u001b[0mx\u001b[0m\u001b[0;34m=\u001b[0m\u001b[0mlmbda_list\u001b[0m\u001b[0;34m[\u001b[0m\u001b[0minds\u001b[0m\u001b[0;34m]\u001b[0m\u001b[0;34m,\u001b[0m\u001b[0maxis\u001b[0m\u001b[0;34m=\u001b[0m\u001b[0;36m0\u001b[0m\u001b[0;34m)\u001b[0m\u001b[0;34m/\u001b[0m\u001b[0mpi\u001b[0m\u001b[0;34m\u001b[0m\u001b[0;34m\u001b[0m\u001b[0m\n\u001b[1;32m      4\u001b[0m \u001b[0mtr_rT\u001b[0m\u001b[0;34m=\u001b[0m \u001b[0;36m1\u001b[0m\u001b[0;34m/\u001b[0m\u001b[0;34m(\u001b[0m\u001b[0mq\u001b[0m\u001b[0;34m*\u001b[0m\u001b[0mZ1\u001b[0m\u001b[0;34m)\u001b[0m\u001b[0;34m*\u001b[0m\u001b[0mnp\u001b[0m\u001b[0;34m.\u001b[0m\u001b[0mtrapz\u001b[0m\u001b[0;34m(\u001b[0m\u001b[0mnp\u001b[0m\u001b[0;34m.\u001b[0m\u001b[0mabs\u001b[0m\u001b[0;34m(\u001b[0m\u001b[0mRres_im\u001b[0m\u001b[0;34m[\u001b[0m\u001b[0minds\u001b[0m\u001b[0;34m]\u001b[0m\u001b[0;34m)\u001b[0m\u001b[0;34m*\u001b[0m\u001b[0mlmbda_list\u001b[0m\u001b[0;34m[\u001b[0m\u001b[0minds\u001b[0m\u001b[0;34m]\u001b[0m\u001b[0;34m,\u001b[0m\u001b[0mx\u001b[0m\u001b[0;34m=\u001b[0m\u001b[0mlmbda_list\u001b[0m\u001b[0;34m[\u001b[0m\u001b[0minds\u001b[0m\u001b[0;34m]\u001b[0m\u001b[0;34m,\u001b[0m\u001b[0maxis\u001b[0m\u001b[0;34m=\u001b[0m\u001b[0;36m0\u001b[0m\u001b[0;34m)\u001b[0m\u001b[0;34m/\u001b[0m\u001b[0mpi\u001b[0m\u001b[0;34m\u001b[0m\u001b[0;34m\u001b[0m\u001b[0m\n\u001b[1;32m      5\u001b[0m \u001b[0mvN_ent\u001b[0m\u001b[0;34m=\u001b[0m \u001b[0;34m-\u001b[0m\u001b[0;36m1\u001b[0m\u001b[0;34m/\u001b[0m\u001b[0;34m(\u001b[0m\u001b[0mq\u001b[0m\u001b[0;34m*\u001b[0m\u001b[0mZ1\u001b[0m\u001b[0;34m)\u001b[0m\u001b[0;34m*\u001b[0m\u001b[0mnp\u001b[0m\u001b[0;34m.\u001b[0m\u001b[0mtrapz\u001b[0m\u001b[0;34m(\u001b[0m\u001b[0mnp\u001b[0m\u001b[0;34m.\u001b[0m\u001b[0mabs\u001b[0m\u001b[0;34m(\u001b[0m\u001b[0mRres_im\u001b[0m\u001b[0;34m[\u001b[0m\u001b[0minds\u001b[0m\u001b[0;34m]\u001b[0m\u001b[0;34m)\u001b[0m\u001b[0;34m*\u001b[0m\u001b[0mnp\u001b[0m\u001b[0;34m.\u001b[0m\u001b[0mabs\u001b[0m\u001b[0;34m(\u001b[0m\u001b[0mlmbda_list\u001b[0m\u001b[0;34m[\u001b[0m\u001b[0minds\u001b[0m\u001b[0;34m]\u001b[0m\u001b[0;34m)\u001b[0m\u001b[0;34m*\u001b[0m\u001b[0mnp\u001b[0m\u001b[0;34m.\u001b[0m\u001b[0mlog\u001b[0m\u001b[0;34m(\u001b[0m\u001b[0mnp\u001b[0m\u001b[0;34m.\u001b[0m\u001b[0mabs\u001b[0m\u001b[0;34m(\u001b[0m\u001b[0mlmbda_list\u001b[0m\u001b[0;34m[\u001b[0m\u001b[0minds\u001b[0m\u001b[0;34m]\u001b[0m\u001b[0;34m)\u001b[0m\u001b[0;34m)\u001b[0m\u001b[0;34m,\u001b[0m\u001b[0mx\u001b[0m\u001b[0;34m=\u001b[0m\u001b[0mlmbda_list\u001b[0m\u001b[0;34m[\u001b[0m\u001b[0minds\u001b[0m\u001b[0;34m]\u001b[0m\u001b[0;34m,\u001b[0m\u001b[0maxis\u001b[0m\u001b[0;34m=\u001b[0m\u001b[0;36m0\u001b[0m\u001b[0;34m)\u001b[0m\u001b[0;34m/\u001b[0m\u001b[0mpi\u001b[0m\u001b[0;34m\u001b[0m\u001b[0;34m\u001b[0m\u001b[0m\n",
      "\u001b[0;31mIndexError\u001b[0m: index 1 is out of bounds for axis 1 with size 1"
     ]
    }
   ],
   "source": [
    "inds= np.argwhere(np.abs(lmbda_res[:,1])<1e-4)\n",
    "\n",
    "num_eigs= np.trapz(np.abs(Rres_im[inds]),x=lmbda_list[inds],axis=0)/pi\n",
    "tr_rT= 1/(q*Z1)*np.trapz(np.abs(Rres_im[inds])*lmbda_list[inds],x=lmbda_list[inds],axis=0)/pi\n",
    "vN_ent= -1/(q*Z1)*np.trapz(np.abs(Rres_im[inds])*np.abs(lmbda_list[inds])*np.log(np.abs(lmbda_list[inds])),x=lmbda_list[inds],axis=0)/pi\n",
    "print('Normalization = ' , num_eigs)\n",
    "print('trace = ' , tr_rT)\n",
    "print('vN entropy = ' , vN_ent)\n",
    "# print((a/b)/Z1*np.abs(Rres_im[inds]))\n",
    "# print(lmbda_list[inds]*Z1*b/a)\n",
    "\n",
    "plt.figure(figsize=(4.8,3.6))\n",
    "plt.plot(lmbda_list[inds],Rres_re[inds],'-',markersize=2)\n",
    "plt.ylabel('Re R')\n",
    "plt.xlabel('$\\lambda$')\n",
    "plt.grid()\n",
    "plt.show()\n",
    "\n",
    "plt.figure(figsize=(4.8,3.6))\n",
    "plt.plot(lmbda_list[inds]/(1+q),np.abs(Rres_im[inds]),'o-',markersize=2)\n",
    "# plt.plot(lmbda_list[inds]*Z1*b/a,(a/b)/Z1*np.abs(Rres_im[inds]),'-',markersize=2)\n",
    "x0=1e-3\n",
    "plt.ylabel('Im R')\n",
    "plt.xlabel('$\\lambda$')\n",
    "# plt.xlim(-x0,x0)\n",
    "# plt.ylim(-0.1,1)\n",
    "plt.grid()\n",
    "plt.show()\n",
    "\n",
    "# plt.figure(figsize=(4.8,3.6))\n",
    "# plt.plot(lmbda_list[inds],lmbda_res[inds,1],'o',markersize=2)\n",
    "# plt.ylabel('Im $\\lambda$')\n",
    "# plt.grid()\n",
    "# plt.show()\n"
   ]
  },
  {
   "cell_type": "code",
   "execution_count": 152,
   "metadata": {},
   "outputs": [
    {
     "name": "stdout",
     "output_type": "stream",
     "text": [
      "lq_mu_10.00_-11_Nl_100.npz\n"
     ]
    }
   ],
   "source": [
    "# rescaled solver\n",
    "\n",
    "from scipy.optimize import root\n",
    "\n",
    "# qlist=2**np.arange(-16,-11.1,1)\n",
    "qlist=2**np.array([-11.0])\n",
    "\n",
    "N_lmbda=100\n",
    "\n",
    "# lmbda_res=np.zeros((N_lmbda,len(qlist),2))\n",
    "# Rres_re= np.zeros((N_lmbda,len(qlist)))\n",
    "# Rres_im= np.zeros((N_lmbda,len(qlist)))\n",
    "# num_eigs = np.zeros(len(qlist))\n",
    "# tr_rT = np.zeros(len(qlist))\n",
    "# vN_ent = np.zeros(len(qlist))\n",
    "# inds_dict=dict()\n",
    "for i_q in range(len(qlist)):\n",
    "    print(i_q,end='\\r')\n",
    "    q=qlist[i_q]\n",
    "#     lmbda_list=np.linspace(0.01,100,N_lmbda)*(1+q)\n",
    "#     l2=np.linspace(0.01,0.04,int(N_lmbda/2))*(1+q)\n",
    "#     lmbda_list=np.concatenate((l1,l2))\n",
    "    lmbda_list=np.logspace(-10,-0.5,N_lmbda)*(1+q)\n",
    "    lmbda_res=np.zeros(len(lmbda_list))\n",
    "    Rres_re= np.zeros(len(lmbda_list))\n",
    "    Rres_im= np.zeros(len(lmbda_list))\n",
    "    for i_l in range(len(lmbda_list)):\n",
    "\n",
    "        def function(x):\n",
    "            z=1/(x[0]+1j*x[1]) + Zn_calc(x[0]+1j*x[1])*q-lmbda_list[i_l]\n",
    "            return np.array([np.real(z),np.imag(z)])\n",
    "        sol = root(function, np.array([0, 1]), method='hybr', jac = False)\n",
    "\n",
    "        Rres_re[i_l], Rres_im[i_l] =  sol.x\n",
    "        lmbda_res[i_l]= function(sol.x)[1]\n",
    "\n",
    "    f1= 'lq_mu_%.2f_%d_Nl_%d.npz' % (mu,np.log2(q),N_lmbda)\n",
    "#     f1= 'q_%.3f_Nl_%d.npz' % (q,N_lmbda)\n",
    "    print(f1)\n",
    "    out_dir = 'canonical_ent/' \n",
    "    fname = out_dir+f1\n",
    "    np.savez(fname, R_re=Rres_re, R_im=Rres_im, lmbda_re=lmbda_list, lmbda_im=lmbda_res)\n",
    "    \n",
    "#     inds= np.argwhere(np.abs(lmbda_res[:,i_q,1])<1e-4)\n",
    "#     inds_dict['%d' % (i_q)] = inds\n",
    "#     num_eigs[i_q]= np.trapz(np.abs(Rres_im[inds,i_q]),x=lmbda_list[inds],axis=0)/pi\n",
    "#     tr_rT[i_q]= 1/(q*Z1)*np.trapz(np.abs(Rres_im[inds,i_q])*lmbda_list[inds],x=lmbda_list[inds],axis=0)/pi\n",
    "#     vN_ent[i_q]= -1/(q*Z1)*np.trapz(np.abs(Rres_im[inds,i_q])*np.abs(lmbda_list[inds])*np.log(np.abs(lmbda_list[inds])),x=lmbda_list[inds],axis=0)/pi\n"
   ]
  },
  {
   "cell_type": "code",
   "execution_count": 153,
   "metadata": {},
   "outputs": [
    {
     "data": {
      "image/png": "[encoded data removed]",
      "text/plain": [
       "<Figure size 345.6x259.2 with 1 Axes>"
      ]
     },
     "metadata": {
      "needs_background": "light"
     },
     "output_type": "display_data"
    },
    {
     "data": {
      "image/png": "[encoded data removed]",
      "text/plain": [
       "<Figure size 345.6x259.2 with 1 Axes>"
      ]
     },
     "metadata": {
      "needs_background": "light"
     },
     "output_type": "display_data"
    },
    {
     "data": {
      "image/png": "[encoded data removed]",
      "text/plain": [
       "<Figure size 345.6x259.2 with 1 Axes>"
      ]
     },
     "metadata": {
      "needs_background": "light"
     },
     "output_type": "display_data"
    }
   ],
   "source": [
    "\n",
    "qlist=2**np.array([-11.0])\n",
    "\n",
    "num_eigs = np.zeros(len(qlist))\n",
    "tr_rT = np.zeros(len(qlist))\n",
    "vN_ent = np.zeros(len(qlist))\n",
    "\n",
    "fig1=plt.figure(1,figsize=(4.8,3.6))\n",
    "ax1 = fig1.add_subplot()\n",
    "fig2=plt.figure(2,figsize=(4.8,3.6))\n",
    "ax2 = fig2.add_subplot()\n",
    "for i_q in range(len(qlist)):\n",
    "    q=qlist[i_q]\n",
    "    if mu==2:\n",
    "        if np.log2(q)<-7:\n",
    "            N_lmbda=100\n",
    "            f1= 'lq_%d_Nl_%d.npz' % (np.log2(q),N_lmbda)\n",
    "        else:\n",
    "            N_lmbda=100\n",
    "            f1= 'q_%.3f_Nl_%d.npz' % (q,N_lmbda)\n",
    "    else:\n",
    "        f1= 'lq_mu_%.2f_%d_Nl_%d.npz' % (mu,np.log2(q),N_lmbda)\n",
    "    out_dir = 'canonical_ent/' \n",
    "    fname = out_dir+f1\n",
    "    if path.exists(fname):\n",
    "        npzfile = np.load(fname)\n",
    "        R_re=npzfile['R_re']\n",
    "        R_im=npzfile['R_im']\n",
    "        lmbda_re=npzfile['lmbda_re']\n",
    "        lmbda_im=npzfile['lmbda_im']\n",
    "    \n",
    "#     inds= inds_dict['%d' % (i_q)]\n",
    "                         \n",
    "    inds= np.argwhere(np.abs(lmbda_im)<1e-4)\n",
    "    ax1.plot(lmbda_re[inds]/(1+q),R_re[inds],'o-',markersize=2,label='$q=2^{%d}$' % np.log2(q))\n",
    "    ax2.plot(lmbda_re[inds]/(1+q),np.abs(R_im[inds]),'o-',markersize=2,label='$q=2^{%d}$' % np.log2(q))\n",
    "    \n",
    "    num_eigs[i_q]= np.trapz(np.abs(R_im[inds]),x=lmbda_re[inds],axis=0)/pi\n",
    "    tr_rT[i_q]= 1/(q*Z1)*np.trapz(np.abs(R_im[inds])*lmbda_re[inds],x=lmbda_re[inds],axis=0)/pi\n",
    "    vN_ent[i_q]= -1/(q*Z1)*np.trapz(np.abs(R_im[inds])*np.abs(lmbda_re[inds])*np.log(np.abs(lmbda_re[inds])),x=lmbda_re[inds],axis=0)/pi\n",
    "\n",
    "ax1.set_ylabel('Re R')\n",
    "ax1.set_xlabel('$\\lambda$')\n",
    "ax1.legend()\n",
    "ax2.set_ylabel('Im R')\n",
    "ax2.set_xlabel('$\\lambda$')\n",
    "# ax2.set_ylim(-.1,1)\n",
    "ax2.legend()\n",
    "plt.grid()\n",
    "plt.show()\n",
    "\n",
    "\n",
    "plt.figure(figsize=(4.8,3.6))\n",
    "# plt.plot(-np.log2(qlist),vN_ent,'o-',markersize=4,label='EE')\n",
    "plt.plot(-np.log2(qlist),tr_rT,'o-',markersize=4,label='trace')\n",
    "plt.plot(-np.log2(qlist),num_eigs,'o-',markersize=4,label='num eigs')\n",
    "plt.ylabel('EE')\n",
    "plt.xlabel('q')\n",
    "plt.grid()\n",
    "plt.legend()\n",
    "plt.show()\n"
   ]
  },
  {
   "cell_type": "code",
   "execution_count": 106,
   "metadata": {},
   "outputs": [
    {
     "name": "stdout",
     "output_type": "stream",
     "text": [
      "40\n"
     ]
    }
   ],
   "source": [
    "print(N_lmbda)"
   ]
  },
  {
   "cell_type": "code",
   "execution_count": null,
   "metadata": {},
   "outputs": [],
   "source": []
  }
 ],
 "metadata": {
  "kernelspec": {
   "display_name": "Python 3",
   "language": "python",
   "name": "python3"
  },
  "language_info": {
   "codemirror_mode": {
    "name": "ipython",
    "version": 3
   },
   "file_extension": ".py",
   "mimetype": "text/x-python",
   "name": "python",
   "nbconvert_exporter": "python",
   "pygments_lexer": "ipython3",
   "version": "3.8.3"
  }
 },
 "nbformat": 4,
 "nbformat_minor": 4
}
