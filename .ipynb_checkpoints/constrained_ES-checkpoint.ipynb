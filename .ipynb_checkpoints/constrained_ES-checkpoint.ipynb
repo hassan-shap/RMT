{
 "cells": [
  {
   "cell_type": "code",
   "execution_count": 1,
   "metadata": {},
   "outputs": [],
   "source": [
    "import numpy as np\n",
    "from math import pi, sqrt, tanh\n",
    "import matplotlib.pyplot as plt\n",
    "# from quimb import *\n",
    "import time\n"
   ]
  },
  {
   "cell_type": "code",
   "execution_count": 144,
   "metadata": {},
   "outputs": [],
   "source": [
    "Nrep=20\n",
    "\n",
    "def ent_spec(N,phi):\n",
    "    Nphi=int(phi*N)\n",
    "    Nt=(N+Nphi)\n",
    "    v1=np.zeros(Nrep*Nt)\n",
    "\n",
    "    t_timer=time.time()\n",
    "    # np.random.seed(1)\n",
    "\n",
    "    # X=np.zeros((N+Nphi,N+Nphi),dtype=np.complex128)\n",
    "    for i_r in range(Nrep):\n",
    "        print(i_r, end='\\r')\n",
    "        #### no symmetry\n",
    "    #     X[0:Nphi,0:Nphi]=np.random.randn(Nphi,Nphi)+1j*np.random.randn(Nphi,Nphi)\n",
    "    #     X[0:Nphi,Nphi:]=np.random.randn(Nphi,N)+1j*np.random.randn(Nphi,N)\n",
    "    #     X[Nphi:,0:Nphi]=np.random.randn(N,Nphi)+1j*np.random.randn(N,Nphi)\n",
    "    #     X[Nphi:,Nphi:]=np.zeros((N,N))\n",
    "        X=np.random.randn(Nt,Nt)+1j*np.random.randn(Nt,Nt)\n",
    "        X[Nphi:,Nphi:]=np.zeros((N,N))\n",
    "\n",
    "        mat=np.dot(X,np.matrix(X).H)\n",
    "        rho= mat / np.trace(mat)\n",
    "\n",
    "        l1=np.linalg.eigvalsh(rho)\n",
    "        v1[i_r*Nt:(i_r+1)*Nt] = Nt*l1\n",
    "\n",
    "    elapsed = time.time() - t_timer\n",
    "    print(\"Finished, elapsed time = %.2f \" % (elapsed)+ \"sec\")\n",
    "    \n",
    "    return v1"
   ]
  },
  {
   "cell_type": "code",
   "execution_count": 145,
   "metadata": {
    "scrolled": true
   },
   "outputs": [
    {
     "name": "stdout",
     "output_type": "stream",
     "text": [
      "Finished, elapsed time = 0.38 sec\n",
      "Finished, elapsed time = 0.18 sec\n"
     ]
    }
   ],
   "source": [
    "N=100\n",
    "vg=ent_spec(N,phi=(1+sqrt(5))/2)\n",
    "v1=ent_spec(N,phi=1)\n",
    "\n",
    "# plt.figure(figsize=(4.8,3.6))\n",
    "# fsize=9\n",
    "# plt.rcParams.update({'font.size': fsize})\n",
    "# num_bins = 1000\n",
    "\n",
    "# n, bin_edges = np.histogram(v1, bins=num_bins)\n",
    "\n",
    "# bins_center1= (bin_edges[0:num_bins]+ bin_edges[1:])/2\n",
    "# n1= n/np.sum(n) #/(bin_edges[1]-bin_edges[0])\n",
    "# plt.loglog(bins_center,n,'o',markersize=2)\n",
    "# plt.loglog(bins_center,3e-5*bins_center**(-0.5),color='C0')\n",
    "# plt.loglog(bins_center1,n1,'o',markersize=2)\n",
    "# plt.loglog(bins_center1,7e-6*bins_center1**(-0.66),color='C1')\n",
    "\n",
    "# # plt.ylim(0.04,3)\n",
    "# plt.show()\n"
   ]
  },
  {
   "cell_type": "code",
   "execution_count": 131,
   "metadata": {},
   "outputs": [
    {
     "data": {
      "image/png": "[encoded data removed]",
      "text/plain": [
       "<Figure size 345.6x259.2 with 1 Axes>"
      ]
     },
     "metadata": {
      "needs_background": "light"
     },
     "output_type": "display_data"
    }
   ],
   "source": [
    "\n",
    "plt.figure(figsize=(4.8,3.6))\n",
    "plt.loglog(bins_center,np.cumsum(n),'o',markersize=2)\n",
    "# plt.loglog(bins_center,1.7e1*bins_center**(0.4),color='C0')\n",
    "# plt.show()\n",
    "\n",
    "# plt.figure(figsize=(4.8,3.6))\n",
    "plt.loglog(bins_center1,np.cumsum(n1),'o',markersize=2,color='C1')\n",
    "# plt.loglog(bins_center1,8*bins_center1**(0.33),color='C1')\n",
    "\n",
    "# plt.ylim(0.04,3)\n",
    "plt.show()\n"
   ]
  },
  {
   "cell_type": "code",
   "execution_count": 141,
   "metadata": {},
   "outputs": [
    {
     "data": {
      "image/png": "[encoded data removed]",
      "text/plain": [
       "<Figure size 345.6x259.2 with 1 Axes>"
      ]
     },
     "metadata": {
      "needs_background": "light"
     },
     "output_type": "display_data"
    }
   ],
   "source": [
    "\n",
    "v1=np.sort(v1)\n",
    "inds=np.argwhere(v1>1e-5)\n",
    "\n",
    "vg=np.sort(vg)\n",
    "inds_g=np.argwhere(vg>1e-5)\n",
    "\n",
    "plt.figure(figsize=(4.8,3.6))\n",
    "plt.loglog(v1[inds],inds/(Nt*Nrep),'o',markersize=2)\n",
    "plt.loglog(vg[inds_g],inds_g/(Nt*Nrep),'o',markersize=2)\n",
    "plt.show()\n"
   ]
  },
  {
   "cell_type": "code",
   "execution_count": 138,
   "metadata": {},
   "outputs": [
    {
     "name": "stdout",
     "output_type": "stream",
     "text": [
      "[[  194]\n",
      " [  195]\n",
      " [  196]\n",
      " ...\n",
      " [52357]\n",
      " [52358]\n",
      " [52359]]\n"
     ]
    }
   ],
   "source": [
    "print(inds)"
   ]
  },
  {
   "cell_type": "code",
   "execution_count": null,
   "metadata": {},
   "outputs": [],
   "source": []
  }
 ],
 "metadata": {
  "kernelspec": {
   "display_name": "Python 3",
   "language": "python",
   "name": "python3"
  },
  "language_info": {
   "codemirror_mode": {
    "name": "ipython",
    "version": 3
   },
   "file_extension": ".py",
   "mimetype": "text/x-python",
   "name": "python",
   "nbconvert_exporter": "python",
   "pygments_lexer": "ipython3",
   "version": "3.8.3"
  }
 },
 "nbformat": 4,
 "nbformat_minor": 2
}
