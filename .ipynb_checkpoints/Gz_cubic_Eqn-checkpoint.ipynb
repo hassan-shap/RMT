{
 "cells": [
  {
   "cell_type": "code",
   "execution_count": 1,
   "metadata": {},
   "outputs": [],
   "source": [
    "import numpy as np\n",
    "from math import pi, sqrt, tanh\n",
    "import matplotlib.pyplot as plt\n",
    "import time\n",
    "from ipywidgets import interact\n",
    "from os import path"
   ]
  },
  {
   "cell_type": "code",
   "execution_count": 2,
   "metadata": {},
   "outputs": [
    {
     "data": {
      "application/vnd.jupyter.widget-view+json": {
       "model_id": "76c3d1fafca14e2ab75d1eae7cbb1d7a",
       "version_major": 2,
       "version_minor": 0
      },
      "text/plain": [
       "interactive(children=(IntSlider(value=10, description='V', min=10, step=10), FloatSlider(value=0.6, descriptio…"
      ]
     },
     "metadata": {},
     "output_type": "display_data"
    }
   ],
   "source": [
    "def Gz(z_arr,a,b):\n",
    "    ''' solves a cubic equation for G(z) numerically'''\n",
    "    '''less efficient, but more reliable'''\n",
    "    if isinstance(z_arr, list):\n",
    "        z4=np.zeros(len(z_arr))\n",
    "        for i_z in range(len(z_arr)):\n",
    "            z= z_arr[i_z]\n",
    "            z4[i_z]=np.imag(np.roots([z,b-1,a-z,1]))[1]\n",
    "    else:\n",
    "        z4=np.imag(np.roots([z_arr,b-1,a-z_arr,1]))[1]\n",
    "    return np.abs(z4)\n",
    "\n",
    "\n",
    "def plot_spectrum(V=10,Ra=0.6,R12=0.2):\n",
    "    ''' plots the spectral density of partial transpose'''\n",
    "    '''\n",
    "    L1 subsystem A1 of N1 qubits\n",
    "    L2 subsystem A2 of N2 qubits\n",
    "    => LA=L1*L2\n",
    "    Lb subsystem B of Nb qubits\n",
    "    V= N1+N2+Nb total number of qubits (system size)\n",
    "    R12= N1/(N1+N2), we assume L1<L2, i.e., 0<R12<0.5\n",
    "    Ra= (N1+N2)/V\n",
    "    '''\n",
    "    r=2 # local Hilbert space dim\n",
    "    a= r**((1-Ra)*V-(1-R12)*Ra*V) # Lb/L2\n",
    "    b= a*r**(R12*Ra*V) # Lb L1/L2\n",
    "    fx =  1/a\n",
    "    fy =  pi/fx\n",
    "#     fx =  1/(a/r**(R12*Ra*V))\n",
    "#     fy =  pi/fx\n",
    "\n",
    "    xplot=np.linspace(-1,1,1000)*1e1/fx+1j*0\n",
    "    yplot=Gz(np.ndarray.tolist(xplot),a+1j*0,b+1j*0)\n",
    "    plt.plot(np.real(xplot)*fx,fy*yplot)\n",
    "    plt.title('Critical $R_{12}$: $1/2-\\delta=$ %.2f' % (1-1/(2*Ra)) )\n",
    "#     plt.ylim(0,0.04)\n",
    "    plt.xlabel(r'$L_A\\xi$')\n",
    "    plt.ylabel('Spectral Density')\n",
    "    plt.show()\n",
    "\n",
    "interact(plot_spectrum, V=(10,100,10), Ra=(0,1,0.02), R12=(0,0.5,0.01));"
   ]
  },
  {
   "cell_type": "code",
   "execution_count": 4,
   "metadata": {},
   "outputs": [
    {
     "data": {
      "application/vnd.jupyter.widget-view+json": {
       "model_id": "4e7928bf69b14fe2acf6aa6f4dd15369",
       "version_major": 2,
       "version_minor": 0
      },
      "text/plain": [
       "interactive(children=(IntSlider(value=20, description='V', max=32, min=4, step=4), FloatSlider(value=0.6, desc…"
      ]
     },
     "metadata": {},
     "output_type": "display_data"
    }
   ],
   "source": [
    "from scipy.integrate import quad, nquad\n",
    "\n",
    "def Gz(z,a,b):\n",
    "    '''Direct solution to G(z), faster but has numerical instability for large V\n",
    "    a=  Lb/L2\n",
    "    b=  Lb*L1/L2\n",
    "    '''\n",
    "    a2= (b-1)/z +1j*0\n",
    "    a1= (a-z)/z +1j*0\n",
    "    a0= 1/z +1j*0\n",
    "    Q= (3*a1-a2**2)/9 +1j*0\n",
    "    R= (9*a2*a1-27*a0-2*a2**3)/54 +1j*0\n",
    "    D= Q**3 + R**2 +1j*0\n",
    "    S= (R+D**0.5 +1j*0)**(1/3)\n",
    "    T= (R-D**0.5 +1j*0)**(1/3)\n",
    "    z4= -a2/3 + (1-1j*sqrt(3))*Q/S/2-(1+1j*sqrt(3))/2*S\n",
    "    return np.abs(np.imag(z4))\n",
    "\n",
    "def integrand(z, a, b):\n",
    "    return Gz(z,a,b)*np.abs(z)\n",
    "\n",
    "def neg_calc(a,b):\n",
    "    '''Calculates logneg by \\int P(z)|z| dz\n",
    "    where P(z) is spectral density'''\n",
    "    options={'limit':500}\n",
    "    integral= nquad(integrand, [[-np.inf, np.inf]], args=(a, b),opts=[options,options])[0]\n",
    "    return integral\n",
    "\n",
    "r=2 # local Hilbert space dim\n",
    "def logneg_plotter(V=20,Ra=0.6):\n",
    "    R12_list=np.linspace(0.01,0.49,100)\n",
    "    logneg=np.zeros(len(R12_list))\n",
    "    for i_1 in range(len(R12_list)):\n",
    "        R12=R12_list[i_1]\n",
    "        Lb= r**((1-Ra)*V)\n",
    "        L1= r**(R12*Ra*V)\n",
    "        L2= r**((1-R12)*Ra*V)\n",
    "\n",
    "        a = Lb/L2 +1j*0\n",
    "        b = Lb/L2*L1 +1j*0\n",
    "        logneg[i_1]=np.log2(neg_calc(a,b)*(L2*L1)/pi/(L1*Lb))\n",
    "        \n",
    "    plt.plot(R12_list,logneg/V,'-',label='V=%.2f' % (V))\n",
    "    plt.plot(R12_list,R12_list*Ra,'--')\n",
    "    plt.plot([(1-1/(2*Ra))]*2,[R12_list[0]*Ra,R12_list[-1]*Ra],'k--')\n",
    "    plt.xlabel('$N_{A_1}/N_A$')\n",
    "    plt.ylabel('LogNeg')\n",
    "    plt.show()\n",
    "\n",
    "interact(logneg_plotter, V=(4,32,4),Ra=(0,1,0.05));"
   ]
  },
  {
   "cell_type": "code",
   "execution_count": 5,
   "metadata": {},
   "outputs": [
    {
     "name": "stdout",
     "output_type": "stream",
     "text": [
      "logneg was calculated for 10 qubits, elapsed time = 4.69 sec\n"
     ]
    },
    {
     "name": "stderr",
     "output_type": "stream",
     "text": [
      "/gscratch/home/hshapourian/miniconda3/lib/python3.8/site-packages/scipy/integrate/quadpack.py:880: IntegrationWarning: The integral is probably divergent, or slowly convergent.\n",
      "  quad_r = quad(f, low, high, args=args, full_output=self.full_output,\n"
     ]
    },
    {
     "name": "stdout",
     "output_type": "stream",
     "text": [
      "logneg was calculated for 20 qubits, elapsed time = 4.67 sec\n"
     ]
    },
    {
     "name": "stderr",
     "output_type": "stream",
     "text": [
      "<ipython-input-4-8440fc540afb>:16: RuntimeWarning: divide by zero encountered in cdouble_scalars\n",
      "  z4= -a2/3 + (1-1j*sqrt(3))*Q/S/2-(1+1j*sqrt(3))/2*S\n",
      "<ipython-input-4-8440fc540afb>:16: RuntimeWarning: invalid value encountered in cdouble_scalars\n",
      "  z4= -a2/3 + (1-1j*sqrt(3))*Q/S/2-(1+1j*sqrt(3))/2*S\n",
      "/gscratch/home/hshapourian/miniconda3/lib/python3.8/site-packages/scipy/integrate/quadpack.py:880: IntegrationWarning: The occurrence of roundoff error is detected, which prevents \n",
      "  the requested tolerance from being achieved.  The error may be \n",
      "  underestimated.\n",
      "  quad_r = quad(f, low, high, args=args, full_output=self.full_output,\n",
      "/gscratch/home/hshapourian/miniconda3/lib/python3.8/site-packages/scipy/integrate/quadpack.py:880: IntegrationWarning: The algorithm does not converge.  Roundoff error is detected\n",
      "  in the extrapolation table.  It is assumed that the requested tolerance\n",
      "  cannot be achieved, and that the returned result (if full_output = 1) is \n",
      "  the best which can be obtained.\n",
      "  quad_r = quad(f, low, high, args=args, full_output=self.full_output,\n"
     ]
    },
    {
     "name": "stdout",
     "output_type": "stream",
     "text": [
      "logneg was calculated for 30 qubits, elapsed time = 6.01 sec\n",
      "logneg was calculated for 40 qubits, elapsed time = 6.58 sec\n",
      "logneg was calculated for 50 qubits, elapsed time = 8.87 sec\n"
     ]
    }
   ],
   "source": [
    "# shows finite size effects (previous cell contains the functions, next cell contains plots)\n",
    "r=2 # local Hilbert space dim\n",
    "Ra=0.6 # (N1+N2)/V\n",
    "Vlist=np.arange(10,51,10)\n",
    "R12_list=np.linspace(0.01,0.49,100)\n",
    "logneg=np.zeros((len(R12_list),len(Vlist)))\n",
    "for i_V in range(len(Vlist)):\n",
    "    V=Vlist[i_V]\n",
    "    t_timer=time.time()\n",
    "    \n",
    "    for i_1 in range(len(R12_list)):\n",
    "        R12=R12_list[i_1]\n",
    "        Lb= r**((1-Ra)*V)\n",
    "        L1= r**(R12*Ra*V)\n",
    "        L2= r**((1-R12)*Ra*V)\n",
    "\n",
    "        a = Lb/L2 +1j*0\n",
    "        b = Lb/L2*L1 +1j*0\n",
    "        logneg[i_1,i_V]=np.log2(neg_calc(a,b)*(L2*L1)/pi/(L1*Lb))    \n",
    "        \n",
    "    elapsed = time.time() - t_timer\n",
    "    print(\"logneg was calculated for %d qubits\" % (V) + \", elapsed time = %.2f \" % (elapsed)+ \"sec\")"
   ]
  },
  {
   "cell_type": "code",
   "execution_count": null,
   "metadata": {},
   "outputs": [],
   "source": [
    "plt.figure()\n",
    "for i_V in range(len(Vlist)):\n",
    "    V=Vlist[i_V]\n",
    "    plt.plot(R12_list,logneg[:,i_V]/V,'-',label='V=%.2f' % (V),color='C%d' % (i_V))\n",
    "    \n",
    "if Ra>0.5:\n",
    "    ymax=0.1\n",
    "    plt.plot([0,ymax/Ra],[0,ymax],'k--', label='vol law')\n",
    "    plt.plot([(1-1/(2*Ra))]*2,[0,ymax],'k--',linewidth=0.5)\n",
    "    plt.ylim(0,ymax)\n",
    "plt.xlim(0,R12_list[-1])\n",
    "plt.title('$N_A/V=$%.2f' % (Ra) )\n",
    "plt.xlabel('$N_{A_1}/N_A$')\n",
    "plt.ylabel('LogNeg')\n",
    "plt.legend(loc='lower right')\n",
    "plt.show()"
   ]
  },
  {
   "cell_type": "code",
   "execution_count": null,
   "metadata": {},
   "outputs": [],
   "source": [
    "\n",
    "r=2 # local Hilbert space dim\n",
    "R12=0.3 # N1/(N1+N2), must be smaller than 0.5\n",
    "\n",
    "Vlist=np.arange(20,41,20)\n",
    "Ra_list=np.linspace(0.4,0.98,40)\n",
    "logneg=np.zeros((len(Ra_list),len(Vlist)))\n",
    "for i_V in range(len(Vlist)):\n",
    "    V=Vlist[i_V]\n",
    "    t_timer=time.time()\n",
    "    \n",
    "    for i_a in range(len(Ra_list)):\n",
    "        Ra=Ra_list[i_a]\n",
    "        Lb= r**((1-Ra)*V)\n",
    "        L1= r**(R12*Ra*V)\n",
    "        L2= r**((1-R12)*Ra*V)\n",
    "\n",
    "        a = Lb/L2 +1j*0\n",
    "        b = Lb/L2*L1 +1j*0\n",
    "        logneg[i_a,i_V]=np.log2(neg_calc(a,b)*(L2*L1)/pi/(L1*Lb))  \n",
    "        \n",
    "    elapsed = time.time() - t_timer\n",
    "    print(\"logneg was calculated for %d qubits\" % (V) + \", elapsed time = %.2f \" % (elapsed)+ \"sec\")"
   ]
  },
  {
   "cell_type": "code",
   "execution_count": null,
   "metadata": {},
   "outputs": [],
   "source": [
    "plt.figure()\n",
    "for i_V in range(len(Vlist)):\n",
    "    V=Vlist[i_V]\n",
    "    plt.plot(Ra_list,logneg[:,i_V]/V,'-',label='$N_A+N_B$=%.0f' % (V),color='C%d' % (i_V))\n",
    "    \n",
    "plt.plot(Ra_list,Ra_list-0.5,'k--',label=r'${\\cal E}=\\frac{1}{2}(N_{A}-N_B)$')\n",
    "plt.plot(Ra_list,Ra_list*R12,'k-.',label=r'${\\cal E}=N_{A_1}$')\n",
    "ymax=0.3\n",
    "plt.plot([1/(1-R12)/2]*2,[0,ymax],'k--',linewidth=0.5)\n",
    "plt.ylim(-0.01,ymax)\n",
    "plt.xlabel('$N_{A}/(N_A+N_B)$')\n",
    "plt.ylabel('LogNeg')\n",
    "plt.xlim(Ra_list.min(),Ra_list.max())\n",
    "plt.legend()\n",
    "plt.show()"
   ]
  },
  {
   "cell_type": "code",
   "execution_count": null,
   "metadata": {},
   "outputs": [],
   "source": [
    "r=2\n",
    "Na=16\n",
    "\n",
    "Nblist=np.arange(int(Na/2)-2,int(Na/2)+2)\n",
    "out_dir = 'LN_figs/' \n",
    "\n",
    "logneg_q_avg= np.zeros((int(Na/2)+1,len(Nblist)))\n",
    "\n",
    "R12_list=np.linspace(0.01,0.49,100)\n",
    "logneg=np.zeros((len(R12_list),len(Nblist)))\n",
    "\n",
    "for i_c in range(len(Nblist)):\n",
    "    Nb=Nblist[i_c]\n",
    "    f1= 'LN_r_%d_NA_%d_NB_%d.npz' % (r,Na,Nb)\n",
    "    fname = out_dir+f1\n",
    "    if path.exists(fname):\n",
    "        npzfile = np.load(fname)\n",
    "        neg_q=npzfile['logneg']\n",
    "        print('rand matrix averaged over %d reps' % (np.size(neg_q,1)))\n",
    "\n",
    "    logneg_q_avg[:,i_c]=np.log2(2*np.mean(neg_q,axis=1)+1)\n",
    "    \n",
    "    for i_1 in range(len(R12_list)):\n",
    "        R12=R12_list[i_1]\n",
    "        Lb= r**Nb\n",
    "        L1= r**(R12*Na)\n",
    "        L2= r**((1-R12)*Na)\n",
    "\n",
    "        a = Lb/L2 +1j*0\n",
    "        b = Lb/L2*L1 +1j*0\n",
    "        logneg[i_1,i_c]=np.log2(neg_calc(a,b)*(L2*L1)/pi/(L1*Lb))"
   ]
  },
  {
   "cell_type": "code",
   "execution_count": null,
   "metadata": {},
   "outputs": [],
   "source": [
    "plt.figure()\n",
    "\n",
    "for i_c in range(len(Nblist)):\n",
    "    Nb=Nblist[i_c]\n",
    "    plt.plot(np.arange(0,int(Na)/2+1)/Na, logneg_q_avg[:,i_c], 'o',color='C%d' % (i_c),label='$N_B$= %d' % Nb)\n",
    "    plt.plot(R12_list,logneg[:,i_c],'-',color='C%d' % (i_c))\n",
    "plt.title(r'$N_A$=%d' % (Na))\n",
    "plt.ylim(-0.1,5.)\n",
    "plt.xlim(-0.01,0.51)\n",
    "plt.xlabel(r'$\\frac{N_{A_1}}{N_A}$',fontsize=16)\n",
    "plt.ylabel('LogNeg')\n",
    "plt.legend()\n",
    "plt.show()"
   ]
  }
 ],
 "metadata": {
  "kernelspec": {
   "display_name": "Python 3",
   "language": "python",
   "name": "python3"
  },
  "language_info": {
   "codemirror_mode": {
    "name": "ipython",
    "version": 3
   },
   "file_extension": ".py",
   "mimetype": "text/x-python",
   "name": "python",
   "nbconvert_exporter": "python",
   "pygments_lexer": "ipython3",
   "version": "3.8.3"
  }
 },
 "nbformat": 4,
 "nbformat_minor": 4
}
