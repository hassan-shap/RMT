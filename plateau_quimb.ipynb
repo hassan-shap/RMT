{
 "cells": [
  {
   "cell_type": "code",
   "execution_count": 1,
   "metadata": {},
   "outputs": [],
   "source": [
    "import numpy as np\n",
    "from math import pi, sqrt, tanh\n",
    "import matplotlib.pyplot as plt\n",
    "from quimb import *\n",
    "import time\n",
    "from os import path\n"
   ]
  },
  {
   "cell_type": "code",
   "execution_count": 25,
   "metadata": {},
   "outputs": [
    {
     "name": "stdout",
     "output_type": "stream",
     "text": [
      "Na = 1\n",
      "Finished, quimb elapsed time = 0.02 sec\n",
      "Na = 2\n",
      "Finished, quimb elapsed time = 0.01 sec\n",
      "Na = 3\n",
      "Finished, quimb elapsed time = 0.03 sec\n",
      "Na = 4\n",
      "Finished, quimb elapsed time = 0.01 sec\n",
      "Na = 5\n",
      "Finished, quimb elapsed time = 0.04 sec\n",
      "Na = 6\n",
      "Finished, quimb elapsed time = 0.30 sec\n",
      "Na = 7\n",
      "Finished, quimb elapsed time = 0.20 sec\n",
      "Na = 8\n",
      "Finished, quimb elapsed time = 0.26 sec\n",
      "Na = 9\n",
      "Finished, quimb elapsed time = 0.48 sec\n",
      "Na = 10\n",
      "Finished, quimb elapsed time = 1.28 sec\n",
      "Na = 11\n",
      "Finished, quimb elapsed time = 2.79 sec\n",
      "Na = 12\n",
      "Finished, quimb elapsed time = 5.49 sec\n",
      "Na = 13\n",
      "Finished, quimb elapsed time = 8.17 sec\n"
     ]
    }
   ],
   "source": [
    "Nrep=1\n",
    "r=2 # local Hilbert space dim\n",
    "\n",
    "Lc = 8\n",
    "Nc=r**Lc\n",
    "Lb = 2\n",
    "Lalist=np.arange(1,Lb+Lc+4)\n",
    "# Lclist=np.arange(int(Lab/2)-2,int(Lab/2)+2)\n",
    "\n",
    "# neg_q=np.zeros((int(Lab/2)+1,len(Lclist),Nrep))\n",
    "neg_q = np.zeros(Nrep)\n",
    "MI = np.zeros(Nrep)\n",
    "\n",
    "\n",
    "for i_c in range(len(Lalist)):\n",
    "    La=Lalist[i_c]\n",
    "    Lab= La+Lb\n",
    "    dims_ab = [r] * Lab\n",
    "    print('Na = %d' % (La))\n",
    "\n",
    "    L= Lab+Lc\n",
    "    dims = [r] * L\n",
    "    N = prod(dims)\n",
    "\n",
    "    t_timer=time.time()\n",
    "    for i_r in range(Nrep):\n",
    "        psi = rand_ket(N)\n",
    "        \n",
    "        neg_q[i_r] = negativity_subsys_approx(psi, dims=dims, sysa=np.arange(La), sysb=np.arange(La,Lab))\n",
    "        MI[i_r] = mutinf_subsys(psi, dims=dims, sysa=np.arange(La), sysb=np.arange(La,Lab))\n",
    "        \n",
    "    elapsed = time.time() - t_timer\n",
    "    print(\"Finished, quimb elapsed time = %.2f \" % (elapsed)+ \"sec\")\n",
    "\n",
    "    f1= 'LN_r_%d_NA_%d_NB_%d_NC_%d.npz' % (r,La,Lb,Lc)\n",
    "    out_dir = 'LN_figs/' \n",
    "    fname = out_dir+f1\n",
    "    np.savez(fname, logneg=neg_q, MI=MI)\n",
    "# print(neg_q)"
   ]
  },
  {
   "cell_type": "code",
   "execution_count": 28,
   "metadata": {},
   "outputs": [
    {
     "name": "stdout",
     "output_type": "stream",
     "text": [
      "Averaged over 1 reps\n",
      "Averaged over 1 reps\n",
      "Averaged over 1 reps\n",
      "Averaged over 1 reps\n",
      "Averaged over 1 reps\n",
      "Averaged over 1 reps\n",
      "Averaged over 1 reps\n",
      "Averaged over 1 reps\n",
      "Averaged over 1 reps\n",
      "Averaged over 1 reps\n",
      "Averaged over 1 reps\n"
     ]
    },
    {
     "data": {
      "image/png": "[encoded data removed]",
      "text/plain": [
       "<Figure size 432x288 with 1 Axes>"
      ]
     },
     "metadata": {
      "needs_background": "light"
     },
     "output_type": "display_data"
    }
   ],
   "source": [
    "r = 2\n",
    "\n",
    "Lc = 2\n",
    "Lb = 8\n",
    "Lalist=np.arange(1,Lb+Lc+4)\n",
    "\n",
    "out_dir = 'LN_figs/' \n",
    "\n",
    "dims_ab = [r] * Lab\n",
    "\n",
    "# def fa(xs):\n",
    "#     ys= np.zeros(xs.shape)\n",
    "#     for i_x in range(len(xs)):\n",
    "#         x= xs[i_x]\n",
    "#         if x>1:\n",
    "#             ys[i_x]= np.real( np.log2(2/pi* np.arcsin(1/x)+2/(3*pi*x)*(1+2*x**2)* (1-1/x**2 +0.0j)**0.5 ) )\n",
    "#         else:\n",
    "#             ys[i_x]= 0\n",
    "#     return ys\n",
    "\n",
    "# at=2*r**((Lab-Lclist)/2)\n",
    "# yt=fa(at)\n",
    "\n",
    "plt.figure()\n",
    "# plt.plot([0,Lalist.max()],[0,Lalist.max()],'k--')\n",
    "\n",
    "logneg_q_avg = np.zeros(len(Lalist))\n",
    "MI_avg = np.zeros(len(Lalist))\n",
    "\n",
    "for i_c in range(len(Lalist)):\n",
    "    La=Lalist[i_c]\n",
    "    f1= 'LN_r_%d_NA_%d_NB_%d_NC_%d.npz' % (r,La,Lb,Lc)\n",
    "    fname = out_dir+f1\n",
    "    if path.exists(fname):\n",
    "        npzfile = np.load(fname)\n",
    "        neg_q=npzfile['logneg']\n",
    "        MI=npzfile['MI']\n",
    "        print('Averaged over %d reps' % len(neg_q))\n",
    "\n",
    "#     print(np.shape(neg_q))\n",
    "    logneg_q_avg[i_c] = np.log2(2*np.mean(neg_q)+1)\n",
    "    MI_avg[i_c] = np.mean(MI)\n",
    "\n",
    "plt.plot(Lalist, logneg_q_avg, '-',color='C%d' % (i_c))\n",
    "plt.plot(Lalist, MI_avg/2, 'v',color='C%d' % (i_c))\n",
    "#     if Lc< Lab:\n",
    "#         plt.plot([0,int(Lab)/2+1],(Lab-Lc)/2*np.array([1,1])+np.log2(8/(3*pi)),'--',color='C%d' % (i_c))\n",
    "\n",
    "plt.title('Nb=%d, Nc=%d' % (Lb,Lc))\n",
    "# plt.ylim(0,4.)\n",
    "# plt.xlim(0,int(Lab)/2+1)\n",
    "# plt.legend()\n",
    "plt.show()"
   ]
  },
  {
   "cell_type": "code",
   "execution_count": null,
   "metadata": {},
   "outputs": [],
   "source": []
  }
 ],
 "metadata": {
  "@webio": {
   "lastCommId": null,
   "lastKernelId": null
  },
  "kernelspec": {
   "display_name": "Python 3",
   "language": "python",
   "name": "python3"
  },
  "language_info": {
   "codemirror_mode": {
    "name": "ipython",
    "version": 3
   },
   "file_extension": ".py",
   "mimetype": "text/x-python",
   "name": "python",
   "nbconvert_exporter": "python",
   "pygments_lexer": "ipython3",
   "version": "3.8.3"
  }
 },
 "nbformat": 4,
 "nbformat_minor": 2
}
