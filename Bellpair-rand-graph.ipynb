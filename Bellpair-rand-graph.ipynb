{
 "cells": [
  {
   "cell_type": "code",
   "execution_count": 1,
   "metadata": {},
   "outputs": [],
   "source": [
    "import numpy as np\n",
    "from scipy.special import *\n",
    "import matplotlib.pyplot as plt\n",
    "from math import pi, sqrt, tanh\n"
   ]
  },
  {
   "cell_type": "code",
   "execution_count": 2,
   "metadata": {},
   "outputs": [],
   "source": [
    "from scipy.integrate import quad, nquad\n",
    "\n",
    "def Gz(z,a,b):\n",
    "    '''Direct solution to G(z), faster but has numerical instability for large V\n",
    "    a=  Lb/L2\n",
    "    b=  Lb*L1/L2\n",
    "    '''\n",
    "    a2= (b-1)/z +1j*0\n",
    "    a1= (a-z)/z +1j*0\n",
    "    a0= 1/z +1j*0\n",
    "    Q= (3*a1-a2**2)/9 +1j*0\n",
    "    R= (9*a2*a1-27*a0-2*a2**3)/54 +1j*0\n",
    "    D= Q**3 + R**2 +1j*0\n",
    "    S= (R+D**0.5 +1j*0)**(1/3)\n",
    "    T= (R-D**0.5 +1j*0)**(1/3)\n",
    "    z4= -a2/3 + (1-1j*sqrt(3))*Q/S/2-(1+1j*sqrt(3))/2*S\n",
    "    return np.abs(np.imag(z4))\n",
    "\n",
    "def integrand(z, a, b):\n",
    "    return Gz(z,a,b)*np.abs(z)\n",
    "\n",
    "def neg_calc(a,b):\n",
    "    '''Calculates logneg by \\int P(z)|z| dz\n",
    "    where P(z) is spectral density'''\n",
    "    options={'limit':500}\n",
    "    integral= nquad(integrand, [[-np.inf, np.inf]], args=(a, b),opts=[options,options])[0]\n",
    "    return integral\n"
   ]
  },
  {
   "cell_type": "code",
   "execution_count": 11,
   "metadata": {},
   "outputs": [],
   "source": [
    "def page_curve(N):\n",
    "# N = 10\n",
    "    Na_sw=np.arange(0,N+1,1)\n",
    "    Nrep =10\n",
    "    S = np.zeros(len(Na_sw))\n",
    "    for i_a in range(len(Na_sw)):\n",
    "        Na = Na_sw[i_a]\n",
    "        Nb = N-Na\n",
    "        Svals=[]\n",
    "        for i_r in range(Nrep):\n",
    "            #### no symmetry\n",
    "            if Na< Nb:\n",
    "                X=np.random.randn(2**Na,2**Nb)+1j*np.random.randn(2**Na,2**Nb)\n",
    "            else:\n",
    "                X=np.random.randn(2**Nb,2**Na)+1j*np.random.randn(2**Nb,2**Na)\n",
    "\n",
    "            mat= np.dot(X,np.matrix(X).H)\n",
    "            rho= mat / np.trace(mat)\n",
    "            λ = np.linalg.eigvalsh(rho)\n",
    "            Svals.append(-np.sum(λ*np.log2(λ)))\n",
    "\n",
    "        S[i_a]=np.mean(np.array(Svals))\n",
    "    return Na_sw, S\n",
    "# plt.plot(Na_sw,S,\"o-\")\n",
    "\n",
    "def rand_graph_bipartite(Na,Nb,Nrep):\n",
    "    N = Na+Nb\n",
    "#     Nrep=1000\n",
    "    S= np.zeros(Nrep)\n",
    "    n = np.zeros(min(Na,Nb)+1)\n",
    "    for i_r in range(Nrep):\n",
    "        n_all = np.random.permutation(N)\n",
    "        a = n_all[0:Na]\n",
    "        b = n_all[Na:]\n",
    "    #     print(a,b)\n",
    "\n",
    "        ent_all = np.random.permutation(N)\n",
    "    #     print(ent_all)\n",
    "\n",
    "        ent = 0\n",
    "        if Na<Nb:\n",
    "            for i_a in a:\n",
    "                ind_a=np.argwhere(ent_all==i_a)[0][0]\n",
    "                if ind_a% 2 ==0:\n",
    "                    if ent_all[ind_a+1] in b:\n",
    "                        ent += 1\n",
    "                else:\n",
    "                    if ent_all[ind_a-1] in b:\n",
    "                        ent += 1\n",
    "        else:\n",
    "            for i_b in b:\n",
    "                ind_b=np.argwhere(ent_all==i_b)[0][0]\n",
    "                if ind_b% 2 ==0:\n",
    "                    if ent_all[ind_b+1] in a:\n",
    "                        ent += 1\n",
    "                else:\n",
    "                    if ent_all[ind_b-1] in a:\n",
    "                        ent += 1\n",
    "        S[i_r] = ent\n",
    "        if min(Na,Nb)>0:\n",
    "            n[ent] += 1\n",
    "#     print(n)\n",
    "#     if min(Na,Nb)>0:\n",
    "#         n /= Nrep\n",
    "#         inds = np.argwhere(n>0)[:]\n",
    "# #         print(n[inds])\n",
    "#         return np.mean(S)-np.sum(n[inds]*np.log2(n[inds]))\n",
    "#     else:\n",
    "    return np.mean(S), n\n",
    "            \n",
    "def rand_graph_tripartite(Na,Nb,Nc):\n",
    "    N = Na+Nb+Nc\n",
    "    Nrep=1000\n",
    "    S= np.zeros(Nrep)\n",
    "    n = np.zeros(min(Na,Nb)+1)\n",
    "    for i_r in range(Nrep):\n",
    "        n_all = np.random.permutation(N)\n",
    "        a = n_all[0:Na]\n",
    "        b = n_all[Na:Na+Nb]\n",
    "        c = n_all[Na+Nb:]\n",
    "#         print(a,b,c)\n",
    "\n",
    "        ent_all = np.random.permutation(N)\n",
    "#         print(ent_all)\n",
    "\n",
    "        ent = 0\n",
    "        if Na<Nb:\n",
    "            for i_a in a:\n",
    "                ind_a=np.argwhere(ent_all==i_a)[0][0]\n",
    "                if ind_a% 2 ==0:\n",
    "                    if ent_all[ind_a+1] in b:\n",
    "                        ent += 1\n",
    "                else:\n",
    "                    if ent_all[ind_a-1] in b:\n",
    "                        ent += 1\n",
    "        else:\n",
    "            for i_b in b:\n",
    "                ind_b=np.argwhere(ent_all==i_b)[0][0]\n",
    "                if ind_b% 2 ==0:\n",
    "                    if ent_all[ind_b+1] in a:\n",
    "                        ent += 1\n",
    "                else:\n",
    "                    if ent_all[ind_b-1] in a:\n",
    "                        ent += 1\n",
    "                        \n",
    "        S[i_r]=ent\n",
    "        if min(Na,Nb)>0:\n",
    "            n[ent] += 1\n",
    "\n",
    "#     if min(Na,Nb)>0:\n",
    "#         n /= Nrep\n",
    "#         inds = np.argwhere(n>0)[:]\n",
    "#         return np.mean(S)-np.sum(n[inds]*np.log2(n[inds]))\n",
    "#     else:\n",
    "    return np.mean(S)\n",
    "\n",
    "def ent_calc(Na,Nb):\n",
    "    x = np.arange(0,min(Na,Nb)+1,2)\n",
    "\n",
    "    f1 = comb(Na,x)*factorial(Nb)/factorial(Nb-x) \n",
    "    f2 = factorial(Na-x)/2**((Na-x)/2)/factorial((Na-x)/2) \n",
    "    f3 = factorial(Nb-x)/2**((Nb-x)/2)/factorial((Nb-x)/2) \n",
    "    y = f1*f2*f3\n",
    "    y /= sum(y)\n",
    "\n",
    "    return sum(x*y)"
   ]
  },
  {
   "cell_type": "code",
   "execution_count": 4,
   "metadata": {},
   "outputs": [
    {
     "data": {
      "text/plain": [
       "[<matplotlib.lines.Line2D at 0x2b3aa6575370>]"
      ]
     },
     "execution_count": 4,
     "metadata": {},
     "output_type": "execute_result"
    },
    {
     "data": {
      "image/png": "[encoded data removed]",
      "text/plain": [
       "<Figure size 432x288 with 1 Axes>"
      ]
     },
     "metadata": {
      "needs_background": "light"
     },
     "output_type": "display_data"
    }
   ],
   "source": [
    "Na_sw=np.arange(2,18,2)\n",
    "Nb=18\n",
    "\n",
    "S = np.zeros(len(Na_sw))\n",
    "for i_a in range(len(Na_sw)):\n",
    "    Na = Na_sw[i_a]\n",
    "    x = np.arange(0,min(Na,Nb)+1,2)\n",
    "\n",
    "    f1 = comb(Na,x)*factorial(Nb)/factorial(Nb-x) \n",
    "    f2 = factorial(Na-x)/2**((Na-x)/2)/factorial((Na-x)/2) \n",
    "    f3 = factorial(Nb-x)/2**((Nb-x)/2)/factorial((Nb-x)/2) \n",
    "    y = f1*f2*f3\n",
    "    y /= sum(y)\n",
    "\n",
    "# plt.plot(x,y,\"o-\")\n",
    "    S[i_a]=sum(x*y)-np.sum(y*np.log2(y))\n",
    "    \n",
    "plt.plot(Na_sw,S,\"o-\")"
   ]
  },
  {
   "cell_type": "code",
   "execution_count": 10,
   "metadata": {},
   "outputs": [
    {
     "data": {
      "text/plain": [
       "[<matplotlib.lines.Line2D at 0x2b3aa6933790>]"
      ]
     },
     "execution_count": 10,
     "metadata": {},
     "output_type": "execute_result"
    },
    {
     "data": {
      "image/png": "[encoded data removed]",
      "text/plain": [
       "<Figure size 432x288 with 1 Axes>"
      ]
     },
     "metadata": {
      "needs_background": "light"
     },
     "output_type": "display_data"
    }
   ],
   "source": [
    "N = 40\n",
    "Na_sw=np.arange(0,N+1,2)\n",
    "\n",
    "S1 = np.zeros(len(Na_sw))\n",
    "S2 = np.zeros(len(Na_sw))\n",
    "for i_a in range(len(Na_sw)):\n",
    "    Na = Na_sw[i_a]\n",
    "    Nb = N-Na\n",
    "    S1[i_a],_=rand_graph_bipartite(Na,Nb,Nrep)\n",
    "    S2[i_a]=ent_calc(Na,Nb)\n",
    "\n",
    "plt.plot(Na_sw,S2,\"-\")\n",
    "plt.plot(Na_sw,S1,\"o\")\n"
   ]
  },
  {
   "cell_type": "code",
   "execution_count": 18,
   "metadata": {},
   "outputs": [
    {
     "data": {
      "text/plain": [
       "[<matplotlib.lines.Line2D at 0x2b3aa6ba4e20>]"
      ]
     },
     "execution_count": 18,
     "metadata": {},
     "output_type": "execute_result"
    },
    {
     "data": {
      "image/png": "[encoded data removed]",
      "text/plain": [
       "<Figure size 432x288 with 1 Axes>"
      ]
     },
     "metadata": {
      "needs_background": "light"
     },
     "output_type": "display_data"
    }
   ],
   "source": [
    "N = 8\n",
    "Na = int(N/2)\n",
    "Nb=N-Na\n",
    "Nrep =1000\n",
    "Savg , n_ent1=rand_graph_bipartite(Na,Nb,Nrep)\n",
    "\n",
    "ent = []\n",
    "n_ent2 = np.zeros(min(Na,Nb)+1)\n",
    "i = 0\n",
    "while i<Nrep:\n",
    "    v1 = np.random.randint(2,size=int(N/2))\n",
    "    v2 = np.random.randint(2,size=int(N/2))\n",
    "    if np.sum(np.concatenate((v1,v2)))==Na:\n",
    "        i += 1\n",
    "        inds = np.argwhere(v1==1)[:]\n",
    "#         print(v1)\n",
    "#         print(v2)\n",
    "        ent_val = len(inds)-np.sum(v2[inds])\n",
    "        inds = np.argwhere(v1==0)[:]\n",
    "        ent_val += np.sum(v2[inds])\n",
    "#         print(ent_val)\n",
    "        ent.append(ent_val)\n",
    "        n_ent2[ent_val] += 1\n",
    "\n",
    "plt.plot(n_ent1/Nrep,\"o-\")\n",
    "plt.plot(n_ent2/Nrep,\"o-\")\n"
   ]
  },
  {
   "cell_type": "code",
   "execution_count": null,
   "metadata": {},
   "outputs": [],
   "source": []
  }
 ],
 "metadata": {
  "kernelspec": {
   "display_name": "Python 3",
   "language": "python",
   "name": "python3"
  },
  "language_info": {
   "codemirror_mode": {
    "name": "ipython",
    "version": 3
   },
   "file_extension": ".py",
   "mimetype": "text/x-python",
   "name": "python",
   "nbconvert_exporter": "python",
   "pygments_lexer": "ipython3",
   "version": "3.8.3"
  }
 },
 "nbformat": 4,
 "nbformat_minor": 4
}
