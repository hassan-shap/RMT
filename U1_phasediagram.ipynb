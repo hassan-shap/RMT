{
 "cells": [
  {
   "cell_type": "code",
   "execution_count": 1,
   "metadata": {},
   "outputs": [],
   "source": [
    "import numpy as np\n",
    "from scipy.special import *\n",
    "import matplotlib.pyplot as plt\n",
    "\n",
    "from scipy import optimize\n",
    "\n",
    "from ipywidgets import interact, interactive, fixed, interact_manual\n",
    "\n",
    "import warnings\n",
    "warnings.filterwarnings('ignore')"
   ]
  },
  {
   "cell_type": "markdown",
   "metadata": {},
   "source": [
    "# fixed νA and ν"
   ]
  },
  {
   "cell_type": "code",
   "execution_count": 2,
   "metadata": {},
   "outputs": [
    {
     "data": {
      "application/vnd.jupyter.widget-view+json": {
       "model_id": "eeab299571c4445f9aa5d44aea2b9e08",
       "version_major": 2,
       "version_minor": 0
      },
      "text/plain": [
       "interactive(children=(FloatSlider(value=0.74, description='rA', max=0.999, min=0.5, step=0.01), FloatSlider(va…"
      ]
     },
     "metadata": {},
     "output_type": "display_data"
    }
   ],
   "source": [
    "# N_1 f(nu_1) + N_2 f(nu_2) = Nb\n",
    "def fs(x):\n",
    "    return -x*np.log(x)-(1-x)*np.log(1-x)\n",
    "\n",
    "x = np.linspace(1e-3,1-1e-3)\n",
    "# plt.plot(x,fs(x))\n",
    "\n",
    "ν = 0.45\n",
    "νA = 0.3\n",
    "ν1 = np.linspace(1e-3,1-1e-3)\n",
    "\n",
    "rA = 0.9\n",
    "r1= 1-1/(2*rA)+0.05\n",
    "\n",
    "def plotter(rA,r1):\n",
    "    print(\"lower bound for r1 in RMT: \", 1-1/(2*rA))\n",
    "    if ν - rA*νA>=0 and (ν-νA*rA)/(1-rA)<= 1:\n",
    "        ν1 = np.linspace(1e-3,1-1e-3)\n",
    "        inds = np.argwhere(νA-r1*ν1>=0) \n",
    "        ν1 = ν1[inds[:,0]]\n",
    "        inds = np.argwhere((νA-r1*ν1)/(1-r1)<=1) \n",
    "        ν1 = ν1[inds[:,0]]\n",
    "        yl = (1-r1)*fs((νA-ν1*r1)/(1-r1))-r1*fs(ν1)\n",
    "        yr = (1/rA-1)*fs((ν-νA*rA)/(1-rA))\n",
    "    #     plt.plot(ν1, yl)\n",
    "    #     plt.plot(ν1, yr+0*yl,\"k--\")\n",
    "        def cfunc(x):\n",
    "            return ((1-r1)*fs((νA-x*r1)/(1-r1))-r1*fs(x)-(1/rA-1)*fs((ν-νA*rA)/(1-rA)))**2\n",
    "        plt.plot(ν1, cfunc(ν1))\n",
    "\n",
    "    #     linear_constraint = optimize.LinearConstraint(1, 0, 0.5)\n",
    "        linear_constraint = optimize.LinearConstraint(1, 0, 0.5)\n",
    "        xmin = np.max([0,(νA-(1-r1))/r1])\n",
    "        xmax = np.min([1.0,νA/r1])\n",
    "        bounds = optimize.Bounds(xmin,xmax)\n",
    "        x0 = np.array([0.1])\n",
    "        r_result=optimize.minimize(cfunc, x0,  method='trust-constr', bounds=bounds)# options={'disp': True})\n",
    "\n",
    "    #     r_result = optimize.fmin_cobyla(cfunc, 0.1, [constr1,constr2,constr3,constr4], rhoend=1e-7)#, disp = False)\n",
    "    #     r_result = optimize.fmin(cfunc, 0.1)#, disp = False)\n",
    "    #     print(r_result.x,cfunc(r_result.x))\n",
    "        if np.abs(r_result.fun)[0]<1e-6:\n",
    "            plt.plot(r_result.x,cfunc(r_result.x),\"ro\")\n",
    "        plt.plot(ν1, ν1*0,\"k--\")\n",
    "    #     plt.show()\n",
    "\n",
    "    else:\n",
    "        print(\"null space projection\")\n",
    "        \n",
    "interact(plotter,rA=(0.50,0.999,0.01), r1=(0.01,0.499,0.01));\n",
    "\n",
    "# plotter(0.75,0.331)"
   ]
  },
  {
   "cell_type": "code",
   "execution_count": 281,
   "metadata": {},
   "outputs": [
    {
     "name": "stdout",
     "output_type": "stream",
     "text": [
      "0.501\n"
     ]
    },
    {
     "name": "stderr",
     "output_type": "stream",
     "text": [
      "<ipython-input-280-c38963d8e0d1>:3: RuntimeWarning: invalid value encountered in log\n",
      "  return -x*np.log(x)-(1-x)*np.log(1-x)\n"
     ]
    },
    {
     "name": "stdout",
     "output_type": "stream",
     "text": [
      "0.75\n"
     ]
    },
    {
     "name": "stderr",
     "output_type": "stream",
     "text": [
      "<ipython-input-280-c38963d8e0d1>:3: RuntimeWarning: invalid value encountered in log\n",
      "  return -x*np.log(x)-(1-x)*np.log(1-x)\n",
      "<ipython-input-280-c38963d8e0d1>:3: RuntimeWarning: invalid value encountered in log\n",
      "  return -x*np.log(x)-(1-x)*np.log(1-x)\n",
      "<ipython-input-280-c38963d8e0d1>:3: RuntimeWarning: invalid value encountered in log\n",
      "  return -x*np.log(x)-(1-x)*np.log(1-x)\n"
     ]
    },
    {
     "name": "stdout",
     "output_type": "stream",
     "text": [
      "0.999\n"
     ]
    },
    {
     "data": {
      "image/png": "[encoded data removed]",
      "text/plain": [
       "<Figure size 432x288 with 1 Axes>"
      ]
     },
     "metadata": {
      "needs_background": "light"
     },
     "output_type": "display_data"
    }
   ],
   "source": [
    "\n",
    "def constr1(x):\n",
    "    return x\n",
    "def constr2(x):\n",
    "    return 1-x\n",
    "\n",
    "ν = 0.31\n",
    "νA = 0.2\n",
    "\n",
    "rA_list = np.linspace(0.501,0.999,3)\n",
    "r1_list = np.linspace(0.001,0.4999,80)\n",
    "# rA_list = np.array([0.7])\n",
    "plt.figure()\n",
    "for rA in rA_list:\n",
    "    print(rA)\n",
    "    r1_z = []\n",
    "    nu_z = []\n",
    "    for r1 in r1_list:\n",
    "        if ν - rA*νA>=0 and (ν-νA*rA)/(1-rA)<= 1:\n",
    "            def cfunc(x):\n",
    "                return ((1-r1)*fs((νA-x*r1)/(1-r1))-r1*fs(x)-(1/rA-1)*fs((ν-νA*rA)/(1-rA)))**2\n",
    "\n",
    "            xmin = np.max([0,(νA-(1-r1))/r1])\n",
    "            xmax = np.min([1.0,νA/r1])\n",
    "            bounds = optimize.Bounds(xmin,xmax)\n",
    "            x0 = np.array([0.1])\n",
    "            r_result=optimize.minimize(cfunc, x0,  method='trust-constr', bounds=bounds)# options={'disp': True})\n",
    "        if np.abs(r_result.fun)[0]<1e-6:\n",
    "                r1_z.append(r1)\n",
    "                nu_z.append(r_result.x[0])\n",
    "        if len(r1_z)>0:\n",
    "            plt.plot(r1_z,1-rA + 0*np.array(r1_z),\"r.\")\n",
    "            plt.plot(1-np.array(r1_z),1-rA + 0*np.array(r1_z),\"r.\")\n",
    "    #         plt.plot(r1_z,nu_z,\"o\")\n",
    "        \n",
    "plt.plot(1-1/(2*rA_list),1-np.array(rA_list),\"b\")\n",
    "plt.plot(1/(2*rA_list),1-np.array(rA_list),\"b\")\n",
    "plt.xlabel(r\"$N_{A1}/N_{A2}$\")\n",
    "plt.ylabel(r\"$N_B/N$\")\n",
    "plt.show()"
   ]
  },
  {
   "cell_type": "code",
   "execution_count": 301,
   "metadata": {
    "scrolled": true
   },
   "outputs": [
    {
     "data": {
      "image/png": "[encoded data removed]",
      "text/plain": [
       "<Figure size 432x288 with 1 Axes>"
      ]
     },
     "metadata": {
      "needs_background": "light"
     },
     "output_type": "display_data"
    }
   ],
   "source": [
    "ν = 0.45\n",
    "νA = 0.3\n",
    "\n",
    "rA_list = np.linspace(0.501,0.999,100)\n",
    "r1_list = np.linspace(0.001,0.4999,80)\n",
    "# rA_list = np.array([0.7])\n",
    "plt.figure()\n",
    "for rA in rA_list:\n",
    "    r1_z = []\n",
    "    nu_z = []\n",
    "    for r1 in r1_list:\n",
    "        if ν - rA*νA>=0 and (ν-νA*rA)/(1-rA)<= 1:\n",
    "            def cfunc(x):\n",
    "                return ((1-r1)*fs((νA-x*r1)/(1-r1))-r1*fs(x)-(1/rA-1)*fs((ν-νA*rA)/(1-rA)))**2\n",
    "\n",
    "#             r_result = optimize.fmin_cobyla(cfunc, 0.3, [constr1,constr2])#, disp = False)\n",
    "#           if (cfunc(r_result))<1e-6:\n",
    "#                 r1_z.append(r1)\n",
    "#                 nu_z.append(r_result)\n",
    "            r_result = optimize.fmin(cfunc, 0.3, disp = False)\n",
    "            if (cfunc(r_result[0]))<1e-6:\n",
    "                r1_z.append(r1)\n",
    "                nu_z.append(r_result[0])\n",
    "        if len(r1_z)>0:\n",
    "            plt.plot(r1_z,1-rA + 0*np.array(r1_z),\"r.\")\n",
    "            plt.plot(1-np.array(r1_z),1-rA + 0*np.array(r1_z),\"r.\")\n",
    "    #         plt.plot(r1_z,nu_z,\"o\")\n",
    "        \n",
    "plt.plot(1-1/(2*rA_list),1-np.array(rA_list),\"b\")\n",
    "plt.plot(1/(2*rA_list),1-np.array(rA_list),\"b\")\n",
    "plt.xlabel(r\"$N_{A1}/N_{A2}$\")\n",
    "plt.ylabel(r\"$N_B/N$\")\n",
    "plt.show()"
   ]
  },
  {
   "cell_type": "markdown",
   "metadata": {},
   "source": [
    "# fixed νA and νB"
   ]
  },
  {
   "cell_type": "code",
   "execution_count": 3,
   "metadata": {},
   "outputs": [
    {
     "data": {
      "application/vnd.jupyter.widget-view+json": {
       "model_id": "a815d248519b48b19104d573001d921d",
       "version_major": 2,
       "version_minor": 0
      },
      "text/plain": [
       "interactive(children=(FloatSlider(value=0.74, description='rA', max=0.999, min=0.5, step=0.01), FloatSlider(va…"
      ]
     },
     "metadata": {},
     "output_type": "display_data"
    }
   ],
   "source": [
    "# N_1 f(nu_1) + N_2 f(nu_2) = Nb\n",
    "def fs(x):\n",
    "    return -x*np.log(x)-(1-x)*np.log(1-x)\n",
    "\n",
    "x = np.linspace(1e-3,1-1e-3)\n",
    "# plt.plot(x,fs(x))\n",
    "\n",
    "νB = 0.5\n",
    "νA = 0.5\n",
    "ν1 = np.linspace(1e-3,1-1e-3)\n",
    "\n",
    "rA = 0.9\n",
    "r1= 1-1/(2*rA)+0.05\n",
    "\n",
    "def plotter(rA,r1):\n",
    "    print(\"lower bound for r1 in RMT: \", 1-1/(2*rA))\n",
    "    ν1 = np.linspace(1e-3,1-1e-3)\n",
    "    yl = (1-r1)*fs((νA-ν1*r1)/(1-r1))-r1*fs(ν1)\n",
    "    yr = (1/rA-1)*fs(νB)\n",
    "    print(\"ν: \", νA*rA + νB*(1-rA))\n",
    "#     plt.plot(ν1, yl)\n",
    "#     plt.plot(ν1, yr+0*yl,\"k--\")\n",
    "    def cfunc(x):\n",
    "        return ((1-r1)*fs((νA-x*r1)/(1-r1))-r1*fs(x)-(1/rA-1)*fs(νB))**2\n",
    "    plt.plot(ν1, cfunc(ν1))\n",
    "\n",
    "#     linear_constraint = optimize.LinearConstraint(1, 0, 0.5)\n",
    "    linear_constraint = optimize.LinearConstraint(1, 0, 0.5)\n",
    "    xmin = np.max([0,(νA-(1-r1))/r1])\n",
    "    xmax = np.min([1.0,νA/r1])\n",
    "    bounds = optimize.Bounds(xmin,xmax)\n",
    "    x0 = np.array([0.1])\n",
    "    r_result=optimize.minimize(cfunc, x0,  method='trust-constr', bounds=bounds)# options={'disp': True})\n",
    "\n",
    "#     r_result = optimize.fmin_cobyla(cfunc, 0.1, [constr1,constr2,constr3,constr4], rhoend=1e-7)#, disp = False)\n",
    "#     r_result = optimize.fmin(cfunc, 0.1)#, disp = False)\n",
    "#     print(r_result.x,cfunc(r_result.x))\n",
    "    if np.abs(r_result.fun)[0]<1e-6:\n",
    "        plt.plot(r_result.x,cfunc(r_result.x),\"ro\")\n",
    "    plt.plot(ν1, ν1*0,\"k--\")\n",
    "#     plt.show()\n",
    "    \n",
    "interact(plotter,rA=(0.50,0.999,0.01), r1=(0.001,0.499,0.001));"
   ]
  },
  {
   "cell_type": "code",
   "execution_count": 7,
   "metadata": {},
   "outputs": [
    {
     "data": {
      "image/png": "[encoded data removed]",
      "text/plain": [
       "<Figure size 432x288 with 1 Axes>"
      ]
     },
     "metadata": {
      "needs_background": "light"
     },
     "output_type": "display_data"
    }
   ],
   "source": [
    "νB = 0.5\n",
    "νA = 0.3\n",
    "\n",
    "rA_list = np.linspace(0.001,0.999,100)\n",
    "r1_list = np.linspace(0.001,0.4999,80)\n",
    "# rA_list = np.array([0.7])\n",
    "plt.figure()\n",
    "for rA in rA_list:\n",
    "    r1_z = []\n",
    "    nu_z = []\n",
    "    for r1 in r1_list:\n",
    "        def cfunc(x):\n",
    "            return ((1-r1)*fs((νA-x*r1)/(1-r1))-r1*fs(x)-(1/rA-1)*fs(νB))**2\n",
    "\n",
    "        r_result = optimize.fmin(cfunc, 0.3, disp = False)\n",
    "        if (cfunc(r_result[0]))<1e-6:\n",
    "            r1_z.append(r1)\n",
    "            nu_z.append(r_result[0])\n",
    "    if len(r1_z)>0:\n",
    "        plt.plot(r1_z,1-rA + 0*np.array(r1_z),\"r.\")\n",
    "        plt.plot(1-np.array(r1_z),1-rA + 0*np.array(r1_z),\"r.\")\n",
    "#         plt.plot(r1_z,nu_z,\"o\")\n",
    "        \n",
    "xx = np.linspace(0,1)\n",
    "plt.plot(xx,xx*0 + fs(νA)/(fs(νA)+fs(νB)), \"k--\")\n",
    "plt.plot(1-1/(2*rA_list),1-np.array(rA_list),\"b\")\n",
    "plt.plot(1/(2*rA_list),1-np.array(rA_list),\"b\")\n",
    "\n",
    "plt.xlabel(r\"$N_{A1}/N_{A2}$\")\n",
    "plt.ylabel(r\"$N_B/N$\")\n",
    "plt.xlim(0,1)\n",
    "plt.show()\n"
   ]
  },
  {
   "cell_type": "markdown",
   "metadata": {},
   "source": [
    "# Shreya's setup"
   ]
  },
  {
   "cell_type": "code",
   "execution_count": 65,
   "metadata": {},
   "outputs": [
    {
     "data": {
      "application/vnd.jupyter.widget-view+json": {
       "model_id": "fac6472aa1134726b39a2c4e5469a267",
       "version_major": 2,
       "version_minor": 0
      },
      "text/plain": [
       "interactive(children=(FloatSlider(value=0.45, description='rA', max=0.999, min=0.001, step=0.001), FloatSlider…"
      ]
     },
     "metadata": {},
     "output_type": "display_data"
    }
   ],
   "source": [
    "# N_1 f(nu_1) + N_2 f(nu_2) = Nb\n",
    "def fs(x):\n",
    "    return -x*np.log(x)-(1-x)*np.log(1-x)\n",
    "\n",
    "x = np.linspace(1e-3,1-1e-3)\n",
    "# plt.plot(x,fs(x))\n",
    "\n",
    "ν = 0.5\n",
    "ν1 = np.linspace(1e-3,1-1e-3)\n",
    "\n",
    "def plotter(rA=0.45,r1=0.8):\n",
    "    ν1 = np.linspace(1e-3,1-1e-3)\n",
    "    inds = np.argwhere(ν-rA*r1*ν1>=0) \n",
    "    ν1 = ν1[inds[:,0]]\n",
    "    inds = np.argwhere((ν-rA*r1*ν1)/(1-rA)<=1) \n",
    "    ν1 = ν1[inds[:,0]]\n",
    "    yl = (1-rA)*fs((ν-rA*ν1*r1)/(1-rA))-rA*r1*fs(ν1)\n",
    "    yr = (1-r1)*rA\n",
    "#     plt.plot(ν1, yl)\n",
    "#     plt.plot(ν1, yr+0*yl,\"k--\")\n",
    "    def cfunc(x):\n",
    "        return ((1-rA)*fs((ν-rA*x*r1)/(1-rA))-rA*r1*fs(x)-(1-r1)*rA*fs(ν2))**2\n",
    "    \n",
    "    plt.plot(ν1, cfunc(ν1))\n",
    "\n",
    "#     linear_constraint = optimize.LinearConstraint(1, 0, 0.5)\n",
    "    linear_constraint = optimize.LinearConstraint(1, 0, 0.5)\n",
    "    xmin = (ν-(1-rA))/(r1*rA)\n",
    "    xmax = np.min([1.0,ν/(r1*rA)])\n",
    "    bounds = optimize.Bounds(xmin,xmax)\n",
    "    x0 = np.array([0.5])\n",
    "    r_result=optimize.minimize(cfunc, x0,  method='trust-constr', bounds=bounds)# options={'disp': True})\n",
    "\n",
    "    print(r_result.x, r_result.fun[0])\n",
    "    if np.abs(r_result.fun)[0]<1e-6:\n",
    "        plt.plot(r_result.x,cfunc(r_result.x),\"ro\")\n",
    "    plt.plot(ν1, ν1*0,\"k--\")\n",
    "    #     plt.show()\n",
    "        \n",
    "interact(plotter,rA=(0.001,0.999,0.001), r1=(0.01,0.999,0.01));\n",
    "\n",
    "# plotter(0.75,0.331)"
   ]
  },
  {
   "cell_type": "code",
   "execution_count": 64,
   "metadata": {},
   "outputs": [
    {
     "ename": "KeyboardInterrupt",
     "evalue": "",
     "output_type": "error",
     "traceback": [
      "\u001b[0;31m---------------------------------------------------------------------------\u001b[0m",
      "\u001b[0;31mKeyboardInterrupt\u001b[0m                         Traceback (most recent call last)",
      "\u001b[0;32m<ipython-input-64-3302a1318785>\u001b[0m in \u001b[0;36m<module>\u001b[0;34m\u001b[0m\n\u001b[1;32m     19\u001b[0m         \u001b[0mbounds\u001b[0m \u001b[0;34m=\u001b[0m \u001b[0moptimize\u001b[0m\u001b[0;34m.\u001b[0m\u001b[0mBounds\u001b[0m\u001b[0;34m(\u001b[0m\u001b[0mxmin\u001b[0m\u001b[0;34m,\u001b[0m\u001b[0mxmax\u001b[0m\u001b[0;34m)\u001b[0m\u001b[0;34m\u001b[0m\u001b[0;34m\u001b[0m\u001b[0m\n\u001b[1;32m     20\u001b[0m         \u001b[0mx0\u001b[0m \u001b[0;34m=\u001b[0m \u001b[0mnp\u001b[0m\u001b[0;34m.\u001b[0m\u001b[0marray\u001b[0m\u001b[0;34m(\u001b[0m\u001b[0;34m[\u001b[0m\u001b[0;36m0.5\u001b[0m\u001b[0;34m]\u001b[0m\u001b[0;34m)\u001b[0m\u001b[0;34m\u001b[0m\u001b[0;34m\u001b[0m\u001b[0m\n\u001b[0;32m---> 21\u001b[0;31m         \u001b[0mr_result\u001b[0m\u001b[0;34m=\u001b[0m\u001b[0moptimize\u001b[0m\u001b[0;34m.\u001b[0m\u001b[0mminimize\u001b[0m\u001b[0;34m(\u001b[0m\u001b[0mcfunc\u001b[0m\u001b[0;34m,\u001b[0m \u001b[0mx0\u001b[0m\u001b[0;34m,\u001b[0m  \u001b[0mmethod\u001b[0m\u001b[0;34m=\u001b[0m\u001b[0;34m'trust-constr'\u001b[0m\u001b[0;34m,\u001b[0m \u001b[0mbounds\u001b[0m\u001b[0;34m=\u001b[0m\u001b[0mbounds\u001b[0m\u001b[0;34m)\u001b[0m\u001b[0;31m# options={'disp': True})\u001b[0m\u001b[0;34m\u001b[0m\u001b[0;34m\u001b[0m\u001b[0m\n\u001b[0m\u001b[1;32m     22\u001b[0m \u001b[0;34m\u001b[0m\u001b[0m\n\u001b[1;32m     23\u001b[0m         \u001b[0;32mif\u001b[0m \u001b[0mnp\u001b[0m\u001b[0;34m.\u001b[0m\u001b[0mabs\u001b[0m\u001b[0;34m(\u001b[0m\u001b[0mr_result\u001b[0m\u001b[0;34m.\u001b[0m\u001b[0mfun\u001b[0m\u001b[0;34m)\u001b[0m\u001b[0;34m[\u001b[0m\u001b[0;36m0\u001b[0m\u001b[0;34m]\u001b[0m\u001b[0;34m<\u001b[0m\u001b[0;36m1e-6\u001b[0m\u001b[0;34m:\u001b[0m\u001b[0;34m\u001b[0m\u001b[0;34m\u001b[0m\u001b[0m\n",
      "\u001b[0;32m~/miniconda3/envs/qiskit/lib/python3.9/site-packages/scipy/optimize/_minimize.py\u001b[0m in \u001b[0;36mminimize\u001b[0;34m(fun, x0, args, method, jac, hess, hessp, bounds, constraints, tol, callback, options)\u001b[0m\n\u001b[1;32m    626\u001b[0m                                constraints, callback=callback, **options)\n\u001b[1;32m    627\u001b[0m     \u001b[0;32melif\u001b[0m \u001b[0mmeth\u001b[0m \u001b[0;34m==\u001b[0m \u001b[0;34m'trust-constr'\u001b[0m\u001b[0;34m:\u001b[0m\u001b[0;34m\u001b[0m\u001b[0;34m\u001b[0m\u001b[0m\n\u001b[0;32m--> 628\u001b[0;31m         return _minimize_trustregion_constr(fun, x0, args, jac, hess, hessp,\n\u001b[0m\u001b[1;32m    629\u001b[0m                                             \u001b[0mbounds\u001b[0m\u001b[0;34m,\u001b[0m \u001b[0mconstraints\u001b[0m\u001b[0;34m,\u001b[0m\u001b[0;34m\u001b[0m\u001b[0;34m\u001b[0m\u001b[0m\n\u001b[1;32m    630\u001b[0m                                             callback=callback, **options)\n",
      "\u001b[0;32m~/miniconda3/envs/qiskit/lib/python3.9/site-packages/scipy/optimize/_trustregion_constr/minimize_trustregion_constr.py\u001b[0m in \u001b[0;36m_minimize_trustregion_constr\u001b[0;34m(fun, x0, args, grad, hess, hessp, bounds, constraints, xtol, gtol, barrier_tol, sparse_jacobian, callback, maxiter, verbose, finite_diff_rel_step, initial_constr_penalty, initial_tr_radius, initial_barrier_parameter, initial_barrier_tolerance, factorization_method, disp)\u001b[0m\n\u001b[1;32m    507\u001b[0m \u001b[0;34m\u001b[0m\u001b[0m\n\u001b[1;32m    508\u001b[0m     \u001b[0;32melif\u001b[0m \u001b[0mmethod\u001b[0m \u001b[0;34m==\u001b[0m \u001b[0;34m'tr_interior_point'\u001b[0m\u001b[0;34m:\u001b[0m\u001b[0;34m\u001b[0m\u001b[0;34m\u001b[0m\u001b[0m\n\u001b[0;32m--> 509\u001b[0;31m         _, result = tr_interior_point(\n\u001b[0m\u001b[1;32m    510\u001b[0m             \u001b[0mobjective\u001b[0m\u001b[0;34m.\u001b[0m\u001b[0mfun\u001b[0m\u001b[0;34m,\u001b[0m \u001b[0mobjective\u001b[0m\u001b[0;34m.\u001b[0m\u001b[0mgrad\u001b[0m\u001b[0;34m,\u001b[0m \u001b[0mlagrangian_hess\u001b[0m\u001b[0;34m,\u001b[0m\u001b[0;34m\u001b[0m\u001b[0;34m\u001b[0m\u001b[0m\n\u001b[1;32m    511\u001b[0m             \u001b[0mn_vars\u001b[0m\u001b[0;34m,\u001b[0m \u001b[0mcanonical\u001b[0m\u001b[0;34m.\u001b[0m\u001b[0mn_ineq\u001b[0m\u001b[0;34m,\u001b[0m \u001b[0mcanonical\u001b[0m\u001b[0;34m.\u001b[0m\u001b[0mn_eq\u001b[0m\u001b[0;34m,\u001b[0m\u001b[0;34m\u001b[0m\u001b[0;34m\u001b[0m\u001b[0m\n",
      "\u001b[0;32m~/miniconda3/envs/qiskit/lib/python3.9/site-packages/scipy/optimize/_trustregion_constr/tr_interior_point.py\u001b[0m in \u001b[0;36mtr_interior_point\u001b[0;34m(fun, grad, lagr_hess, n_vars, n_ineq, n_eq, constr, jac, x0, fun0, grad0, constr_ineq0, jac_ineq0, constr_eq0, jac_eq0, stop_criteria, enforce_feasibility, xtol, state, initial_barrier_parameter, initial_tolerance, initial_penalty, initial_trust_radius, factorization_method)\u001b[0m\n\u001b[1;32m    319\u001b[0m     \u001b[0;32mwhile\u001b[0m \u001b[0;32mTrue\u001b[0m\u001b[0;34m:\u001b[0m\u001b[0;34m\u001b[0m\u001b[0;34m\u001b[0m\u001b[0m\n\u001b[1;32m    320\u001b[0m         \u001b[0;31m# Solve SQP subproblem\u001b[0m\u001b[0;34m\u001b[0m\u001b[0;34m\u001b[0m\u001b[0;34m\u001b[0m\u001b[0m\n\u001b[0;32m--> 321\u001b[0;31m         z, state = equality_constrained_sqp(\n\u001b[0m\u001b[1;32m    322\u001b[0m             \u001b[0msubprob\u001b[0m\u001b[0;34m.\u001b[0m\u001b[0mfunction_and_constraints\u001b[0m\u001b[0;34m,\u001b[0m\u001b[0;34m\u001b[0m\u001b[0;34m\u001b[0m\u001b[0m\n\u001b[1;32m    323\u001b[0m             \u001b[0msubprob\u001b[0m\u001b[0;34m.\u001b[0m\u001b[0mgradient_and_jacobian\u001b[0m\u001b[0;34m,\u001b[0m\u001b[0;34m\u001b[0m\u001b[0;34m\u001b[0m\u001b[0m\n",
      "\u001b[0;32m~/miniconda3/envs/qiskit/lib/python3.9/site-packages/scipy/optimize/_trustregion_constr/equality_constrained_sqp.py\u001b[0m in \u001b[0;36mequality_constrained_sqp\u001b[0;34m(fun_and_constr, grad_and_jac, lagr_hess, x0, fun0, grad0, constr0, jac0, stop_criteria, state, initial_penalty, initial_trust_radius, factorization_method, trust_lb, trust_ub, scaling)\u001b[0m\n\u001b[1;32m     85\u001b[0m \u001b[0;34m\u001b[0m\u001b[0m\n\u001b[1;32m     86\u001b[0m     \u001b[0;31m# Update state parameters\u001b[0m\u001b[0;34m\u001b[0m\u001b[0;34m\u001b[0m\u001b[0;34m\u001b[0m\u001b[0m\n\u001b[0;32m---> 87\u001b[0;31m     \u001b[0moptimality\u001b[0m \u001b[0;34m=\u001b[0m \u001b[0mnorm\u001b[0m\u001b[0;34m(\u001b[0m\u001b[0mc\u001b[0m \u001b[0;34m+\u001b[0m \u001b[0mA\u001b[0m\u001b[0;34m.\u001b[0m\u001b[0mT\u001b[0m\u001b[0;34m.\u001b[0m\u001b[0mdot\u001b[0m\u001b[0;34m(\u001b[0m\u001b[0mv\u001b[0m\u001b[0;34m)\u001b[0m\u001b[0;34m,\u001b[0m \u001b[0mnp\u001b[0m\u001b[0;34m.\u001b[0m\u001b[0minf\u001b[0m\u001b[0;34m)\u001b[0m\u001b[0;34m\u001b[0m\u001b[0;34m\u001b[0m\u001b[0m\n\u001b[0m\u001b[1;32m     88\u001b[0m     \u001b[0mconstr_violation\u001b[0m \u001b[0;34m=\u001b[0m \u001b[0mnorm\u001b[0m\u001b[0;34m(\u001b[0m\u001b[0mb\u001b[0m\u001b[0;34m,\u001b[0m \u001b[0mnp\u001b[0m\u001b[0;34m.\u001b[0m\u001b[0minf\u001b[0m\u001b[0;34m)\u001b[0m \u001b[0;32mif\u001b[0m \u001b[0mlen\u001b[0m\u001b[0;34m(\u001b[0m\u001b[0mb\u001b[0m\u001b[0;34m)\u001b[0m \u001b[0;34m>\u001b[0m \u001b[0;36m0\u001b[0m \u001b[0;32melse\u001b[0m \u001b[0;36m0\u001b[0m\u001b[0;34m\u001b[0m\u001b[0;34m\u001b[0m\u001b[0m\n\u001b[1;32m     89\u001b[0m     cg_info = {'niter': 0, 'stop_cond': 0,\n",
      "\u001b[0;32m~/miniconda3/envs/qiskit/lib/python3.9/site-packages/scipy/sparse/base.py\u001b[0m in \u001b[0;36m__getattr__\u001b[0;34m(self, attr)\u001b[0m\n\u001b[1;32m    675\u001b[0m             \u001b[0;32mreturn\u001b[0m \u001b[0mself\u001b[0m\u001b[0;34m.\u001b[0m\u001b[0mtoarray\u001b[0m\u001b[0;34m(\u001b[0m\u001b[0;34m)\u001b[0m\u001b[0;34m\u001b[0m\u001b[0;34m\u001b[0m\u001b[0m\n\u001b[1;32m    676\u001b[0m         \u001b[0;32melif\u001b[0m \u001b[0mattr\u001b[0m \u001b[0;34m==\u001b[0m \u001b[0;34m'T'\u001b[0m\u001b[0;34m:\u001b[0m\u001b[0;34m\u001b[0m\u001b[0;34m\u001b[0m\u001b[0m\n\u001b[0;32m--> 677\u001b[0;31m             \u001b[0;32mreturn\u001b[0m \u001b[0mself\u001b[0m\u001b[0;34m.\u001b[0m\u001b[0mtranspose\u001b[0m\u001b[0;34m(\u001b[0m\u001b[0;34m)\u001b[0m\u001b[0;34m\u001b[0m\u001b[0;34m\u001b[0m\u001b[0m\n\u001b[0m\u001b[1;32m    678\u001b[0m         \u001b[0;32melif\u001b[0m \u001b[0mattr\u001b[0m \u001b[0;34m==\u001b[0m \u001b[0;34m'H'\u001b[0m\u001b[0;34m:\u001b[0m\u001b[0;34m\u001b[0m\u001b[0;34m\u001b[0m\u001b[0m\n\u001b[1;32m    679\u001b[0m             \u001b[0;32mreturn\u001b[0m \u001b[0mself\u001b[0m\u001b[0;34m.\u001b[0m\u001b[0mgetH\u001b[0m\u001b[0;34m(\u001b[0m\u001b[0;34m)\u001b[0m\u001b[0;34m\u001b[0m\u001b[0;34m\u001b[0m\u001b[0m\n",
      "\u001b[0;32m~/miniconda3/envs/qiskit/lib/python3.9/site-packages/scipy/sparse/csr.py\u001b[0m in \u001b[0;36mtranspose\u001b[0;34m(self, axes, copy)\u001b[0m\n\u001b[1;32m    142\u001b[0m \u001b[0;34m\u001b[0m\u001b[0m\n\u001b[1;32m    143\u001b[0m         \u001b[0;32mfrom\u001b[0m \u001b[0;34m.\u001b[0m\u001b[0mcsc\u001b[0m \u001b[0;32mimport\u001b[0m \u001b[0mcsc_matrix\u001b[0m\u001b[0;34m\u001b[0m\u001b[0;34m\u001b[0m\u001b[0m\n\u001b[0;32m--> 144\u001b[0;31m         return csc_matrix((self.data, self.indices,\n\u001b[0m\u001b[1;32m    145\u001b[0m                            self.indptr), shape=(N, M), copy=copy)\n\u001b[1;32m    146\u001b[0m \u001b[0;34m\u001b[0m\u001b[0m\n",
      "\u001b[0;32m~/miniconda3/envs/qiskit/lib/python3.9/site-packages/scipy/sparse/compressed.py\u001b[0m in \u001b[0;36m__init__\u001b[0;34m(self, arg1, shape, dtype, copy)\u001b[0m\n\u001b[1;32m    103\u001b[0m             \u001b[0mself\u001b[0m\u001b[0;34m.\u001b[0m\u001b[0mdata\u001b[0m \u001b[0;34m=\u001b[0m \u001b[0mself\u001b[0m\u001b[0;34m.\u001b[0m\u001b[0mdata\u001b[0m\u001b[0;34m.\u001b[0m\u001b[0mastype\u001b[0m\u001b[0;34m(\u001b[0m\u001b[0mdtype\u001b[0m\u001b[0;34m,\u001b[0m \u001b[0mcopy\u001b[0m\u001b[0;34m=\u001b[0m\u001b[0;32mFalse\u001b[0m\u001b[0;34m)\u001b[0m\u001b[0;34m\u001b[0m\u001b[0;34m\u001b[0m\u001b[0m\n\u001b[1;32m    104\u001b[0m \u001b[0;34m\u001b[0m\u001b[0m\n\u001b[0;32m--> 105\u001b[0;31m         \u001b[0mself\u001b[0m\u001b[0;34m.\u001b[0m\u001b[0mcheck_format\u001b[0m\u001b[0;34m(\u001b[0m\u001b[0mfull_check\u001b[0m\u001b[0;34m=\u001b[0m\u001b[0;32mFalse\u001b[0m\u001b[0;34m)\u001b[0m\u001b[0;34m\u001b[0m\u001b[0;34m\u001b[0m\u001b[0m\n\u001b[0m\u001b[1;32m    106\u001b[0m \u001b[0;34m\u001b[0m\u001b[0m\n\u001b[1;32m    107\u001b[0m     \u001b[0;32mdef\u001b[0m \u001b[0mgetnnz\u001b[0m\u001b[0;34m(\u001b[0m\u001b[0mself\u001b[0m\u001b[0;34m,\u001b[0m \u001b[0maxis\u001b[0m\u001b[0;34m=\u001b[0m\u001b[0;32mNone\u001b[0m\u001b[0;34m)\u001b[0m\u001b[0;34m:\u001b[0m\u001b[0;34m\u001b[0m\u001b[0;34m\u001b[0m\u001b[0m\n",
      "\u001b[0;32m~/miniconda3/envs/qiskit/lib/python3.9/site-packages/scipy/sparse/compressed.py\u001b[0m in \u001b[0;36mcheck_format\u001b[0;34m(self, full_check)\u001b[0m\n\u001b[1;32m    160\u001b[0m \u001b[0;34m\u001b[0m\u001b[0m\n\u001b[1;32m    161\u001b[0m         \u001b[0;31m# check array shapes\u001b[0m\u001b[0;34m\u001b[0m\u001b[0;34m\u001b[0m\u001b[0;34m\u001b[0m\u001b[0m\n\u001b[0;32m--> 162\u001b[0;31m         \u001b[0;32mfor\u001b[0m \u001b[0mx\u001b[0m \u001b[0;32min\u001b[0m \u001b[0;34m[\u001b[0m\u001b[0mself\u001b[0m\u001b[0;34m.\u001b[0m\u001b[0mdata\u001b[0m\u001b[0;34m.\u001b[0m\u001b[0mndim\u001b[0m\u001b[0;34m,\u001b[0m \u001b[0mself\u001b[0m\u001b[0;34m.\u001b[0m\u001b[0mindices\u001b[0m\u001b[0;34m.\u001b[0m\u001b[0mndim\u001b[0m\u001b[0;34m,\u001b[0m \u001b[0mself\u001b[0m\u001b[0;34m.\u001b[0m\u001b[0mindptr\u001b[0m\u001b[0;34m.\u001b[0m\u001b[0mndim\u001b[0m\u001b[0;34m]\u001b[0m\u001b[0;34m:\u001b[0m\u001b[0;34m\u001b[0m\u001b[0;34m\u001b[0m\u001b[0m\n\u001b[0m\u001b[1;32m    163\u001b[0m             \u001b[0;32mif\u001b[0m \u001b[0mx\u001b[0m \u001b[0;34m!=\u001b[0m \u001b[0;36m1\u001b[0m\u001b[0;34m:\u001b[0m\u001b[0;34m\u001b[0m\u001b[0;34m\u001b[0m\u001b[0m\n\u001b[1;32m    164\u001b[0m                 \u001b[0;32mraise\u001b[0m \u001b[0mValueError\u001b[0m\u001b[0;34m(\u001b[0m\u001b[0;34m'data, indices, and indptr should be 1-D'\u001b[0m\u001b[0;34m)\u001b[0m\u001b[0;34m\u001b[0m\u001b[0;34m\u001b[0m\u001b[0m\n",
      "\u001b[0;31mKeyboardInterrupt\u001b[0m: "
     ]
    },
    {
     "data": {
      "text/plain": [
       "<Figure size 432x288 with 0 Axes>"
      ]
     },
     "metadata": {},
     "output_type": "display_data"
    }
   ],
   "source": [
    "ν = 0.5\n",
    "ν2 = 0.5\n",
    "\n",
    "rA_list = np.linspace(0.3,0.8,40)\n",
    "r1_list = np.linspace(0.001,0.999,80)\n",
    "# rA_list = np.array([0.7])\n",
    "plt.figure()\n",
    "for rA in rA_list:\n",
    "    r1_z = []\n",
    "    nu_z = []\n",
    "    for r1 in r1_list:\n",
    "        def cfunc(x):\n",
    "            return ((1-rA)*fs((ν-rA*x*r1)/(1-rA))-rA*r1*fs(x)-(1-r1)*rA*fs(ν2))**2\n",
    "\n",
    "#         r_result = optimize.fmin(cfunc, 0.3, disp = False)\n",
    "#         if (cfunc(r_result[0]))<1e-6:\n",
    "        xmin = (ν-(1-rA))/(r1*rA)\n",
    "        xmax = np.min([1.0,ν/(r1*rA)])\n",
    "        bounds = optimize.Bounds(xmin,xmax)\n",
    "        x0 = np.array([0.5])\n",
    "        r_result=optimize.minimize(cfunc, x0,  method='trust-constr', bounds=bounds)# options={'disp': True})\n",
    "\n",
    "        if np.abs(r_result.fun)[0]<1e-6:\n",
    "            r1_z.append(r1)\n",
    "#             nu_z.append(r_result[0])\n",
    "    if len(r1_z)>0:\n",
    "        plt.plot(r1_z,1-rA + 0*np.array(r1_z),\"r.\")\n",
    "#         plt.plot(1-np.array(r1_z),1-rA + 0*np.array(r1_z),\"r.\")\n",
    "#         plt.plot(r1_z,nu_z,\"o\")\n",
    "        \n",
    "rA_plot = np.linspace(0.001,0.999,100)\n",
    "plt.plot(1-1/(2*rA_plot),1-np.array(rA_plot),\"b\")\n",
    "plt.plot(1/(2*rA_plot),1-np.array(rA_plot),\"b\")\n",
    "plt.ylim([0,1])\n",
    "plt.xlabel(r\"$N_{A1}/N_{A2}$\")\n",
    "plt.ylabel(r\"$N_B/N$\")\n",
    "plt.xlim(0,1)\n",
    "plt.grid()\n",
    "plt.show()\n"
   ]
  },
  {
   "cell_type": "code",
   "execution_count": 70,
   "metadata": {},
   "outputs": [
    {
     "data": {
      "image/png": "[encoded data removed]",
      "text/plain": [
       "<Figure size 432x288 with 1 Axes>"
      ]
     },
     "metadata": {
      "needs_background": "light"
     },
     "output_type": "display_data"
    }
   ],
   "source": [
    "ν = 0.5\n",
    "ν2 = 0.5\n",
    "\n",
    "rA_list = np.linspace(0.3,0.8,80)\n",
    "r1_list = np.linspace(0.001,0.999,120)\n",
    "# rA_list = np.array([0.7])\n",
    "plt.figure()\n",
    "for rA in rA_list:\n",
    "    r1_z = []\n",
    "    nu_z = []\n",
    "    for r1 in r1_list:\n",
    "        def cfunc(x):\n",
    "            return ((1-rA)*fs((ν-rA*x*r1)/(1-rA))-rA*r1*fs(x)-(1-r1)*rA*fs(ν2))**2\n",
    "\n",
    "        r_result = optimize.fmin(cfunc, 0.3, disp = False)\n",
    "        if (cfunc(r_result[0]))<1e-6:\n",
    "            r1_z.append(r1)\n",
    "            nu_z.append(r_result[0])\n",
    "    if len(r1_z)>0:\n",
    "        plt.plot(r1_z,1-rA + 0*np.array(r1_z),\"r.\")\n",
    "#         plt.plot(1-np.array(r1_z),1-rA + 0*np.array(r1_z),\"r.\")\n",
    "#         plt.plot(r1_z,nu_z,\"o\")\n",
    "        \n",
    "rA_plot = np.linspace(0.001,0.999,100)\n",
    "plt.plot(1-1/(2*rA_plot),1-np.array(rA_plot),\"b\")\n",
    "plt.plot(1/(2*rA_plot),1-np.array(rA_plot),\"b\")\n",
    "plt.ylim([0,1])\n",
    "plt.xlabel(r\"$N_{A1}/N_{A2}$\")\n",
    "plt.ylabel(r\"$N_B/N$\")\n",
    "plt.xlim(0,1)\n",
    "plt.grid()\n",
    "plt.show()\n"
   ]
  },
  {
   "cell_type": "markdown",
   "metadata": {},
   "source": [
    "# energy constraint"
   ]
  },
  {
   "cell_type": "code",
   "execution_count": 16,
   "metadata": {},
   "outputs": [
    {
     "data": {
      "application/vnd.jupyter.widget-view+json": {
       "model_id": "8630cd75d3f94eee991233097e4ed400",
       "version_major": 2,
       "version_minor": 0
      },
      "text/plain": [
       "interactive(children=(FloatSlider(value=0.491, description='rA', max=0.999, min=0.001, step=0.01), FloatSlider…"
      ]
     },
     "metadata": {},
     "output_type": "display_data"
    }
   ],
   "source": [
    "# N_1 f(nu_1) + N_2 f(nu_2) = Nb\n",
    "def fs(x):\n",
    "#     return x**0.5\n",
    "    return np.log(2) - x**2/2\n",
    "\n",
    "x = np.linspace(1e-3,1-1e-3)\n",
    "# plt.plot(x,fs(x))\n",
    "\n",
    "e = 0.5\n",
    "e2 = 0.5\n",
    "\n",
    "def plotter(rA,r1):\n",
    "    e1 = np.linspace(1e-3,5-1e-3)\n",
    "    inds = np.argwhere(e-rA*r1*e1>=0) \n",
    "    e1 = e1[inds[:,0]]\n",
    "#     inds = np.argwhere((ν-rA*r1*ν1)/(1-rA)<=1) \n",
    "#     ν1 = ν1[inds[:,0]]\n",
    "    def cfunc(x):\n",
    "        return ((1-rA)*fs((e-rA*x*r1)/(1-rA))-rA*r1*fs(x)-(1-r1)*rA*fs(e2))**2\n",
    "    \n",
    "    plt.plot(e1, cfunc(e1))\n",
    "\n",
    "#     linear_constraint = optimize.LinearConstraint(1, 0, 0.5)\n",
    "#     linear_constraint = optimize.LinearConstraint(1, 0, 0.5)\n",
    "    xmin = np.max([0,(e-(1-rA))/(r1*rA)])\n",
    "    xmax = np.max([(2*np.log(2))**0.5,e/(r1*rA)])\n",
    "    bounds = optimize.Bounds(xmin,xmax)\n",
    "    x0 = np.array([0.5])\n",
    "    r_result=optimize.minimize(cfunc, x0,  method='trust-constr', bounds=bounds)# options={'disp': True})\n",
    "\n",
    "    print(r_result.x,r_result.fun[0])\n",
    "    if np.abs(r_result.fun[0])<1e-6:\n",
    "        plt.plot(r_result.x,r_result.fun[0],\"ro\")\n",
    "        e1_sol = r_result.x\n",
    "        print(e1_sol)\n",
    "    plt.plot(e1, e1*0,\"k--\")\n",
    "    #     plt.show()\n",
    "\n",
    "        \n",
    "interact(plotter,rA=(0.001,0.999,0.01), r1=(0.01,0.999,0.01));\n",
    "\n",
    "# plotter(0.75,0.331)"
   ]
  },
  {
   "cell_type": "code",
   "execution_count": 7,
   "metadata": {},
   "outputs": [
    {
     "data": {
      "text/plain": [
       "0.4643962848297215"
      ]
     },
     "execution_count": 7,
     "metadata": {},
     "output_type": "execute_result"
    }
   ],
   "source": [
    "rA = 0.68\n",
    "r1 = 0.57\n",
    "(e-(1-rA))/(r1*rA)"
   ]
  },
  {
   "cell_type": "code",
   "execution_count": 17,
   "metadata": {},
   "outputs": [
    {
     "data": {
      "image/png": "[encoded data removed]",
      "text/plain": [
       "<Figure size 432x288 with 1 Axes>"
      ]
     },
     "metadata": {
      "needs_background": "light"
     },
     "output_type": "display_data"
    }
   ],
   "source": [
    "e = 0.5\n",
    "e2 = 0.5\n",
    "\n",
    "def fs(x):\n",
    "#     return x**0.5\n",
    "    return np.log(2) - x**2/2\n",
    "\n",
    "rA_list = np.linspace(0.001,0.999,40)\n",
    "r1_list = np.linspace(0.001,0.999,20)\n",
    "# rA_list = np.array([0.7])\n",
    "plt.figure()\n",
    "for rA in rA_list:\n",
    "    r1_z = []\n",
    "    nu_z = []\n",
    "    for r1 in r1_list:\n",
    "        def cfunc(x):\n",
    "            return ((1-rA)*fs((e-rA*x*r1)/(1-rA))-rA*r1*fs(x)-(1-r1)*rA*fs(e2))**2\n",
    "\n",
    "        r_result = optimize.fmin(cfunc, 0.3, disp = False)\n",
    "        e1_val = r_result[0]\n",
    "        if (cfunc(e1_val))<1e-6 and e1_val>0 and e1_val<(2*np.log(2))**0.5:\n",
    "#         xmin = (ν-(1-rA))/(r1*rA)\n",
    "#         xmax = np.min([1.0,ν/(r1*rA)])\n",
    "#         bounds = optimize.Bounds(xmin,xmax)\n",
    "#         x0 = np.array([0.5])\n",
    "#         r_result=optimize.minimize(cfunc, x0,  method='trust-constr', bounds=bounds)# options={'disp': True})\n",
    "\n",
    "#     if np.abs(r_result.fun[0])<1e-6:\n",
    "            r1_z.append(r1)\n",
    "            nu_z.append(r_result[0])\n",
    "    if len(r1_z)>0:\n",
    "        plt.plot(r1_z,1-rA + 0*np.array(r1_z),\"r.\")\n",
    "#         plt.plot(1-np.array(r1_z),1-rA + 0*np.array(r1_z),\"r.\")\n",
    "#         plt.plot(r1_z,nu_z,\"o\")\n",
    "        \n",
    "plt.plot(1-1/(2*rA_list),1-np.array(rA_list),\"b\")\n",
    "plt.plot(1/(2*rA_list),1-np.array(rA_list),\"b\")\n",
    "plt.ylim([0,1])\n",
    "plt.xlabel(r\"$N_{A1}/N_{A2}$\")\n",
    "plt.ylabel(r\"$N_B/N$\")\n",
    "plt.xlim(0,1)\n",
    "plt.grid()\n",
    "plt.show()\n"
   ]
  },
  {
   "cell_type": "code",
   "execution_count": null,
   "metadata": {},
   "outputs": [],
   "source": []
  }
 ],
 "metadata": {
  "kernelspec": {
   "display_name": "Python 3",
   "language": "python",
   "name": "python3"
  },
  "language_info": {
   "codemirror_mode": {
    "name": "ipython",
    "version": 3
   },
   "file_extension": ".py",
   "mimetype": "text/x-python",
   "name": "python",
   "nbconvert_exporter": "python",
   "pygments_lexer": "ipython3",
   "version": "3.8.6"
  }
 },
 "nbformat": 4,
 "nbformat_minor": 4
}
