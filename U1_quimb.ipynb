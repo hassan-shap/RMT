{
 "cells": [
  {
   "cell_type": "code",
   "execution_count": 1,
   "metadata": {},
   "outputs": [
    {
     "ename": "ModuleNotFoundError",
     "evalue": "No module named 'quimb'",
     "output_type": "error",
     "traceback": [
      "\u001b[0;31m---------------------------------------------------------------------------\u001b[0m",
      "\u001b[0;31mModuleNotFoundError\u001b[0m                       Traceback (most recent call last)",
      "\u001b[0;32m<ipython-input-1-789e9c583adc>\u001b[0m in \u001b[0;36m<module>\u001b[0;34m\u001b[0m\n\u001b[1;32m      9\u001b[0m \u001b[0;32mimport\u001b[0m \u001b[0mpandas\u001b[0m \u001b[0;32mas\u001b[0m \u001b[0mpd\u001b[0m\u001b[0;34m\u001b[0m\u001b[0;34m\u001b[0m\u001b[0m\n\u001b[1;32m     10\u001b[0m \u001b[0;34m\u001b[0m\u001b[0m\n\u001b[0;32m---> 11\u001b[0;31m \u001b[0;32mfrom\u001b[0m \u001b[0mquimb\u001b[0m \u001b[0;32mimport\u001b[0m \u001b[0;34m*\u001b[0m\u001b[0;34m\u001b[0m\u001b[0;34m\u001b[0m\u001b[0m\n\u001b[0m\u001b[1;32m     12\u001b[0m \u001b[0;32mimport\u001b[0m \u001b[0mtime\u001b[0m\u001b[0;34m\u001b[0m\u001b[0;34m\u001b[0m\u001b[0m\n",
      "\u001b[0;31mModuleNotFoundError\u001b[0m: No module named 'quimb'"
     ]
    }
   ],
   "source": [
    "import numpy as np\n",
    "from math import pi, sqrt, tanh\n",
    "import matplotlib.pyplot as plt\n",
    "from scipy.linalg import block_diag\n",
    "from ipywidgets import interact\n",
    "from os import path\n",
    "\n",
    "# import plotly.graph_objects as go\n",
    "import pandas as pd\n",
    "\n",
    "from quimb import *\n",
    "import time\n"
   ]
  },
  {
   "cell_type": "code",
   "execution_count": 26,
   "metadata": {},
   "outputs": [],
   "source": [
    "def Hilbertspace_Zr(N,r):\n",
    "\n",
    "    states=np.zeros((r**N,N),dtype=int)\n",
    "\n",
    "    if N>0:\n",
    "        for i_1 in range(r**N):\n",
    "            num_str=np.base_repr(i_1,base=r)[::-1]\n",
    "            for i_2 in range(len(num_str)):\n",
    "                states[i_1,i_2]=int(num_str[i_2])\n",
    "    else:\n",
    "        states=[[0]]\n",
    "        \n",
    "    return states\n",
    "\n",
    "def p_transpose_2(V,Na,Nb):\n",
    "# partial transpose with respect to subsystem 2\n",
    "# the basis of NaxNb density matrix is defined by Nb*(i-1)+j,\n",
    "# i,j=1,2,3 spans the Hilbert space of subsystem 1 and 2 respectively\n",
    "    U=np.zeros((Na*Nb,Na*Nb), dtype=np.complex128)\n",
    "    for i_1 in range(Na):\n",
    "        for i_2 in range(Na):\n",
    "#             print(V[Nb*i_1:Nb*(i_1+1),Nb*i_2:Nb*(i_2+1)].shape)\n",
    "            U[Nb*i_1:Nb*(i_1+1),Nb*i_2:Nb*(i_2+1)]=np.transpose(V[Nb*i_1:Nb*(i_1+1),Nb*i_2:Nb*(i_2+1)])\n",
    "\n",
    "    return U\n"
   ]
  },
  {
   "cell_type": "code",
   "execution_count": 67,
   "metadata": {},
   "outputs": [
    {
     "name": "stdout",
     "output_type": "stream",
     "text": [
      "2\n",
      "[[1.62647286]] [[3.55062415]]\n",
      "Finished, elapsed time = 0.01 sec\n"
     ]
    }
   ],
   "source": [
    "Nrep=1\n",
    "r=2 # local Hilbert space dim\n",
    "\n",
    "La=4\n",
    "Lb=4\n",
    "Lab = La+Lb\n",
    "Na=r**La\n",
    "Nb=r**Lb\n",
    "Nab= Na*Nb\n",
    "\n",
    "Lc=4\n",
    "Labc = Lab+Lc\n",
    "\n",
    "# Npt_sw = [int((La+Lb+Lc)/2)] #np.arange(1,int((La+Lb+Lc)/2)+1)\n",
    "Npt_sw = [int(Lab/4)] #np.arange(4,int((La+Lb+Lc)/2)+1)\n",
    "\n",
    "Nc=r**Lc\n",
    "\n",
    "s_ab=Hilbertspace_Zr(La+Lb,r)\n",
    "i_ab=[]\n",
    "i_ab_d=[]\n",
    "### indices for occupation numbers\n",
    "for i_r in range(La+Lb+1):\n",
    "    i_ab.append(np.argwhere(np.sum(s_ab,axis=1)==i_r)[:,0])\n",
    "\n",
    "#     for i_d in range(-Lb,La+1):\n",
    "#         i_ab_d.append(np.argwhere((np.sum(s_ab[:,:La],axis=1)-np.sum(s_ab[:,La:],axis=1))==i_d)[:,0])      \n",
    "#     s_c=Hilbertspace_Zr(Lc,r)\n",
    "#     i_c=[]\n",
    "#     for i_r in range(Lc+1):\n",
    "#         i_c.append(np.argwhere(np.sum(s_c,axis=1)==i_r)[:,0]) \n",
    "        \n",
    "v0T=np.zeros(Nrep*Nb*Na)\n",
    "\n",
    "neg_ab = np.zeros((len(Npt_sw),Nrep))\n",
    "neg_ac = np.zeros((len(Npt_sw),Nrep))\n",
    "mut_ac = np.zeros((len(Npt_sw),Nrep))\n",
    "neg_ab_2 = np.zeros((len(Npt_sw),Nrep))\n",
    "\n",
    "t_timer= time.time()\n",
    "for i_N in range(len(Npt_sw)):\n",
    "    Npt=Npt_sw[i_N]\n",
    "    print(Npt)\n",
    "\n",
    "    X=np.zeros((Na*Nb,Nc), dtype=np.complex128)\n",
    "    \n",
    "    v1T =[]\n",
    "    for i_r in range(Nrep):\n",
    "#         print(i_r)\n",
    "#         for i_pt in range(min(Npt,La+Lb)+1):\n",
    "#             if (Npt-i_pt) <= Lc:\n",
    "#                     print(i_ab[i_pt],i_c[Npt-i_pt])\n",
    "#                 X[np.ix_(i_ab[i_pt],i_c[Npt-i_pt])]=np.random.randn(len(i_ab[i_pt]),len(i_c[Npt-i_pt]))+ 1j*np.random.randn(len(i_ab[i_pt]),len(i_c[Npt-i_pt]))\n",
    "    #### no symmetry\n",
    "#         X=np.random.randn(Na*Nb,Nc)+1j*np.random.randn(Na*Nb,Nc)\n",
    "        X[np.ix_(i_ab[Npt]),:]=np.random.randn(len(i_ab[Npt]),Nc)+ 1j*np.random.randn(len(i_ab[Npt]),Nc)\n",
    "\n",
    "        psi = normalize(np.reshape(X,[Nab*Nc,1]))\n",
    "        dims = [r]*Labc\n",
    "#         neg_ab[i_N,i_r] = logneg_subsys_approx(psi, dims=dims, sysa=np.arange(Lc,Lc+La), sysb=np.arange(Lc+La,Labc))\n",
    "#         neg_ab[i_N,i_r] = logneg_subsys(psi, dims=dims, sysa=np.arange(La), sysb=np.arange(La,La+Lb))\n",
    "        neg_ac[i_N,i_r] = logneg_subsys(psi, dims=dims, sysa=np.arange(La), sysb=np.arange(La+Lb,Labc))\n",
    "        mut_ac[i_N,i_r] = mutinf_subsys(psi, dims=dims, sysa=np.arange(La), sysb=np.arange(La+Lb,Labc))\n",
    "\n",
    "#         mat=np.dot(X,np.matrix(X).H)\n",
    "#         rho= mat / np.trace(mat)\n",
    "#         neg_ab_2[i_N,i_r]= logneg(rho, dims=[r]*(Lab), sysa=range(La))\n",
    "\n",
    "    print(neg_ac, mut_ac)\n",
    "#     out_dir = 'Hong_data/' \n",
    "#     if symm==1:\n",
    "#         f1= 'NS_U1_%d_Labc_%d_%d_%d_symm.npz' % (Npt,La,Lb,Lc)\n",
    "#     else:\n",
    "#         f1= 'NS_U1_%d_Labc_%d_%d_%d.npz' % (Npt,La,Lb,Lc)\n",
    "#     print(f1+' was saved!')\n",
    "#     fname = out_dir+f1\n",
    "#     np.savez(fname, evals=v1T, Nrep=Nrep)\n",
    "\n",
    "elapsed = time.time() - t_timer\n",
    "print(\"Finished, elapsed time = %.2f \" % (elapsed)+ \"sec\")\n"
   ]
  },
  {
   "cell_type": "code",
   "execution_count": 24,
   "metadata": {},
   "outputs": [
    {
     "name": "stdout",
     "output_type": "stream",
     "text": [
      "Na1b= 8 , Npt= 2.0\n",
      "Na1b= 9 , Npt= 2.0\n",
      "Na1b= 10 , Npt= 2.0\n",
      "Na1b= 11 , Npt= 3.0\n",
      "Na1b= 12 , Npt= 3.0\n",
      "Na1b= 13 , Npt= 3.0\n",
      "Finished, elapsed time = 46.52 sec\n"
     ]
    }
   ],
   "source": [
    "Nrep=10\n",
    "r=2 # local Hilbert space dim\n",
    "\n",
    "Na1=4\n",
    "La1=r**Na1\n",
    "Na2=2 #Na1\n",
    "La2=r**Na2\n",
    "\n",
    "Nb_sw = np.arange(4,10)\n",
    "neg_a1a2 = np.zeros((len(Nb_sw),Nrep))\n",
    "mut_a1a2 = np.zeros((len(Nb_sw),Nrep))\n",
    "\n",
    "t_timer= time.time()\n",
    "for i_b in range(len(Nb_sw)):\n",
    "    Nb = Nb_sw[i_b]\n",
    "    Lb=r**Nb\n",
    "    Nab = Na1 + Na2 + Nb\n",
    "    Lab = r**Nab\n",
    "    \n",
    "    Na1b = Na1+Nb\n",
    "    La1b= La1*Lb\n",
    "    Npt=np.round(Na1b/4)\n",
    "    print(\"Na1b=\", Na1b, \", Npt=\", Npt)\n",
    "\n",
    "    s_a1b=Hilbertspace_Zr(Na1b,r)\n",
    "    ### indices for occupation numbers\n",
    "    i_a1b = np.argwhere(np.sum(s_a1b,axis=1)==Npt)[:,0]\n",
    "    \n",
    "    X=np.zeros((La1b,La2), dtype=np.complex128)\n",
    "    \n",
    "    for i_r in range(Nrep):\n",
    "#         print(i_r)\n",
    "        X[np.ix_(i_a1b),:]=np.random.randn(len(i_a1b),La2)+ 1j*np.random.randn(len(i_a1b),La2)\n",
    "    #### no symmetry\n",
    "#         X=np.random.randn(Na*Nb,Nc)+1j*np.random.randn(Na*Nb,Nc)\n",
    "\n",
    "        psi = normalize(np.reshape(X,[Lab,1]))\n",
    "        dims = [r]*Nab\n",
    "        neg_a1a2[i_b,i_r] = logneg_subsys_approx(psi, dims=dims, sysa=np.arange(Na1), sysb=np.arange(Na1b,Nab))\n",
    "        mut_a1a2[i_b,i_r] = mutinf_subsys(psi, dims=dims, sysa=np.arange(Na1), sysb=np.arange(Na1b,Nab))\n",
    "\n",
    "#     print(neg_a1a2, mut_a1a2)\n",
    "    \n",
    "#     out_dir = 'Hong_data/' \n",
    "#     if symm==1:\n",
    "#         f1= 'NS_U1_%d_Labc_%d_%d_%d_symm.npz' % (Npt,La,Lb,Lc)\n",
    "#     else:\n",
    "#         f1= 'NS_U1_%d_Labc_%d_%d_%d.npz' % (Npt,La,Lb,Lc)\n",
    "#     print(f1+' was saved!')\n",
    "#     fname = out_dir+f1\n",
    "#     np.savez(fname, evals=v1T, Nrep=Nrep)\n",
    "\n",
    "elapsed = time.time() - t_timer\n",
    "print(\"Finished, elapsed time = %.2f \" % (elapsed)+ \"sec\")\n"
   ]
  },
  {
   "cell_type": "code",
   "execution_count": 25,
   "metadata": {},
   "outputs": [
    {
     "data": {
      "image/png": "[encoded data removed]",
      "text/plain": [
       "<Figure size 432x288 with 1 Axes>"
      ]
     },
     "metadata": {
      "needs_background": "light"
     },
     "output_type": "display_data"
    }
   ],
   "source": [
    "plt.plot(Nb_sw, np.mean(neg_a1a2,axis=1), \"o-\",label=\"LN\")\n",
    "plt.plot(Nb_sw, np.mean(mut_a1a2,axis=1), \"o-\",label=\"MI\")\n",
    "plt.legend()\n",
    "plt.show()"
   ]
  },
  {
   "cell_type": "markdown",
   "metadata": {},
   "source": [
    "# negativity spectrum"
   ]
  },
  {
   "cell_type": "code",
   "execution_count": 68,
   "metadata": {},
   "outputs": [
    {
     "name": "stdout",
     "output_type": "stream",
     "text": [
      "7\n",
      "Finished, elapsed time = 12.35 sec\n"
     ]
    }
   ],
   "source": [
    "Nrep=400\n",
    "r=2 # local Hilbert space dim\n",
    "\n",
    "La=4\n",
    "Lb=10\n",
    "Lab = La+Lb\n",
    "Na=r**La\n",
    "Nb=r**Lb\n",
    "Nab= Na*Nb\n",
    "\n",
    "Lc=4\n",
    "Labc = Lab+Lc\n",
    "\n",
    "# Npt_sw = [int((La+Lb+Lc)/2)] #np.arange(1,int((La+Lb+Lc)/2)+1)\n",
    "Npt_sw = [int(Lab/2)] #np.arange(4,int((La+Lb+Lc)/2)+1)\n",
    "\n",
    "Nc=r**Lc\n",
    "\n",
    "s_ab=Hilbertspace_Zr(La+Lb,r)\n",
    "i_ab=[]\n",
    "i_ab_d=[]\n",
    "### indices for occupation numbers\n",
    "for i_r in range(La+Lb+1):\n",
    "    i_ab.append(np.argwhere(np.sum(s_ab,axis=1)==i_r)[:,0])\n",
    "\n",
    "v0T=np.zeros(Nrep*Nb*Na)\n",
    "\n",
    "neg_ab = np.zeros((len(Npt_sw),Nrep))\n",
    "neg_ac = np.zeros((len(Npt_sw),Nrep))\n",
    "mut_ac = np.zeros((len(Npt_sw),Nrep))\n",
    "neg_ac_2 = np.zeros((len(Npt_sw),Nrep))\n",
    "\n",
    "v1T=np.zeros(Nrep*Nc*Na)\n",
    "\n",
    "t_timer= time.time()\n",
    "for i_N in range(len(Npt_sw)):\n",
    "    Npt=Npt_sw[i_N]\n",
    "    print(Npt)\n",
    "\n",
    "    X=np.zeros((Na*Nb,Nc), dtype=np.complex128)\n",
    "    \n",
    "    for i_r in range(Nrep):\n",
    "        X[np.ix_(i_ab[Npt]),:]=np.random.randn(len(i_ab[Npt]),Nc)+ 1j*np.random.randn(len(i_ab[Npt]),Nc)\n",
    "\n",
    "        psi = normalize(np.reshape(X,[Nab*Nc,1]))\n",
    "        dims = [r]*Labc\n",
    "#         neg_ac[i_N,i_r] = logneg_subsys(psi, dims=dims, sysa=np.arange(La), sysb=np.arange(La+Lb,Labc))\n",
    "#         mut_ac[i_N,i_r] = mutinf_subsys(psi, dims=dims, sysa=np.arange(La), sysb=np.arange(La+Lb,Labc))\n",
    "        \n",
    "        rho = partial_trace(psi, dims = dims, keep=np.concatenate((np.arange(La),np.arange(La+Lb,Labc))))\n",
    "#         neg_ac_2[i_N,i_r]= logneg(rho, dims=[r]*(La+Lc), sysa=range(La))\n",
    "    \n",
    "        rT2 = p_transpose_2(rho,Na,Nc)\n",
    "        l1T=np.linalg.eigvalsh(rT2)\n",
    "#         print(np.log2(np.sum(np.abs(l1T))))\n",
    "        Nab_r = len(i_ab[Npt]) # size of sub-Hilbert space\n",
    "        v1T[i_r*Nc*Na:(i_r+1)*Nc*Na] = Nab_r *l1T\n",
    "\n",
    "        \n",
    "#     print(neg_ac, neg_ac_2)\n",
    "#     out_dir = 'Hong_data/' \n",
    "#     if symm==1:\n",
    "#         f1= 'NS_U1_%d_Labc_%d_%d_%d_symm.npz' % (Npt,La,Lb,Lc)\n",
    "#     else:\n",
    "#         f1= 'NS_U1_%d_Labc_%d_%d_%d.npz' % (Npt,La,Lb,Lc)\n",
    "#     print(f1+' was saved!')\n",
    "#     fname = out_dir+f1\n",
    "#     np.savez(fname, evals=v1T, Nrep=Nrep)\n",
    "\n",
    "elapsed = time.time() - t_timer\n",
    "print(\"Finished, elapsed time = %.2f \" % (elapsed)+ \"sec\")\n"
   ]
  },
  {
   "cell_type": "code",
   "execution_count": 69,
   "metadata": {},
   "outputs": [
    {
     "data": {
      "image/png": "[encoded data removed]",
      "text/plain": [
       "<Figure size 432x288 with 1 Axes>"
      ]
     },
     "metadata": {
      "needs_background": "light"
     },
     "output_type": "display_data"
    }
   ],
   "source": [
    "num_bins = 100\n",
    "n, bin_edges = np.histogram(v1T, bins=num_bins)\n",
    "bins_center= (bin_edges[0:num_bins]+ bin_edges[1:])/2\n",
    "#     print(np.sum(n)/Nrep-Nab_r-N0)\n",
    "n= n/Nrep/(bin_edges[1]-bin_edges[0])            \n",
    "#     plt.plot(bins_center,n,'o',markersize=2,color='b' , label=r'$G_2, N_{pt}$=%d' % (i_pt))\n",
    "plt.plot(bins_center,n,'o',markersize=2,color='b' , label=r'$P_2$')\n",
    "# plt.ylim([0,40])\n",
    "plt.show()"
   ]
  },
  {
   "cell_type": "code",
   "execution_count": null,
   "metadata": {},
   "outputs": [],
   "source": []
  }
 ],
 "metadata": {
  "kernelspec": {
   "display_name": "Python 3",
   "language": "python",
   "name": "python3"
  },
  "language_info": {
   "codemirror_mode": {
    "name": "ipython",
    "version": 3
   },
   "file_extension": ".py",
   "mimetype": "text/x-python",
   "name": "python",
   "nbconvert_exporter": "python",
   "pygments_lexer": "ipython3",
   "version": "3.8.6"
  }
 },
 "nbformat": 4,
 "nbformat_minor": 2
}
