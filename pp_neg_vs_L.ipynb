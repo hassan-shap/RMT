{
 "cells": [
  {
   "cell_type": "code",
   "execution_count": 3,
   "metadata": {},
   "outputs": [],
   "source": [
    "import numpy as np\n",
    "from math import pi, sqrt, tanh, asin\n",
    "import matplotlib.pyplot as plt\n",
    "from scipy.linalg import block_diag\n",
    "from ipywidgets import interact\n",
    "from os import path\n",
    "\n",
    "import plotly.graph_objects as go\n",
    "import pandas as pd\n",
    "\n",
    "from quimb import *\n",
    "import time\n"
   ]
  },
  {
   "cell_type": "code",
   "execution_count": 3,
   "metadata": {},
   "outputs": [],
   "source": [
    "def Hilbertspace_Zr(N,r):\n",
    "\n",
    "    states=np.zeros((r**N,N),dtype=int)\n",
    "\n",
    "    if N>0:\n",
    "        for i_1 in range(r**N):\n",
    "            num_str=np.base_repr(i_1,base=r)[::-1]\n",
    "            for i_2 in range(len(num_str)):\n",
    "                states[i_1,i_2]=int(num_str[i_2])\n",
    "    else:\n",
    "        states=[[0]]\n",
    "        \n",
    "    return states\n",
    "\n",
    "def p_transpose_2(V,Na,Nb):\n",
    "# partial transpose with respect to subsystem 2\n",
    "# the basis of NaxNb density matrix is defined by Nb*(i-1)+j,\n",
    "# i,j=1,2,3 spans the Hilbert space of subsystem 1 and 2 respectively\n",
    "    U=np.zeros((Na*Nb,Na*Nb), dtype=np.complex128)\n",
    "    for i_1 in range(Na):\n",
    "        for i_2 in range(Na):\n",
    "#             print(V[Nb*i_1:Nb*(i_1+1),Nb*i_2:Nb*(i_2+1)].shape)\n",
    "            U[Nb*i_1:Nb*(i_1+1),Nb*i_2:Nb*(i_2+1)]=np.transpose(V[Nb*i_1:Nb*(i_1+1),Nb*i_2:Nb*(i_2+1)])\n",
    "\n",
    "    return U\n",
    "\n",
    "def vNent_calc(rho,epsilon=1e-9):\n",
    "    chi0 =np.linalg.eigvalsh(rho)\n",
    "    chi1=chi0[np.nonzero(np.abs(chi0)>epsilon)]\n",
    "    chi2=chi1[np.nonzero(np.abs(chi1-1)>epsilon)]\n",
    "    return -np.sum(chi2*np.log(chi2))\n"
   ]
  },
  {
   "cell_type": "code",
   "execution_count": 99,
   "metadata": {},
   "outputs": [
    {
     "name": "stdout",
     "output_type": "stream",
     "text": [
      "Lab:  2\n",
      "Nrep: 99\n",
      "Lab:  3\n",
      "Nrep: 99\n",
      "Lab:  4\n",
      "Nrep: 99\n",
      "Lab:  5\n",
      "Nrep: 99\n",
      "Lab:  6\n",
      "Nrep: 99\n",
      "Lab:  7\n",
      "Nrep: 99\n",
      "Lab:  8\n",
      "Nrep: 99\n",
      "Lab:  9\n",
      "Nrep: 99\n",
      "Lab:  10\n",
      "Nrep: 99\n",
      "Lab:  11\n",
      "Nrep: 99\n",
      "Lab:  12\n",
      "Nrep: 99\n",
      "Lab:  13\n",
      "Nrep: 99\n",
      "Lab:  14\n",
      "Nrep: 99\n",
      "Lab:  15\n",
      "Nrep: 99\n",
      "Lab:  16\n",
      "Nrep: 99\n",
      "Finished, quimb elapsed time = 1106.21 sec\n"
     ]
    }
   ],
   "source": [
    "Nrep=100\n",
    "r=2 # local Hilbert space dim\n",
    "\n",
    "L=16\n",
    "Lab_sw=np.arange(2,L+1)\n",
    "# La_sw=np.arange(1,int(L/2)+1)\n",
    "# La_sw= [1] # range(1,6) \n",
    "\n",
    "dims = [r] * L\n",
    "N = prod(dims)\n",
    "\n",
    "s_abc=Hilbertspace_Zr(L,r)\n",
    "\n",
    "Ne_abc = r**(L-1)\n",
    "\n",
    "t_timer=time.time()\n",
    "\n",
    "neg_symm=np.zeros((len(Lab_sw),Nrep))\n",
    "neg_full=np.zeros((len(Lab_sw),Nrep))\n",
    "# np.random.seed(1)\n",
    "\n",
    "for i_l in range(len(Lab_sw)):\n",
    "    \n",
    "    Lb=int(Lab_sw[i_l]/2)\n",
    "    La=Lab_sw[i_l]-Lb\n",
    "    Lc=L-La-Lb\n",
    "    print('Lab: ',La+Lb)\n",
    "    \n",
    "    Na=r**La\n",
    "    Nb=r**Lb\n",
    "    dims_ab = [r] * (La+Lb)\n",
    "    Nc=r**Lc\n",
    "    \n",
    "    if Lc>0:\n",
    "        Ne_ab = r**(L-2)\n",
    "    else:\n",
    "        Ne_ab = r**(L-1)\n",
    "\n",
    "    i_abc=np.zeros((Ne_abc,r),dtype=int)\n",
    "    i_c=np.zeros((Ne_ab,r),dtype=int)\n",
    "    ### indices of r multiples\n",
    "    for i_Zr in range(r):\n",
    "        if Lc>0:\n",
    "            i_abc[:,i_Zr]=np.argwhere(np.mod(np.sum(s_abc[:,:(La+Lb)],axis=1),r)==i_Zr)[:,0]\n",
    "            i_v=np.argwhere(np.mod(np.sum(s_abc[i_abc[:,i_Zr],(La+Lb):],axis=1),r)==i_Zr)[:,0]\n",
    "            i_c[:,i_Zr]=i_abc[i_v,i_Zr]\n",
    "        else:\n",
    "            i_c[:,i_Zr]=np.argwhere(np.mod(np.sum(s_abc,axis=1),r)==i_Zr)[:,0]\n",
    "\n",
    "    for i_r in range(Nrep):        \n",
    "        psi = rand_ket(N)\n",
    "        neg_full[i_l,i_r]=logneg_subsys_approx(psi, dims=dims, sysa=np.arange(Lc,Lc+La), sysb=np.arange(Lc+La,L))\n",
    "\n",
    "        vec=np.random.randn(Ne_ab)+ 1j*np.random.randn(Ne_ab)\n",
    "        psi = np.zeros(N, dtype=np.complex128)\n",
    "        psi[i_c[:,0]]=vec/np.linalg.norm(vec)\n",
    "\n",
    "        neg_symm[i_l,i_r]=logneg_subsys_approx(psi, dims=dims, sysa=np.arange(Lc,Lc+La), sysb=np.arange(Lc+La,L))\n",
    "    \n",
    "    print('Nrep:', i_r)\n",
    "\n",
    "\n",
    "elapsed = time.time() - t_timer\n",
    "print(\"Finished, quimb elapsed time = %.2f \" % (elapsed)+ \"sec\")\n",
    "\n"
   ]
  },
  {
   "cell_type": "code",
   "execution_count": 126,
   "metadata": {},
   "outputs": [
    {
     "name": "stderr",
     "output_type": "stream",
     "text": [
      "/tmp/yes/lib/python3.7/site-packages/ipykernel_launcher.py:6: ComplexWarning:\n",
      "\n",
      "Casting complex values to real discards the imaginary part\n",
      "\n",
      "/tmp/yes/lib/python3.7/site-packages/ipykernel_launcher.py:17: ComplexWarning:\n",
      "\n",
      "Casting complex values to real discards the imaginary part\n",
      "\n"
     ]
    },
    {
     "data": {
      "image/png": "[encoded data removed]",
      "text/plain": [
       "<Figure size 345.6x259.2 with 1 Axes>"
      ]
     },
     "metadata": {
      "needs_background": "light"
     },
     "output_type": "display_data"
    },
    {
     "data": {
      "image/png": "[encoded data removed]",
      "text/plain": [
       "<Figure size 345.6x259.2 with 1 Axes>"
      ]
     },
     "metadata": {
      "needs_background": "light"
     },
     "output_type": "display_data"
    },
    {
     "data": {
      "image/png": "[encoded data removed]",
      "text/plain": [
       "<Figure size 201.6x151.2 with 1 Axes>"
      ]
     },
     "metadata": {
      "needs_background": "light"
     },
     "output_type": "display_data"
    }
   ],
   "source": [
    "def fa(xs):\n",
    "    ys= np.zeros(xs.shape)\n",
    "    for i_x in range(len(xs)):\n",
    "        x= xs[i_x]\n",
    "        if x>1:\n",
    "            ys[i_x]= np.log2(2/pi* np.arcsin(1/x)+2/(3*pi*x)*(1+2*x**2)* (1-1/x**2 +0.0j)**0.5 )\n",
    "        else:\n",
    "            ys[i_x]= 0\n",
    "    return ys\n",
    "\n",
    "def fa_symm(xs,r):\n",
    "    ys= np.zeros(xs.shape)\n",
    "    for i_x in range(len(xs)):\n",
    "        x= xs[i_x]\n",
    "        if x>1:\n",
    "            ys[i_x]= np.log2(2/pi* np.arcsin(1/x)+2/(3*pi*x)*(1+2*x**2)* (1-1/x**2 +0.0j)**0.5+\\\n",
    "                       4*(r-1)/(3*pi)*x )\n",
    "        else:\n",
    "            ys[i_x]= np.log2(1+4*(r-1)/(3*pi)*x )\n",
    "    return ys\n",
    "\n",
    "Lmin=0\n",
    "Lab_ft=np.linspace(Lmin,L)\n",
    "at=2*r**(Lab_ft-L/2)\n",
    "yt=np.real(fa(at))\n",
    "\n",
    "at_symm=at/sqrt(r)\n",
    "yt_symm=np.real(fa_symm(at_symm,r))\n",
    "\n",
    "\n",
    "neg_full_avg=np.mean(neg_full,axis=1)\n",
    "neg_symm_avg=np.mean(neg_symm,axis=1)\n",
    "\n",
    "fsize=14\n",
    "plt.figure(figsize=(4.8,3.6))\n",
    "plt.plot(Lab_sw,neg_full_avg,'o',color='C0',label='orig')\n",
    "plt.plot(Lab_sw,neg_symm_avg,'v',color='C1',label='symm proj')\n",
    "plt.plot(Lab_ft,fa(at),color='C0')\n",
    "plt.plot(Lab_ft,yt_symm,color='C1')\n",
    "plt.legend()\n",
    "plt.xlim(1,16.5)\n",
    "plt.xlabel(r'$L_a+L_b$',fontsize=fsize)\n",
    "plt.ylabel(r'$\\langle {\\cal E} \\rangle$',fontsize=fsize)\n",
    "plt.tight_layout()\n",
    "plt.savefig('figs/NS_vs_Lab_r_%d_L_%d_symm.pdf' % (r,L))\n",
    "plt.show()\n",
    "\n",
    "plt.figure(figsize=(4.8,3.6))\n",
    "plt.plot(L-Lab_sw,neg_full_avg,'o',color='C0',label='orig')\n",
    "plt.plot(L-Lab_sw,neg_symm_avg,'v',color='C1',label='symm proj')\n",
    "plt.plot(L-Lab_ft,yt,color='C0')\n",
    "plt.plot(L-Lab_ft,yt_symm,color='C1')\n",
    "plt.legend(loc='lower left')\n",
    "plt.xlim(0.5,15)\n",
    "plt.xlabel(r'$L_c$',fontsize=fsize)\n",
    "plt.ylabel(r'$\\langle {\\cal E} \\rangle$',fontsize=fsize)\n",
    "plt.tight_layout()\n",
    "plt.savefig('figs/NS_vs_Lc_r_%d_L_%d_symm.pdf' % (r,L))\n",
    "plt.show()\n",
    "\n",
    "plt.figure(figsize=(2.8,2.1))\n",
    "msize=4\n",
    "plt.semilogy(L-Lab_sw[int(L/2)-2:],neg_full_avg[int(L/2)-2:],'o',markersize=msize,color='C0',label='orig')\n",
    "plt.semilogy(L-Lab_sw,neg_symm_avg,'v',markersize=msize,color='C1',label='symm proj')\n",
    "lw=1\n",
    "plt.semilogy(L-Lab_ft,yt,color='C0',linewidth=lw)\n",
    "plt.semilogy(L-Lab_ft,yt_symm,color='C1',linewidth=lw)\n",
    "# plt.legend()\n",
    "plt.xlim(0,15)\n",
    "plt.ylim(0.01,10)\n",
    "plt.xlabel(r'$L_c$',fontsize=fsize)\n",
    "plt.ylabel(r'$\\langle {\\cal E} \\rangle$',fontsize=fsize)\n",
    "plt.tight_layout()\n",
    "plt.savefig('figs/NSlog_vs_Lc_r_%d_L_%d_symm.pdf' % (r,L))\n",
    "plt.show()\n",
    "\n"
   ]
  },
  {
   "cell_type": "code",
   "execution_count": 84,
   "metadata": {},
   "outputs": [
    {
     "name": "stderr",
     "output_type": "stream",
     "text": [
      "/tmp/yes/lib/python3.7/site-packages/ipykernel_launcher.py:7: ComplexWarning:\n",
      "\n",
      "Casting complex values to real discards the imaginary part\n",
      "\n",
      "/tmp/yes/lib/python3.7/site-packages/ipykernel_launcher.py:20: ComplexWarning:\n",
      "\n",
      "Casting complex values to real discards the imaginary part\n",
      "\n"
     ]
    },
    {
     "data": {
      "image/png": "[encoded data removed]",
      "text/plain": [
       "<Figure size 432x288 with 1 Axes>"
      ]
     },
     "metadata": {
      "needs_background": "light"
     },
     "output_type": "display_data"
    }
   ],
   "source": [
    "def fa(xs):\n",
    "#     return np.log2(2/pi* np.arcsin(1/x)+2/(3*pi*x)*(1+2*x**2)* (1-1/x**2 +0.0j)**0.5)\n",
    "    ys= np.zeros(xs.shape)\n",
    "    for i_x in range(len(xs)):\n",
    "        x= xs[i_x]\n",
    "        if x>1:\n",
    "            ys[i_x]= np.log2(2/pi* np.arcsin(1/x)+2/(3*pi*x)*(1+2*x**2)* (1-1/x**2 +0.0j)**0.5 )\n",
    "        else:\n",
    "            ys[i_x]= 0\n",
    "    return ys\n",
    "\n",
    "def fa_symm(xs,r):\n",
    "#     return np.log2(2/pi* np.arcsin(1/x)+2/(3*pi*x)*(1+2*x**2)* (1-1/x**2 +0.0j)**0.5+\\\n",
    "#                        4*(r-1)/(3*pi)*x )\n",
    "    ys= np.zeros(xs.shape)\n",
    "    for i_x in range(len(xs)):\n",
    "        x= xs[i_x]\n",
    "        if x>1:\n",
    "            ys[i_x]= np.log2(2/pi* np.arcsin(1/x)+2/(3*pi*x)*(1+2*x**2)* (1-1/x**2 +0.0j)**0.5+\\\n",
    "                       4*(r-1)/(3*pi)*x )\n",
    "        else:\n",
    "            ys[i_x]= np.log2(1+4*(r-1)/(3*pi)*x )\n",
    "    return ys\n",
    "\n",
    "# r=3\n",
    "# L=12\n",
    "# Lmin=L/2 - np.log2(r)\n",
    "Lmin=0\n",
    "Lab_ft=np.linspace(Lmin,L)\n",
    "at=2*r**(Lab_ft-L/2)\n",
    "yt=np.real(fa(at))\n",
    "\n",
    "at_symm=at/sqrt(r)\n",
    "yt_symm=np.real(fa_symm(at_symm,r))\n",
    "\n",
    "# print(yt)\n",
    "# print(.shape)\n",
    "plt.plot(Lab,yt)\n",
    "plt.plot(Lab,yt_symm)\n",
    "plt.xlim(0,L)\n",
    "plt.show()"
   ]
  },
  {
   "cell_type": "code",
   "execution_count": 10,
   "metadata": {},
   "outputs": [
    {
     "name": "stdout",
     "output_type": "stream",
     "text": [
      "No. of reps:  1\n"
     ]
    },
    {
     "name": "stderr",
     "output_type": "stream",
     "text": [
      "/tmp/yes/lib/python3.7/site-packages/ipykernel_launcher.py:6: ComplexWarning:\n",
      "\n",
      "Casting complex values to real discards the imaginary part\n",
      "\n",
      "/tmp/yes/lib/python3.7/site-packages/ipykernel_launcher.py:17: ComplexWarning:\n",
      "\n",
      "Casting complex values to real discards the imaginary part\n",
      "\n"
     ]
    },
    {
     "data": {
      "image/png": "[encoded data removed]",
      "text/plain": [
       "<Figure size 345.6x259.2 with 1 Axes>"
      ]
     },
     "metadata": {
      "needs_background": "light"
     },
     "output_type": "display_data"
    },
    {
     "data": {
      "image/png": "[encoded data removed]",
      "text/plain": [
       "<Figure size 345.6x259.2 with 1 Axes>"
      ]
     },
     "metadata": {
      "needs_background": "light"
     },
     "output_type": "display_data"
    },
    {
     "data": {
      "image/png": "[encoded data removed]",
      "text/plain": [
       "<Figure size 201.6x151.2 with 1 Axes>"
      ]
     },
     "metadata": {
      "needs_background": "light"
     },
     "output_type": "display_data"
    }
   ],
   "source": [
    "def fa(xs):\n",
    "    ys= np.zeros(xs.shape)\n",
    "    for i_x in range(len(xs)):\n",
    "        x= xs[i_x]\n",
    "        if x>1:\n",
    "            ys[i_x]= np.log2(2/pi* np.arcsin(1/x)+2/(3*pi*x)*(1+2*x**2)* (1-1/x**2 +0.0j)**0.5 )\n",
    "        else:\n",
    "            ys[i_x]= 0\n",
    "    return ys\n",
    "\n",
    "def fa_symm(xs,r):\n",
    "    ys= np.zeros(xs.shape)\n",
    "    for i_x in range(len(xs)):\n",
    "        x= xs[i_x]\n",
    "        if x>1:\n",
    "            ys[i_x]= np.log2(2/pi* np.arcsin(1/x)+2/(3*pi*x)*(1+2*x**2)* (1-1/x**2 +0.0j)**0.5+\\\n",
    "                       4*(r-1)/(3*pi)*x )\n",
    "        else:\n",
    "            ys[i_x]= np.log2(1+4*(r-1)/(3*pi)*x )\n",
    "    return ys\n",
    "\n",
    "\n",
    "r=2 # local Hilbert space dim\n",
    "L=24\n",
    "\n",
    "f1= 'LN_r_%d_L_%d.npz' % (r,L)\n",
    "out_dir = 'data/' \n",
    "fname = out_dir+f1\n",
    "npzfile = np.load(fname)\n",
    "print('No. of reps: ', npzfile['Nrep'])\n",
    "neg_symm=npzfile['neg_symm']\n",
    "neg_full=npzfile['neg_full']\n",
    "Lab_sw=npzfile['Lab_sw']\n",
    "\n",
    "Lmin=0\n",
    "Lab_ft=np.linspace(Lmin,L)\n",
    "at=2*r**(Lab_ft-L/2)\n",
    "yt=np.real(fa(at))\n",
    "\n",
    "at_symm=at/sqrt(r)\n",
    "yt_symm=np.real(fa_symm(at_symm,r))\n",
    "\n",
    "\n",
    "neg_full_avg=np.mean(neg_full,axis=1)\n",
    "neg_symm_avg=np.mean(neg_symm,axis=1)\n",
    "\n",
    "fsize=14\n",
    "plt.figure(figsize=(4.8,3.6))\n",
    "plt.plot(Lab_sw,neg_full_avg,'o',color='C0',label='orig')\n",
    "plt.plot(Lab_sw,neg_symm_avg,'v',color='C1',label='symm proj')\n",
    "plt.plot(Lab_ft,fa(at),color='C0')\n",
    "plt.plot(Lab_ft,yt_symm,color='C1')\n",
    "plt.legend()\n",
    "plt.xlim(1,L)\n",
    "plt.xlabel(r'$L_a+L_b$',fontsize=fsize)\n",
    "plt.ylabel(r'$\\langle {\\cal E} \\rangle$',fontsize=fsize)\n",
    "plt.tight_layout()\n",
    "plt.savefig('figs/NS_vs_Lab_r_%d_L_%d_symm.pdf' % (r,L))\n",
    "plt.show()\n",
    "\n",
    "plt.figure(figsize=(4.8,3.6))\n",
    "plt.plot(L-Lab_sw,neg_full_avg,'o',color='C0',label='orig')\n",
    "plt.plot(L-Lab_sw,neg_symm_avg,'v',color='C1',label='symm proj')\n",
    "plt.plot(L-Lab_ft,yt,color='C0')\n",
    "plt.plot(L-Lab_ft,yt_symm,color='C1')\n",
    "plt.legend(loc='lower left')\n",
    "plt.xlim(0.5,L)\n",
    "plt.xlabel(r'$L_c$',fontsize=fsize)\n",
    "plt.ylabel(r'$\\langle {\\cal E} \\rangle$',fontsize=fsize)\n",
    "plt.tight_layout()\n",
    "plt.savefig('figs/NS_vs_Lc_r_%d_L_%d_symm.pdf' % (r,L))\n",
    "plt.show()\n",
    "\n",
    "plt.figure(figsize=(2.8,2.1))\n",
    "msize=4\n",
    "plt.semilogy(L-Lab_sw[int(L/2)-2:],neg_full_avg[int(L/2)-2:],'o',markersize=msize,color='C0',label='orig')\n",
    "plt.semilogy(L-Lab_sw,neg_symm_avg,'v',markersize=msize,color='C1',label='symm proj')\n",
    "lw=1\n",
    "plt.semilogy(L-Lab_ft,yt,color='C0',linewidth=lw)\n",
    "plt.semilogy(L-Lab_ft,yt_symm,color='C1',linewidth=lw)\n",
    "# plt.legend()\n",
    "plt.xlim(0,L)\n",
    "plt.ylim(0.01,20)\n",
    "plt.xlabel(r'$L_c$',fontsize=fsize)\n",
    "plt.ylabel(r'$\\langle {\\cal E} \\rangle$',fontsize=fsize)\n",
    "plt.tight_layout()\n",
    "plt.savefig('figs/NSlog_vs_Lc_r_%d_L_%d_symm.pdf' % (r,L))\n",
    "plt.show()\n"
   ]
  },
  {
   "cell_type": "code",
   "execution_count": null,
   "metadata": {},
   "outputs": [],
   "source": []
  }
 ],
 "metadata": {
  "kernelspec": {
   "display_name": "Python 3",
   "language": "python",
   "name": "python3"
  },
  "language_info": {
   "codemirror_mode": {
    "name": "ipython",
    "version": 3
   },
   "file_extension": ".py",
   "mimetype": "text/x-python",
   "name": "python",
   "nbconvert_exporter": "python",
   "pygments_lexer": "ipython3",
   "version": "3.7.3"
  }
 },
 "nbformat": 4,
 "nbformat_minor": 2
}
