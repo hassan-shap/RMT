{
 "cells": [
  {
   "cell_type": "code",
   "execution_count": 1,
   "metadata": {},
   "outputs": [],
   "source": [
    "import numpy as np\n",
    "from math import pi, sqrt, tanh, comb\n",
    "import matplotlib.pyplot as plt\n",
    "from scipy.linalg import block_diag\n",
    "from ipywidgets import interact\n",
    "from os import path\n",
    "\n",
    "import plotly.graph_objects as go\n",
    "import pandas as pd\n",
    "\n",
    "import time\n"
   ]
  },
  {
   "cell_type": "code",
   "execution_count": 3,
   "metadata": {},
   "outputs": [],
   "source": [
    "def Hilbertspace_Zr(N,r):\n",
    "\n",
    "    states=np.zeros((r**N,N),dtype=int)\n",
    "\n",
    "    if N>0:\n",
    "        for i_1 in range(r**N):\n",
    "            num_str=np.base_repr(i_1,base=r)[::-1]\n",
    "            for i_2 in range(len(num_str)):\n",
    "                states[i_1,i_2]=int(num_str[i_2])\n",
    "    else:\n",
    "        states=[[0]]\n",
    "        \n",
    "    return states\n",
    "\n",
    "def p_transpose_2(V,Na,Nb):\n",
    "# partial transpose with respect to subsystem 2\n",
    "# the basis of NaxNb density matrix is defined by Nb*(i-1)+j,\n",
    "# i,j=1,2,3 spans the Hilbert space of subsystem 1 and 2 respectively\n",
    "    U=np.zeros((Na*Nb,Na*Nb), dtype=np.complex128)\n",
    "    for i_1 in range(Na):\n",
    "        for i_2 in range(Na):\n",
    "#             print(V[Nb*i_1:Nb*(i_1+1),Nb*i_2:Nb*(i_2+1)].shape)\n",
    "            U[Nb*i_1:Nb*(i_1+1),Nb*i_2:Nb*(i_2+1)]=np.transpose(V[Nb*i_1:Nb*(i_1+1),Nb*i_2:Nb*(i_2+1)])\n",
    "\n",
    "    return U\n",
    "\n",
    "def vNent_calc(rho,epsilon=1e-9):\n",
    "    chi0 =np.linalg.eigvalsh(rho)\n",
    "    chi1=chi0[np.nonzero(np.abs(chi0)>epsilon)]\n",
    "    chi2=chi1[np.nonzero(np.abs(chi1-1)>epsilon)]\n",
    "    return -np.sum(chi2*np.log(chi2))\n"
   ]
  },
  {
   "cell_type": "code",
   "execution_count": 4,
   "metadata": {},
   "outputs": [],
   "source": [
    "from scipy.integrate import quad, nquad\n",
    "\n",
    "def Gz(z,a,b):\n",
    "    '''Direct solution to G(z), faster but has numerical instability for large V\n",
    "    a=  Lb/L2\n",
    "    b=  Lb*L1/L2\n",
    "    '''\n",
    "    a2= (b-1)/z +1j*0\n",
    "    a1= (a-z)/z +1j*0\n",
    "    a0= 1/z +1j*0\n",
    "    Q= (3*a1-a2**2)/9 +1j*0\n",
    "    R= (9*a2*a1-27*a0-2*a2**3)/54 +1j*0\n",
    "    D= Q**3 + R**2 +1j*0\n",
    "    S= (R+D**0.5 +1j*0)**(1/3)\n",
    "    T= (R-D**0.5 +1j*0)**(1/3)\n",
    "    z4= -a2/3 + (1-1j*sqrt(3))*Q/S/2-(1+1j*sqrt(3))/2*S\n",
    "    return np.abs(np.imag(z4))\n",
    "\n",
    "def integrand(z, a, b):\n",
    "    return Gz(z,a,b)*np.abs(z)\n",
    "\n",
    "def neg_calc(a,b):\n",
    "    '''Calculates logneg by \\int P(z)|z| dz\n",
    "    where P(z) is spectral density'''\n",
    "    options={'limit':500}\n",
    "    integral= nquad(integrand, [[-np.inf, np.inf]], args=(a, b),opts=[options,options])[0]\n",
    "    return integral\n"
   ]
  },
  {
   "cell_type": "markdown",
   "metadata": {},
   "source": [
    "# charge projection, decomposed partial transpose"
   ]
  },
  {
   "cell_type": "code",
   "execution_count": null,
   "metadata": {},
   "outputs": [
    {
     "name": "stdout",
     "output_type": "stream",
     "text": [
      "11 3\n"
     ]
    }
   ],
   "source": [
    "Nrep = 10000\n",
    "r=2 # local Hilbert space dim\n",
    "symm=1\n",
    "\n",
    "La=5\n",
    "Lb=5\n",
    "Na=r**La\n",
    "Nb=r**Lb\n",
    "\n",
    "Lc=12\n",
    "\n",
    "Npt = int((La+Lb+Lc)/2)\n",
    "# Npt_ab_list = np.arange(max(Npt-Lc,1),int((La+Lb))+1)\n",
    "# Npt_ab_list=np.arange(2,Npt)\n",
    "Npt_ab_list=np.arange(3,7)\n",
    "\n",
    "Nc=r**Lc\n",
    "\n",
    "if symm==1:\n",
    "    Nab_r=r**(La+Lb-1)\n",
    "    s_ab=Hilbertspace_Zr(La+Lb,r)\n",
    "    i_ab=[]\n",
    "    ### indices for occupation numbers\n",
    "    for i_r in range(La+Lb+1):\n",
    "        i_ab.append(np.argwhere(np.sum(s_ab,axis=1)==i_r)[:,0])\n",
    "\n",
    "    s_c=Hilbertspace_Zr(Lc,r)\n",
    "    i_c=[]\n",
    "    for i_r in range(Lc+1):\n",
    "        i_c.append(np.argwhere(np.sum(s_c,axis=1)==i_r)[:,0])        \n",
    "\n",
    "vT=np.zeros(Nrep*Nb*Na)\n",
    "v2T=np.zeros(Nrep*Nb*Na)\n",
    "\n",
    "t_timer= time.time()\n",
    "\n",
    "for i_pt in Npt_ab_list:\n",
    "    print(Npt,i_pt)\n",
    "    \n",
    "    Nab_r = len(i_ab[i_pt]) # size of sub-Hilbert space\n",
    "    v1T=np.zeros(Nrep*Nab_r)\n",
    "\n",
    "    X=np.zeros((Na*Nb,Nc), dtype=np.complex128)\n",
    "    for i_r in range(Nrep):\n",
    "        i_r\n",
    "        if symm==1:\n",
    "            if (Npt-i_pt) <= Lc:\n",
    "                X[np.ix_(i_ab[i_pt],i_c[Npt-i_pt])]=np.random.randn(len(i_ab[i_pt]),len(i_c[Npt-i_pt]))+ 1j*np.random.randn(len(i_ab[i_pt]),len(i_c[Npt-i_pt]))\n",
    "        else:\n",
    "        #### no symmetry\n",
    "            X=np.random.randn(Na*Nb,Nc)+1j*np.random.randn(Na*Nb,Nc_r)\n",
    "\n",
    "        mat=np.dot(X,np.matrix(X).H)\n",
    "        rho= mat / np.trace(mat)\n",
    "\n",
    "        rT = p_transpose_2(rho,Na,Nb)\n",
    "        l1T=np.linalg.eigvalsh(rT)\n",
    "        vT[i_r*Nb*Na:(i_r+1)*Nb*Na] = Nab_r *l1T\n",
    "\n",
    "        rT1 = rT[np.ix_(i_ab[i_pt],i_ab[i_pt])]\n",
    "        l1T=np.linalg.eigvalsh(rT1)\n",
    "        v1T[i_r*Nab_r:(i_r+1)*Nab_r] = Nab_r *l1T\n",
    "        rT[np.ix_(i_ab[i_pt],i_ab[i_pt])] = 0* rT[np.ix_(i_ab[i_pt],i_ab[i_pt])] \n",
    "        l1T=np.linalg.eigvalsh(rT)\n",
    "        v2T[i_r*Nb*Na:(i_r+1)*Na*Nb] = Nab_r *l1T\n",
    "\n",
    "        \n",
    "    out_dir = 'data/' \n",
    "    if symm==1:\n",
    "        f1= 'NS_proj_decomp_U1_%d_%d_Labc_%d_%d_%d_symm.npz' % (Npt,i_pt,La,Lb,Lc)\n",
    "    else:\n",
    "        f1= 'NS_proj_decomp_U1_%d_%d_Labc_%d_%d_%d.npz' % (Npt,i_pt,La,Lb,Lc)\n",
    "\n",
    "    fname = out_dir+f1\n",
    "    np.savez(fname, evals=vT, evals1=v1T, evals2=v2T, Nrep=Nrep)\n",
    "\n",
    "elapsed = time.time() - t_timer\n",
    "print(\"Finished, elapsed time = %.2f \" % (elapsed)+ \"sec\")\n"
   ]
  },
  {
   "cell_type": "code",
   "execution_count": 48,
   "metadata": {
    "scrolled": false
   },
   "outputs": [
    {
     "name": "stdout",
     "output_type": "stream",
     "text": [
      "ES was loaded!\n"
     ]
    },
    {
     "name": "stderr",
     "output_type": "stream",
     "text": [
      "<ipython-input-48-55824da29139>:43: RuntimeWarning: divide by zero encountered in true_divide\n",
      "  P1x += 1/pi*Lg**2*Lγ/(2*np.abs(z))*np.real((4/Lg**2*α*αb-(z**2-(α+αb)/Lg)**2+0j)**0.5)\n",
      "<ipython-input-48-55824da29139>:43: RuntimeWarning: invalid value encountered in multiply\n",
      "  P1x += 1/pi*Lg**2*Lγ/(2*np.abs(z))*np.real((4/Lg**2*α*αb-(z**2-(α+αb)/Lg)**2+0j)**0.5)\n"
     ]
    },
    {
     "data": {
      "image/png": "[encoded data removed]",
      "text/plain": [
       "<Figure size 432x288 with 1 Axes>"
      ]
     },
     "metadata": {
      "needs_background": "light"
     },
     "output_type": "display_data"
    }
   ],
   "source": [
    "out_dir = \"/gscratch/home/hshapourian/RMT/data/\" #'data/' \n",
    "r=2 # local Hilbert space dim\n",
    "symm=1\n",
    "\n",
    "La=5\n",
    "Lb=5\n",
    "Na=r**La\n",
    "Nb=r**Lb\n",
    "\n",
    "Lc=12\n",
    "\n",
    "Npt = int((La+Lb+Lc)/2)\n",
    "# Npt_ab_list = np.arange(max(Npt-Lc,1),int((La+Lb))+1)\n",
    "Npt_ab_list=np.arange(2,3)\n",
    "\n",
    "def rmt_dist(z,La,Lb,Lc,Npt_a,Npt_c):\n",
    "    Lg = comb(La+Lb,Npt_a)\n",
    "    Lγ = comb(Lc,Npt_c)\n",
    "    \n",
    "    z /= Lg\n",
    "#     z = np.linspace(-2,2,400)/Lg\n",
    "    P1x = np.zeros(len(z))\n",
    "    P2x = np.zeros(len(z))\n",
    "\n",
    "    if Npt_a>La:\n",
    "        for Np1 in range(La+1):\n",
    "            α = comb(La,Np1)*comb(Lb,Npt_a-Np1)/(Lg*Lγ)\n",
    "            P2x += 1/(2*pi)*Lg**2*Lγ*np.real((4/Lg*α-(z-1/Lg)**2+0j)**0.5)\n",
    "            for Np2 in range(Npt_a+1):\n",
    "                if Np2 != Npt_a-Np1 :\n",
    "                    α = comb(La,Np1)*comb(Lb,Np2)/(Lg*Lγ)\n",
    "                    αb = comb(La,Npt_a-Np1)*comb(Lb,Npt_a-Np2)/(Lg*Lγ)\n",
    "                    P1x += 1/pi*Lg**2*Lγ/(2*np.abs(z))*np.real((4/Lg**2*α*αb-(z**2-(α+αb)/Lg)**2+0j)**0.5)\n",
    "\n",
    "    else:\n",
    "        for Np1 in range(Npt_a+1):     \n",
    "            α = comb(La,Np1)*comb(Lb,Npt_a-Np1)/(Lg*Lγ)\n",
    "            P2x += 1/(2*pi)*Lg**2*Lγ*np.real((4/Lg*α-(z-1/Lg)**2+0j)**0.5)\n",
    "            for Np2 in range(Npt_a+1):\n",
    "                if Np2 != Npt_a-Np1 :\n",
    "                    α = comb(La,Np1)*comb(Lb,Np2)/(Lg*Lγ)\n",
    "                    αb = comb(La,Npt_a-Np1)*comb(Lb,Npt_a-Np2)/(Lg*Lγ)\n",
    "                    P1x += 1/pi*Lg**2*Lγ/(2*np.abs(z))*np.real((4/Lg**2*α*αb-(z**2-(α+αb)/Lg)**2+0j)**0.5)\n",
    "    z *= Lg\n",
    "    return P1x/Lg,P2x/Lg\n",
    "                \n",
    "for i_pt in Npt_ab_list:\n",
    "\n",
    "    plt.figure(figsize=(6,4))\n",
    "    \n",
    "    if symm==1:\n",
    "        f1= 'NS_proj_decomp_U1_%d_%d_Labc_%d_%d_%d_symm.npz' % (Npt,i_pt,La,Lb,Lc)\n",
    "    else:\n",
    "        f1= 'NS_proj_decomp_U1_%d_%d_Labc_%d_%d_%d.npz' % (Npt,i_pt,La,Lb,Lc)\n",
    "    fname = out_dir+f1\n",
    "\n",
    "    npzfile = np.load(fname)\n",
    "    vT=npzfile['evals']\n",
    "    v1T=npzfile['evals1']\n",
    "    v2T=npzfile['evals2']\n",
    "    Nrep=npzfile['Nrep']\n",
    "    print('ES was loaded!')\n",
    "    \n",
    "    if r**Lc > 4* r**(La+Lb)+1:\n",
    "        num_bins = 100\n",
    "        print(L)\n",
    "    else:\n",
    "        num_bins = 100\n",
    "\n",
    "\n",
    "#     n, bin_edges = np.histogram(vT, bins=num_bins)\n",
    "#     bins_center= (bin_edges[0:num_bins]+ bin_edges[1:])/2\n",
    "#     N0=np.sum(n)/Nrep\n",
    "#     print(\"total is \", N0)\n",
    "#     n= n/Nrep/(bin_edges[1]-bin_edges[0])            \n",
    "#     plt.plot(bins_center,n,'v',markersize=4,color='C%d' % (i_pt-1), label='$N_{ab}$=%d' % (i_pt))\n",
    "\n",
    "        \n",
    "    Nab_r = comb(La+Lb,i_pt) # size of sub-Hilbert space\n",
    "    n, bin_edges = np.histogram(v1T, bins=num_bins)\n",
    "    bins_center= (bin_edges[0:num_bins]+ bin_edges[1:])/2\n",
    "#     print(np.sum(n)/Nrep-Nab_r-N0)\n",
    "    n= n/Nrep/(bin_edges[1]-bin_edges[0])            \n",
    "#     plt.plot(bins_center,n,'o',markersize=2,color='b' , label=r'$G_2, N_{pt}$=%d' % (i_pt))\n",
    "    plt.plot(bins_center,n,'o',markersize=2,color='b' , label=r'$P_1$')\n",
    "\n",
    "    num_bins = 400\n",
    "    n, bin_edges = np.histogram(v2T, bins=num_bins)\n",
    "    bins_center= (bin_edges[0:num_bins]+ bin_edges[1:])/2\n",
    "    n= n/Nrep/(bin_edges[1]-bin_edges[0])            \n",
    "    plt.plot(bins_center,n,'o',markersize=2,color='r' , label=r'$P_2$')\n",
    "\n",
    "    ymax=np.sort(n)[-3]*1.5\n",
    "    plt.legend()\n",
    "    plt.ylim(-ymax/100,ymax)\n",
    "\n",
    "    \n",
    "    xplot=np.linspace(-1,2,100)\n",
    "    P1x, P2x = rmt_dist(xplot,La,Lb,Lc,i_pt,Npt- i_pt)\n",
    "    plt.plot(xplot,P1x,color='r')\n",
    "    plt.plot(xplot,P2x,color='b')\n",
    "\n",
    "    lw=0.2\n",
    "\n",
    "# plt.plot( [0,0],[0,ymax],'k--',linewidth=lw)\n",
    "# plt.xscale(\"log\")\n",
    "# plt.yscale(\"log\")\n",
    "    # plt.xlim(-10,10)\n",
    "    # plt.yticks(np.arange(0.,ymax+0.1,0.5))\n",
    "    # plt.legend()\n",
    "    fsize=14\n",
    "    plt.ylabel(r'$P_\\Gamma(L_g\\xi)$',fontsize = fsize)\n",
    "    plt.xlabel(r\"$L_g \\xi$\",fontsize = fsize)\n",
    "\n",
    "    plt.tight_layout()\n",
    "    plt.savefig('figs/sc_u1_pt_%d_ptA_%d_NA_%d_NB_%d_symm.pdf' % (Npt,i_pt,La+Lb,Lc))\n",
    "    plt.show()"
   ]
  },
  {
   "cell_type": "code",
   "execution_count": 31,
   "metadata": {},
   "outputs": [
    {
     "data": {
      "text/plain": [
       "[<matplotlib.lines.Line2D at 0x2b3de1f0c7c0>]"
      ]
     },
     "execution_count": 31,
     "metadata": {},
     "output_type": "execute_result"
    },
    {
     "data": {
      "image/png": "[encoded data removed]",
      "text/plain": [
       "<Figure size 432x288 with 1 Axes>"
      ]
     },
     "metadata": {
      "needs_background": "light"
     },
     "output_type": "display_data"
    }
   ],
   "source": [
    "r=2 # local Hilbert space dim\n",
    "\n",
    "La=5\n",
    "Lb=5\n",
    "Na=r**La\n",
    "Nb=r**Lb\n",
    "\n",
    "Lc=12   \n",
    "\n",
    "Npt = int((La+Lb+Lc)/2)\n",
    "Npt_a = 6\n",
    "Npt_c = Npt-Npt_a\n",
    "\n",
    "\n",
    "Lg = comb(La+Lb,Npt_a)\n",
    "Lγ = comb(Lc,Npt_c)\n",
    "\n",
    "z = np.linspace(-2,2,400)/Lg\n",
    "P1x = np.zeros(len(z))\n",
    "P2x = np.zeros(len(z))\n",
    "\n",
    "if Npt_a>La:\n",
    "    for Np1 in range(La+1):\n",
    "        α = comb(La,Np1)*comb(Lb,Npt_a-Np1)/(Lg*Lγ)\n",
    "        P2x += 1/(2*pi)*Lg**2*Lγ*np.real((4/Lg*α-(z-1/Lg)**2+0j)**0.5)\n",
    "        for Np2 in range(Npt_a+1):\n",
    "            if Np2 != Npt_a-Np1 :\n",
    "                α = comb(La,Np1)*comb(Lb,Np2)/(Lg*Lγ)\n",
    "                αb = comb(La,Npt_a-Np1)*comb(Lb,Npt_a-Np2)/(Lg*Lγ)\n",
    "                P1x += 1/pi*Lg**2*Lγ/(2*np.abs(z))*np.real((4/Lg**2*α*αb-(z**2-(α+αb)/Lg)**2+0j)**0.5)\n",
    "\n",
    "else:\n",
    "    for Np1 in range(Npt_a+1):     \n",
    "        α = comb(La,Np1)*comb(Lb,Npt_a-Np1)/(Lg*Lγ)\n",
    "        P2x += 1/(2*pi)*Lg**2*Lγ*np.real((4/Lg*α-(z-1/Lg)**2+0j)**0.5)\n",
    "        for Np2 in range(Npt_a+1):\n",
    "            if Np2 != Npt_a-Np1 :\n",
    "                α = comb(La,Np1)*comb(Lb,Np2)/(Lg*Lγ)\n",
    "                αb = comb(La,Npt_a-Np1)*comb(Lb,Npt_a-Np2)/(Lg*Lγ)\n",
    "                P1x += 1/pi*Lg**2*Lγ/(2*np.abs(z))*np.real((4/Lg**2*α*αb-(z**2-(α+αb)/Lg)**2+0j)**0.5)\n",
    "\n",
    "\n",
    "plt.figure()\n",
    "plt.plot(z*Lg,P1x/Lg)\n",
    "plt.plot(z*Lg,P2x/Lg)\n",
    "# print(fx)"
   ]
  },
  {
   "cell_type": "code",
   "execution_count": 23,
   "metadata": {},
   "outputs": [
    {
     "data": {
      "text/plain": [
       "array([-2.   , -1.999, -1.998, ...,  1.997,  1.998,  1.999])"
      ]
     },
     "execution_count": 23,
     "metadata": {},
     "output_type": "execute_result"
    }
   ],
   "source": [
    "np.arange(-2,2,0.001)\n",
    "# def LAg(La1,La2,Npt_a):\n",
    "#     return comb(La1+La2,Npt_a)\n",
    "# #     y = 0\n",
    "# #     if Npt_a>La1:\n",
    "# #         for Np1 in range(La1+1):\n",
    "# #             y += comb(La1,Np1)*comb(La2,Npt_a-Np1)\n",
    "# #     else:\n",
    "# #         for Np1 in range(Npt_a+1):\n",
    "# #             y += comb(La1,Np1)*comb(La2,Npt_a-Np1)\n",
    "# #     return y\n"
   ]
  },
  {
   "cell_type": "code",
   "execution_count": null,
   "metadata": {},
   "outputs": [],
   "source": []
  },
  {
   "cell_type": "code",
   "execution_count": 68,
   "metadata": {},
   "outputs": [
    {
     "name": "stdout",
     "output_type": "stream",
     "text": [
      "6 2\n",
      "Finished, elapsed time = 390.76 sec\n"
     ]
    }
   ],
   "source": [
    "Nrep=1000\n",
    "r=2 # local Hilbert space dim\n",
    "symm=1\n",
    "\n",
    "La=6\n",
    "Lb=2\n",
    "Na=r**La\n",
    "Nb=r**Lb\n",
    "\n",
    "Lc=5\n",
    "\n",
    "Npt = int((La+Lb+Lc)/2)\n",
    "# Npt_ab_list = np.arange(max(Npt-Lc,1),int((La+Lb))+1)\n",
    "# Npt_ab_list=np.arange(2,Npt)\n",
    "Npt_ab_list=np.array([2])\n",
    "\n",
    "Nc=r**Lc\n",
    "\n",
    "if symm==1:\n",
    "    Nab_r=r**(La+Lb-1)\n",
    "    s_ab=Hilbertspace_Zr(La+Lb,r)\n",
    "    i_ab=[]\n",
    "    ### indices for occupation numbers\n",
    "    for i_r in range(La+Lb+1):\n",
    "        i_ab.append(np.argwhere(np.sum(s_ab,axis=1)==i_r)[:,0])\n",
    "\n",
    "    s_c=Hilbertspace_Zr(Lc,r)\n",
    "    i_c=[]\n",
    "    for i_r in range(Lc+1):\n",
    "        i_c.append(np.argwhere(np.sum(s_c,axis=1)==i_r)[:,0])        \n",
    "\n",
    "vT=np.zeros(Nrep*Nb*Na)\n",
    "v2T=np.zeros(Nrep*Nb*Na)\n",
    "\n",
    "t_timer= time.time()\n",
    "\n",
    "for i_pt in Npt_ab_list:\n",
    "    print(Npt,i_pt)\n",
    "    \n",
    "    Nab_r = len(i_ab[i_pt]) # size of sub-Hilbert space\n",
    "    v1T=np.zeros(Nrep*Nab_r)\n",
    "\n",
    "    X=np.zeros((Na*Nb,Nc), dtype=np.complex128)\n",
    "    \n",
    "    dz= 5e-3\n",
    "    zsw = np.linspace(-5,5,100) + 1j*dz\n",
    "    G= np.zeros((Na*Nb,Na*Nb,len(zsw))) \n",
    "    for i_r in range(Nrep):\n",
    "        i_r\n",
    "        if symm==1:\n",
    "            if (Npt-i_pt) <= Lc:\n",
    "                X[np.ix_(i_ab[i_pt],i_c[Npt-i_pt])]=np.random.randn(len(i_ab[i_pt]),len(i_c[Npt-i_pt]))+ 1j*np.random.randn(len(i_ab[i_pt]),len(i_c[Npt-i_pt]))\n",
    "        else:\n",
    "        #### no symmetry\n",
    "            X=np.random.randn(Na*Nb,Nc)+1j*np.random.randn(Na*Nb,Nc_r)\n",
    "\n",
    "        mat=np.dot(X,np.matrix(X).H)\n",
    "        rho= mat / np.trace(mat)\n",
    "\n",
    "        rT = p_transpose_2(rho,Na,Nb)\n",
    "        l1T=np.linalg.eigvalsh(rT)\n",
    "        vT[i_r*Nb*Na:(i_r+1)*Nb*Na] = Nab_r *l1T\n",
    "        for i_z in range(len(zsw)):\n",
    "            G[:,:,i_z] += np.imag(np.linalg.inv(zsw[i_z]*eye(Na*Nb)-Nab_r*rT))\n",
    "            \n",
    "#         rT1 = rT[np.ix_(i_ab[i_pt],i_ab[i_pt])]\n",
    "#         l1T=np.linalg.eigvalsh(rT1)\n",
    "#         v1T[i_r*Nab_r:(i_r+1)*Nab_r] = Nab_r *l1T\n",
    "#         rT[np.ix_(i_ab[i_pt],i_ab[i_pt])] = 0* rT[np.ix_(i_ab[i_pt],i_ab[i_pt])] \n",
    "#         l1T=np.linalg.eigvalsh(rT)\n",
    "#         v2T[i_r*Nb*Na:(i_r+1)*Na*Nb] = Nab_r *l1T\n",
    "\n",
    "        \n",
    "#     out_dir = 'data/' \n",
    "#     if symm==1:\n",
    "#         f1= 'NS_proj_decomp_U1_%d_%d_Labc_%d_%d_%d_symm.npz' % (Npt,i_pt,La,Lb,Lc)\n",
    "#     else:\n",
    "#         f1= 'NS_proj_decomp_U1_%d_%d_Labc_%d_%d_%d.npz' % (Npt,i_pt,La,Lb,Lc)\n",
    "\n",
    "#     fname = out_dir+f1\n",
    "#     np.savez(fname, evals=vT, evals1=v1T, evals2=v2T, Nrep=Nrep)\n",
    "    G /= Nrep\n",
    "\n",
    "elapsed = time.time() - t_timer\n",
    "print(\"Finished, elapsed time = %.2f \" % (elapsed)+ \"sec\")\n"
   ]
  },
  {
   "cell_type": "code",
   "execution_count": 69,
   "metadata": {},
   "outputs": [
    {
     "data": {
      "text/plain": [
       "(-0.1, 12.0)"
      ]
     },
     "execution_count": 69,
     "metadata": {},
     "output_type": "execute_result"
    },
    {
     "data": {
      "image/png": "[encoded data removed]",
      "text/plain": [
       "<Figure size 432x288 with 1 Axes>"
      ]
     },
     "metadata": {
      "needs_background": "light"
     },
     "output_type": "display_data"
    }
   ],
   "source": [
    "trG = np.zeros(len(zsw))\n",
    "for i_z in range(len(zsw)):\n",
    "    trG[i_z] = np.trace(G[:,:,i_z])\n",
    "plt.plot(np.real(zsw),-trG/pi,'x')\n",
    "\n",
    "\n",
    "num_bins = len(zsw) -1 \n",
    "n, bin_edges = np.histogram(vT, bins=np.real(zsw))\n",
    "bins_center= (bin_edges[0:num_bins]+ bin_edges[1:])/2\n",
    "n= n/Nrep/(bin_edges[1]-bin_edges[0])            \n",
    "plt.plot(bins_center,n,'.',markersize=4)#, label='$N_{ab}$=%d' % (i_pt))\n",
    "plt.ylim([-0.1,12])\n",
    "    "
   ]
  },
  {
   "cell_type": "code",
   "execution_count": 19,
   "metadata": {},
   "outputs": [
    {
     "data": {
      "image/png": "[encoded data removed]",
      "text/plain": [
       "<Figure size 432x288 with 1 Axes>"
      ]
     },
     "metadata": {
      "needs_background": "light"
     },
     "output_type": "display_data"
    }
   ],
   "source": [
    "neg_full_avg=np.mean(neg_full,axis=1)\n",
    "neg_symm_avg=np.mean(neg_symm,axis=1)\n",
    "plt.figure()\n",
    "plt.plot(La_sw,neg_full_avg,'o-')\n",
    "plt.plot(La_sw,neg_symm_avg,'v-')\n",
    "plt.show()"
   ]
  },
  {
   "cell_type": "code",
   "execution_count": null,
   "metadata": {},
   "outputs": [],
   "source": [
    "neg_avg1=np.mean(neg_q,axis=1)\n",
    "print(neg_avg1)\n",
    "plt.figure()\n",
    "plt.plot(La_sw,neg_avg1,'o-')\n",
    "# plt.plot(La_sw,negb,'v')\n",
    "plt.show()"
   ]
  },
  {
   "cell_type": "code",
   "execution_count": null,
   "metadata": {},
   "outputs": [],
   "source": [
    "Nrep=10\n",
    "r=2 # local Hilbert space dim\n",
    "\n",
    "L=12\n",
    "La_sw=[6] #range(1,4)\n",
    "# La_sw=range(1,int(L/2)+1)\n",
    "\n",
    "negb=np.zeros((len(La_sw),Nrep))\n",
    "# np.random.seed(1)\n",
    "\n",
    "t_timer=time.time()\n",
    "\n",
    "for i_l in range(len(La_sw)):\n",
    "    La=La_sw[i_l]\n",
    "    Lb=La\n",
    "    Lc=L-La-Lb\n",
    "    print(' ',La)\n",
    "    \n",
    "    Na=r**La\n",
    "    Nb=r**Lb\n",
    "    Nc=r**Lc\n",
    "    \n",
    "    s_c=Hilbertspace_Zr(Lc,r)\n",
    "    s_ab=Hilbertspace_Zr(La+Lb,r)\n",
    "\n",
    "    i_ab=np.zeros((r**(La+Lb-1),r),dtype=int)\n",
    "    if Lc>0:\n",
    "        i_c=np.zeros((r**(Lc-1),r),dtype=int)\n",
    "    else:\n",
    "        i_c=np.zeros((1,r),dtype=int)\n",
    "    ### indices of r multiples\n",
    "#     for i_Zr in range(r):\n",
    "    i_Zr=0\n",
    "    i_c[:,i_Zr]=np.argwhere(np.mod(np.sum(s_c,axis=1),r)==i_Zr)[:,0]\n",
    "    i_ab[:,i_Zr]=np.argwhere(np.mod(np.sum(s_ab,axis=1),r)==i_Zr)[:,0]\n",
    "\n",
    "\n",
    "    Ne_ab=r**(La+Lb-1)\n",
    "    Ne_c=r**(Lc-1)\n",
    "    X=np.zeros((Na*Nb,Nc), dtype=np.complex128)\n",
    "\n",
    "    for i_r in range(Nrep):\n",
    "\n",
    "        if Lc>0:\n",
    "            X[np.ix_(i_ab[:,0],i_c[:,0])]=np.random.randn(Ne_ab,Ne_c)+ 1j*np.random.randn(Ne_ab,Ne_c)\n",
    "        else:\n",
    "            X[i_ab[:,0],0]=np.random.randn(Ne_ab)+ 1j*np.random.randn(Ne_ab)\n",
    "\n",
    "\n",
    "        mat=np.dot(X,np.matrix(X).H)\n",
    "        rho= mat / np.trace(mat)\n",
    "\n",
    "        rT = p_transpose_2(rho,Na,Nb)\n",
    "        lT=np.linalg.eigvalsh(rT)\n",
    "        negb[i_l,i_r]=np.log2(np.sum(np.abs(lT)))\n",
    "\n",
    "            \n",
    "elapsed = time.time() - t_timer\n",
    "print(\"Finished, elapsed time = %.2f \" % (elapsed)+ \"sec\")\n"
   ]
  },
  {
   "cell_type": "code",
   "execution_count": null,
   "metadata": {},
   "outputs": [],
   "source": [
    "# print(X)\n",
    "print(negb)"
   ]
  },
  {
   "cell_type": "code",
   "execution_count": null,
   "metadata": {},
   "outputs": [],
   "source": [
    "negb_avg=np.mean(negb,axis=1)\n",
    "plt.figure()\n",
    "plt.plot(La_sw,neg_avg,'o-')\n",
    "plt.plot(La_sw,negb_avg,'v')\n",
    "plt.show()"
   ]
  },
  {
   "cell_type": "code",
   "execution_count": 14,
   "metadata": {},
   "outputs": [
    {
     "name": "stdout",
     "output_type": "stream",
     "text": [
      "4.328390084765682\n",
      "4.328744035803526\n",
      "4.3283137373023015\n"
     ]
    }
   ],
   "source": [
    "# bipartite entanglement\n",
    "\n",
    "Nrep=1000\n",
    "r=5 # local Hilbert space dim\n",
    "\n",
    "La=3\n",
    "Lb=0\n",
    "L=2*La\n",
    "Lc=L-La-Lb\n",
    "\n",
    "Na=r**La\n",
    "Nb=r**Lb\n",
    "Nc=r**Lc\n",
    "\n",
    "s_c=Hilbertspace_Zr(Lc,r)\n",
    "s_ab=Hilbertspace_Zr(La+Lb,r)\n",
    "\n",
    "i_ab=np.zeros((r**(La+Lb-1),r),dtype=int)\n",
    "i_c=np.zeros((r**(Lc-1),r),dtype=int)\n",
    "### indices of r multiples\n",
    "for i_r in range(r):\n",
    "    i_c[:,i_r]=np.argwhere(np.mod(np.sum(s_c,axis=1),r)==i_r)[:,0]\n",
    "    i_ab[:,i_r]=np.argwhere(np.mod(np.sum(s_ab,axis=1),r)==i_r)[:,0]\n",
    "\n",
    "Nab_r=int(Nb*Na/r)\n",
    "Nc_r=r**(Lc-1)\n",
    "X=np.zeros((Na*Nb,Nc), dtype=np.complex128)\n",
    "\n",
    "ent0=np.zeros(Nrep)\n",
    "ent1=np.zeros(Nrep)\n",
    "\n",
    "for i_r in range(Nrep):\n",
    "    #### no symmetry\n",
    "    X0=np.random.randn(Na*Nb,Nc)+1j*np.random.randn(Na*Nb,Nc)\n",
    "    mat=np.dot(X0,np.matrix(X0).H)\n",
    "    rho= mat / np.trace(mat)    \n",
    "    ent0[i_r]=vNent_calc(rho)\n",
    "\n",
    "    X[np.ix_(i_ab[:,0],i_c[:,0])]=np.random.randn(Nab_r,Nc_r)+ 1j*np.random.randn(Nab_r,Nc_r)\n",
    "    for i_Zr in np.arange(1,r):\n",
    "        X[np.ix_(i_ab[:,i_Zr],i_c[:,r-i_Zr])]=np.random.randn(Nab_r,Nc_r)+1j*np.random.randn(Nab_r,Nc_r)\n",
    "\n",
    "#     X[np.ix_(i_ab[:,0],i_c[:,0])]=np.random.randn(Nab_r,Nc_r)+ 1j*np.random.randn(Nab_r,Nc_r)\n",
    "#     X[np.ix_(i_ab[:,1],i_c[:,1])]=np.random.randn(Nab_r,Nc_r)+ 1j*np.random.randn(Nab_r,Nc_r)\n",
    "    mat=np.dot(X,np.matrix(X).H)\n",
    "    rho= mat / np.trace(mat)    \n",
    "    ent1[i_r]=vNent_calc(rho)\n",
    "    \n",
    "print(np.mean(ent0))\n",
    "print(np.mean(ent1))\n",
    "print(np.log(Na)-0.5)"
   ]
  },
  {
   "cell_type": "code",
   "execution_count": null,
   "metadata": {},
   "outputs": [],
   "source": [
    "# rho.shape\n",
    "# X.shape\n",
    "# i_ab[:,0]\n",
    "# np.linalg.eigvalsh(rho)"
   ]
  },
  {
   "cell_type": "code",
   "execution_count": null,
   "metadata": {},
   "outputs": [],
   "source": []
  }
 ],
 "metadata": {
  "@webio": {
   "lastCommId": null,
   "lastKernelId": null
  },
  "kernelspec": {
   "display_name": "Python 3",
   "language": "python",
   "name": "python3"
  },
  "language_info": {
   "codemirror_mode": {
    "name": "ipython",
    "version": 3
   },
   "file_extension": ".py",
   "mimetype": "text/x-python",
   "name": "python",
   "nbconvert_exporter": "python",
   "pygments_lexer": "ipython3",
   "version": "3.8.6"
  }
 },
 "nbformat": 4,
 "nbformat_minor": 2
}
