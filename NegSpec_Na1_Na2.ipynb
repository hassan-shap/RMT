{
 "cells": [
  {
   "cell_type": "code",
   "execution_count": 3,
   "metadata": {},
   "outputs": [],
   "source": [
    "import numpy as np\n",
    "from math import pi, sqrt, tanh\n",
    "import matplotlib.pyplot as plt\n",
    "# from quimb import *\n",
    "import time\n"
   ]
  },
  {
   "cell_type": "code",
   "execution_count": 4,
   "metadata": {},
   "outputs": [],
   "source": [
    "def Hilbertspace_Zr(N,r):\n",
    "\n",
    "    states=np.zeros((r**N,N),dtype=int)\n",
    "\n",
    "    for i_1 in range(r**N):\n",
    "        num_str=np.base_repr(i_1,base=r)[::-1]\n",
    "        for i_2 in range(len(num_str)):\n",
    "            states[i_1,i_2]=int(num_str[i_2])\n",
    "\n",
    "    return states\n",
    "# print( np.arange(int(r**(N-1)))  )\n",
    "# print(states)\n",
    "\n",
    "def p_transpose_2(V,Na,Nb):\n",
    "# partial transpose with respect to subsystem 2\n",
    "# the basis of NaxNb density matrix is defined by Nb*(i-1)+j,\n",
    "# i,j=1,2,3 spans the Hilbert space of subsystem 1 and 2 respectively\n",
    "    U=np.zeros((Na*Nb,Na*Nb), dtype=np.complex128)\n",
    "    for i_1 in range(Na):\n",
    "        for i_2 in range(Na):\n",
    "#             print(V[Nb*i_1:Nb*(i_1+1),Nb*i_2:Nb*(i_2+1)].shape)\n",
    "            U[Nb*i_1:Nb*(i_1+1),Nb*i_2:Nb*(i_2+1)]=np.transpose(V[Nb*i_1:Nb*(i_1+1),Nb*i_2:Nb*(i_2+1)])\n",
    "\n",
    "    return U\n"
   ]
  },
  {
   "cell_type": "code",
   "execution_count": 34,
   "metadata": {},
   "outputs": [
    {
     "name": "stdout",
     "output_type": "stream",
     "text": [
      "Finished, elapsed time = 1.39 sec\n"
     ]
    }
   ],
   "source": [
    "Nrep=100\n",
    "r=2 # local Hilbert space dim\n",
    "\n",
    "Lab=8\n",
    "Lc=6\n",
    "L=Lab+Lc\n",
    "\n",
    "Nc=r**Lc\n",
    "Nab=r**Lab\n",
    "\n",
    "neg=np.zeros(Nrep)\n",
    "v1b=np.zeros((Nrep*Nab,int(Lab/2)))\n",
    "\n",
    "t_timer=time.time()\n",
    "# np.random.seed(1)\n",
    "\n",
    "for i_r in range(Nrep):\n",
    "    i_r\n",
    "    #### no symmetry\n",
    "    X=np.random.randn(Nab,Nc)+1j*np.random.randn(Nab,Nc)\n",
    "\n",
    "    mat=np.dot(X,np.matrix(X).H)\n",
    "    rho= mat / np.trace(mat)\n",
    "    \n",
    "    for i_n in range(int(Lab/2)):\n",
    "        Na=r**(i_n+1)\n",
    "        Nb=r**(Lab-i_n-1)\n",
    "        rT2b = p_transpose_2(rho,Na,Nb)\n",
    "        l1T=np.linalg.eigvalsh(rT2b)\n",
    "        v1b[i_r*Nab:(i_r+1)*Nab,i_n] = (Nab)*l1T\n",
    "\n",
    "elapsed = time.time() - t_timer\n",
    "print(\"Finished, elapsed time = %.2f \" % (elapsed)+ \"sec\")"
   ]
  },
  {
   "cell_type": "code",
   "execution_count": 37,
   "metadata": {},
   "outputs": [
    {
     "data": {
      "image/png": "[encoded data removed]",
      "text/plain": [
       "<Figure size 432x288 with 1 Axes>"
      ]
     },
     "metadata": {
      "needs_background": "light"
     },
     "output_type": "display_data"
    }
   ],
   "source": [
    "num_bins = 30\n",
    "\n",
    "plt.figure()\n",
    "# for i_n in range(int(Lab/2)):\n",
    "for i_n in range(0,int(Lab/2)):\n",
    "    n, bin_edges = np.histogram(v1b[:,i_n], bins=num_bins)\n",
    "\n",
    "    bins_center= (bin_edges[0:num_bins]+ bin_edges[1:])/2\n",
    "    n= n/np.sum(n)/(bin_edges[1]-bin_edges[0])\n",
    "\n",
    "    plt.plot(bins_center,n,'o-',markersize=2,label='La=%d' % (i_n+1))\n",
    "\n",
    "plt.legend()\n",
    "# plt.ylim(0,0.3)\n",
    "plt.show()\n"
   ]
  },
  {
   "cell_type": "code",
   "execution_count": null,
   "metadata": {},
   "outputs": [],
   "source": [
    "plt.imshow(np.abs(rho-np.diag(rho)));"
   ]
  },
  {
   "cell_type": "code",
   "execution_count": 2,
   "metadata": {},
   "outputs": [
    {
     "name": "stdout",
     "output_type": "stream",
     "text": [
      "Finished, quimb elapsed time = 153.88 sec\n",
      "[0.]\n"
     ]
    }
   ],
   "source": [
    "Nrep=1\n",
    "r=2 # local Hilbert space dim\n",
    "\n",
    "La=10\n",
    "Lb=La\n",
    "L=30\n",
    "Lc=L-La-Lb\n",
    "\n",
    "Na=r**La\n",
    "Nb=r**Lb\n",
    "Nab=Na*Nb\n",
    "Nc=r**Lc\n",
    "N= Na*Nb*Nc\n",
    "\n",
    "dims = [r] * L\n",
    "dims_ab = [r] * (La+Lb)\n",
    "N = prod(dims)\n",
    "\n",
    "# v1_q=np.zeros(Nrep*Nb*Na)\n",
    "neg_q=np.zeros(Nrep)\n",
    "\n",
    "t_timer=time.time()\n",
    "np.random.seed(1)\n",
    "\n",
    "for i_r in range(Nrep):\n",
    "    i_r\n",
    "\n",
    "    psi = rand_ket(N)\n",
    "#     psi= rand_haar_state(N)\n",
    "#     rho_ab = ptr(psi, dims=dims, keep=np.arange(Lc,L))\n",
    "#     rT=partial_transpose(rho_ab, dims=dims_ab, sysa=np.arange(La))\n",
    "#     lT_q=np.linalg.eigvalsh(rT)\n",
    "#     v1_q[i_r*Nab:(i_r+1)*Nab] = Nab*lT_q\n",
    "\n",
    "#     rTb=partial_transpose(rho_ab, dims=dims_ab, sysa=np.arange(La,La+Lb))\n",
    "#     lT_b=np.linalg.eigvalsh(rTb)\n",
    "\n",
    "#     neg_q[i_r]=logneg( rho_ab, dims=dims_ab, sysa=np.arange(La) )\n",
    "#     neg_q[i_r]=logneg_subsys(psi, dims=dims, sysa=np.arange(La), sysb=np.arange(La,La+Lb))\n",
    "    neg_q[i_r]=logneg_subsys_approx(psi, dims=dims, sysa=np.arange(La), sysb=np.arange(La,La+Lb))\n",
    "\n",
    "    \n",
    "elapsed = time.time() - t_timer\n",
    "print(\"Finished, quimb elapsed time = %.2f \" % (elapsed)+ \"sec\")\n",
    "\n",
    "print(neg_q)"
   ]
  },
  {
   "cell_type": "code",
   "execution_count": null,
   "metadata": {},
   "outputs": [],
   "source": [
    "# plt.figure()\n",
    "# # plt.plot(l1T,'o')\n",
    "# plt.plot(lT_b[:100],'o')\n",
    "# plt.plot(lT_q[:100],'x')\n",
    "# plt.show()"
   ]
  },
  {
   "cell_type": "code",
   "execution_count": null,
   "metadata": {},
   "outputs": [],
   "source": [
    "num_bins = 30\n",
    "\n",
    "n, bin_edges = np.histogram(v1b, bins=num_bins)\n",
    "bins_center= (bin_edges[0:num_bins]+ bin_edges[1:])/2\n",
    "n= n/np.sum(n)/(bin_edges[1]-bin_edges[0])\n",
    "\n",
    "n_q, bin_edges_q = np.histogram(v1_q, bins=num_bins)\n",
    "bins_center_q= (bin_edges_q[0:num_bins]+ bin_edges_q[1:])/2\n",
    "n_q= n_q/np.sum(n_q)/(bin_edges_q[1]-bin_edges_q[0])\n",
    "\n",
    "\n",
    "plt.figure()\n",
    "plt.plot(bins_center,n,'o-',markersize=2)\n",
    "plt.plot(bins_center_q,n_q,'v-',markersize=2)\n",
    "plt.show()\n",
    "# print(n.shape,bins.shape)"
   ]
  },
  {
   "cell_type": "code",
   "execution_count": null,
   "metadata": {},
   "outputs": [],
   "source": []
  }
 ],
 "metadata": {
  "kernelspec": {
   "display_name": "Python 3",
   "language": "python",
   "name": "python3"
  },
  "language_info": {
   "codemirror_mode": {
    "name": "ipython",
    "version": 3
   },
   "file_extension": ".py",
   "mimetype": "text/x-python",
   "name": "python",
   "nbconvert_exporter": "python",
   "pygments_lexer": "ipython3",
   "version": "3.5.2"
  }
 },
 "nbformat": 4,
 "nbformat_minor": 2
}
