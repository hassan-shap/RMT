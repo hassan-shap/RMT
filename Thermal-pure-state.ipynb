{
 "cells": [
  {
   "cell_type": "code",
   "execution_count": 231,
   "metadata": {},
   "outputs": [],
   "source": [
    "import numpy as np\n",
    "import scipy\n",
    "from math import pi, sqrt, tanh\n",
    "import matplotlib.pyplot as plt\n",
    "import time\n",
    "from os import path\n"
   ]
  },
  {
   "cell_type": "code",
   "execution_count": 2,
   "metadata": {},
   "outputs": [],
   "source": [
    "from scipy.integrate import quad, nquad\n",
    "\n",
    "def Gz(z,a,b):\n",
    "    '''Direct solution to G(z), faster but has numerical instability for large V\n",
    "    a=  Lb/L2\n",
    "    b=  Lb*L1/L2\n",
    "    '''\n",
    "    a2= (b-1)/z +1j*0\n",
    "    a1= (a-z)/z +1j*0\n",
    "    a0= 1/z +1j*0\n",
    "    Q= (3*a1-a2**2)/9 +1j*0\n",
    "    R= (9*a2*a1-27*a0-2*a2**3)/54 +1j*0\n",
    "    D= Q**3 + R**2 +1j*0\n",
    "    S= (R+D**0.5 +1j*0)**(1/3)\n",
    "    T= (R-D**0.5 +1j*0)**(1/3)\n",
    "    z4= -a2/3 + (1-1j*sqrt(3))*Q/S/2-(1+1j*sqrt(3))/2*S\n",
    "    return np.abs(np.imag(z4))\n",
    "\n",
    "def integrand(z, a, b):\n",
    "    return Gz(z,a,b)*np.abs(z)\n",
    "\n",
    "def neg_calc(a,b):\n",
    "    '''Calculates logneg by \\int P(z)|z| dz\n",
    "    where P(z) is spectral density'''\n",
    "    options={'limit':500}\n",
    "    integral= nquad(integrand, [[-np.inf, np.inf]], args=(a, b),opts=[options,options])[0]\n",
    "    return integral\n"
   ]
  },
  {
   "cell_type": "code",
   "execution_count": 232,
   "metadata": {},
   "outputs": [],
   "source": [
    "import itertools\n",
    "from operator import add\n",
    "from quimb import *\n",
    "import quimb\n",
    "\n",
    "r=2 # local Hilbert space dim\n",
    "\n",
    "def ising_chain(L, g=1.0, h=0.0, cyclic=True,\n",
    "                sparse=True):\n",
    "\n",
    "# g=0\n",
    "# h=0\n",
    "# cyclic=True\n",
    "# m= 4\n",
    "    dims = [r] * L  # shape (n, m)\n",
    "\n",
    "    # generate tuple of all site coordinates\n",
    "    # sites = tuple(itertools.product(range(n)))\n",
    "    sites= tuple(range(L))\n",
    "    # print(sites)\n",
    "\n",
    "    # generate neighbouring pairs of coordinates\n",
    "    def gen_pairs():\n",
    "        for i in sites:\n",
    "    #         print(i)\n",
    "            right = (i + 1) % L \n",
    "            # ignore wraparound coordinates if not cyclic\n",
    "            if cyclic or right != 0:\n",
    "                yield (i, right)\n",
    "\n",
    "    # generate all pairs of coordinates and directions\n",
    "    pairs_ss = tuple(gen_pairs())\n",
    "    # pairs_ss = tuple(itertools.product(gen_pairs(), 'xyz'))\n",
    "    print(pairs_ss)\n",
    "#     print(sites)\n",
    "\n",
    "    # make XX, YY and ZZ interaction from pair_s\n",
    "    #     e.g. arg ([(3, 4), (3, 5)], 'z')\n",
    "    def interactions(pair):\n",
    "        Sz = spin_operator('z', sparse=True)\n",
    "        return -ikron([2*Sz, 2*Sz], dims, inds=pair)\n",
    "\n",
    "    # function to make Z field at ``site``\n",
    "    def fields(site):\n",
    "        Sx = spin_operator('x', sparse=True)\n",
    "        Sz = spin_operator('z', sparse=True)\n",
    "        return -ikron(g * 2*Sx+ h * 2*Sz, dims, inds=[site])\n",
    "\n",
    "    # combine all terms\n",
    "    all_terms = itertools.chain(map(interactions, pairs_ss),\n",
    "                                map(fields, sites))\n",
    "    H = sum(all_terms)\n",
    "\n",
    "    # can improve speed of e.g. eigensolving if known to be real\n",
    "    if isreal(H):\n",
    "        H = H.real\n",
    "\n",
    "    if not sparse:\n",
    "        H = qarray(H.A)\n",
    "    else:\n",
    "        H= quimb.core.sparse_matrix(H)\n",
    "\n",
    "    return H\n"
   ]
  },
  {
   "cell_type": "markdown",
   "metadata": {},
   "source": [
    "# negativity spectrum"
   ]
  },
  {
   "cell_type": "code",
   "execution_count": 183,
   "metadata": {},
   "outputs": [
    {
     "name": "stdout",
     "output_type": "stream",
     "text": [
      "((0, 1), (1, 2), (2, 3))\n"
     ]
    }
   ],
   "source": [
    "La = 2\n",
    "Lb = 2\n",
    "Lab = La + Lb\n",
    "Lc = 6\n",
    "Nrep = 1000\n",
    "\n",
    "r = 2\n",
    "Nab = r**Lab\n",
    "Nc = r**Lc\n",
    "dims = [r] * Lab\n",
    "\n",
    "# chaotic\n",
    "# H1ref = ising_chain(L=Lab, g=1.05, h=-0.5, cyclic=False,sparse=False)\n",
    "# ebH = scipy.linalg.expm(-beta*H1ref/2)\n",
    "# v1ref=np.zeros(Nrep*Nab)\n",
    "# %time es= np.linalg.eigvalsh(H1)\n",
    "H1 = ising_chain(L=Lab, g=1.05, h=-0.5, cyclic=False,sparse=True)\n",
    "# ge0 , _ = scipy.sparse.linalg.eigsh(H1,1)\n",
    "# ge0 = groundenergy(H1)\n",
    "\n",
    "ge0={\"4\":6.16103425,\"6\":9.60646994,\"8\":13.0528867, \"10\":16.499332, \"12\":19.94577803, \"14\":23.392224094, \"16\":26.83867014, \"18\":30.28511620}\n",
    "# print(es[0],es[-1],ge0)\n",
    "v1b=np.zeros(Nrep*Nab)\n",
    "\n",
    "# # H2 = ising_chain(L=Lc, g=1.05, h=-0.5, cyclic=False,sparse=True)\n",
    "# # v2b=np.zeros(Nrep*Nab)\n",
    "\n",
    "beta = 0/(4*np.abs(ge0[\"%d\" % (Lab)])/Lab)\n",
    "Nbeta = 4\n",
    "\n",
    "for i_r in range(Nrep):\n",
    "    #### no symmetry\n",
    "    X=np.random.randn(Nab,Nc)+1j*np.random.randn(Nab,Nc)\n",
    "    \n",
    "#     Xref= np.dot(ebH,X)\n",
    "#     mat= dot(Xref,np.matrix(Xref).H)\n",
    "#     rho= mat / np.trace(mat)\n",
    "#     rT = partial_transpose(rho, dims=dims, sysa=np.arange(La))\n",
    "#     l1T=np.linalg.eigvalsh(rT)\n",
    "#     v1ref[i_r*Nab:(i_r+1)*Nab] = l1T #*(Nab)\n",
    "    \n",
    "    if beta >0:\n",
    "        for i_b in range(Nbeta):\n",
    "            X -= (beta/Nbeta/2)*dot(H1,X)\n",
    "    mat= dot(X,np.matrix(X).H)\n",
    "    rho= mat / np.trace(mat)\n",
    "    rT = partial_transpose(rho, dims=dims, sysa=np.arange(La))\n",
    "    l1T=np.linalg.eigvalsh(rT)\n",
    "    v1b[i_r*Nab:(i_r+1)*Nab] = l1T*(Nab)\n",
    "\n",
    "#     if beta >0:\n",
    "#         for i_b in range(Nbeta):\n",
    "#             X -= (beta/Nbeta/2)*dot(X,H2)\n",
    "#     mat= dot(X,np.matrix(X).H)\n",
    "#     rho= mat / np.trace(mat)\n",
    "#     rT = partial_transpose(rho, dims=dims, sysa=np.arange(La))\n",
    "#     l1T=np.linalg.eigvalsh(rT)\n",
    "#     v2b[i_r*Nab:(i_r+1)*Nab] = l1T #*(Nab)\n",
    "\n"
   ]
  },
  {
   "cell_type": "code",
   "execution_count": 185,
   "metadata": {},
   "outputs": [
    {
     "data": {
      "image/png": "[encoded data removed]",
      "text/plain": [
       "<Figure size 432x288 with 1 Axes>"
      ]
     },
     "metadata": {
      "needs_background": "light"
     },
     "output_type": "display_data"
    }
   ],
   "source": [
    "\n",
    "num_bins=50\n",
    "\n",
    "n, bin_edges = np.histogram(v1b, bins=num_bins)\n",
    "bins_center= (bin_edges[0:num_bins]+ bin_edges[1:])/2\n",
    "n= n/np.sum(n)/(bin_edges[1]-bin_edges[0])\n",
    "\n",
    "plt.figure()\n",
    "plt.plot(bins_center,n,'o',color='red',markersize=2)#,color='C%d' % (i_n),label='Na=%d' % (i_n+1) )\n",
    "# plt.xlim([-0.01,0.03])\n",
    "# plt.ylim([0,20])\n",
    "\n",
    "# n, bin_edges = np.histogram(v2b, bins=num_bins)\n",
    "# bins_center= (bin_edges[0:num_bins]+ bin_edges[1:])/2\n",
    "# n= n/np.sum(n)/(bin_edges[1]-bin_edges[0])\n",
    "# plt.plot(bins_center,n,'o',color='blue',markersize=2)#,color='C%d' % (i_n),label='Na=%d' % (i_n+1) )\n",
    "\n",
    "plt.show()\n"
   ]
  },
  {
   "cell_type": "markdown",
   "metadata": {},
   "source": [
    "# log negativity"
   ]
  },
  {
   "cell_type": "code",
   "execution_count": 4,
   "metadata": {},
   "outputs": [],
   "source": [
    "\n",
    "def ising_chain_partial(La,L, g=1.0, h=0.0, cyclic=True,\n",
    "                sparse=True):\n",
    "\n",
    "# g=0\n",
    "# h=0\n",
    "# cyclic=True\n",
    "# m= 4\n",
    "    dims = [r] * L  # shape (n, m)\n",
    "\n",
    "    # generate tuple of all site coordinates\n",
    "    # sites = tuple(itertools.product(range(n)))\n",
    "    sites= tuple(range(La))\n",
    "    # print(sites)\n",
    "\n",
    "    # generate neighbouring pairs of coordinates\n",
    "    def gen_pairs():\n",
    "        for i in sites:\n",
    "    #         print(i)\n",
    "            right = (i + 1) % L \n",
    "            # ignore wraparound coordinates if not cyclic\n",
    "            if cyclic or right != 0:\n",
    "                yield (i, right)\n",
    "\n",
    "    # generate all pairs of coordinates and directions\n",
    "    pairs_ss = tuple(gen_pairs())\n",
    "    # pairs_ss = tuple(itertools.product(gen_pairs(), 'xyz'))\n",
    "    print(pairs_ss)\n",
    "#     print(sites)\n",
    "\n",
    "    # make XX, YY and ZZ interaction from pair_s\n",
    "    #     e.g. arg ([(3, 4), (3, 5)], 'z')\n",
    "    def interactions(pair):\n",
    "        Sz = spin_operator('z', sparse=True)\n",
    "        return -ikron([2*Sz, 2*Sz], dims, inds=pair)\n",
    "\n",
    "    # function to make Z field at ``site``\n",
    "    def fields(site):\n",
    "        Sx = spin_operator('x', sparse=True)\n",
    "        Sz = spin_operator('z', sparse=True)\n",
    "        return -ikron(g * 2*Sx+ h * 2*Sz, dims, inds=[site])\n",
    "\n",
    "    # combine all terms\n",
    "    all_terms = itertools.chain(map(interactions, pairs_ss),\n",
    "                                map(fields, sites))\n",
    "    H = sum(all_terms)\n",
    "\n",
    "    # can improve speed of e.g. eigensolving if known to be real\n",
    "    if isreal(H):\n",
    "        H = H.real\n",
    "\n",
    "    if not sparse:\n",
    "        H = qarray(H.A)\n",
    "    else:\n",
    "        H= quimb.core.sparse_matrix(H)\n",
    "\n",
    "    return H\n"
   ]
  },
  {
   "cell_type": "code",
   "execution_count": 278,
   "metadata": {
    "scrolled": true
   },
   "outputs": [
    {
     "name": "stdout",
     "output_type": "stream",
     "text": [
      "((0, 1), (1, 2), (2, 3), (3, 4), (4, 5), (5, 6), (6, 7))\n",
      "((0, 1), (1, 2), (2, 3), (3, 4), (4, 5), (5, 6), (6, 7))\n"
     ]
    }
   ],
   "source": [
    "La = 4\n",
    "Lb = 4\n",
    "Lab = La + Lb\n",
    "Lc = 12\n",
    "Nrep = 100\n",
    "\n",
    "r = 2\n",
    "Nab = r**Lab\n",
    "Nc = r**Lc\n",
    "dims = [r] * (Lab+Lc)\n",
    "\n",
    "H1ref = ising_chain(L=Lab, g=1.05, h=-0.5, cyclic=False,sparse=False)\n",
    "\n",
    "ge0={\"4\":6.16103425,\"6\":9.60646994,\"8\":13.0528867, \"10\":16.499332, \"12\":19.94577803, \"14\":23.392224094, \"16\":26.83867014, \"18\":30.28511620}\n",
    "H1 = ising_chain(L=Lab, g=1.05, h=-0.5, cyclic=False,sparse=True)\n",
    "\n",
    "# beta_sw = np.arange(0.0,1.01,0.1)\n",
    "beta_sw = np.linspace(0,4,20)\n",
    "Nbeta = 100\n",
    "\n",
    "ln1 = np.zeros((len(beta_sw),Nrep))\n",
    "ln_ref3 = np.zeros((len(beta_sw),Nrep))\n",
    "\n",
    "for i_beta in range(len(beta_sw)):\n",
    "    beta = beta_sw[i_beta]/(ge0[\"%d\" % (Lab)]/Lab)\n",
    "\n",
    "    t = time.time()\n",
    "    ebH = scipy.linalg.expm(-beta*H1ref/2)\n",
    "#     print(\"exp: \", time.time()- t)\n",
    "\n",
    "    for i_r in range(Nrep):\n",
    "        #### no symmetry\n",
    "        X=np.random.randn(Nab,Nc)+1j*np.random.randn(Nab,Nc)\n",
    "\n",
    "        t = time.time()\n",
    "        Xref= np.dot(ebH,X)\n",
    "        mat= dot(Xref,np.matrix(Xref).H)\n",
    "        rho= mat / np.trace(mat)\n",
    "        ln_ref3[i_beta,i_r] = logneg(rho, dims=[r]*Lab, sysa=np.arange(La))\n",
    "#         print( time.time()- t)\n",
    "\n",
    "#         t = time.time()\n",
    "#         if beta >0:\n",
    "#             for i_b in range(Nbeta):\n",
    "#                 X -= (beta/Nbeta/2)*dot(H1,X)\n",
    "#         psi = normalize(np.reshape(X,[Nab*Nc,1]))\n",
    "#         ln1[i_beta,i_r]=logneg_subsys(psi, dims=dims, sysa=np.arange(La), sysb=np.arange(La,Lab))\n",
    "#         print(\"approx: \", time.time()- t)\n"
   ]
  },
  {
   "cell_type": "code",
   "execution_count": 279,
   "metadata": {},
   "outputs": [
    {
     "data": {
      "image/png": "[encoded data removed]",
      "text/plain": [
       "<Figure size 432x288 with 1 Axes>"
      ]
     },
     "metadata": {
      "needs_background": "light"
     },
     "output_type": "display_data"
    }
   ],
   "source": [
    "plt.figure()\n",
    "# plt.plot(beta_sw,np.mean(ln1,axis=1),\"o-\")\n",
    "plt.plot(beta_sw,np.mean(ln_ref,axis=1),\"o-\",label=r\"$N_B = 8$\")\n",
    "plt.plot(beta_sw,np.mean(ln_ref2,axis=1),\"o-\",label=r\"$N_B = 10$\")\n",
    "plt.plot(beta_sw,np.mean(ln_ref3,axis=1),\"o-\",label=r\"$N_B = 12$\")\n",
    "# plt.plot(beta_sw,logneg,\"x\")\n",
    "plt.ylim([-0.005,0.3])\n",
    "plt.legend()\n",
    "plt.xlabel(r\"$\\beta$\")\n",
    "plt.ylabel(\"log. neg.\")\n",
    "plt.show()"
   ]
  },
  {
   "cell_type": "code",
   "execution_count": 218,
   "metadata": {},
   "outputs": [
    {
     "data": {
      "image/png": "[encoded data removed]",
      "text/plain": [
       "<Figure size 432x288 with 1 Axes>"
      ]
     },
     "metadata": {
      "needs_background": "light"
     },
     "output_type": "display_data"
    }
   ],
   "source": [
    "La = 6\n",
    "Lb = La\n",
    "Lab = La + Lb\n",
    "Lc_sw = np.arange(2,19)\n",
    "\n",
    "beta_list = [0,1/4,1/2]\n",
    "\n",
    "\n",
    "plt.figure()\n",
    "\n",
    "for i_beta in range(len(beta_list)):\n",
    "    beta0 = beta_list[i_beta]\n",
    "    Lcs=[]\n",
    "    ln_avg=[]\n",
    "    for i_c in range(len(Lc_sw)):\n",
    "        Lc = Lc_sw[i_c]\n",
    "        f1= 'TPS_b_%.2f_Labc_%d_%d_%d.npz' % (beta0,La,Lb,Lc)\n",
    "        data_dir = 'thermal_data/' \n",
    "        fname = data_dir+f1\n",
    "        if path.exists(fname):\n",
    "            npzfile = np.load(fname)\n",
    "            logneg_vals=npzfile['logneg']\n",
    "            ln_avg.append(np.mean(logneg_vals))\n",
    "            Lcs.append(Lc)\n",
    "#             print('Averaged over %d states' % (len(logneg)))\n",
    "\n",
    "    plt.plot(Lcs,ln_avg,\"o-\",label=r\"$\\beta = %.2f $\" % (beta0))\n",
    "\n",
    "plt.xlabel(r\"$N_B$\")\n",
    "plt.ylabel(\"log. neg.\")\n",
    "plt.legend()\n",
    "\n",
    "plt.show()"
   ]
  },
  {
   "cell_type": "markdown",
   "metadata": {},
   "source": [
    "# benchmark log neg efficient"
   ]
  },
  {
   "cell_type": "code",
   "execution_count": null,
   "metadata": {},
   "outputs": [
    {
     "name": "stdout",
     "output_type": "stream",
     "text": [
      "((0, 1), (1, 2), (2, 3), (3, 4), (4, 5), (5, 6), (6, 7), (7, 8), (8, 9), (9, 10), (10, 11), (11, 12), (12, 13), (13, 14), (14, 15))\n"
     ]
    }
   ],
   "source": [
    "La = 8\n",
    "Lb = La\n",
    "Lab = La + Lb\n",
    "Lc_sw = np.arange(3)\n",
    "Nrep = 1\n",
    "\n",
    "r = 2\n",
    "Nab = r**Lab\n",
    "dims = [r] * Lab\n",
    "\n",
    "ge0={\"8\":13.0528867, \"10\":16.499332, \"12\":19.94577803, \"14\":23.392224094, \"16\":26.83867014, \"18\":30.28511620}\n",
    "beta0=1/4\n",
    "beta = beta0/(ge0[\"%d\" % (Lab)]/Lab)\n",
    "Nbeta = 6\n",
    "\n",
    "if beta>0:\n",
    "    H1 = ising_chain(L=Lab, g=1.05, h=-0.5, cyclic=False,sparse=True)\n",
    "\n",
    "logneg_vals = np.zeros((len(Lc_sw),Nrep))\n",
    "logneg_vals_2 = np.zeros((len(Lc_sw),Nrep))\n",
    "\n",
    "for i_c in range(len(Lc_sw)):\n",
    "    Lc = Lc_sw[i_c]    \n",
    "    Nc = r**Lc\n",
    "\n",
    "   \n",
    "    for i_r in range(Nrep):\n",
    "        if i_r%10 ==0:\n",
    "            print(\"(Labc, r): \", La, Lb, Lc, i_r)\n",
    "        #### no symmetry\n",
    "\n",
    "        X=np.random.randn(Nab,Nc)+1j*np.random.randn(Nab,Nc)\n",
    "\n",
    "        if beta >0:\n",
    "            for i_b in range(Nbeta):\n",
    "                X -= (beta/Nbeta/2)*dot(H1,X)\n",
    "        \n",
    "#         t_timer=time.time()\n",
    "#         mat= dot(X,np.matrix(X).H)\n",
    "#         rho= mat / np.trace(mat)\n",
    "#         logneg_vals[i_c,i_r]=logneg(np.matrix(rho), dims=dims, sysa=np.arange(La))\n",
    "#         elapsed = time.time() - t_timer\n",
    "#         print(\"matrix elapsed time = %.2f \" % (elapsed)+ \"sec\")        \n",
    "        \n",
    "        t_timer=time.time()\n",
    "        psi = np.reshape(X,[Nab*Nc,1])\n",
    "        logneg_vals_2[i_c,i_r]=logneg_subsys_approx(normalize(psi), dims=[r]*(Lab+Lc), sysa=np.arange(La), sysb=np.arange(La,Lab))\n",
    "        elapsed = time.time() - t_timer\n",
    "        print(\"vector elapsed time = %.2f \" % (elapsed)+ \"sec\")        \n",
    "\n",
    "        "
   ]
  },
  {
   "cell_type": "markdown",
   "metadata": {},
   "source": [
    "# Renyi negativity"
   ]
  },
  {
   "cell_type": "code",
   "execution_count": 166,
   "metadata": {
    "scrolled": true
   },
   "outputs": [
    {
     "name": "stdout",
     "output_type": "stream",
     "text": [
      "((0, 1), (1, 2), (2, 3), (3, 4), (4, 5), (5, 6), (6, 7))\n",
      "(Labc, r):  4 4 2 0\n",
      "(Labc, r):  4 4 2 10\n",
      "(Labc, r):  4 4 2 20\n",
      "(Labc, r):  4 4 2 30\n",
      "(Labc, r):  4 4 2 40\n",
      "(Labc, r):  4 4 2 50\n",
      "(Labc, r):  4 4 2 60\n",
      "(Labc, r):  4 4 2 70\n",
      "(Labc, r):  4 4 2 80\n",
      "(Labc, r):  4 4 2 90\n",
      "(Labc, r):  4 4 3 0\n",
      "(Labc, r):  4 4 3 10\n",
      "(Labc, r):  4 4 3 20\n",
      "(Labc, r):  4 4 3 30\n",
      "(Labc, r):  4 4 3 40\n",
      "(Labc, r):  4 4 3 50\n",
      "(Labc, r):  4 4 3 60\n",
      "(Labc, r):  4 4 3 70\n",
      "(Labc, r):  4 4 3 80\n",
      "(Labc, r):  4 4 3 90\n",
      "(Labc, r):  4 4 4 0\n",
      "(Labc, r):  4 4 4 10\n",
      "(Labc, r):  4 4 4 20\n",
      "(Labc, r):  4 4 4 30\n",
      "(Labc, r):  4 4 4 40\n",
      "(Labc, r):  4 4 4 50\n",
      "(Labc, r):  4 4 4 60\n",
      "(Labc, r):  4 4 4 70\n",
      "(Labc, r):  4 4 4 80\n",
      "(Labc, r):  4 4 4 90\n",
      "(Labc, r):  4 4 5 0\n",
      "(Labc, r):  4 4 5 10\n",
      "(Labc, r):  4 4 5 20\n",
      "(Labc, r):  4 4 5 30\n",
      "(Labc, r):  4 4 5 40\n",
      "(Labc, r):  4 4 5 50\n",
      "(Labc, r):  4 4 5 60\n",
      "(Labc, r):  4 4 5 70\n",
      "(Labc, r):  4 4 5 80\n",
      "(Labc, r):  4 4 5 90\n",
      "(Labc, r):  4 4 6 0\n",
      "(Labc, r):  4 4 6 10\n",
      "(Labc, r):  4 4 6 20\n",
      "(Labc, r):  4 4 6 30\n",
      "(Labc, r):  4 4 6 40\n",
      "(Labc, r):  4 4 6 50\n",
      "(Labc, r):  4 4 6 60\n",
      "(Labc, r):  4 4 6 70\n",
      "(Labc, r):  4 4 6 80\n",
      "(Labc, r):  4 4 6 90\n",
      "(Labc, r):  4 4 7 0\n",
      "(Labc, r):  4 4 7 10\n",
      "(Labc, r):  4 4 7 20\n",
      "(Labc, r):  4 4 7 30\n",
      "(Labc, r):  4 4 7 40\n",
      "(Labc, r):  4 4 7 50\n",
      "(Labc, r):  4 4 7 60\n",
      "(Labc, r):  4 4 7 70\n",
      "(Labc, r):  4 4 7 80\n",
      "(Labc, r):  4 4 7 90\n",
      "(Labc, r):  4 4 8 0\n",
      "(Labc, r):  4 4 8 10\n",
      "(Labc, r):  4 4 8 20\n",
      "(Labc, r):  4 4 8 30\n",
      "(Labc, r):  4 4 8 40\n",
      "(Labc, r):  4 4 8 50\n",
      "(Labc, r):  4 4 8 60\n",
      "(Labc, r):  4 4 8 70\n",
      "(Labc, r):  4 4 8 80\n",
      "(Labc, r):  4 4 8 90\n"
     ]
    }
   ],
   "source": [
    "from quimb.linalg.approx_spectral import *\n",
    "\n",
    "La = 4\n",
    "Lb = La\n",
    "Lab = La + Lb\n",
    "Lc_sw = np.arange(2,9)\n",
    "Nrep = 100\n",
    "α = 10 # Renyi index\n",
    "\n",
    "r = 2\n",
    "Nab = r**Lab\n",
    "dims = [r] * Lab\n",
    "\n",
    "ge0={\"4\":6.16103425,\"6\":9.60646994,\"8\":13.0528867, \"10\":16.499332, \"12\":19.94577803, \"14\":23.392224094, \"16\":26.83867014, \"18\":30.28511620}\n",
    "beta0=1/2\n",
    "beta = beta0/(ge0[\"%d\" % (Lab)]/Lab)\n",
    "Nbeta = 6\n",
    "\n",
    "if beta>0:\n",
    "    H1 = ising_chain(L=Lab, g=1.05, h=-0.5, cyclic=False,sparse=True)\n",
    "\n",
    "logneg_vals = np.zeros((len(Lc_sw),Nrep))\n",
    "logneg_vals_2 = np.zeros((len(Lc_sw),Nrep))\n",
    "R3 = np.zeros((len(Lc_sw),Nrep))\n",
    "R3_o = np.zeros((len(Lc_sw),Nrep))\n",
    "\n",
    "for i_c in range(len(Lc_sw)):\n",
    "    Lc = Lc_sw[i_c]    \n",
    "    Nc = r**Lc\n",
    "\n",
    "   \n",
    "    for i_r in range(Nrep):\n",
    "        if i_r%10 ==0:\n",
    "            print(\"(Labc, r): \", La, Lb, Lc, i_r)\n",
    "        #### no symmetry\n",
    "\n",
    "        X=np.random.randn(Nab,Nc)+1j*np.random.randn(Nab,Nc)\n",
    "\n",
    "        if beta >0:\n",
    "            for i_b in range(Nbeta):\n",
    "                X -= (beta/Nbeta/2)*dot(H1,X)\n",
    "        \n",
    "        t_timer=time.time()\n",
    "        psi = normalize(np.reshape(X,[Nab*Nc,1]))\n",
    "#         logneg_vals[i_c,i_r]=logneg_subsys_approx(normalize(psi), dims=[r]*(Lab+Lc), sysa=np.arange(La), sysb=np.arange(La,Lab))\n",
    "# #         elapsed = time.time() - t_timer\n",
    "# #         print(\"vector elapsed time = %.2f \" % (elapsed)+ \"sec\")        \n",
    "\n",
    "        rho = lazy_ptr_linop(psi, dims=[r]*(Lab+Lc), sysa=np.arange(Lab))\n",
    "        rT = lazy_ptr_ppt_linop(psi, dims=[r]*(Lab+Lc), sysa=np.arange(La), sysb=np.arange(La,Lab))\n",
    "#         logneg_vals_2[i_c,i_r] = log2(approx_spectral_function(rT, f=abs))\n",
    "#         R3[i_c,i_r] = log(approx_spectral_function(rT, lambda x: x**3)/approx_spectral_function(rho, lambda x: x**3))    \n",
    "        R3[i_c,i_r] = approx_spectral_function(rT, lambda x: x**α)**(1/α)\n",
    "\n",
    "        mat = np.dot(X,np.matrix(X).H)\n",
    "        rho_o = mat/np.trace(mat)\n",
    "        rT_o = partial_transpose(rho_o, dims=[r]*Lab, sysa=np.arange(La))\n",
    "        R3_o[i_c,i_r] = np.real(np.trace(np.linalg.matrix_power(rT_o,α)))**(1/α)\n",
    "                       "
   ]
  },
  {
   "cell_type": "code",
   "execution_count": 167,
   "metadata": {},
   "outputs": [
    {
     "data": {
      "text/plain": [
       "[<matplotlib.lines.Line2D at 0x2b952896b220>]"
      ]
     },
     "execution_count": 167,
     "metadata": {},
     "output_type": "execute_result"
    },
    {
     "data": {
      "image/png": "[encoded data removed]",
      "text/plain": [
       "<Figure size 432x288 with 1 Axes>"
      ]
     },
     "metadata": {
      "needs_background": "light"
     },
     "output_type": "display_data"
    }
   ],
   "source": [
    "# plt.plot(Lc_sw,np.mean(logneg_vals,axis=1),\"o\")\n",
    "# plt.plot(Lc_sw,np.mean(logneg_vals_2,axis=1),\"x\")\n",
    "plt.plot(Lc_sw,np.mean(R3_o,axis=1),\"o\")\n",
    "plt.plot(Lc_sw,np.mean(R3,axis=1),\"x\")\n"
   ]
  },
  {
   "cell_type": "code",
   "execution_count": 287,
   "metadata": {},
   "outputs": [
    {
     "data": {
      "image/png": "[encoded data removed]",
      "text/plain": [
       "<Figure size 432x288 with 1 Axes>"
      ]
     },
     "metadata": {
      "needs_background": "light"
     },
     "output_type": "display_data"
    },
    {
     "data": {
      "image/png": "[encoded data removed]",
      "text/plain": [
       "<Figure size 432x288 with 1 Axes>"
      ]
     },
     "metadata": {
      "needs_background": "light"
     },
     "output_type": "display_data"
    }
   ],
   "source": [
    "α = 10\n",
    "La = 6\n",
    "Lb = La\n",
    "Lab = La + Lb\n",
    "Lc_sw = np.arange(2,19)\n",
    "\n",
    "beta_list = [0,1/4,1/2]\n",
    "\n",
    "\n",
    "\n",
    "for i_beta in range(len(beta_list)):\n",
    "    beta0 = beta_list[i_beta]\n",
    "    Lcs=[]\n",
    "    Rn_avg=[]\n",
    "    RTn_avg=[]\n",
    "    for i_c in range(len(Lc_sw)):\n",
    "        Lc = Lc_sw[i_c]\n",
    "        f1= 'R%d_b_%.2f_Labc_%d_%d_%d.npz' % (α,beta0,La,Lb,Lc)\n",
    "        data_dir = 'thermal_data/' \n",
    "        fname = data_dir+f1\n",
    "        if path.exists(fname):\n",
    "            npzfile = np.load(fname)\n",
    "            Rn_vals=npzfile['Rn']\n",
    "            Rn_avg.append(np.mean(Rn_vals))\n",
    "            RTn_vals=npzfile['RTn']\n",
    "            RTn_avg.append(np.mean(RTn_vals))\n",
    "            Lcs.append(Lc)\n",
    "#             print('Averaged over %d states' % (len(logneg)))\n",
    "\n",
    "    plt.figure(1)\n",
    "    RTn = np.array(RTn_avg)/α\n",
    "    Rn = np.array(Rn_avg)/α\n",
    "    plt.plot(Lcs,RTn,\".-\",color=\"C%d\" % (i_beta),label=r\"$Neg, \\beta = %.2f $\" % (beta0))\n",
    "    plt.plot(Lcs,Rn,\"x-\",color=\"C%d\" % (i_beta),label=r\"Renyi, $\\beta = %.2f $\" % (beta0))\n",
    "    plt.figure(2)\n",
    "    Rn = np.array(RTn_avg)-np.array(Rn_avg)\n",
    "    plt.plot(Lcs,Rn,\".-\",label=r\"$\\beta = %.2f $\" % (beta0))\n",
    "\n",
    "plt.figure(1)\n",
    "plt.xlabel(r\"$N_B$\")\n",
    "plt.ylabel(r\"$\\frac{1}{%d}\\log {\\rm Tr}(\\rho^{T_1})^{%d}$\" % (α,α))\n",
    "# plt.legend()\n",
    "\n",
    "plt.figure(2)\n",
    "plt.xlabel(r\"$N_B$\")\n",
    "plt.ylabel(r\"$R_{%d}$\" % (α))\n",
    "plt.legend()\n",
    "\n",
    "plt.show()"
   ]
  },
  {
   "cell_type": "code",
   "execution_count": null,
   "metadata": {},
   "outputs": [],
   "source": []
  }
 ],
 "metadata": {
  "@webio": {
   "lastCommId": null,
   "lastKernelId": null
  },
  "kernelspec": {
   "display_name": "Python 3",
   "language": "python",
   "name": "python3"
  },
  "language_info": {
   "codemirror_mode": {
    "name": "ipython",
    "version": 3
   },
   "file_extension": ".py",
   "mimetype": "text/x-python",
   "name": "python",
   "nbconvert_exporter": "python",
   "pygments_lexer": "ipython3",
   "version": "3.8.3"
  }
 },
 "nbformat": 4,
 "nbformat_minor": 4
}
