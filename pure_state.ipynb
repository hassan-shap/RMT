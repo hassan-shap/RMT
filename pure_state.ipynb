{
 "cells": [
  {
   "cell_type": "code",
   "execution_count": 202,
   "metadata": {},
   "outputs": [],
   "source": [
    "import numpy as np\n",
    "from math import pi, sqrt, tanh\n",
    "import matplotlib.pyplot as plt\n",
    "import time\n",
    "from ipywidgets import interact\n",
    "from os import path"
   ]
  },
  {
   "cell_type": "code",
   "execution_count": 88,
   "metadata": {},
   "outputs": [
    {
     "data": {
      "application/vnd.jupyter.widget-view+json": {
       "model_id": "fed20b998d694834bb8f0e588075e7e6",
       "version_major": 2,
       "version_minor": 0
      },
      "text/plain": [
       "interactive(children=(IntSlider(value=8, description='V', max=16, min=4, step=2), IntSlider(value=1, descripti…"
      ]
     },
     "metadata": {},
     "output_type": "display_data"
    }
   ],
   "source": [
    "def Gz_eq3(z_arr,a,b):\n",
    "    ''' solves a cubic equation for G(z) numerically'''\n",
    "    '''less efficient, but more reliable'''\n",
    "    if isinstance(z_arr, list):\n",
    "        z4=np.zeros(len(z_arr))\n",
    "        for i_z in range(len(z_arr)):\n",
    "            z= z_arr[i_z]\n",
    "            z4[i_z]=np.imag(np.roots([z,b-1,a-z,1]))[1]\n",
    "    else:\n",
    "        z4=np.imag(np.roots([z_arr,b-1,a-z_arr,1]))[1]\n",
    "    return np.abs(z4)\n",
    "\n",
    "def Gz_eq4(z_arr,a,b):\n",
    "    ''' solves a quartic equation for G(z) numerically'''\n",
    "    '''less efficient, but more reliable'''\n",
    "    if isinstance(z_arr, list):\n",
    "        z1=np.zeros(len(z_arr))\n",
    "        z2=np.zeros(len(z_arr))\n",
    "        z3=np.zeros(len(z_arr))\n",
    "        z4=np.zeros(len(z_arr))\n",
    "        for i_z in range(len(z_arr)):\n",
    "            z= z_arr[i_z]\n",
    "            z1[i_z]=np.imag(np.roots([1,z+a,b-1,a-z,1]))[0]\n",
    "            z2[i_z]=np.imag(np.roots([1,z+a,b-1,a-z,1]))[1]\n",
    "            z3[i_z]=np.imag(np.roots([1,z+a,b-1,a-z,1]))[2]\n",
    "            z4[i_z]=np.imag(np.roots([1,z+a,b-1,a-z,1]))[3]\n",
    "    else:\n",
    "        z4=np.imag(np.roots([1,z_arr+a,b-1,a-z_arr,1]))[1]\n",
    "#     return np.abs(z4)\n",
    "    return np.abs(z1),np.abs(z2),np.abs(z3),np.abs(z4)\n",
    "\n",
    "\n",
    "def Gz(z,a,b):\n",
    "    '''Direct solution to G(z), faster but has numerical instability for large V\n",
    "    a=  Lb/L2\n",
    "    b=  Lb*L1/L2\n",
    "    '''\n",
    "    a2= (b-1)/z +1j*0\n",
    "    a1= (a-z)/z +1j*0\n",
    "    a0= 1/z +1j*0\n",
    "    Q= (3*a1-a2**2)/9 +1j*0\n",
    "    R= (9*a2*a1-27*a0-2*a2**3)/54 +1j*0\n",
    "    D= Q**3 + R**2 +1j*0\n",
    "    S= (R+D**0.5 +1j*0)**(1/3)\n",
    "    T= (R-D**0.5 +1j*0)**(1/3)\n",
    "    z4= -a2/3 + (1-1j*sqrt(3))*Q/S/2-(1+1j*sqrt(3))/2*S\n",
    "    return np.abs(np.imag(z4))\n",
    "\n",
    "\n",
    "\n",
    "def plot_spectrum(V=8,Ra=1,R12=0.5):\n",
    "    ''' plots the spectral density of partial transpose'''\n",
    "    '''\n",
    "    L1 subsystem A1 of N1 qubits\n",
    "    L2 subsystem A2 of N2 qubits\n",
    "    => LA=L1*L2\n",
    "    Lb subsystem B of Nb qubits\n",
    "    V= N1+N2+Nb total number of qubits (system size)\n",
    "    R12= N1/(N1+N2), we assume L1<L2, i.e., 0<R12<0.5\n",
    "    Ra= (N1+N2)/V\n",
    "    '''\n",
    "    r=2 # local Hilbert space dim\n",
    "    a= r**((1-Ra)*V-(1-R12)*Ra*V) # Lb/L2\n",
    "    b= a*r**(R12*Ra*V) # Lb L1/L2\n",
    "    fx =  1/a\n",
    "    fy =  1/(pi*fx)\n",
    "#     fx =  1/(a/r**(R12*Ra*V))\n",
    "#     fy =  pi/fx\n",
    "\n",
    "    xplot=np.linspace(-1,1,1000)*1e2/fx+1j*0\n",
    "#     yplot=Gz_eq3(np.ndarray.tolist(xplot),a+1j*0,b+1j*0)\n",
    "    yplot=Gz(xplot,a+1j*0,b+1j*0)\n",
    "#     plt.plot(np.real(xplot)*fx,fy*yplot)\n",
    "    plt.plot(np.real(xplot)*fx/r**(Ra*V),fy*yplot)\n",
    "    plt.title('Critical $R_{12}$: $1/2-\\delta=$ %.2f' % (1-1/(2*Ra)) )\n",
    "#     plt.ylim(0,0.04)\n",
    "    plt.xlabel(r'$L_A\\xi$')\n",
    "    plt.ylabel('Spectral Density')\n",
    "    plt.show()\n",
    "\n",
    "interact(plot_spectrum, V=(4,16,2), Ra=1, R12=(0,0.5,0.01));"
   ]
  },
  {
   "cell_type": "code",
   "execution_count": 326,
   "metadata": {},
   "outputs": [],
   "source": [
    "from scipy.special import *\n",
    "\n",
    "V=10\n",
    "Ra=1 #80/V\n",
    "R12=(1-1/(2*Ra))\n",
    "r=2 # local Hilbert space dim\n",
    "a= r**((1-Ra)*V-(1-R12)*Ra*V) # Lb/L2\n",
    "b= a*r**(R12*Ra*V) # Lb L1/L2\n",
    "fx =  1/a\n",
    "fy =  1/(pi*fx)\n",
    "Lab=r**(Ra*V)    \n",
    "La = r**(Ra*V*R12)    \n",
    "# y = np.linspace(-1,1,20000)*30\n",
    "xplot= np.logspace(-6,4,2000)\n",
    "y=xplot/Lab\n",
    "z1 = ((16+y**2) * ellipk(1-y**2/16) - 32*ellipe(1-y**2/16) )/(8*pi**2)\n",
    "z2 = np.real((np.abs(y)*(4-np.abs(y)+0*1j))**0.5/(2*pi*np.abs(y)) )\n",
    "z =  z1+ z2 \n",
    "\n",
    "z_an1 = Gz(xplot,a+1j*0,b+1j*0)\n",
    "# z_an3 = Gz_eq3(np.ndarray.tolist(y),a+1j*0,b+1j*0)\n",
    "# z1_an4,z2_an4,z3_an4,z4_an4 = Gz_eq4(np.ndarray.tolist(y),a+1j*0,b+1j*0)\n",
    "\n",
    "# plt.plot(np.real(y)*fx,fy*z_an1)\n",
    "# plt.plot(np.real(y)*fx,fy*z_an3)\n",
    "# plt.plot(np.real(y)*fx,fy*z_an4)\n",
    "\n",
    "# # plt.plot(y/La,z1/La)\n",
    "# # plt.plot(y/La,z2/La)\n",
    "# plt.xlim(-0.02,0.02)\n",
    "# plt.ylim(0,0.08)\n",
    "# plt.show()"
   ]
  },
  {
   "cell_type": "code",
   "execution_count": 287,
   "metadata": {},
   "outputs": [
    {
     "data": {
      "image/png": "[encoded data removed]",
      "text/plain": [
       "<Figure size 432x288 with 1 Axes>"
      ]
     },
     "metadata": {
      "needs_background": "light"
     },
     "output_type": "display_data"
    }
   ],
   "source": [
    "\n",
    "plt.plot(np.real(y)*fx,z_an1/pi)\n",
    "# plt.plot(np.real(y)*fx,fy*z_an3,'--')\n",
    "# plt.plot(np.real(y)*fx,fy*z1_an4)\n",
    "# plt.plot(np.real(y)*fx,fy*z2_an4)\n",
    "# plt.plot(np.real(y)*fx,fy*z3_an4)\n",
    "# plt.plot(np.real(y)*fx,fy*z4_an4)\n",
    "\n",
    "plt.plot(y*La,z1)\n",
    "plt.plot(y*La,z2)\n",
    "plt.xlim(0,40)\n",
    "plt.ylim(0,2)\n",
    "plt.show()"
   ]
  },
  {
   "cell_type": "code",
   "execution_count": 327,
   "metadata": {},
   "outputs": [
    {
     "data": {
      "image/png": "[encoded data removed]",
      "text/plain": [
       "<Figure size 432x288 with 1 Axes>"
      ]
     },
     "metadata": {
      "needs_background": "light"
     },
     "output_type": "display_data"
    }
   ],
   "source": [
    "plt.loglog(np.real(y)*fx,z_an1/pi)\n",
    "# plt.loglog(np.real(y)*fx,z_an3/pi,'o')\n",
    "# plt.loglog(np.real(y)*fx,.2/y**0.5,'k--')\n",
    "# plt.loglog(np.real(y)*fx,.3/y**(1/3),'k--')\n",
    "plt.loglog(np.real(y)*fx,.05/y**(1/2),'k--')\n",
    "\n",
    "plt.loglog(y,(z1+z2)/La)\n",
    "plt.loglog(y,z2/La)\n",
    "# plt.xlim(4e-2,100)\n",
    "ymin=1e-3\n",
    "ymax=1e5\n",
    "# plt.loglog([1/La,1/La],[ymin,ymax],'k--')\n",
    "plt.ylim(ymin,ymax)\n",
    "plt.show()"
   ]
  },
  {
   "cell_type": "code",
   "execution_count": 210,
   "metadata": {},
   "outputs": [
    {
     "name": "stdout",
     "output_type": "stream",
     "text": [
      "0.25 4.0\n"
     ]
    }
   ],
   "source": [
    "print(R12, R12*Ra*V)"
   ]
  },
  {
   "cell_type": "code",
   "execution_count": null,
   "metadata": {},
   "outputs": [],
   "source": []
  }
 ],
 "metadata": {
  "kernelspec": {
   "display_name": "Python 3",
   "language": "python",
   "name": "python3"
  },
  "language_info": {
   "codemirror_mode": {
    "name": "ipython",
    "version": 3
   },
   "file_extension": ".py",
   "mimetype": "text/x-python",
   "name": "python",
   "nbconvert_exporter": "python",
   "pygments_lexer": "ipython3",
   "version": "3.8.3"
  }
 },
 "nbformat": 4,
 "nbformat_minor": 4
}
