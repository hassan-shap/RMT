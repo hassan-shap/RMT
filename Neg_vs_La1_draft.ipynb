{
 "cells": [
  {
   "cell_type": "code",
   "execution_count": 1,
   "metadata": {},
   "outputs": [],
   "source": [
    "import numpy as np\n",
    "from math import pi, sqrt, tanh\n",
    "import matplotlib.pyplot as plt\n",
    "# from quimb import *\n",
    "import time\n"
   ]
  },
  {
   "cell_type": "code",
   "execution_count": 2,
   "metadata": {},
   "outputs": [],
   "source": [
    "def Hilbertspace_Zr(N,r):\n",
    "\n",
    "    states=np.zeros((r**N,N),dtype=int)\n",
    "\n",
    "    for i_1 in range(r**N):\n",
    "        num_str=np.base_repr(i_1,base=r)[::-1]\n",
    "        for i_2 in range(len(num_str)):\n",
    "            states[i_1,i_2]=int(num_str[i_2])\n",
    "\n",
    "    return states\n",
    "# print( np.arange(int(r**(N-1)))  )\n",
    "# print(states)\n",
    "\n",
    "def p_transpose_2(V,Na,Nb):\n",
    "# partial transpose with respect to subsystem 2\n",
    "# the basis of NaxNb density matrix is defined by Nb*(i-1)+j,\n",
    "# i,j=1,2,3 spans the Hilbert space of subsystem 1 and 2 respectively\n",
    "    U=np.zeros((Na*Nb,Na*Nb), dtype=np.complex128)\n",
    "    for i_1 in range(Na):\n",
    "        for i_2 in range(Na):\n",
    "#             print(V[Nb*i_1:Nb*(i_1+1),Nb*i_2:Nb*(i_2+1)].shape)\n",
    "            U[Nb*i_1:Nb*(i_1+1),Nb*i_2:Nb*(i_2+1)]=np.transpose(V[Nb*i_1:Nb*(i_1+1),Nb*i_2:Nb*(i_2+1)])\n",
    "\n",
    "    return U\n"
   ]
  },
  {
   "cell_type": "code",
   "execution_count": 31,
   "metadata": {},
   "outputs": [
    {
     "name": "stdout",
     "output_type": "stream",
     "text": [
      "Finished, elapsed time = 62.04 sec\n"
     ]
    }
   ],
   "source": [
    "Nrep=100\n",
    "r=2 # local Hilbert space dim\n",
    "\n",
    "Lab=10\n",
    "Lc=6\n",
    "L=Lab+Lc\n",
    "\n",
    "Nc=r**Lc\n",
    "Nab=r**Lab\n",
    "\n",
    "neg=np.zeros(Nrep)\n",
    "v1b=np.zeros((Nrep*Nab,int(Lab/2)))\n",
    "\n",
    "t_timer=time.time()\n",
    "# np.random.seed(1)\n",
    "\n",
    "for i_r in range(Nrep):\n",
    "    print(i_r, end='\\r')\n",
    "    #### no symmetry\n",
    "    X=np.random.randn(Nab,Nc)+1j*np.random.randn(Nab,Nc)\n",
    "\n",
    "    mat=np.dot(X,np.matrix(X).H)\n",
    "    rho= mat / np.trace(mat)\n",
    "    \n",
    "    for i_n in range(int(Lab/2)):\n",
    "#     for i_n in range(4):\n",
    "        Na=r**(i_n+1)\n",
    "        Nb=r**(Lab-i_n-1)\n",
    "        rT2b = p_transpose_2(rho,Na,Nb)\n",
    "        l1T=np.linalg.eigvalsh(rT2b)\n",
    "        v1b[i_r*Nab:(i_r+1)*Nab,i_n] = (Nab)*l1T\n",
    "\n",
    "elapsed = time.time() - t_timer\n",
    "print(\"Finished, elapsed time = %.2f \" % (elapsed)+ \"sec\")"
   ]
  },
  {
   "cell_type": "code",
   "execution_count": 30,
   "metadata": {
    "scrolled": true
   },
   "outputs": [
    {
     "data": {
      "image/png": "[encoded data removed]",
      "text/plain": [
       "<Figure size 345.6x259.2 with 1 Axes>"
      ]
     },
     "metadata": {
      "needs_background": "light"
     },
     "output_type": "display_data"
    }
   ],
   "source": [
    "def Gz(z,a,b):\n",
    "#     zsq=  2 - 18*z**2 - 9*z*a - 6*b - 9*z**2*b + 9*z*a*b + 6*b**2 - 2*b**3 + (4*(3*z*(-z + a) - (-1 + b)**2)**3 + (2 - 18*z**2 - 9*z*a - 6*b - 9*z**2*b + 9*z*a*b + 6*b**2 - 2*b**3)**2)**0.5 \n",
    "#     ym= np.imag( -(-1 + b)/(3*z) + ((1 - 1j*sqrt(3))*(3*z*(-z + a) -(-1 + b)**2))/(3*2**(2/3)*z)/zsq**(1/3)  \\\n",
    "#             -(1 + 1j*sqrt(3))/(6*2**(1/3)*z)*zsq**(1/3) )\n",
    "\n",
    "    a2= (b-1)/z +1j*0\n",
    "    a1= (a-z)/z +1j*0\n",
    "    a0= 1/z +1j*0\n",
    "    Q= (3*a1-a2**2)/9 +1j*0\n",
    "    R= (9*a2*a1-27*a0-2*a2**3)/54 +1j*0\n",
    "    D= Q**3 + R**2 +1j*0\n",
    "    S= (R+D**0.5 +1j*0)**(1/3)\n",
    "    T= (R-D**0.5 +1j*0)**(1/3)\n",
    "#     print(D**0.5)\n",
    "#     z1= -a2/3 + (S+T)\n",
    "#     z2= -a2/3 - (S+T)/2+ 1j*sqrt(3)*(S-T)/2\n",
    "#     z3= -a2/3 - (S+T)/2- 1j*sqrt(3)*(S-T)/2\n",
    "    z4= -a2/3 + (1-1j*sqrt(3))*Q/S/2-(1+1j*sqrt(3))/2*S\n",
    "    return np.imag(z4) #,z2,z3\n",
    "\n",
    "def semicirc_dist(Q,x,x0):\n",
    "    # my Q is from Ludwig's paper\n",
    "    R= 2*sqrt(Q)\n",
    "    fx= 2/(pi*R**2)*(R**2-(x-x0)**2+0j)**0.5\n",
    "    return fx\n",
    "\n",
    "plt.figure(figsize=(4.8,3.6))\n",
    "fsize=9\n",
    "plt.rcParams.update({'font.size': fsize})\n",
    "\n",
    "for i_n in range(int(Lab/2)):\n",
    "# for i_n in range(0,4):\n",
    "# for i_n in [4]:\n",
    "    Na=r**(i_n+1)\n",
    "    Nb=r**(Lab-i_n-1)\n",
    "\n",
    "    num_bins = 70\n",
    "\n",
    "    n, bin_edges = np.histogram(v1b[:,i_n], bins=num_bins)\n",
    "\n",
    "    bins_center= (bin_edges[0:num_bins]+ bin_edges[1:])/2\n",
    "    n= n/np.sum(n)/(bin_edges[1]-bin_edges[0])\n",
    "    plt.plot(bins_center,n,'o',markersize=2,color='C%d' % (i_n),label=r'$N_{A_1}=%d$' % (i_n+1) )\n",
    "\n",
    "#     xplot=np.linspace(-1,1)*1.5+1j*0\n",
    "    a = Nc/Nb +1j*0\n",
    "    b = Nc/Nb*Na +1j*0\n",
    "\n",
    "    fx =  Nb/Nc\n",
    "    fy =  Nc/pi/Nb\n",
    "    xplot= np.linspace(bins_center.min(),bins_center.max(),2000)/fx*1.1 #+1j*1e-12\n",
    "    yplot=np.abs(Gz(xplot,a,b))\n",
    "    plt.plot(xplot*fx,fy*yplot,linewidth=1,color='C%d' % (i_n))\n",
    "\n",
    "plt.ylim(-0.003,0.25)\n",
    "plt.legend(fontsize=fsize,handlelength=0.5)\n",
    "plt.ylabel(r'$P_\\Gamma(L_A \\xi)$',fontsize = fsize+2)\n",
    "plt.xlabel(r\"$L_A \\xi$\",fontsize = fsize+2)\n",
    "# plt.xlim(-0.12,0.12)\n",
    "    \n",
    "fx_semi= semicirc_dist(Na*Nb/Nc,xplot*fx,1)\n",
    "plt.plot(xplot*fx,np.real(fx_semi),'k--',linewidth=1)\n",
    "plt.tight_layout()\n",
    "plt.savefig('figs/NS_vs_LA1_LA_%d_LB_%d.pdf' % (Lab,Lc))\n",
    "plt.show()\n"
   ]
  },
  {
   "cell_type": "code",
   "execution_count": null,
   "metadata": {},
   "outputs": [],
   "source": []
  }
 ],
 "metadata": {
  "kernelspec": {
   "display_name": "Python 3",
   "language": "python",
   "name": "python3"
  },
  "language_info": {
   "codemirror_mode": {
    "name": "ipython",
    "version": 3
   },
   "file_extension": ".py",
   "mimetype": "text/x-python",
   "name": "python",
   "nbconvert_exporter": "python",
   "pygments_lexer": "ipython3",
   "version": "3.8.3"
  }
 },
 "nbformat": 4,
 "nbformat_minor": 2
}
