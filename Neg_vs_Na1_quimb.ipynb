{
 "cells": [
  {
   "cell_type": "code",
   "execution_count": 1,
   "metadata": {},
   "outputs": [],
   "source": [
    "import numpy as np\n",
    "from math import pi, sqrt, tanh\n",
    "import matplotlib.pyplot as plt\n",
    "from quimb import *\n",
    "import time\n",
    "from os import path\n"
   ]
  },
  {
   "cell_type": "code",
   "execution_count": 2,
   "metadata": {},
   "outputs": [],
   "source": [
    "def Hilbertspace_Zr(N,r):\n",
    "\n",
    "    states=np.zeros((r**N,N),dtype=int)\n",
    "\n",
    "    for i_1 in range(r**N):\n",
    "        num_str=np.base_repr(i_1,base=r)[::-1]\n",
    "        for i_2 in range(len(num_str)):\n",
    "            states[i_1,i_2]=int(num_str[i_2])\n",
    "\n",
    "    return states\n",
    "# print( np.arange(int(r**(N-1)))  )\n",
    "# print(states)\n",
    "\n",
    "def p_transpose_2(V,Na,Nb):\n",
    "# partial transpose with respect to subsystem 2\n",
    "# the basis of NaxNb density matrix is defined by Nb*(i-1)+j,\n",
    "# i,j=1,2,3 spans the Hilbert space of subsystem 1 and 2 respectively\n",
    "    U=np.zeros((Na*Nb,Na*Nb), dtype=np.complex128)\n",
    "    for i_1 in range(Na):\n",
    "        for i_2 in range(Na):\n",
    "#             print(V[Nb*i_1:Nb*(i_1+1),Nb*i_2:Nb*(i_2+1)].shape)\n",
    "            U[Nb*i_1:Nb*(i_1+1),Nb*i_2:Nb*(i_2+1)]=np.transpose(V[Nb*i_1:Nb*(i_1+1),Nb*i_2:Nb*(i_2+1)])\n",
    "\n",
    "    return U\n"
   ]
  },
  {
   "cell_type": "code",
   "execution_count": 5,
   "metadata": {},
   "outputs": [
    {
     "name": "stdout",
     "output_type": "stream",
     "text": [
      "Nc = 4\n",
      "Finished, elapsed time = 1.08 sec\n",
      "Nc = 5\n",
      "Finished, elapsed time = 1.11 sec\n",
      "Nc = 6\n",
      "Finished, elapsed time = 1.13 sec\n"
     ]
    }
   ],
   "source": [
    "Nrep=40\n",
    "r=2 # local Hilbert space dim\n",
    "\n",
    "Lab=8\n",
    "# Lclist=np.array([4,5,6])\n",
    "Lclist=np.arange(int(Lab/2),int(Lab/2)+3)\n",
    "\n",
    "Nab=r**Lab\n",
    "\n",
    "neg=np.ones((int(Lab/2)+1,len(Lclist),Nrep))\n",
    "# v1b=np.zeros((Nrep*Nab,int(Lab/2)))\n",
    "\n",
    "# np.random.seed(1)\n",
    "\n",
    "for i_c in range(len(Lclist)):\n",
    "    Lc=Lclist[i_c]\n",
    "    print('Nc = %d' % (Lc))\n",
    "    Nc=r**Lc\n",
    "    t_timer=time.time()\n",
    "    for i_r in range(Nrep):\n",
    "        #### no symmetry\n",
    "        X=np.random.randn(Nab,Nc)+1j*np.random.randn(Nab,Nc)\n",
    "\n",
    "        mat=np.dot(X,np.matrix(X).H)\n",
    "        rho= mat / np.trace(mat)\n",
    "\n",
    "        for i_n in range(int(Lab/2)):\n",
    "            Na=r**(i_n+1)\n",
    "            Nb=r**(Lab-i_n-1)\n",
    "            rT2b = p_transpose_2(rho,Na,Nb)\n",
    "            l1T=np.linalg.eigvalsh(rT2b)\n",
    "#             v1b[i_r*Nab:(i_r+1)*Nab,i_n] = (Nab)*l1T\n",
    "            neg[i_n+1,i_c,i_r]= np.sum(np.abs(l1T))\n",
    "    \n",
    "    elapsed = time.time() - t_timer\n",
    "    print(\"Finished, elapsed time = %.2f \" % (elapsed)+ \"sec\")"
   ]
  },
  {
   "cell_type": "code",
   "execution_count": 6,
   "metadata": {},
   "outputs": [
    {
     "name": "stdout",
     "output_type": "stream",
     "text": [
      "Nc = 4\n",
      "Finished, quimb elapsed time = 67.25 sec\n",
      "Nc = 5\n",
      "Finished, quimb elapsed time = 54.19 sec\n",
      "Nc = 6\n",
      "Finished, quimb elapsed time = 74.64 sec\n",
      "Nc = 7\n",
      "Finished, quimb elapsed time = 123.99 sec\n"
     ]
    }
   ],
   "source": [
    "Nrep=40\n",
    "r=2 # local Hilbert space dim\n",
    "\n",
    "Lab=12\n",
    "# Lclist=np.array([4,5,6])\n",
    "Lclist=np.arange(int(Lab/2)-2,int(Lab/2)+2)\n",
    "\n",
    "# neg_q=np.zeros((int(Lab/2)+1,len(Lclist),Nrep))\n",
    "neg_q = np.zeros((int(Lab/2)+1,Nrep))\n",
    "MI = np.zeros((int(Lab/2)+1,Nrep))\n",
    "\n",
    "dims_ab = [r] * Lab\n",
    "\n",
    "for i_c in range(len(Lclist)):\n",
    "    Lc=Lclist[i_c]\n",
    "    print('Nc = %d' % (Lc))\n",
    "    Nc=r**Lc\n",
    "\n",
    "    L= Lab+Lc\n",
    "    dims = [r] * L\n",
    "    N = prod(dims)\n",
    "\n",
    "    t_timer=time.time()\n",
    "    for i_r in range(Nrep):\n",
    "        psi = rand_ket(N)\n",
    "        \n",
    "        for i_n in range(int(Lab/2)):\n",
    "            La= i_n+1\n",
    "            Lb= Lab-i_n-1\n",
    "#             neg_q[i_n+1,i_c,i_r]=negativity_subsys_approx(psi, dims=dims, sysa=np.arange(La), sysb=np.arange(La,Lab))\n",
    "            neg_q[i_n+1,i_r] = negativity_subsys_approx(psi, dims=dims, sysa=np.arange(La), sysb=np.arange(La,Lab))\n",
    "            MI[i_n+1,i_r] = mutinf_subsys(psi, dims=dims, sysa=np.arange(La), sysb=np.arange(La,Lab))\n",
    "        \n",
    "    elapsed = time.time() - t_timer\n",
    "    print(\"Finished, quimb elapsed time = %.2f \" % (elapsed)+ \"sec\")\n",
    "\n",
    "    f1= 'LN_r_%d_NA_%d_NB_%d.npz' % (r,Lab,Lc)\n",
    "    out_dir = 'LN_figs/' \n",
    "    fname = out_dir+f1\n",
    "    np.savez(fname, logneg=neg_q, MI=MI)\n",
    "# print(neg_q)"
   ]
  },
  {
   "cell_type": "code",
   "execution_count": 14,
   "metadata": {},
   "outputs": [
    {
     "name": "stdout",
     "output_type": "stream",
     "text": [
      "Averaged over 40 reps\n",
      "Averaged over 40 reps\n",
      "Averaged over 40 reps\n",
      "Averaged over 40 reps\n"
     ]
    },
    {
     "data": {
      "image/png": "[encoded data removed]",
      "text/plain": [
       "<Figure size 432x288 with 1 Axes>"
      ]
     },
     "metadata": {
      "needs_background": "light"
     },
     "output_type": "display_data"
    }
   ],
   "source": [
    "r = 2\n",
    "Lab = 12\n",
    "\n",
    "Lclist=np.arange(int(Lab/2)-2,int(Lab/2)+2)\n",
    "out_dir = 'LN_figs/' \n",
    "\n",
    "dims_ab = [r] * Lab\n",
    "\n",
    "def fa(xs):\n",
    "    ys= np.zeros(xs.shape)\n",
    "    for i_x in range(len(xs)):\n",
    "        x= xs[i_x]\n",
    "        if x>1:\n",
    "            ys[i_x]= np.real( np.log2(2/pi* np.arcsin(1/x)+2/(3*pi*x)*(1+2*x**2)* (1-1/x**2 +0.0j)**0.5 ) )\n",
    "        else:\n",
    "            ys[i_x]= 0\n",
    "    return ys\n",
    "\n",
    "at=2*r**((Lab-Lclist)/2)\n",
    "yt=fa(at)\n",
    "\n",
    "plt.figure()\n",
    "plt.plot([0,Lclist.max()],[0,Lclist.max()],'k--')\n",
    "\n",
    "for i_c in range(len(Lclist)):\n",
    "    Lc=Lclist[i_c]\n",
    "    f1= 'LN_r_%d_NA_%d_NB_%d.npz' % (r,Lab,Lc)\n",
    "    fname = out_dir+f1\n",
    "    if path.exists(fname):\n",
    "        npzfile = np.load(fname)\n",
    "        neg_q=npzfile['logneg']\n",
    "        MI=npzfile['MI']\n",
    "        print('Averaged over %d reps' % (np.size(neg_q,1)))\n",
    "\n",
    "    logneg_q_avg = np.log2(2*np.mean(neg_q,axis=1)+1)\n",
    "    MI_avg = np.mean(MI,axis=1)\n",
    "\n",
    "    plt.plot(np.arange(0,int(Lab)/2+1), logneg_q_avg, '-',color='C%d' % (i_c),label='Nc=%d' % Lc)\n",
    "    plt.plot(np.arange(0,int(Lab)/2+1), MI_avg/2, 'v',color='C%d' % (i_c),label='Nc=%d' % Lc)\n",
    "#     if Lc< Lab:\n",
    "#         plt.plot([0,int(Lab)/2+1],(Lab-Lc)/2*np.array([1,1])+np.log2(8/(3*pi)),'--',color='C%d' % (i_c))\n",
    "\n",
    "plt.title('Nab=%d' % (Lab))\n",
    "plt.ylim(0,4.)\n",
    "plt.xlim(0,int(Lab)/2+1)\n",
    "plt.legend()\n",
    "plt.show()"
   ]
  },
  {
   "cell_type": "code",
   "execution_count": 12,
   "metadata": {},
   "outputs": [
    {
     "name": "stdout",
     "output_type": "stream",
     "text": [
      "data file was read\n",
      "Averaged over 40 reps\n"
     ]
    },
    {
     "data": {
      "image/png": "[encoded data removed]",
      "text/plain": [
       "<Figure size 432x288 with 1 Axes>"
      ]
     },
     "metadata": {
      "needs_background": "light"
     },
     "output_type": "display_data"
    }
   ],
   "source": [
    "r=2\n",
    "Lab=12\n",
    "f1= 'LN_r_%d_NA_%d.npz' % (r,Lab)\n",
    "out_dir = 'LN_figs/' \n",
    "fname = out_dir+f1\n",
    "if path.exists(fname):\n",
    "    npzfile = np.load(fname)\n",
    "    neg_q=npzfile['logneg']\n",
    "    Lclist=npzfile['Lc_sw']\n",
    "    print('data file was read')\n",
    "\n",
    "\n",
    "def fa(xs):\n",
    "    ys= np.zeros(xs.shape)\n",
    "    for i_x in range(len(xs)):\n",
    "        x= xs[i_x]\n",
    "        if x>1:\n",
    "            ys[i_x]= np.real( np.log2(2/pi* np.arcsin(1/x)+2/(3*pi*x)*(1+2*x**2)* (1-1/x**2 +0.0j)**0.5 ) )\n",
    "        else:\n",
    "            ys[i_x]= 0\n",
    "    return ys\n",
    "\n",
    "at=2*r**((Lab-Lclist)/2)\n",
    "yt=fa(at)\n",
    "\n",
    "# logneg_avg=np.log2(np.mean(neg,axis=2))\n",
    "# neglog_avg=np.mean(np.log2(neg),axis=2)\n",
    "logneg_q_avg=np.log2(2*np.mean(neg_q,axis=2)+1)\n",
    "print('Averaged over %d reps' % (np.size(neg_q,2)))\n",
    "\n",
    "plt.figure()\n",
    "for i_c in range(len(Lclist)):\n",
    "    Lc=Lclist[i_c]\n",
    "#     plt.plot(np.arange(0,int(Lab)/2+1), logneg_avg[:,i_c],'ko', markersize=4)# color='C%d' % (i_c),label='Nc=%d' % Lc)\n",
    "    plt.plot(np.arange(0,int(Lab)/2+1), logneg_q_avg[:,i_c], 'o',color='C%d' % (i_c),label='Nc=%d' % Lc)\n",
    "    if Lc< Lab:\n",
    "        plt.plot([0,int(Lab)/2+1],(Lab-Lc)/2*np.array([1,1])+np.log2(8/(3*pi)),'--',color='C%d' % (i_c))\n",
    "#         plt.plot([0,int(Lab)/2+1],yt[i_c]*np.array([1,1]),'-.',color='C%d' % (i_c))\n",
    "# plt.plot(np.arange(1,5), neglog_avg, 'x')\n",
    "\n",
    "plt.title('Nab=%d' % (Lab))\n",
    "plt.plot([0,Lclist.max()],[0,Lclist.max()],'k')\n",
    "plt.ylim(0,3.5)\n",
    "plt.xlim(0,int(Lab)/2+1)\n",
    "plt.legend()\n",
    "plt.show()"
   ]
  },
  {
   "cell_type": "code",
   "execution_count": null,
   "metadata": {},
   "outputs": [],
   "source": [
    "def Gz(z,a,b):\n",
    "    return -((-1 + b)/(3*z)) + ((1 - 1j*sqrt(3))*(3*z*(-z + a) \\\n",
    "           - (-1 + b)^2))/(3*2^(2/3)*z*(2 - 18*z^2 - 9*z*a - 6*b - 9*z^2*b + 9*z a*b + 6*b^2 - 2*b^3 +\\      \n",
    "           (4*(3*z (-z + a) - (-1 + b)^2)^3 + (2 - 18*z^2 - 9*z*a - \\     \n",
    "            6*b - 9*z^2*b + 9*z*a*b + 6*b^2 - 2*b^3)^2)**0.5)^(1/3)) -  1/(6*2^(1/3)*z)\\\n",
    "            (1 + 1j*sqrt(3))*(2 - 18*z^2 - 9*z*a - 6*b - 9*z^2*b +  9*z*a*b + 6*b^2 - 2*b^3 +( 4*(3*z*(-z + a) -\\\n",
    "             (-1 + b)^2)^3 + (2 - 18*z^2 - 9*z*a - 6*b - 9*z^2*b + 9*z*a*b + 6*b^2 - 2*b^3)^2)**0.5)^(1/3)\n",
    "\n"
   ]
  }
 ],
 "metadata": {
  "kernelspec": {
   "display_name": "Python 3",
   "language": "python",
   "name": "python3"
  },
  "language_info": {
   "codemirror_mode": {
    "name": "ipython",
    "version": 3
   },
   "file_extension": ".py",
   "mimetype": "text/x-python",
   "name": "python",
   "nbconvert_exporter": "python",
   "pygments_lexer": "ipython3",
   "version": "3.8.3"
  }
 },
 "nbformat": 4,
 "nbformat_minor": 2
}
