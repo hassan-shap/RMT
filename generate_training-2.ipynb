{
 "cells": [
  {
   "cell_type": "code",
   "execution_count": null,
   "metadata": {},
   "outputs": [
    {
     "name": "stdout",
     "output_type": "stream",
     "text": [
      "Round: 1 5520.224 seconds\n",
      "Round: 2 5712.758 seconds\n",
      "Round: 3 5657.112 seconds\n",
      "Round: 4 2435.75 seconds\n",
      "Round: 5 2451.467 seconds\n",
      "Round: 6 2493.35 seconds\n",
      "Round: 7 2491.665 seconds\n",
      "Round: 8 2511.748 seconds\n",
      "Round: 9 2487.025 seconds\n",
      "Round: 10 2579.624 seconds\n",
      "Round: 11 2607.326 seconds\n",
      "Round: 12 2548.184 seconds\n",
      "Round: 13 2507.464 seconds\n",
      "Round: 14 2593.265 seconds\n",
      "Round: 15 2581.217 seconds\n",
      "Round: 16 2568.624 seconds\n",
      "Round: 17 2522.475 seconds\n",
      "Round: 18 2505.662 seconds\n",
      "Round: 19 2605.566 seconds\n",
      "Round: 20 2577.633 seconds\n",
      "Round: 21 2535.009 seconds\n",
      "Round: 22 2529.521 seconds\n",
      "Round: 23 2596.031 seconds\n",
      "Round: 24 2622.757 seconds\n",
      "Round: 25 2615.46 seconds\n",
      "Round: 26 2594.676 seconds\n"
     ]
    }
   ],
   "source": [
    "import numpy as np\n",
    "from quimb import *\n",
    "import quimb.tensor as qtn\n",
    "from quimb.tensor import *\n",
    "import csv\n",
    "import time\n",
    "\n",
    "N = 12 # total number of qubits\n",
    "bond_dims  = [2,4,8,16,32,64,999] #bond dimensions for random MPS; 999 means Haar random state\n",
    "\n",
    "runs = 100 #number of runs for each state\n",
    "\n",
    "with open('training_data_N_10.csv', mode='a') as training_data:\n",
    "    for i in np.arange(runs):\n",
    "        t = time.time()\n",
    "        dims = [2] * N\n",
    "        D = prod(dims)\n",
    "        NAs = np.arange(2, N+1)\n",
    "        for bond_dim in bond_dims:\n",
    "            if bond_dim == 999:\n",
    "                randket= rand_haar_state(D)\n",
    "            else:\n",
    "                randket= rand_matrix_product_state(N, bond_dim, phys_dim=2, dtype=complex, cyclic=True, trans_invar=False)\n",
    "            \n",
    "            for NA in NAs:\n",
    "                randstate = ptr(randket, dims, np.arange(NA))\n",
    "                NA1s = np.arange(1, NA)\n",
    "                for NA1 in NA1s:\n",
    "                    NA2 = int(NA - NA1)\n",
    "                    NB = int(N - NA)\n",
    "\n",
    "                    randstate_pt = partial_transpose(randstate, [2] * NA, sysa=np.arange(NA1))\n",
    "\n",
    "                    eigs = np.real(np.linalg.eigvals(randstate_pt))\n",
    "                    LN = np.log(np.sum(np.abs(eigs)))\n",
    "                    p2 = np.sum(eigs**2)\n",
    "                    p3 = np.sum(eigs**3)\n",
    "                    p4 = np.sum(eigs**4)\n",
    "                    p5 = np.sum(eigs**5)\n",
    "                    p6 = np.sum(eigs**6)\n",
    "                    p7 = np.sum(eigs**7)\n",
    "                    p8 = np.sum(eigs**8)\n",
    "\n",
    "                    #Writing to file\n",
    "                    training_writer = csv.writer(training_data, delimiter=',')\n",
    "                    training_writer.writerow([NA1,NA2,NB,p2,p3,p4,p5,p6,p7,p8,LN])\n",
    "                    \n",
    "        print('Round:',i+1, round(time.time()-t,3), 'seconds')\n",
    "    \n",
    "    \n",
    "print(\"Done!\")\n"
   ]
  }
 ],
 "metadata": {
  "kernelspec": {
   "display_name": "Python 3",
   "language": "python",
   "name": "python3"
  },
  "language_info": {
   "codemirror_mode": {
    "name": "ipython",
    "version": 3
   },
   "file_extension": ".py",
   "mimetype": "text/x-python",
   "name": "python",
   "nbconvert_exporter": "python",
   "pygments_lexer": "ipython3",
   "version": "3.8.3"
  }
 },
 "nbformat": 4,
 "nbformat_minor": 4
}
