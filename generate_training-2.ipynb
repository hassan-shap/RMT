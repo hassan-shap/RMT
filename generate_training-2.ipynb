{
 "cells": [
  {
   "cell_type": "code",
   "execution_count": null,
   "metadata": {},
   "outputs": [
    {
     "name": "stdout",
     "output_type": "stream",
     "text": [
      "Round: 1 5490.991 seconds\n",
      "Round: 2 5477.726 seconds\n",
      "Round: 3 5658.164 seconds\n",
      "Round: 4 3335.141 seconds\n",
      "Round: 5 2526.588 seconds\n",
      "Round: 6 2519.144 seconds\n",
      "Round: 7 2453.78 seconds\n",
      "Round: 8 2505.729 seconds\n",
      "Round: 9 2498.375 seconds\n",
      "Round: 10 2476.36 seconds\n"
     ]
    }
   ],
   "source": [
    "import numpy as np\n",
    "from quimb import *\n",
    "import quimb.tensor as qtn\n",
    "from quimb.tensor import *\n",
    "import csv\n",
    "import time\n",
    "\n",
    "N = 12 # total number of qubits\n",
    "bond_dims  = [2,4,8,16,32,64,999] #bond dimensions for random MPS; 999 means Haar random state\n",
    "\n",
    "runs = 100 #number of runs for each state\n",
    "\n",
    "with open('training_data_N_%d.csv' % (N), mode='a') as training_data:\n",
    "    for i in np.arange(runs):\n",
    "        t = time.time()\n",
    "        dims = [2] * N\n",
    "        D = prod(dims)\n",
    "        NAs = np.arange(2, N+1)\n",
    "        for bond_dim in bond_dims:\n",
    "            if bond_dim == 999:\n",
    "                randket= rand_haar_state(D)\n",
    "            else:\n",
    "                randket= rand_matrix_product_state(N, bond_dim, phys_dim=2, dtype=complex, cyclic=True, trans_invar=False)\n",
    "            \n",
    "            for NA in NAs:\n",
    "                randstate = ptr(randket, dims, np.arange(NA))\n",
    "                NA1s = np.arange(1, NA)\n",
    "                for NA1 in NA1s:\n",
    "                    NA2 = int(NA - NA1)\n",
    "                    NB = int(N - NA)\n",
    "\n",
    "                    randstate_pt = partial_transpose(randstate, [2] * NA, sysa=np.arange(NA1))\n",
    "\n",
    "                    eigs = np.real(np.linalg.eigvals(randstate_pt))\n",
    "                    LN = np.log(np.sum(np.abs(eigs)))\n",
    "                    p2 = np.sum(eigs**2)\n",
    "                    p3 = np.sum(eigs**3)\n",
    "                    p4 = np.sum(eigs**4)\n",
    "                    p5 = np.sum(eigs**5)\n",
    "                    p6 = np.sum(eigs**6)\n",
    "                    p7 = np.sum(eigs**7)\n",
    "                    p8 = np.sum(eigs**8)\n",
    "\n",
    "                    #Writing to file\n",
    "                    training_writer = csv.writer(training_data, delimiter=',')\n",
    "                    training_writer.writerow([NA1,NA2,NB,p2,p3,p4,p5,p6,p7,p8,LN])\n",
    "                    \n",
    "        print('Round:',i+1, round(time.time()-t,3), 'seconds')\n",
    "    \n",
    "    \n",
    "print(\"Done!\")\n"
   ]
  }
 ],
 "metadata": {
  "kernelspec": {
   "display_name": "Python 3",
   "language": "python",
   "name": "python3"
  }
 },
 "nbformat": 4,
 "nbformat_minor": 4
}
