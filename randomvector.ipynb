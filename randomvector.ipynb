{
 "cells": [
  {
   "cell_type": "code",
   "execution_count": 9,
   "metadata": {},
   "outputs": [],
   "source": [
    "import numpy as np\n",
    "import matplotlib.pyplot as plt\n",
    "from math import pi, sqrt, tanh\n"
   ]
  },
  {
   "cell_type": "markdown",
   "metadata": {},
   "source": [
    "# 2D"
   ]
  },
  {
   "cell_type": "code",
   "execution_count": 18,
   "metadata": {},
   "outputs": [],
   "source": [
    "Nrep  = 2000\n",
    "N = 2\n",
    "v1 = np.random.randn(N,Nrep)\n",
    "θ = np.zeros(Nrep)\n",
    "for i in range(Nrep):\n",
    "    v1[:,i]= v1[:,i]/np.linalg.norm(v1[:,i])\n",
    "    θ[i]= np.arctan(v1[1,i]/v1[0,i])"
   ]
  },
  {
   "cell_type": "code",
   "execution_count": 17,
   "metadata": {},
   "outputs": [
    {
     "data": {
      "text/plain": [
       "(array([1964., 2036., 1966., 1976., 1947., 2071., 1974., 1996., 2079.,\n",
       "        1991.]),\n",
       " array([-4.99959780e-01, -3.99964012e-01, -2.99968244e-01, -1.99972476e-01,\n",
       "        -9.99767078e-02,  1.90601484e-05,  1.00014828e-01,  2.00010596e-01,\n",
       "         3.00006364e-01,  4.00002132e-01,  4.99997900e-01]),\n",
       " <BarContainer object of 10 artists>)"
      ]
     },
     "execution_count": 17,
     "metadata": {},
     "output_type": "execute_result"
    },
    {
     "data": {
      "image/png": "[encoded data removed]",
      "text/plain": [
       "<Figure size 432x288 with 1 Axes>"
      ]
     },
     "metadata": {
      "needs_background": "light"
     },
     "output_type": "display_data"
    }
   ],
   "source": [
    "plt.hist(θ/pi)"
   ]
  },
  {
   "cell_type": "markdown",
   "metadata": {},
   "source": [
    "# 3D"
   ]
  },
  {
   "cell_type": "code",
   "execution_count": 30,
   "metadata": {},
   "outputs": [],
   "source": [
    "Nrep  = 20000\n",
    "N = 3\n",
    "v1 = np.random.randn(N,Nrep)\n",
    "θ = np.zeros(Nrep)\n",
    "ϕ = np.zeros(Nrep)\n",
    "for i in range(Nrep):\n",
    "    v1[:,i]= v1[:,i]/np.linalg.norm(v1[:,i])\n",
    "    θ[i] = np.arccos(v1[2,i])\n",
    "    ϕ[i] = np.arctan(v1[1,i]/v1[0,i])\n",
    "    "
   ]
  },
  {
   "cell_type": "code",
   "execution_count": 31,
   "metadata": {},
   "outputs": [
    {
     "data": {
      "image/png": "[encoded data removed]",
      "text/plain": [
       "<Figure size 432x288 with 1 Axes>"
      ]
     },
     "metadata": {
      "needs_background": "light"
     },
     "output_type": "display_data"
    },
    {
     "data": {
      "image/png": "[encoded data removed]",
      "text/plain": [
       "<Figure size 432x288 with 1 Axes>"
      ]
     },
     "metadata": {
      "needs_background": "light"
     },
     "output_type": "display_data"
    }
   ],
   "source": [
    "plt.hist(np.cos(θ))\n",
    "plt.show()\n",
    "\n",
    "plt.hist(ϕ/pi);"
   ]
  },
  {
   "cell_type": "code",
   "execution_count": null,
   "metadata": {},
   "outputs": [],
   "source": []
  }
 ],
 "metadata": {
  "kernelspec": {
   "display_name": "Python 3",
   "language": "python",
   "name": "python3"
  },
  "language_info": {
   "codemirror_mode": {
    "name": "ipython",
    "version": 3
   },
   "file_extension": ".py",
   "mimetype": "text/x-python",
   "name": "python",
   "nbconvert_exporter": "python",
   "pygments_lexer": "ipython3",
   "version": "3.8.6"
  }
 },
 "nbformat": 4,
 "nbformat_minor": 4
}
