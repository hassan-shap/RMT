{
 "cells": [
  {
   "cell_type": "code",
   "execution_count": 1,
   "metadata": {},
   "outputs": [],
   "source": [
    "import numpy as np\n",
    "import matplotlib.pyplot as plt"
   ]
  },
  {
   "cell_type": "code",
   "execution_count": 25,
   "metadata": {},
   "outputs": [
    {
     "name": "stdout",
     "output_type": "stream",
     "text": [
      "[0 0 0 0 0 0 1 1]\n",
      "[0 0 0 1 0 0 1 0]\n",
      "2\n",
      "[0 0 0 0 0 0 0 1]\n",
      "[0 0 0 0 0 1 1 1]\n",
      "2\n",
      "[0 0 0 0 0 1 0 0]\n",
      "[0 0 1 0 0 1 0 1]\n",
      "2\n",
      "[1 0 0 0 1 0 0 0]\n",
      "[1 0 0 0 1 0 0 0]\n",
      "0\n",
      "[1 0 0 0 1 0 0 1]\n",
      "[0 0 0 0 1 0 0 0]\n",
      "2\n",
      "[1 0 0 0 1 0 1 0]\n",
      "[0 0 0 0 0 0 0 1]\n",
      "4\n",
      "[0 0 0 0 0 0 0 1]\n",
      "[1 0 0 1 0 0 0 1]\n",
      "2\n",
      "[1 0 0 0 1 0 0 0]\n",
      "[0 0 0 0 1 0 0 1]\n",
      "2\n",
      "[0 0 0 1 0 1 0 0]\n",
      "[1 0 0 0 0 1 0 0]\n",
      "2\n",
      "[0 0 0 0 1 0 0 1]\n",
      "[1 0 1 0 0 0 0 0]\n",
      "4\n"
     ]
    }
   ],
   "source": [
    "N = 16\n",
    "Na = 4\n",
    "Nb = N-Na\n",
    "\n",
    "Nrep = 10\n",
    "ent = []\n",
    "n_ent = np.zeros(min(Na,Nb)+1)\n",
    "i = 0\n",
    "while i<Nrep:\n",
    "    v1 = np.random.randint(2,size=int(N/2))\n",
    "    v2 = np.random.randint(2,size=int(N/2))\n",
    "    if np.sum(np.concatenate((v1,v2)))==Na:\n",
    "        i += 1\n",
    "        inds = np.argwhere(v1==1)[:]\n",
    "        print(v1)\n",
    "        print(v2)\n",
    "        ent_val = len(inds)-np.sum(v2[inds])\n",
    "        inds = np.argwhere(v1==0)[:]\n",
    "        ent_val += np.sum(v2[inds])\n",
    "        print(ent_val)\n",
    "        ent.append(ent_val)\n",
    "        n_ent[ent_val] += 1\n"
   ]
  },
  {
   "cell_type": "code",
   "execution_count": 26,
   "metadata": {},
   "outputs": [
    {
     "data": {
      "image/png": "[encoded data removed]",
      "text/plain": [
       "<Figure size 432x288 with 1 Axes>"
      ]
     },
     "metadata": {
      "needs_background": "light"
     },
     "output_type": "display_data"
    }
   ],
   "source": [
    "plt.plot(n_ent/Nrep,\"o-\")\n",
    "plt.grid()\n",
    "# n_ent"
   ]
  },
  {
   "cell_type": "code",
   "execution_count": null,
   "metadata": {},
   "outputs": [],
   "source": []
  }
 ],
 "metadata": {
  "kernelspec": {
   "display_name": "Python 3",
   "language": "python",
   "name": "python3"
  },
  "language_info": {
   "codemirror_mode": {
    "name": "ipython",
    "version": 3
   },
   "file_extension": ".py",
   "mimetype": "text/x-python",
   "name": "python",
   "nbconvert_exporter": "python",
   "pygments_lexer": "ipython3",
   "version": "3.8.3"
  }
 },
 "nbformat": 4,
 "nbformat_minor": 4
}
